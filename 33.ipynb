{
 "cells": [
  {
   "cell_type": "markdown",
   "id": "a71e6919-fadd-4ad5-87ef-608e4cd9104d",
   "metadata": {},
   "source": [
    "Все импорты"
   ]
  },
  {
   "cell_type": "code",
   "execution_count": 1,
   "id": "3a9ebde4-203a-414f-8b35-0618b8d86c32",
   "metadata": {
    "execution": {
     "iopub.execute_input": "2025-05-18T20:57:25.120354Z",
     "iopub.status.busy": "2025-05-18T20:57:25.119507Z",
     "iopub.status.idle": "2025-05-18T20:57:28.584588Z",
     "shell.execute_reply": "2025-05-18T20:57:28.583842Z",
     "shell.execute_reply.started": "2025-05-18T20:57:25.120323Z"
    },
    "tags": []
   },
   "outputs": [],
   "source": [
    "import os\n",
    "import re\n",
    "import random\n",
    "import numpy as np\n",
    "import pandas as pd\n",
    "import matplotlib.pyplot as plt\n",
    "import seaborn as sns\n",
    "from collections import Counter\n",
    "from tqdm import tqdm\n",
    "import zipfile\n",
    "\n",
    "import torch\n",
    "import torch.nn as nn\n",
    "import torch.nn.functional as F\n",
    "from torch.utils.data import Dataset, DataLoader\n",
    "import torch.optim as optim\n",
    "\n",
    "from sklearn.model_selection import train_test_split\n",
    "from sklearn.metrics import f1_score\n",
    "from sklearn.feature_extraction.text import TfidfVectorizer\n",
    "\n",
    "from skmultilearn.model_selection import iterative_train_test_split\n",
    "\n",
    "import nltk\n",
    "from nltk.corpus import stopwords\n",
    "from pymorphy2 import MorphAnalyzer\n",
    "\n",
    "from gensim.models import KeyedVectors\n",
    "\n",
    "from transformers import AutoTokenizer, AutoModel, get_cosine_schedule_with_warmup\n"
   ]
  },
  {
   "cell_type": "markdown",
   "id": "8f40bc14-9220-4ad1-a39e-577acb3e06aa",
   "metadata": {},
   "source": [
    "## 1) Проанализировать данные, посмотреть на баланс классов, посмотреть на представителей классов, поизучать текста, сделать выводы. (0.5 балла)."
   ]
  },
  {
   "cell_type": "markdown",
   "id": "46e197a7-59cd-4300-9997-805a289465ed",
   "metadata": {},
   "source": [
    "1.1 распакуем данные "
   ]
  },
  {
   "cell_type": "code",
   "execution_count": 9,
   "id": "c260ed1a-7e43-446c-bf2d-c8c1b58e1adf",
   "metadata": {
    "execution": {
     "iopub.execute_input": "2025-05-18T14:20:53.049634Z",
     "iopub.status.busy": "2025-05-18T14:20:53.049021Z",
     "iopub.status.idle": "2025-05-18T14:20:53.171048Z",
     "shell.execute_reply": "2025-05-18T14:20:53.170073Z",
     "shell.execute_reply.started": "2025-05-18T14:20:53.049602Z"
    },
    "tags": []
   },
   "outputs": [
    {
     "name": "stderr",
     "output_type": "stream",
     "text": [
      "Extracting: 100%|██████████| 1/1 [00:00<00:00,  9.46it/s]\n"
     ]
    }
   ],
   "source": [
    "fname = \"./test.zip\"\n",
    "path = \"./\"\n",
    "\n",
    "with zipfile.ZipFile(fname, \"r\") as zf:\n",
    "    for entry in tqdm(zf.infolist(), desc=\"Extracting\"):\n",
    "        try:\n",
    "            zf.extract(entry, path)\n",
    "        except zipfile.error as e:\n",
    "            pass"
   ]
  },
  {
   "cell_type": "code",
   "execution_count": 2,
   "id": "1bec729d-b667-419b-be78-d492d0d830da",
   "metadata": {
    "execution": {
     "iopub.execute_input": "2025-05-18T20:57:31.204733Z",
     "iopub.status.busy": "2025-05-18T20:57:31.203585Z",
     "iopub.status.idle": "2025-05-18T20:57:31.413492Z",
     "shell.execute_reply": "2025-05-18T20:57:31.412824Z",
     "shell.execute_reply.started": "2025-05-18T20:57:31.204692Z"
    },
    "tags": []
   },
   "outputs": [],
   "source": [
    "data_test = pd.read_csv('test.csv')"
   ]
  },
  {
   "cell_type": "code",
   "execution_count": 6,
   "id": "5a953ced-df64-4176-8e3e-fe466c91cf2a",
   "metadata": {
    "execution": {
     "iopub.execute_input": "2025-05-18T15:09:35.197151Z",
     "iopub.status.busy": "2025-05-18T15:09:35.195951Z",
     "iopub.status.idle": "2025-05-18T15:09:35.228757Z",
     "shell.execute_reply": "2025-05-18T15:09:35.227911Z",
     "shell.execute_reply.started": "2025-05-18T15:09:35.197112Z"
    },
    "tags": []
   },
   "outputs": [
    {
     "data": {
      "text/html": [
       "<div>\n",
       "<style scoped>\n",
       "    .dataframe tbody tr th:only-of-type {\n",
       "        vertical-align: middle;\n",
       "    }\n",
       "\n",
       "    .dataframe tbody tr th {\n",
       "        vertical-align: top;\n",
       "    }\n",
       "\n",
       "    .dataframe thead th {\n",
       "        text-align: right;\n",
       "    }\n",
       "</style>\n",
       "<table border=\"1\" class=\"dataframe\">\n",
       "  <thead>\n",
       "    <tr style=\"text-align: right;\">\n",
       "      <th></th>\n",
       "      <th>id</th>\n",
       "      <th>text</th>\n",
       "    </tr>\n",
       "  </thead>\n",
       "  <tbody>\n",
       "    <tr>\n",
       "      <th>0</th>\n",
       "      <td>29568</td>\n",
       "      <td>ЭЙ, ВЛЮБЛЁННЫЕ\\nСкидка 20% промокоду SYHOYZ\\nн...</td>\n",
       "    </tr>\n",
       "    <tr>\n",
       "      <th>1</th>\n",
       "      <td>29569</td>\n",
       "      <td>Пруды Москвы</td>\n",
       "    </tr>\n",
       "    <tr>\n",
       "      <th>2</th>\n",
       "      <td>29570</td>\n",
       "      <td>🤪\\n🤪\\n👏\\n👏\\n😄\\n😄\\n👏\\n👏\\n👨‍👩‍👦\\nСемейка лёгкого...</td>\n",
       "    </tr>\n",
       "    <tr>\n",
       "      <th>3</th>\n",
       "      <td>29571</td>\n",
       "      <td>24 СЕНТЯБРЯ\\nИсторический фестиваль «Башкирия ...</td>\n",
       "    </tr>\n",
       "    <tr>\n",
       "      <th>4</th>\n",
       "      <td>29572</td>\n",
       "      <td>19-20 августа\\nДетский клуб в кафе «Отдых»\\nТе...</td>\n",
       "    </tr>\n",
       "    <tr>\n",
       "      <th>...</th>\n",
       "      <td>...</td>\n",
       "      <td>...</td>\n",
       "    </tr>\n",
       "    <tr>\n",
       "      <th>7387</th>\n",
       "      <td>36955</td>\n",
       "      <td>Концерт «Stabat Mater»\\n24 и 25 марта в 20:00\\...</td>\n",
       "    </tr>\n",
       "    <tr>\n",
       "      <th>7388</th>\n",
       "      <td>36956</td>\n",
       "      <td>СПЕКТАКЛЬ «ОДНАЖДЫ…»\\nСпектакль для 1 зрителя....</td>\n",
       "    </tr>\n",
       "    <tr>\n",
       "      <th>7389</th>\n",
       "      <td>36957</td>\n",
       "      <td>вт.-пт. 10:00-20:00 можно бесплатно полетать н...</td>\n",
       "    </tr>\n",
       "    <tr>\n",
       "      <th>7390</th>\n",
       "      <td>36958</td>\n",
       "      <td>ТЕАТРАЛЬНЫЙ СЕЗОН \"НА ВОДАХ\"\\nс 1 по 9 апреля ...</td>\n",
       "    </tr>\n",
       "    <tr>\n",
       "      <th>7391</th>\n",
       "      <td>36959</td>\n",
       "      <td>Атмосферный концерт \"Скрипка Паганини при свеч...</td>\n",
       "    </tr>\n",
       "  </tbody>\n",
       "</table>\n",
       "<p>7392 rows × 2 columns</p>\n",
       "</div>"
      ],
      "text/plain": [
       "         id                                               text\n",
       "0     29568  ЭЙ, ВЛЮБЛЁННЫЕ\\nСкидка 20% промокоду SYHOYZ\\nн...\n",
       "1     29569                                       Пруды Москвы\n",
       "2     29570  🤪\\n🤪\\n👏\\n👏\\n😄\\n😄\\n👏\\n👏\\n👨‍👩‍👦\\nСемейка лёгкого...\n",
       "3     29571  24 СЕНТЯБРЯ\\nИсторический фестиваль «Башкирия ...\n",
       "4     29572  19-20 августа\\nДетский клуб в кафе «Отдых»\\nТе...\n",
       "...     ...                                                ...\n",
       "7387  36955  Концерт «Stabat Mater»\\n24 и 25 марта в 20:00\\...\n",
       "7388  36956  СПЕКТАКЛЬ «ОДНАЖДЫ…»\\nСпектакль для 1 зрителя....\n",
       "7389  36957  вт.-пт. 10:00-20:00 можно бесплатно полетать н...\n",
       "7390  36958  ТЕАТРАЛЬНЫЙ СЕЗОН \"НА ВОДАХ\"\\nс 1 по 9 апреля ...\n",
       "7391  36959  Атмосферный концерт \"Скрипка Паганини при свеч...\n",
       "\n",
       "[7392 rows x 2 columns]"
      ]
     },
     "execution_count": 6,
     "metadata": {},
     "output_type": "execute_result"
    }
   ],
   "source": [
    "data_test"
   ]
  },
  {
   "cell_type": "code",
   "execution_count": 4,
   "id": "79bca392-1963-4d8b-aac5-fce95b7a4085",
   "metadata": {
    "execution": {
     "iopub.execute_input": "2025-05-18T07:54:57.614104Z",
     "iopub.status.busy": "2025-05-18T07:54:57.613256Z",
     "iopub.status.idle": "2025-05-18T07:54:59.190815Z",
     "shell.execute_reply": "2025-05-18T07:54:59.189958Z",
     "shell.execute_reply.started": "2025-05-18T07:54:57.614076Z"
    }
   },
   "outputs": [
    {
     "name": "stderr",
     "output_type": "stream",
     "text": [
      "Extracting: 100%|██████████| 1/1 [00:01<00:00,  1.54s/it]\n"
     ]
    }
   ],
   "source": [
    "fname = \"./train.zip\"\n",
    "path = \"./\"\n",
    "\n",
    "with zipfile.ZipFile(fname, \"r\") as zf:\n",
    "    for entry in tqdm(zf.infolist(), desc=\"Extracting\"):\n",
    "        try:\n",
    "            zf.extract(entry, path)\n",
    "        except zipfile.error as e:\n",
    "            pass"
   ]
  },
  {
   "cell_type": "code",
   "execution_count": 22,
   "id": "11237e68-9207-44ec-902e-2d368a0e8f3a",
   "metadata": {
    "execution": {
     "iopub.execute_input": "2025-05-18T21:15:07.652433Z",
     "iopub.status.busy": "2025-05-18T21:15:07.651495Z",
     "iopub.status.idle": "2025-05-18T21:15:08.156632Z",
     "shell.execute_reply": "2025-05-18T21:15:08.155948Z",
     "shell.execute_reply.started": "2025-05-18T21:15:07.652387Z"
    },
    "tags": []
   },
   "outputs": [],
   "source": [
    "data_train = pd.read_csv('train.csv')"
   ]
  },
  {
   "cell_type": "code",
   "execution_count": 23,
   "id": "7a2a3543-e658-43cf-bd7c-10568619452f",
   "metadata": {
    "execution": {
     "iopub.execute_input": "2025-05-18T21:15:10.109404Z",
     "iopub.status.busy": "2025-05-18T21:15:10.108517Z",
     "iopub.status.idle": "2025-05-18T21:15:10.143635Z",
     "shell.execute_reply": "2025-05-18T21:15:10.143012Z",
     "shell.execute_reply.started": "2025-05-18T21:15:10.109363Z"
    },
    "tags": []
   },
   "outputs": [
    {
     "data": {
      "text/html": [
       "<div>\n",
       "<style scoped>\n",
       "    .dataframe tbody tr th:only-of-type {\n",
       "        vertical-align: middle;\n",
       "    }\n",
       "\n",
       "    .dataframe tbody tr th {\n",
       "        vertical-align: top;\n",
       "    }\n",
       "\n",
       "    .dataframe thead th {\n",
       "        text-align: right;\n",
       "    }\n",
       "</style>\n",
       "<table border=\"1\" class=\"dataframe\">\n",
       "  <thead>\n",
       "    <tr style=\"text-align: right;\">\n",
       "      <th></th>\n",
       "      <th>id</th>\n",
       "      <th>text</th>\n",
       "      <th>labels</th>\n",
       "    </tr>\n",
       "  </thead>\n",
       "  <tbody>\n",
       "    <tr>\n",
       "      <th>0</th>\n",
       "      <td>0</td>\n",
       "      <td>15 января\\nДетская развлекательная программа\\n...</td>\n",
       "      <td>1 0 0 0 1 0 0 0 1 0 0 0 1 1 1 1 1 0 0 1</td>\n",
       "    </tr>\n",
       "    <tr>\n",
       "      <th>1</th>\n",
       "      <td>1</td>\n",
       "      <td>13 и 14 августа\\nВыходные в Меге\\nhttps://t.me...</td>\n",
       "      <td>0 0 0 1 0 0 0 0 1 0 0 0 1 1 0 1 1 0 0 1</td>\n",
       "    </tr>\n",
       "    <tr>\n",
       "      <th>2</th>\n",
       "      <td>2</td>\n",
       "      <td>Йокнапатофа\\nПостановка Театр им. Маяковского\\...</td>\n",
       "      <td>0 0 0 0 1 0 0 0 0 0 0 0 1 1 0 1 1 0 0 1</td>\n",
       "    </tr>\n",
       "    <tr>\n",
       "      <th>3</th>\n",
       "      <td>3</td>\n",
       "      <td>Впервые в Уфе танцевальная терапия в группе с ...</td>\n",
       "      <td>1 1 0 0 1 0 0 1 1 1 1 1 1 1 1 0 0 1 1 0</td>\n",
       "    </tr>\n",
       "    <tr>\n",
       "      <th>4</th>\n",
       "      <td>4</td>\n",
       "      <td>🎹\\nGRAND PIANO COMPETITION\\n🎹\\nДрузья, сегодня...</td>\n",
       "      <td>1 1 0 0 0 0 0 1 1 0 0 1 1 1 1 0 1 1 1 0</td>\n",
       "    </tr>\n",
       "    <tr>\n",
       "      <th>...</th>\n",
       "      <td>...</td>\n",
       "      <td>...</td>\n",
       "      <td>...</td>\n",
       "    </tr>\n",
       "    <tr>\n",
       "      <th>29563</th>\n",
       "      <td>29563</td>\n",
       "      <td>Выступление Симфо-группы TEODOR\\n⠀\\n22 июля в ...</td>\n",
       "      <td>0 0 0 0 0 0 0 1 1 0 0 0 0 1 0 1 1 1 1 0</td>\n",
       "    </tr>\n",
       "    <tr>\n",
       "      <th>29564</th>\n",
       "      <td>29564</td>\n",
       "      <td>🔤\\nЮЗИКЛ \"МОНТЕ-КРИСТО\" ТЕАТР ОПЕРЕТТЫ\\nЭто оч...</td>\n",
       "      <td>1 1 1 0 0 0 0 1 0 1 1 1 0 1 1 0 1 1 1 0</td>\n",
       "    </tr>\n",
       "    <tr>\n",
       "      <th>29565</th>\n",
       "      <td>29565</td>\n",
       "      <td>РАСПИСАНИЕ БЕСПЛАТНЫХ ЭКСКУРСИЙ\\nв октябре 202...</td>\n",
       "      <td>1 1 0 0 1 0 0 1 1 1 1 1 1 1 1 1 1 1 1 0</td>\n",
       "    </tr>\n",
       "    <tr>\n",
       "      <th>29566</th>\n",
       "      <td>29566</td>\n",
       "      <td>Долгожданный концерт Надежды Кадышевой в Рязан...</td>\n",
       "      <td>1 0 1 0 0 0 0 1 0 1 1 1 0 1 1 0 0 1 1 0</td>\n",
       "    </tr>\n",
       "    <tr>\n",
       "      <th>29567</th>\n",
       "      <td>29567</td>\n",
       "      <td>Спектакль-победитель фестиваля «Амурская осень...</td>\n",
       "      <td>0 1 0 0 1 0 0 1 1 1 0 0 1 0 1 0 1 1 1 0</td>\n",
       "    </tr>\n",
       "  </tbody>\n",
       "</table>\n",
       "<p>29568 rows × 3 columns</p>\n",
       "</div>"
      ],
      "text/plain": [
       "          id  ...                                   labels\n",
       "0          0  ...  1 0 0 0 1 0 0 0 1 0 0 0 1 1 1 1 1 0 0 1\n",
       "1          1  ...  0 0 0 1 0 0 0 0 1 0 0 0 1 1 0 1 1 0 0 1\n",
       "2          2  ...  0 0 0 0 1 0 0 0 0 0 0 0 1 1 0 1 1 0 0 1\n",
       "3          3  ...  1 1 0 0 1 0 0 1 1 1 1 1 1 1 1 0 0 1 1 0\n",
       "4          4  ...  1 1 0 0 0 0 0 1 1 0 0 1 1 1 1 0 1 1 1 0\n",
       "...      ...  ...                                      ...\n",
       "29563  29563  ...  0 0 0 0 0 0 0 1 1 0 0 0 0 1 0 1 1 1 1 0\n",
       "29564  29564  ...  1 1 1 0 0 0 0 1 0 1 1 1 0 1 1 0 1 1 1 0\n",
       "29565  29565  ...  1 1 0 0 1 0 0 1 1 1 1 1 1 1 1 1 1 1 1 0\n",
       "29566  29566  ...  1 0 1 0 0 0 0 1 0 1 1 1 0 1 1 0 0 1 1 0\n",
       "29567  29567  ...  0 1 0 0 1 0 0 1 1 1 0 0 1 0 1 0 1 1 1 0\n",
       "\n",
       "[29568 rows x 3 columns]"
      ]
     },
     "execution_count": 23,
     "metadata": {},
     "output_type": "execute_result"
    }
   ],
   "source": [
    "data_train"
   ]
  },
  {
   "cell_type": "markdown",
   "id": "ccc0d6d2-326e-4a28-9e09-a0a7dc19bd3d",
   "metadata": {},
   "source": [
    "1.2 визуализация\n",
    "сейчас классы записаны в одну строчку, нужно разбить на разные столбцы это и суммы получить. так узнаем объем классов."
   ]
  },
  {
   "cell_type": "code",
   "execution_count": null,
   "id": "e65a5f78-cd53-4e81-9a6e-bb6f342e5198",
   "metadata": {},
   "outputs": [],
   "source": []
  },
  {
   "cell_type": "code",
   "execution_count": 25,
   "id": "5d19c138-863c-458d-8d96-2469f1a65dbf",
   "metadata": {
    "execution": {
     "iopub.execute_input": "2025-05-18T21:15:22.281596Z",
     "iopub.status.busy": "2025-05-18T21:15:22.280696Z",
     "iopub.status.idle": "2025-05-18T21:15:22.297233Z",
     "shell.execute_reply": "2025-05-18T21:15:22.296520Z",
     "shell.execute_reply.started": "2025-05-18T21:15:22.281557Z"
    },
    "tags": []
   },
   "outputs": [
    {
     "data": {
      "text/plain": [
       "'0 0 0 1 0 0 0 0 1 0 0 0 1 1 0 1 1 0 0 1'"
      ]
     },
     "execution_count": 25,
     "metadata": {},
     "output_type": "execute_result"
    }
   ],
   "source": [
    "df = data_train['labels'].iloc[1] \n",
    "df"
   ]
  },
  {
   "cell_type": "code",
   "execution_count": 26,
   "id": "9a5f85f9-2069-4d3a-b41e-1c5ed6ef7e60",
   "metadata": {
    "execution": {
     "iopub.execute_input": "2025-05-18T21:15:22.461100Z",
     "iopub.status.busy": "2025-05-18T21:15:22.460261Z",
     "iopub.status.idle": "2025-05-18T21:15:22.474864Z",
     "shell.execute_reply": "2025-05-18T21:15:22.474173Z",
     "shell.execute_reply.started": "2025-05-18T21:15:22.461063Z"
    },
    "tags": []
   },
   "outputs": [],
   "source": [
    "df = data_train"
   ]
  },
  {
   "cell_type": "code",
   "execution_count": 27,
   "id": "c31a5c21-5845-4d84-9c6f-25d243f4620f",
   "metadata": {
    "execution": {
     "iopub.execute_input": "2025-05-18T21:15:22.658554Z",
     "iopub.status.busy": "2025-05-18T21:15:22.657642Z",
     "iopub.status.idle": "2025-05-18T21:15:22.675500Z",
     "shell.execute_reply": "2025-05-18T21:15:22.674964Z",
     "shell.execute_reply.started": "2025-05-18T21:15:22.658519Z"
    },
    "tags": []
   },
   "outputs": [
    {
     "data": {
      "text/html": [
       "<div>\n",
       "<style scoped>\n",
       "    .dataframe tbody tr th:only-of-type {\n",
       "        vertical-align: middle;\n",
       "    }\n",
       "\n",
       "    .dataframe tbody tr th {\n",
       "        vertical-align: top;\n",
       "    }\n",
       "\n",
       "    .dataframe thead th {\n",
       "        text-align: right;\n",
       "    }\n",
       "</style>\n",
       "<table border=\"1\" class=\"dataframe\">\n",
       "  <thead>\n",
       "    <tr style=\"text-align: right;\">\n",
       "      <th></th>\n",
       "      <th>id</th>\n",
       "      <th>text</th>\n",
       "      <th>labels</th>\n",
       "    </tr>\n",
       "  </thead>\n",
       "  <tbody>\n",
       "    <tr>\n",
       "      <th>0</th>\n",
       "      <td>0</td>\n",
       "      <td>15 января\\nДетская развлекательная программа\\n...</td>\n",
       "      <td>1 0 0 0 1 0 0 0 1 0 0 0 1 1 1 1 1 0 0 1</td>\n",
       "    </tr>\n",
       "    <tr>\n",
       "      <th>1</th>\n",
       "      <td>1</td>\n",
       "      <td>13 и 14 августа\\nВыходные в Меге\\nhttps://t.me...</td>\n",
       "      <td>0 0 0 1 0 0 0 0 1 0 0 0 1 1 0 1 1 0 0 1</td>\n",
       "    </tr>\n",
       "    <tr>\n",
       "      <th>2</th>\n",
       "      <td>2</td>\n",
       "      <td>Йокнапатофа\\nПостановка Театр им. Маяковского\\...</td>\n",
       "      <td>0 0 0 0 1 0 0 0 0 0 0 0 1 1 0 1 1 0 0 1</td>\n",
       "    </tr>\n",
       "    <tr>\n",
       "      <th>3</th>\n",
       "      <td>3</td>\n",
       "      <td>Впервые в Уфе танцевальная терапия в группе с ...</td>\n",
       "      <td>1 1 0 0 1 0 0 1 1 1 1 1 1 1 1 0 0 1 1 0</td>\n",
       "    </tr>\n",
       "    <tr>\n",
       "      <th>4</th>\n",
       "      <td>4</td>\n",
       "      <td>🎹\\nGRAND PIANO COMPETITION\\n🎹\\nДрузья, сегодня...</td>\n",
       "      <td>1 1 0 0 0 0 0 1 1 0 0 1 1 1 1 0 1 1 1 0</td>\n",
       "    </tr>\n",
       "    <tr>\n",
       "      <th>...</th>\n",
       "      <td>...</td>\n",
       "      <td>...</td>\n",
       "      <td>...</td>\n",
       "    </tr>\n",
       "    <tr>\n",
       "      <th>29563</th>\n",
       "      <td>29563</td>\n",
       "      <td>Выступление Симфо-группы TEODOR\\n⠀\\n22 июля в ...</td>\n",
       "      <td>0 0 0 0 0 0 0 1 1 0 0 0 0 1 0 1 1 1 1 0</td>\n",
       "    </tr>\n",
       "    <tr>\n",
       "      <th>29564</th>\n",
       "      <td>29564</td>\n",
       "      <td>🔤\\nЮЗИКЛ \"МОНТЕ-КРИСТО\" ТЕАТР ОПЕРЕТТЫ\\nЭто оч...</td>\n",
       "      <td>1 1 1 0 0 0 0 1 0 1 1 1 0 1 1 0 1 1 1 0</td>\n",
       "    </tr>\n",
       "    <tr>\n",
       "      <th>29565</th>\n",
       "      <td>29565</td>\n",
       "      <td>РАСПИСАНИЕ БЕСПЛАТНЫХ ЭКСКУРСИЙ\\nв октябре 202...</td>\n",
       "      <td>1 1 0 0 1 0 0 1 1 1 1 1 1 1 1 1 1 1 1 0</td>\n",
       "    </tr>\n",
       "    <tr>\n",
       "      <th>29566</th>\n",
       "      <td>29566</td>\n",
       "      <td>Долгожданный концерт Надежды Кадышевой в Рязан...</td>\n",
       "      <td>1 0 1 0 0 0 0 1 0 1 1 1 0 1 1 0 0 1 1 0</td>\n",
       "    </tr>\n",
       "    <tr>\n",
       "      <th>29567</th>\n",
       "      <td>29567</td>\n",
       "      <td>Спектакль-победитель фестиваля «Амурская осень...</td>\n",
       "      <td>0 1 0 0 1 0 0 1 1 1 0 0 1 0 1 0 1 1 1 0</td>\n",
       "    </tr>\n",
       "  </tbody>\n",
       "</table>\n",
       "<p>29568 rows × 3 columns</p>\n",
       "</div>"
      ],
      "text/plain": [
       "          id  ...                                   labels\n",
       "0          0  ...  1 0 0 0 1 0 0 0 1 0 0 0 1 1 1 1 1 0 0 1\n",
       "1          1  ...  0 0 0 1 0 0 0 0 1 0 0 0 1 1 0 1 1 0 0 1\n",
       "2          2  ...  0 0 0 0 1 0 0 0 0 0 0 0 1 1 0 1 1 0 0 1\n",
       "3          3  ...  1 1 0 0 1 0 0 1 1 1 1 1 1 1 1 0 0 1 1 0\n",
       "4          4  ...  1 1 0 0 0 0 0 1 1 0 0 1 1 1 1 0 1 1 1 0\n",
       "...      ...  ...                                      ...\n",
       "29563  29563  ...  0 0 0 0 0 0 0 1 1 0 0 0 0 1 0 1 1 1 1 0\n",
       "29564  29564  ...  1 1 1 0 0 0 0 1 0 1 1 1 0 1 1 0 1 1 1 0\n",
       "29565  29565  ...  1 1 0 0 1 0 0 1 1 1 1 1 1 1 1 1 1 1 1 0\n",
       "29566  29566  ...  1 0 1 0 0 0 0 1 0 1 1 1 0 1 1 0 0 1 1 0\n",
       "29567  29567  ...  0 1 0 0 1 0 0 1 1 1 0 0 1 0 1 0 1 1 1 0\n",
       "\n",
       "[29568 rows x 3 columns]"
      ]
     },
     "execution_count": 27,
     "metadata": {},
     "output_type": "execute_result"
    }
   ],
   "source": [
    "df"
   ]
  },
  {
   "cell_type": "code",
   "execution_count": 28,
   "id": "1edf02b1-7cf1-446b-9fc6-e09070dad9ae",
   "metadata": {
    "execution": {
     "iopub.execute_input": "2025-05-18T21:15:22.879287Z",
     "iopub.status.busy": "2025-05-18T21:15:22.878426Z",
     "iopub.status.idle": "2025-05-18T21:15:23.420976Z",
     "shell.execute_reply": "2025-05-18T21:15:23.420257Z",
     "shell.execute_reply.started": "2025-05-18T21:15:22.879260Z"
    },
    "tags": []
   },
   "outputs": [
    {
     "data": {
      "image/png": "[encoded data removed]",
      "text/plain": [
       "<Figure size 1200x600 with 1 Axes>"
      ]
     },
     "metadata": {},
     "output_type": "display_data"
    }
   ],
   "source": [
    "df['label_vector'] = df['labels'].apply(lambda x: [int(i) for i in x.split()])\n",
    "\n",
    "label_array = np.stack(df['label_vector'].values)\n",
    "\n",
    "class_frequencies = pd.Series(label_array.sum(axis=0), name='Количество примеров')\n",
    "class_frequencies.index.name = 'ID класса'\n",
    "\n",
    "# Визуализация\n",
    "plt.figure(figsize=(12, 6))\n",
    "sns.barplot(x=class_frequencies.index, y=class_frequencies.values, palette='mako')\n",
    "plt.title('Частота появления каждого класса в трейн датасете')\n",
    "plt.xlabel('Класс')\n",
    "plt.ylabel('Количество')\n",
    "plt.grid(axis='y', linestyle='--', alpha=0.7)\n",
    "plt.tight_layout()\n",
    "plt.show()"
   ]
  },
  {
   "cell_type": "markdown",
   "id": "28694a9b-4853-4ba6-8d8b-8fce47273e82",
   "metadata": {},
   "source": [
    "видим, что классы 2,3, 5, 6 практически не представлены в датасете. Дисбаланс классов, можно использовать взвешенные лоси,Undersampling/Oversampling (?) + нужно на трейн и тест делить взвешенно-аккуратно."
   ]
  },
  {
   "cell_type": "markdown",
   "id": "f3786465-9183-46f2-91c5-6126f5056f87",
   "metadata": {},
   "source": [
    "### Посчитаем, сколько меток у каждого примера\n"
   ]
  },
  {
   "cell_type": "code",
   "execution_count": 27,
   "id": "baa4f909-056b-4127-8b3b-37c7e8dfbeb6",
   "metadata": {
    "execution": {
     "iopub.execute_input": "2025-05-18T15:11:42.423376Z",
     "iopub.status.busy": "2025-05-18T15:11:42.422477Z",
     "iopub.status.idle": "2025-05-18T15:11:42.637372Z",
     "shell.execute_reply": "2025-05-18T15:11:42.636441Z",
     "shell.execute_reply.started": "2025-05-18T15:11:42.423335Z"
    },
    "tags": []
   },
   "outputs": [
    {
     "data": {
      "image/png": "[encoded data removed]",
      "text/plain": [
       "<Figure size 800x400 with 1 Axes>"
      ]
     },
     "metadata": {},
     "output_type": "display_data"
    }
   ],
   "source": [
    "df['num_labels'] = df['label_vector'].apply(lambda x: sum(x))\n",
    "\n",
    "plt.figure(figsize=(8, 4))\n",
    "plt.hist(df['num_labels'], bins=range(1, df['num_labels'].max() + 2), edgecolor='black')\n",
    "plt.title('Распределение количества меток на один объект')\n",
    "plt.xlabel('Число меток')\n",
    "plt.ylabel('Частота')\n",
    "plt.grid(True)\n",
    "plt.tight_layout()\n",
    "plt.show()\n"
   ]
  },
  {
   "cell_type": "markdown",
   "id": "753f9731-93d3-4d5f-a136-f28930be1d2f",
   "metadata": {},
   "source": [
    " видим что часто на одном примере у нас 10-14 меток. в целом распределение похоже на нормальное, но смещено влево, в сторону примеров с большим кол-вом меток"
   ]
  },
  {
   "cell_type": "code",
   "execution_count": null,
   "id": "c902c082-8a2d-4b06-aa19-953890780805",
   "metadata": {},
   "outputs": [],
   "source": []
  },
  {
   "cell_type": "code",
   "execution_count": 19,
   "id": "44a94f61-aad7-4c46-be7f-9ad5bce06d38",
   "metadata": {
    "execution": {
     "iopub.execute_input": "2025-05-18T14:21:17.372430Z",
     "iopub.status.busy": "2025-05-18T14:21:17.371384Z",
     "iopub.status.idle": "2025-05-18T14:21:17.497357Z",
     "shell.execute_reply": "2025-05-18T14:21:17.496654Z",
     "shell.execute_reply.started": "2025-05-18T14:21:17.372393Z"
    },
    "tags": []
   },
   "outputs": [
    {
     "data": {
      "image/png": "[encoded data removed]",
      "text/plain": [
       "<Figure size 600x400 with 1 Axes>"
      ]
     },
     "metadata": {},
     "output_type": "display_data"
    }
   ],
   "source": [
    "plt.figure(figsize=(6, 4))\n",
    "sns.boxplot(x=df['num_labels'], color='skyblue')\n",
    "plt.title('Распределение числа меток на один пример')\n",
    "plt.xlabel('Число меток')\n",
    "plt.tight_layout()\n",
    "plt.show()"
   ]
  },
  {
   "cell_type": "code",
   "execution_count": null,
   "id": "a012eafd-32ea-41fb-83f3-8beef068f3bf",
   "metadata": {},
   "outputs": [],
   "source": []
  },
  {
   "cell_type": "code",
   "execution_count": 20,
   "id": "bdafb288-a71f-4c7b-b818-6cdcc97d5bc7",
   "metadata": {
    "execution": {
     "iopub.execute_input": "2025-05-18T14:21:17.884387Z",
     "iopub.status.busy": "2025-05-18T14:21:17.883325Z",
     "iopub.status.idle": "2025-05-18T14:21:18.447264Z",
     "shell.execute_reply": "2025-05-18T14:21:18.446575Z",
     "shell.execute_reply.started": "2025-05-18T14:21:17.884351Z"
    },
    "tags": []
   },
   "outputs": [],
   "source": [
    "data_train = pd.read_csv('train.csv')"
   ]
  },
  {
   "cell_type": "code",
   "execution_count": 21,
   "id": "9186cf10-24a1-4291-b488-4bce04124914",
   "metadata": {
    "execution": {
     "iopub.execute_input": "2025-05-18T14:21:18.449169Z",
     "iopub.status.busy": "2025-05-18T14:21:18.448493Z",
     "iopub.status.idle": "2025-05-18T14:21:18.475178Z",
     "shell.execute_reply": "2025-05-18T14:21:18.474522Z",
     "shell.execute_reply.started": "2025-05-18T14:21:18.449133Z"
    },
    "tags": []
   },
   "outputs": [
    {
     "data": {
      "text/html": [
       "<div>\n",
       "<style scoped>\n",
       "    .dataframe tbody tr th:only-of-type {\n",
       "        vertical-align: middle;\n",
       "    }\n",
       "\n",
       "    .dataframe tbody tr th {\n",
       "        vertical-align: top;\n",
       "    }\n",
       "\n",
       "    .dataframe thead th {\n",
       "        text-align: right;\n",
       "    }\n",
       "</style>\n",
       "<table border=\"1\" class=\"dataframe\">\n",
       "  <thead>\n",
       "    <tr style=\"text-align: right;\">\n",
       "      <th></th>\n",
       "      <th>id</th>\n",
       "      <th>text</th>\n",
       "      <th>labels</th>\n",
       "    </tr>\n",
       "  </thead>\n",
       "  <tbody>\n",
       "    <tr>\n",
       "      <th>0</th>\n",
       "      <td>0</td>\n",
       "      <td>15 января\\nДетская развлекательная программа\\n...</td>\n",
       "      <td>1 0 0 0 1 0 0 0 1 0 0 0 1 1 1 1 1 0 0 1</td>\n",
       "    </tr>\n",
       "    <tr>\n",
       "      <th>1</th>\n",
       "      <td>1</td>\n",
       "      <td>13 и 14 августа\\nВыходные в Меге\\nhttps://t.me...</td>\n",
       "      <td>0 0 0 1 0 0 0 0 1 0 0 0 1 1 0 1 1 0 0 1</td>\n",
       "    </tr>\n",
       "    <tr>\n",
       "      <th>2</th>\n",
       "      <td>2</td>\n",
       "      <td>Йокнапатофа\\nПостановка Театр им. Маяковского\\...</td>\n",
       "      <td>0 0 0 0 1 0 0 0 0 0 0 0 1 1 0 1 1 0 0 1</td>\n",
       "    </tr>\n",
       "    <tr>\n",
       "      <th>3</th>\n",
       "      <td>3</td>\n",
       "      <td>Впервые в Уфе танцевальная терапия в группе с ...</td>\n",
       "      <td>1 1 0 0 1 0 0 1 1 1 1 1 1 1 1 0 0 1 1 0</td>\n",
       "    </tr>\n",
       "    <tr>\n",
       "      <th>4</th>\n",
       "      <td>4</td>\n",
       "      <td>🎹\\nGRAND PIANO COMPETITION\\n🎹\\nДрузья, сегодня...</td>\n",
       "      <td>1 1 0 0 0 0 0 1 1 0 0 1 1 1 1 0 1 1 1 0</td>\n",
       "    </tr>\n",
       "    <tr>\n",
       "      <th>...</th>\n",
       "      <td>...</td>\n",
       "      <td>...</td>\n",
       "      <td>...</td>\n",
       "    </tr>\n",
       "    <tr>\n",
       "      <th>29563</th>\n",
       "      <td>29563</td>\n",
       "      <td>Выступление Симфо-группы TEODOR\\n⠀\\n22 июля в ...</td>\n",
       "      <td>0 0 0 0 0 0 0 1 1 0 0 0 0 1 0 1 1 1 1 0</td>\n",
       "    </tr>\n",
       "    <tr>\n",
       "      <th>29564</th>\n",
       "      <td>29564</td>\n",
       "      <td>🔤\\nЮЗИКЛ \"МОНТЕ-КРИСТО\" ТЕАТР ОПЕРЕТТЫ\\nЭто оч...</td>\n",
       "      <td>1 1 1 0 0 0 0 1 0 1 1 1 0 1 1 0 1 1 1 0</td>\n",
       "    </tr>\n",
       "    <tr>\n",
       "      <th>29565</th>\n",
       "      <td>29565</td>\n",
       "      <td>РАСПИСАНИЕ БЕСПЛАТНЫХ ЭКСКУРСИЙ\\nв октябре 202...</td>\n",
       "      <td>1 1 0 0 1 0 0 1 1 1 1 1 1 1 1 1 1 1 1 0</td>\n",
       "    </tr>\n",
       "    <tr>\n",
       "      <th>29566</th>\n",
       "      <td>29566</td>\n",
       "      <td>Долгожданный концерт Надежды Кадышевой в Рязан...</td>\n",
       "      <td>1 0 1 0 0 0 0 1 0 1 1 1 0 1 1 0 0 1 1 0</td>\n",
       "    </tr>\n",
       "    <tr>\n",
       "      <th>29567</th>\n",
       "      <td>29567</td>\n",
       "      <td>Спектакль-победитель фестиваля «Амурская осень...</td>\n",
       "      <td>0 1 0 0 1 0 0 1 1 1 0 0 1 0 1 0 1 1 1 0</td>\n",
       "    </tr>\n",
       "  </tbody>\n",
       "</table>\n",
       "<p>29568 rows × 3 columns</p>\n",
       "</div>"
      ],
      "text/plain": [
       "          id  ...                                   labels\n",
       "0          0  ...  1 0 0 0 1 0 0 0 1 0 0 0 1 1 1 1 1 0 0 1\n",
       "1          1  ...  0 0 0 1 0 0 0 0 1 0 0 0 1 1 0 1 1 0 0 1\n",
       "2          2  ...  0 0 0 0 1 0 0 0 0 0 0 0 1 1 0 1 1 0 0 1\n",
       "3          3  ...  1 1 0 0 1 0 0 1 1 1 1 1 1 1 1 0 0 1 1 0\n",
       "4          4  ...  1 1 0 0 0 0 0 1 1 0 0 1 1 1 1 0 1 1 1 0\n",
       "...      ...  ...                                      ...\n",
       "29563  29563  ...  0 0 0 0 0 0 0 1 1 0 0 0 0 1 0 1 1 1 1 0\n",
       "29564  29564  ...  1 1 1 0 0 0 0 1 0 1 1 1 0 1 1 0 1 1 1 0\n",
       "29565  29565  ...  1 1 0 0 1 0 0 1 1 1 1 1 1 1 1 1 1 1 1 0\n",
       "29566  29566  ...  1 0 1 0 0 0 0 1 0 1 1 1 0 1 1 0 0 1 1 0\n",
       "29567  29567  ...  0 1 0 0 1 0 0 1 1 1 0 0 1 0 1 0 1 1 1 0\n",
       "\n",
       "[29568 rows x 3 columns]"
      ]
     },
     "execution_count": 21,
     "metadata": {},
     "output_type": "execute_result"
    }
   ],
   "source": [
    "data_train"
   ]
  },
  {
   "cell_type": "markdown",
   "id": "40ba6182-f907-42ff-8f0a-c032089ef2c1",
   "metadata": {},
   "source": [
    "тексты с мусором в виде смайликов, ссылок, хештегов. Также видно, что всё это - афиши каких-то мероприятий, причем публиковались , вероятно в вк или похожей соц сети (смайлики и стиль на это указывают). тексты достаточно длинные. "
   ]
  },
  {
   "cell_type": "code",
   "execution_count": 22,
   "id": "10a4872f-4744-443a-969b-d1b47600a55a",
   "metadata": {
    "execution": {
     "iopub.execute_input": "2025-05-18T14:21:18.640424Z",
     "iopub.status.busy": "2025-05-18T14:21:18.639469Z",
     "iopub.status.idle": "2025-05-18T14:21:18.656548Z",
     "shell.execute_reply": "2025-05-18T14:21:18.655820Z",
     "shell.execute_reply.started": "2025-05-18T14:21:18.640384Z"
    },
    "tags": []
   },
   "outputs": [
    {
     "name": "stdout",
     "output_type": "stream",
     "text": [
      "Пять случайных примеров текстов:\n",
      "\n",
      "💥\n",
      "Спецтариф от Театра «На Литейном»\n",
      "💥\n",
      "Билеты на спектакль «Бег» 18 февраля в 19:00\n",
      "всего за 500 рублей!\n",
      "✅\n",
      "Для того, чтобы получить билеты по бонусному тарифу - нужно указать в комментариях под постом свою фамилию и количество билетов.\n",
      "Билеты можно получить перед спектаклем в окошке администратора, назвав свою фамилию.\n",
      "🎭\n",
      "В Театре «На Литейном» спектакль стал режиссерским дебютом Романа Агеева, одного из ведущих артистов и известного киноактера. Главной темой он обозначил «утопическое чувство любви к Родине», проявленное в среде снов. Сны – это мистическая дверь, которую открывают персонажи. Нечто произошедшее наяву не отпускает и преследует их. Зрителей ждет гротескное, сумасбродное действо с непредсказуемыми ситуациями и драматическими сюжетными поворотами.\n",
      "\n",
      "---\n",
      "\n",
      "ИГРА РАЗУМА - «ТЕМАТИЧЕСКОЕ РАЗУМНОЕ ЛОТО»\n",
      "26 ноября 2024 года, начало в 19:00\n",
      "г. Ессентуки | Караоке \"Soloway\" | Стоимость участия 500р.\n",
      "Привет, друзья! 26 ноября состоится «Игра Разума» - 04 эпизод, I сезон.\n",
      "Тема игры: «ТЕМАТИЧЕСКОЕ РАЗУМНОЕ ЛОТО» - игра, где не нужно вспоминать ответы, они уже будут у вас в специальных бланках, просто вычеркивайте правильные!\n",
      "Будет тематически, 7 туров - 126 вопросов:\n",
      "1. Кино\n",
      "2. Города и страны\n",
      "3. Искусство\n",
      "4. Личности\n",
      "5. Спорт\n",
      "6. Музыка\n",
      "7. История XIX-XXI веков\n",
      "Присоединяйтесь, будет на лайте!\n",
      "Регистрация на игру открыта.\n",
      "Стоимость участия: 500 руб/чел.\n",
      "Место проведения: Караоке \"Soloway\", г. Ессентуки, ул. Новопятигорская, 3/1\n",
      "Запись по тел.: +7 (917) 208-46-33\n",
      "Источник:\n",
      "https://vk.com/igrarazumaess\n",
      "Репост приветствуется!\n",
      "#eventskmv #26ноября2024г #игра #скфо #кмв #играразума #ессентуки #афишаессентуки #афишакмв #кудапойтиессентуки\n",
      "\n",
      "---\n",
      "\n",
      "Сёстры - премьера в Санкт-Петербурге\n",
      "🏛\n",
      "ДК Выборгский, малый зал\n",
      "📍\n",
      "Комиссара Смирнова, 15\n",
      "🗓\n",
      "5 февраля (пн) 19:30\n",
      "🎫\n",
      "Билеты по ссылке здесь\n",
      "💚\n",
      "Промокод на скидку ФЕВРАЛЬ\n",
      "Возвращение звезды фильмов «Курьер» и «Интердевочка» Анастасии Немоляевой на театральную сцену.\n",
      "Невероятно трогательное драмеди о встрече двух сестер после долгой разлуки. С самой первой секунды спектакль удивит Вас нестандартными режиссерскими решениями, глубоко проработанными диалогами и юмором от которого станет тепло на душе.\n",
      "В главных ролях: з.а РФ Дарья Михайлова, Анастасия Немоляева, Алексей Гришин\n",
      "Автор пьесы: Алексей Слаповский («Участок», «Я не я»)\n",
      "🥰\n",
      "Билеты со скидками\n",
      "@teatrspb\n",
      "\n",
      "---\n",
      "\n",
      "РОК КОНЦЕРТ - КАВЕР-ГРУППА \"ЦВЕТНОЙ БУЛЬВАР\"\n",
      "4 мая 2024 года, начало в 19:30\n",
      "г. Пятигорск | Арт-проект ChoLiGastrolle | Билеты от 1500р.\n",
      "Ждем всех в ChoLiGastrolle:\n",
      "угощение, поздравления, традиционная выпечка и сладости и...\n",
      "классический рок-концерт\n",
      "🎸\n",
      "🤘\n",
      "Будет и душевно и отрывисто.\n",
      "Стоимость билета 1500р.\n",
      "Бронь по телефону +79383560400 WhatsApp,\n",
      "t.me\n",
      "Место проведения: Арт-проект ChoLiGastrolle, г. Пятигорск, ул. Крайнего, 49а\n",
      "Источники:\n",
      "https://t.me/Cho_li_Gastrolle\n",
      ",\n",
      "https://vk.com/choligastrolle\n",
      "Репост приветствуется!\n",
      "#eventskmv #4мая2024г #концерт #кмв #пятигорск #афишапятигорск #афишакмв #кудапойтипятигорск\n",
      "\n",
      "---\n",
      "\n",
      "Скидка 20% по промокоду ВЕРТИНСКИЙ на единственный показ спектакля Романа Кагановича  \"Интервью В.\" 27 марта в 20:00 в Камерном Театре Малыщицкого.\n",
      "Обладатель гран-при фестиваля \"МОНОfest\"\n",
      "Оголенный нерв, обугленная судьба и чистая душа самого трагичного романтика и самого романтичного патриота – Вертинский один на один со зрителем.Этот спектакль – самая честная история о русском Пьеро, который покорил мир, но всю жизнь мечтал быть «советским артистом». Острый, больной, невероятно красивый и очень интимный. В роли Вертинского - Сергей Азеев.\n",
      "Билеты на сайте\n",
      "https://tnp-teatr.ru/\n",
      "Скидка 20% по промокоду ВЕРТИНСКИЙ\n",
      "Билеты со скидкой\n",
      "@teatrspb\n",
      "\n",
      "---\n",
      "\n"
     ]
    }
   ],
   "source": [
    "print(\"Пять случайных примеров текстов:\\n\")\n",
    "for text in data_train['text'].sample(5, random_state=42):\n",
    "    print(text)\n",
    "    print(\"\\n---\\n\")\n"
   ]
  },
  {
   "cell_type": "markdown",
   "id": "185b1d62-d680-4b98-be71-7a39d3aa02da",
   "metadata": {},
   "source": [
    "### БЛОК 2"
   ]
  },
  {
   "cell_type": "markdown",
   "id": "1bcbea26-f958-4443-a7ce-c5dce14d7a32",
   "metadata": {},
   "source": [
    "2) Проанализировать, какие очистки текста необходимы под разные способы токенизации и задания эмбеддингов для этой задачи: (1) tf-idf + любая нейронная сеть; (2) w2v + любая нейронная сеть; (3) встроенный эмбеддинг в нейросетевое решение на свёрточных сетях; (4) встроенный эмбеддинг в нейросетевое решение на рекуррентных сетях; (5) эмбеддер + решение на bert-like моделях (любой вид). Создать пайплайны очистки текста и очистить (1.5 балла)."
   ]
  },
  {
   "cell_type": "markdown",
   "id": "fd8b03d5-fefb-4d12-86b0-5ae42fdda6e0",
   "metadata": {},
   "source": [
    "## (1) tf-idf + любая нейронная сеть     \n",
    "\n",
    "https://habr.com/ru/companies/otus/articles/755772/ цитирую:\n"
   ]
  },
  {
   "cell_type": "markdown",
   "id": "09495444-b77c-4f39-8550-6fc492d236ac",
   "metadata": {},
   "source": [
    "TF (Частота термина) обозначает, насколько часто определенное слово появляется в данном документе. Таким образом, TF измеряет важность слова в контексте отдельного документа.\n",
    "\n",
    "IDF (Обратная частота документа) измеряет, насколько уникально слово является по всей коллекции документов. Слова, которые появляются в большинстве документов, имеют низкое IDF, так как они не вносят большой информационной ценности.\n",
    "\n",
    "Формула вычисления TF-IDF\n",
    "Формула TF-IDF комбинирует понятия TF и IDF, чтобы вычислить важность каждого слова в каждом документе. Формально, формула выглядит следующим образом:\n",
    "\n",
    "TF-IDF(t, d) = TF(t, d) * IDF(t)\n",
    "\n",
    "где:\n",
    "\n",
    "TF(t, d) - Частота термина (TF) для слова \"t\" в документе \"d\".\n",
    "\n",
    "IDF(t) - Обратная частота документа (IDF) для слова \"t\""
   ]
  },
  {
   "cell_type": "markdown",
   "id": "e4391341-47d1-4359-993e-1bd2fee8a922",
   "metadata": {},
   "source": [
    "### Перед тем как вычислять TF-IDF, мы должны выполнить предварительную обработку, такую как удаление стоп-слов, приведение к нижнему регистру и токенизация — разбиение текстов на отдельные слова или токены."
   ]
  },
  {
   "cell_type": "code",
   "execution_count": 13,
   "id": "7cec2458-4184-4c46-b37b-3ad50c92f2fd",
   "metadata": {
    "execution": {
     "iopub.execute_input": "2025-05-18T15:10:15.448558Z",
     "iopub.status.busy": "2025-05-18T15:10:15.447664Z",
     "iopub.status.idle": "2025-05-18T15:10:15.630271Z",
     "shell.execute_reply": "2025-05-18T15:10:15.629475Z",
     "shell.execute_reply.started": "2025-05-18T15:10:15.448531Z"
    }
   },
   "outputs": [],
   "source": []
  },
  {
   "cell_type": "code",
   "execution_count": 23,
   "id": "7129463b-47ae-4bbe-b1d3-f433b983bd0a",
   "metadata": {
    "execution": {
     "iopub.execute_input": "2025-05-18T14:21:25.500634Z",
     "iopub.status.busy": "2025-05-18T14:21:25.499778Z",
     "iopub.status.idle": "2025-05-18T14:21:27.717060Z",
     "shell.execute_reply": "2025-05-18T14:21:27.716244Z",
     "shell.execute_reply.started": "2025-05-18T14:21:25.500605Z"
    },
    "tags": []
   },
   "outputs": [
    {
     "name": "stderr",
     "output_type": "stream",
     "text": [
      "[nltk_data] Downloading package stopwords to\n",
      "[nltk_data]     /home/jupyter/nltk_data...\n",
      "[nltk_data]   Package stopwords is already up-to-date!\n"
     ]
    }
   ],
   "source": [
    "\n",
    "\n",
    "nltk.download('stopwords')  ## это всякие предлоги/частицы и др мало информативные слова в контексте анализа. \n",
    "\n",
    "stop_words = set(stopwords.words('russian'))\n",
    "morph = MorphAnalyzer()\n",
    "\n",
    "def clean_tfidf(text):\n",
    "    text = text.lower()\n",
    "    text = re.sub(r'http\\S+|www\\S+|https\\S+', '', text)  # удаляем URL\n",
    "    text = re.sub(r'[^а-яa-z\\s]', ' ', text)             # оставляем только буквы и пробелы\n",
    "    tokens = text.split()\n",
    "    tokens = [t for t in tokens if t not in stop_words]  # удаляем стоп-слова\n",
    "    lemmas = [morph.parse(t)[0].normal_form for t in tokens]  # лемматизация , т.е. приводим к начальной форме, как в словаре\n",
    "    return ' '.join(lemmas)\n",
    "\n"
   ]
  },
  {
   "cell_type": "code",
   "execution_count": 24,
   "id": "f05533eb-b2af-4829-a4fc-bba0492e1988",
   "metadata": {
    "execution": {
     "iopub.execute_input": "2025-05-18T14:21:27.718974Z",
     "iopub.status.busy": "2025-05-18T14:21:27.718196Z",
     "iopub.status.idle": "2025-05-18T14:21:27.740358Z",
     "shell.execute_reply": "2025-05-18T14:21:27.739713Z",
     "shell.execute_reply.started": "2025-05-18T14:21:27.718938Z"
    },
    "tags": []
   },
   "outputs": [],
   "source": [
    "df = data_train"
   ]
  },
  {
   "cell_type": "code",
   "execution_count": 25,
   "id": "0aca287a-5543-4518-98c7-f8efcc6c5afa",
   "metadata": {
    "execution": {
     "iopub.execute_input": "2025-05-18T14:21:27.741640Z",
     "iopub.status.busy": "2025-05-18T14:21:27.741119Z",
     "iopub.status.idle": "2025-05-18T14:21:27.772096Z",
     "shell.execute_reply": "2025-05-18T14:21:27.771313Z",
     "shell.execute_reply.started": "2025-05-18T14:21:27.741615Z"
    },
    "tags": []
   },
   "outputs": [
    {
     "data": {
      "text/html": [
       "<div>\n",
       "<style scoped>\n",
       "    .dataframe tbody tr th:only-of-type {\n",
       "        vertical-align: middle;\n",
       "    }\n",
       "\n",
       "    .dataframe tbody tr th {\n",
       "        vertical-align: top;\n",
       "    }\n",
       "\n",
       "    .dataframe thead th {\n",
       "        text-align: right;\n",
       "    }\n",
       "</style>\n",
       "<table border=\"1\" class=\"dataframe\">\n",
       "  <thead>\n",
       "    <tr style=\"text-align: right;\">\n",
       "      <th></th>\n",
       "      <th>id</th>\n",
       "      <th>text</th>\n",
       "      <th>labels</th>\n",
       "    </tr>\n",
       "  </thead>\n",
       "  <tbody>\n",
       "    <tr>\n",
       "      <th>0</th>\n",
       "      <td>0</td>\n",
       "      <td>15 января\\nДетская развлекательная программа\\n...</td>\n",
       "      <td>1 0 0 0 1 0 0 0 1 0 0 0 1 1 1 1 1 0 0 1</td>\n",
       "    </tr>\n",
       "    <tr>\n",
       "      <th>1</th>\n",
       "      <td>1</td>\n",
       "      <td>13 и 14 августа\\nВыходные в Меге\\nhttps://t.me...</td>\n",
       "      <td>0 0 0 1 0 0 0 0 1 0 0 0 1 1 0 1 1 0 0 1</td>\n",
       "    </tr>\n",
       "    <tr>\n",
       "      <th>2</th>\n",
       "      <td>2</td>\n",
       "      <td>Йокнапатофа\\nПостановка Театр им. Маяковского\\...</td>\n",
       "      <td>0 0 0 0 1 0 0 0 0 0 0 0 1 1 0 1 1 0 0 1</td>\n",
       "    </tr>\n",
       "    <tr>\n",
       "      <th>3</th>\n",
       "      <td>3</td>\n",
       "      <td>Впервые в Уфе танцевальная терапия в группе с ...</td>\n",
       "      <td>1 1 0 0 1 0 0 1 1 1 1 1 1 1 1 0 0 1 1 0</td>\n",
       "    </tr>\n",
       "    <tr>\n",
       "      <th>4</th>\n",
       "      <td>4</td>\n",
       "      <td>🎹\\nGRAND PIANO COMPETITION\\n🎹\\nДрузья, сегодня...</td>\n",
       "      <td>1 1 0 0 0 0 0 1 1 0 0 1 1 1 1 0 1 1 1 0</td>\n",
       "    </tr>\n",
       "    <tr>\n",
       "      <th>...</th>\n",
       "      <td>...</td>\n",
       "      <td>...</td>\n",
       "      <td>...</td>\n",
       "    </tr>\n",
       "    <tr>\n",
       "      <th>29563</th>\n",
       "      <td>29563</td>\n",
       "      <td>Выступление Симфо-группы TEODOR\\n⠀\\n22 июля в ...</td>\n",
       "      <td>0 0 0 0 0 0 0 1 1 0 0 0 0 1 0 1 1 1 1 0</td>\n",
       "    </tr>\n",
       "    <tr>\n",
       "      <th>29564</th>\n",
       "      <td>29564</td>\n",
       "      <td>🔤\\nЮЗИКЛ \"МОНТЕ-КРИСТО\" ТЕАТР ОПЕРЕТТЫ\\nЭто оч...</td>\n",
       "      <td>1 1 1 0 0 0 0 1 0 1 1 1 0 1 1 0 1 1 1 0</td>\n",
       "    </tr>\n",
       "    <tr>\n",
       "      <th>29565</th>\n",
       "      <td>29565</td>\n",
       "      <td>РАСПИСАНИЕ БЕСПЛАТНЫХ ЭКСКУРСИЙ\\nв октябре 202...</td>\n",
       "      <td>1 1 0 0 1 0 0 1 1 1 1 1 1 1 1 1 1 1 1 0</td>\n",
       "    </tr>\n",
       "    <tr>\n",
       "      <th>29566</th>\n",
       "      <td>29566</td>\n",
       "      <td>Долгожданный концерт Надежды Кадышевой в Рязан...</td>\n",
       "      <td>1 0 1 0 0 0 0 1 0 1 1 1 0 1 1 0 0 1 1 0</td>\n",
       "    </tr>\n",
       "    <tr>\n",
       "      <th>29567</th>\n",
       "      <td>29567</td>\n",
       "      <td>Спектакль-победитель фестиваля «Амурская осень...</td>\n",
       "      <td>0 1 0 0 1 0 0 1 1 1 0 0 1 0 1 0 1 1 1 0</td>\n",
       "    </tr>\n",
       "  </tbody>\n",
       "</table>\n",
       "<p>29568 rows × 3 columns</p>\n",
       "</div>"
      ],
      "text/plain": [
       "          id  ...                                   labels\n",
       "0          0  ...  1 0 0 0 1 0 0 0 1 0 0 0 1 1 1 1 1 0 0 1\n",
       "1          1  ...  0 0 0 1 0 0 0 0 1 0 0 0 1 1 0 1 1 0 0 1\n",
       "2          2  ...  0 0 0 0 1 0 0 0 0 0 0 0 1 1 0 1 1 0 0 1\n",
       "3          3  ...  1 1 0 0 1 0 0 1 1 1 1 1 1 1 1 0 0 1 1 0\n",
       "4          4  ...  1 1 0 0 0 0 0 1 1 0 0 1 1 1 1 0 1 1 1 0\n",
       "...      ...  ...                                      ...\n",
       "29563  29563  ...  0 0 0 0 0 0 0 1 1 0 0 0 0 1 0 1 1 1 1 0\n",
       "29564  29564  ...  1 1 1 0 0 0 0 1 0 1 1 1 0 1 1 0 1 1 1 0\n",
       "29565  29565  ...  1 1 0 0 1 0 0 1 1 1 1 1 1 1 1 1 1 1 1 0\n",
       "29566  29566  ...  1 0 1 0 0 0 0 1 0 1 1 1 0 1 1 0 0 1 1 0\n",
       "29567  29567  ...  0 1 0 0 1 0 0 1 1 1 0 0 1 0 1 0 1 1 1 0\n",
       "\n",
       "[29568 rows x 3 columns]"
      ]
     },
     "execution_count": 25,
     "metadata": {},
     "output_type": "execute_result"
    }
   ],
   "source": [
    "df"
   ]
  },
  {
   "cell_type": "code",
   "execution_count": 26,
   "id": "724c1a48-696a-4d19-b932-2fbbc5f9504e",
   "metadata": {
    "execution": {
     "iopub.execute_input": "2025-05-18T14:21:27.774365Z",
     "iopub.status.busy": "2025-05-18T14:21:27.773703Z",
     "iopub.status.idle": "2025-05-18T14:25:44.495351Z",
     "shell.execute_reply": "2025-05-18T14:25:44.494608Z",
     "shell.execute_reply.started": "2025-05-18T14:21:27.774326Z"
    },
    "tags": []
   },
   "outputs": [],
   "source": [
    "df['tfidf_clean'] = df['text'].apply(clean_tfidf)\n"
   ]
  },
  {
   "cell_type": "code",
   "execution_count": 27,
   "id": "d5c0ed9d-4445-45b3-afa4-437222cf4e7a",
   "metadata": {
    "execution": {
     "iopub.execute_input": "2025-05-18T14:25:44.496530Z",
     "iopub.status.busy": "2025-05-18T14:25:44.496130Z",
     "iopub.status.idle": "2025-05-18T14:25:44.552027Z",
     "shell.execute_reply": "2025-05-18T14:25:44.551301Z",
     "shell.execute_reply.started": "2025-05-18T14:25:44.496507Z"
    },
    "tags": []
   },
   "outputs": [
    {
     "data": {
      "text/html": [
       "<div>\n",
       "<style scoped>\n",
       "    .dataframe tbody tr th:only-of-type {\n",
       "        vertical-align: middle;\n",
       "    }\n",
       "\n",
       "    .dataframe tbody tr th {\n",
       "        vertical-align: top;\n",
       "    }\n",
       "\n",
       "    .dataframe thead th {\n",
       "        text-align: right;\n",
       "    }\n",
       "</style>\n",
       "<table border=\"1\" class=\"dataframe\">\n",
       "  <thead>\n",
       "    <tr style=\"text-align: right;\">\n",
       "      <th></th>\n",
       "      <th>id</th>\n",
       "      <th>text</th>\n",
       "      <th>labels</th>\n",
       "      <th>tfidf_clean</th>\n",
       "    </tr>\n",
       "  </thead>\n",
       "  <tbody>\n",
       "    <tr>\n",
       "      <th>0</th>\n",
       "      <td>0</td>\n",
       "      <td>15 января\\nДетская развлекательная программа\\n...</td>\n",
       "      <td>1 0 0 0 1 0 0 0 1 0 0 0 1 1 1 1 1 0 0 1</td>\n",
       "      <td>январь детский развлекательный программа беспл...</td>\n",
       "    </tr>\n",
       "    <tr>\n",
       "      <th>1</th>\n",
       "      <td>1</td>\n",
       "      <td>13 и 14 августа\\nВыходные в Меге\\nhttps://t.me...</td>\n",
       "      <td>0 0 0 1 0 0 0 0 1 0 0 0 1 1 0 1 1 0 0 1</td>\n",
       "      <td>август выходной мег мегапарк</td>\n",
       "    </tr>\n",
       "    <tr>\n",
       "      <th>2</th>\n",
       "      <td>2</td>\n",
       "      <td>Йокнапатофа\\nПостановка Театр им. Маяковского\\...</td>\n",
       "      <td>0 0 0 0 1 0 0 0 0 0 0 0 1 1 0 1 1 0 0 1</td>\n",
       "      <td>йокнапатоф постановка театр маяковский билет р</td>\n",
       "    </tr>\n",
       "    <tr>\n",
       "      <th>3</th>\n",
       "      <td>3</td>\n",
       "      <td>Впервые в Уфе танцевальная терапия в группе с ...</td>\n",
       "      <td>1 1 0 0 1 0 0 1 1 1 1 1 1 1 1 0 0 1 1 0</td>\n",
       "      <td>впервые уфа танцевальный терапия группа практи...</td>\n",
       "    </tr>\n",
       "    <tr>\n",
       "      <th>4</th>\n",
       "      <td>4</td>\n",
       "      <td>🎹\\nGRAND PIANO COMPETITION\\n🎹\\nДрузья, сегодня...</td>\n",
       "      <td>1 1 0 0 0 0 0 1 1 0 0 1 1 1 1 0 1 1 1 0</td>\n",
       "      <td>grand piano competition друг сегодня открытие ...</td>\n",
       "    </tr>\n",
       "    <tr>\n",
       "      <th>...</th>\n",
       "      <td>...</td>\n",
       "      <td>...</td>\n",
       "      <td>...</td>\n",
       "      <td>...</td>\n",
       "    </tr>\n",
       "    <tr>\n",
       "      <th>29563</th>\n",
       "      <td>29563</td>\n",
       "      <td>Выступление Симфо-группы TEODOR\\n⠀\\n22 июля в ...</td>\n",
       "      <td>0 0 0 0 0 0 0 1 1 0 0 0 0 1 0 1 1 1 1 0</td>\n",
       "      <td>выступление симфо группа teodor июль парка мег...</td>\n",
       "    </tr>\n",
       "    <tr>\n",
       "      <th>29564</th>\n",
       "      <td>29564</td>\n",
       "      <td>🔤\\nЮЗИКЛ \"МОНТЕ-КРИСТО\" ТЕАТР ОПЕРЕТТЫ\\nЭто оч...</td>\n",
       "      <td>1 1 1 0 0 0 0 1 0 1 1 1 0 1 1 0 1 1 1 0</td>\n",
       "      <td>юзикл монт кристо театр оперетта это очень ярк...</td>\n",
       "    </tr>\n",
       "    <tr>\n",
       "      <th>29565</th>\n",
       "      <td>29565</td>\n",
       "      <td>РАСПИСАНИЕ БЕСПЛАТНЫХ ЭКСКУРСИЙ\\nв октябре 202...</td>\n",
       "      <td>1 1 0 0 1 0 0 1 1 1 1 1 1 1 1 1 1 1 1 0</td>\n",
       "      <td>расписание бесплатный экскурсия октябрь год г ...</td>\n",
       "    </tr>\n",
       "    <tr>\n",
       "      <th>29566</th>\n",
       "      <td>29566</td>\n",
       "      <td>Долгожданный концерт Надежды Кадышевой в Рязан...</td>\n",
       "      <td>1 0 1 0 0 0 0 1 0 1 1 1 0 1 1 0 0 1 1 0</td>\n",
       "      <td>долгожданный концерт надежда кадышева рязань с...</td>\n",
       "    </tr>\n",
       "    <tr>\n",
       "      <th>29567</th>\n",
       "      <td>29567</td>\n",
       "      <td>Спектакль-победитель фестиваля «Амурская осень...</td>\n",
       "      <td>0 1 0 0 1 0 0 1 1 1 0 0 1 0 1 0 1 1 1 0</td>\n",
       "      <td>спектакль победитель фестиваль амурский осень ...</td>\n",
       "    </tr>\n",
       "  </tbody>\n",
       "</table>\n",
       "<p>29568 rows × 4 columns</p>\n",
       "</div>"
      ],
      "text/plain": [
       "          id  ...                                        tfidf_clean\n",
       "0          0  ...  январь детский развлекательный программа беспл...\n",
       "1          1  ...                       август выходной мег мегапарк\n",
       "2          2  ...     йокнапатоф постановка театр маяковский билет р\n",
       "3          3  ...  впервые уфа танцевальный терапия группа практи...\n",
       "4          4  ...  grand piano competition друг сегодня открытие ...\n",
       "...      ...  ...                                                ...\n",
       "29563  29563  ...  выступление симфо группа teodor июль парка мег...\n",
       "29564  29564  ...  юзикл монт кристо театр оперетта это очень ярк...\n",
       "29565  29565  ...  расписание бесплатный экскурсия октябрь год г ...\n",
       "29566  29566  ...  долгожданный концерт надежда кадышева рязань с...\n",
       "29567  29567  ...  спектакль победитель фестиваль амурский осень ...\n",
       "\n",
       "[29568 rows x 4 columns]"
      ]
     },
     "execution_count": 27,
     "metadata": {},
     "output_type": "execute_result"
    }
   ],
   "source": [
    "df"
   ]
  },
  {
   "cell_type": "markdown",
   "id": "c9df9b8f-8703-4d2f-9fae-addfe380da77",
   "metadata": {},
   "source": [
    "## (2) w2v + любая нейронная сеть"
   ]
  },
  {
   "cell_type": "markdown",
   "id": "7858e29c-c8c4-448e-af61-a5acf769f437",
   "metadata": {},
   "source": [
    "https://habr.com/ru/companies/otus/articles/574624/"
   ]
  },
  {
   "cell_type": "markdown",
   "id": "9e60fb15-0197-424f-a89b-414f1463afc3",
   "metadata": {},
   "source": [
    "Word2Vec — это малослойная (shallow) искусственная нейронная сеть (ANN), состоящая из двух слоев, которая обрабатывает текст, преобразуя его в числовые “векторизованные” слова. Входные данные w2v — это громадный текстовый корпус, из которого на выходе мы получаем пространство векторов (линейное пространство), размерность которого обычно достигает сотен, где каждое уникальное слово в корпусе представлено вектором из сгенерированного пространства. Она используется для преобразования лингвистического контекста в числа. Векторы слов расположены в пространстве векторов таким образом, что слова с общим контекстом, располагаются в этом многомерном пространстве в непосредственной близости друг от друга. Проще говоря, слова, близкие по значению, будут помещены рядом. Эта модель фиксирует синтаксическое и семантическое сходство между словами."
   ]
  },
  {
   "cell_type": "markdown",
   "id": "2d7f7b39-379c-4530-b23a-4dc61372b117",
   "metadata": {},
   "source": [
    "Word2Vec — контекстные эмбеддинги слов, обученные на большом корпусе.\n",
    "\n",
    "Модель чувствительна к точности слов, но меньше к пунктуации (т.к. она просто игнорируется).\n",
    "\n",
    "Лучше сохранять морфологию, чтобы слова были в форме, максимально приближенной к словарю w2v.\n",
    "\n",
    "Лемматизация или стемминг — желательны.\n",
    "\n",
    "Удалять стоп-слова не обязательно, но иногда полезно."
   ]
  },
  {
   "cell_type": "code",
   "execution_count": 28,
   "id": "85082cf6-9182-4f27-8722-df628d494ef5",
   "metadata": {
    "execution": {
     "iopub.execute_input": "2025-05-18T14:25:44.554400Z",
     "iopub.status.busy": "2025-05-18T14:25:44.553480Z",
     "iopub.status.idle": "2025-05-18T14:25:44.576959Z",
     "shell.execute_reply": "2025-05-18T14:25:44.576280Z",
     "shell.execute_reply.started": "2025-05-18T14:25:44.554365Z"
    },
    "tags": []
   },
   "outputs": [],
   "source": [
    "def clean_w2v(text):\n",
    "    text = text.lower()\n",
    "    text = re.sub(r'http\\S+|www\\S+|https\\S+', '', text)\n",
    "    text = re.sub(r'[^а-яa-z\\s]', ' ', text)\n",
    "    tokens = text.split()\n",
    "    lemmas = [morph.parse(t)[0].normal_form for t in tokens]  # лемматизация для нормализации слов\n",
    "    return lemmas  # возвращаем список токенов для встраивания w2v\n",
    "\n"
   ]
  },
  {
   "cell_type": "code",
   "execution_count": 29,
   "id": "a19ffd88-0562-4d40-839a-7d49ec1fc607",
   "metadata": {
    "execution": {
     "iopub.execute_input": "2025-05-18T14:25:44.578772Z",
     "iopub.status.busy": "2025-05-18T14:25:44.577847Z",
     "iopub.status.idle": "2025-05-18T14:25:44.603390Z",
     "shell.execute_reply": "2025-05-18T14:25:44.602653Z",
     "shell.execute_reply.started": "2025-05-18T14:25:44.578734Z"
    },
    "tags": []
   },
   "outputs": [],
   "source": [
    "df_2 = data_train"
   ]
  },
  {
   "cell_type": "code",
   "execution_count": 30,
   "id": "0af7318d-5d76-4e07-8943-d4fdaec099c3",
   "metadata": {
    "execution": {
     "iopub.execute_input": "2025-05-18T14:25:44.605187Z",
     "iopub.status.busy": "2025-05-18T14:25:44.604500Z",
     "iopub.status.idle": "2025-05-18T14:33:17.684272Z",
     "shell.execute_reply": "2025-05-18T14:33:17.683460Z",
     "shell.execute_reply.started": "2025-05-18T14:25:44.605146Z"
    },
    "tags": []
   },
   "outputs": [],
   "source": [
    "df_2['w2v_clean'] = df_2['text'].apply(clean_w2v)"
   ]
  },
  {
   "cell_type": "code",
   "execution_count": 31,
   "id": "8bc3dc69-39f6-4c2e-888a-4a9605e63332",
   "metadata": {
    "execution": {
     "iopub.execute_input": "2025-05-18T14:33:17.686230Z",
     "iopub.status.busy": "2025-05-18T14:33:17.685176Z",
     "iopub.status.idle": "2025-05-18T14:33:17.727549Z",
     "shell.execute_reply": "2025-05-18T14:33:17.726797Z",
     "shell.execute_reply.started": "2025-05-18T14:33:17.686188Z"
    },
    "tags": []
   },
   "outputs": [
    {
     "data": {
      "text/html": [
       "<div>\n",
       "<style scoped>\n",
       "    .dataframe tbody tr th:only-of-type {\n",
       "        vertical-align: middle;\n",
       "    }\n",
       "\n",
       "    .dataframe tbody tr th {\n",
       "        vertical-align: top;\n",
       "    }\n",
       "\n",
       "    .dataframe thead th {\n",
       "        text-align: right;\n",
       "    }\n",
       "</style>\n",
       "<table border=\"1\" class=\"dataframe\">\n",
       "  <thead>\n",
       "    <tr style=\"text-align: right;\">\n",
       "      <th></th>\n",
       "      <th>id</th>\n",
       "      <th>text</th>\n",
       "      <th>labels</th>\n",
       "      <th>tfidf_clean</th>\n",
       "      <th>w2v_clean</th>\n",
       "    </tr>\n",
       "  </thead>\n",
       "  <tbody>\n",
       "    <tr>\n",
       "      <th>0</th>\n",
       "      <td>0</td>\n",
       "      <td>15 января\\nДетская развлекательная программа\\n...</td>\n",
       "      <td>1 0 0 0 1 0 0 0 1 0 0 0 1 1 1 1 1 0 0 1</td>\n",
       "      <td>январь детский развлекательный программа беспл...</td>\n",
       "      <td>[январь, детский, развлекательный, программа, ...</td>\n",
       "    </tr>\n",
       "    <tr>\n",
       "      <th>1</th>\n",
       "      <td>1</td>\n",
       "      <td>13 и 14 августа\\nВыходные в Меге\\nhttps://t.me...</td>\n",
       "      <td>0 0 0 1 0 0 0 0 1 0 0 0 1 1 0 1 1 0 0 1</td>\n",
       "      <td>август выходной мег мегапарк</td>\n",
       "      <td>[и, август, выходной, в, мег, мегапарк]</td>\n",
       "    </tr>\n",
       "    <tr>\n",
       "      <th>2</th>\n",
       "      <td>2</td>\n",
       "      <td>Йокнапатофа\\nПостановка Театр им. Маяковского\\...</td>\n",
       "      <td>0 0 0 0 1 0 0 0 0 0 0 0 1 1 0 1 1 0 0 1</td>\n",
       "      <td>йокнапатоф постановка театр маяковский билет р</td>\n",
       "      <td>[йокнапатоф, постановка, театр, они, маяковски...</td>\n",
       "    </tr>\n",
       "    <tr>\n",
       "      <th>3</th>\n",
       "      <td>3</td>\n",
       "      <td>Впервые в Уфе танцевальная терапия в группе с ...</td>\n",
       "      <td>1 1 0 0 1 0 0 1 1 1 1 1 1 1 1 0 0 1 1 0</td>\n",
       "      <td>впервые уфа танцевальный терапия группа практи...</td>\n",
       "      <td>[впервые, в, уфа, танцевальный, терапия, в, гр...</td>\n",
       "    </tr>\n",
       "    <tr>\n",
       "      <th>4</th>\n",
       "      <td>4</td>\n",
       "      <td>🎹\\nGRAND PIANO COMPETITION\\n🎹\\nДрузья, сегодня...</td>\n",
       "      <td>1 1 0 0 0 0 0 1 1 0 0 1 1 1 1 0 1 1 1 0</td>\n",
       "      <td>grand piano competition друг сегодня открытие ...</td>\n",
       "      <td>[grand, piano, competition, друг, сегодня, отк...</td>\n",
       "    </tr>\n",
       "    <tr>\n",
       "      <th>...</th>\n",
       "      <td>...</td>\n",
       "      <td>...</td>\n",
       "      <td>...</td>\n",
       "      <td>...</td>\n",
       "      <td>...</td>\n",
       "    </tr>\n",
       "    <tr>\n",
       "      <th>29563</th>\n",
       "      <td>29563</td>\n",
       "      <td>Выступление Симфо-группы TEODOR\\n⠀\\n22 июля в ...</td>\n",
       "      <td>0 0 0 0 0 0 0 1 1 0 0 0 0 1 0 1 1 1 1 0</td>\n",
       "      <td>выступление симфо группа teodor июль парка мег...</td>\n",
       "      <td>[выступление, симфо, группа, teodor, июль, в, ...</td>\n",
       "    </tr>\n",
       "    <tr>\n",
       "      <th>29564</th>\n",
       "      <td>29564</td>\n",
       "      <td>🔤\\nЮЗИКЛ \"МОНТЕ-КРИСТО\" ТЕАТР ОПЕРЕТТЫ\\nЭто оч...</td>\n",
       "      <td>1 1 1 0 0 0 0 1 0 1 1 1 0 1 1 0 1 1 1 0</td>\n",
       "      <td>юзикл монт кристо театр оперетта это очень ярк...</td>\n",
       "      <td>[юзикл, монт, кристо, театр, оперетта, это, оч...</td>\n",
       "    </tr>\n",
       "    <tr>\n",
       "      <th>29565</th>\n",
       "      <td>29565</td>\n",
       "      <td>РАСПИСАНИЕ БЕСПЛАТНЫХ ЭКСКУРСИЙ\\nв октябре 202...</td>\n",
       "      <td>1 1 0 0 1 0 0 1 1 1 1 1 1 1 1 1 1 1 1 0</td>\n",
       "      <td>расписание бесплатный экскурсия октябрь год г ...</td>\n",
       "      <td>[расписание, бесплатный, экскурсия, в, октябрь...</td>\n",
       "    </tr>\n",
       "    <tr>\n",
       "      <th>29566</th>\n",
       "      <td>29566</td>\n",
       "      <td>Долгожданный концерт Надежды Кадышевой в Рязан...</td>\n",
       "      <td>1 0 1 0 0 0 0 1 0 1 1 1 0 1 1 0 0 1 1 0</td>\n",
       "      <td>долгожданный концерт надежда кадышева рязань с...</td>\n",
       "      <td>[долгожданный, концерт, надежда, кадышева, в, ...</td>\n",
       "    </tr>\n",
       "    <tr>\n",
       "      <th>29567</th>\n",
       "      <td>29567</td>\n",
       "      <td>Спектакль-победитель фестиваля «Амурская осень...</td>\n",
       "      <td>0 1 0 0 1 0 0 1 1 1 0 0 1 0 1 0 1 1 1 0</td>\n",
       "      <td>спектакль победитель фестиваль амурский осень ...</td>\n",
       "      <td>[спектакль, победитель, фестиваль, амурский, о...</td>\n",
       "    </tr>\n",
       "  </tbody>\n",
       "</table>\n",
       "<p>29568 rows × 5 columns</p>\n",
       "</div>"
      ],
      "text/plain": [
       "          id  ...                                          w2v_clean\n",
       "0          0  ...  [январь, детский, развлекательный, программа, ...\n",
       "1          1  ...            [и, август, выходной, в, мег, мегапарк]\n",
       "2          2  ...  [йокнапатоф, постановка, театр, они, маяковски...\n",
       "3          3  ...  [впервые, в, уфа, танцевальный, терапия, в, гр...\n",
       "4          4  ...  [grand, piano, competition, друг, сегодня, отк...\n",
       "...      ...  ...                                                ...\n",
       "29563  29563  ...  [выступление, симфо, группа, teodor, июль, в, ...\n",
       "29564  29564  ...  [юзикл, монт, кристо, театр, оперетта, это, оч...\n",
       "29565  29565  ...  [расписание, бесплатный, экскурсия, в, октябрь...\n",
       "29566  29566  ...  [долгожданный, концерт, надежда, кадышева, в, ...\n",
       "29567  29567  ...  [спектакль, победитель, фестиваль, амурский, о...\n",
       "\n",
       "[29568 rows x 5 columns]"
      ]
     },
     "execution_count": 31,
     "metadata": {},
     "output_type": "execute_result"
    }
   ],
   "source": [
    "df_2"
   ]
  },
  {
   "cell_type": "markdown",
   "id": "8a3773d4-c990-4145-a482-2f85950b91e9",
   "metadata": {},
   "source": [
    "## (3) Встроенный эмбеддинг + CNN (свёрточные нейросети)\n"
   ]
  },
  {
   "cell_type": "markdown",
   "id": "e70e2051-afe2-4716-99f1-d848d90a7fa7",
   "metadata": {},
   "source": [
    "3.1 Встроенный эмбеддинг (embedding layer)\n",
    "Это слой нейросети, который превращает каждое слово из текста в числовой вектор фиксированной размерности. Например, слово \"кошка\" превращается в вектор из, скажем, 100 чисел, которые кодируют смысл этого слова в пространстве признаков. "
   ]
  },
  {
   "cell_type": "markdown",
   "id": "6076d697-2f98-466c-b8b2-c9d91e807683",
   "metadata": {},
   "source": [
    "3.2 CNN — это класс нейросетей, которые обычно используют для обработки изображений. Но их также можно применять к текстам. В NLP свёртки помогают выявлять локальные паттерны — например, сочетания слов или характерные фразы."
   ]
  },
  {
   "cell_type": "markdown",
   "id": "d8291016-9d66-47d6-adc8-c68de51834d1",
   "metadata": {},
   "source": [
    "вот это за секунду отработало "
   ]
  },
  {
   "cell_type": "markdown",
   "id": "28762a25-42e9-4c13-a1f3-683ec9cdd2ad",
   "metadata": {},
   "source": [
    "Приведение к нижнему регистру\n",
    "\n",
    "Удаление URL и спецсимволов (оставить знаки препинания, если модель обучается с ними)\n",
    "\n",
    "Токенизация на слова или subword (в зависимости от реализации)\n",
    "\n",
    "Можно не лемматизировать"
   ]
  },
  {
   "cell_type": "code",
   "execution_count": 29,
   "id": "11a7e487-65f9-4559-881e-e9f99cf3edda",
   "metadata": {
    "execution": {
     "iopub.execute_input": "2025-05-18T21:15:52.344471Z",
     "iopub.status.busy": "2025-05-18T21:15:52.343635Z",
     "iopub.status.idle": "2025-05-18T21:15:52.374480Z",
     "shell.execute_reply": "2025-05-18T21:15:52.373848Z",
     "shell.execute_reply.started": "2025-05-18T21:15:52.344444Z"
    },
    "tags": []
   },
   "outputs": [],
   "source": [
    "def clean_cnn(text):\n",
    "    text = text.lower()\n",
    "    text = re.sub(r'http\\S+|www\\S+|https\\S+', '', text)      # удаляем URL\n",
    "    # Оставляем буквы, цифры, пробелы и основные знаки препинания\n",
    "    text = re.sub(r'[^\\w\\s.,!?-]', '', text)\n",
    "    tokens = text.split()\n",
    "    return tokens  # возвращаем список токенов для подачи в модель\n"
   ]
  },
  {
   "cell_type": "code",
   "execution_count": 30,
   "id": "6076fe2c-a087-47ce-bf15-dce3b493f037",
   "metadata": {
    "execution": {
     "iopub.execute_input": "2025-05-18T21:15:52.578429Z",
     "iopub.status.busy": "2025-05-18T21:15:52.577715Z",
     "iopub.status.idle": "2025-05-18T21:15:52.661386Z",
     "shell.execute_reply": "2025-05-18T21:15:52.660754Z",
     "shell.execute_reply.started": "2025-05-18T21:15:52.578406Z"
    },
    "tags": []
   },
   "outputs": [],
   "source": [
    "df_3 = data_train"
   ]
  },
  {
   "cell_type": "code",
   "execution_count": 31,
   "id": "df7de8a6-6a0f-416f-b175-1f350677509c",
   "metadata": {
    "execution": {
     "iopub.execute_input": "2025-05-18T21:15:52.825176Z",
     "iopub.status.busy": "2025-05-18T21:15:52.824389Z",
     "iopub.status.idle": "2025-05-18T21:15:53.700811Z",
     "shell.execute_reply": "2025-05-18T21:15:53.700140Z",
     "shell.execute_reply.started": "2025-05-18T21:15:52.825144Z"
    },
    "tags": []
   },
   "outputs": [],
   "source": [
    "df_3['cnn_clean'] = df_3['text'].apply(clean_cnn)"
   ]
  },
  {
   "cell_type": "code",
   "execution_count": 32,
   "id": "c16c2838-df44-496b-8334-2e0a29d82b86",
   "metadata": {
    "execution": {
     "iopub.execute_input": "2025-05-18T21:15:53.702609Z",
     "iopub.status.busy": "2025-05-18T21:15:53.702020Z",
     "iopub.status.idle": "2025-05-18T21:15:53.736723Z",
     "shell.execute_reply": "2025-05-18T21:15:53.736147Z",
     "shell.execute_reply.started": "2025-05-18T21:15:53.702578Z"
    },
    "tags": []
   },
   "outputs": [
    {
     "data": {
      "text/html": [
       "<div>\n",
       "<style scoped>\n",
       "    .dataframe tbody tr th:only-of-type {\n",
       "        vertical-align: middle;\n",
       "    }\n",
       "\n",
       "    .dataframe tbody tr th {\n",
       "        vertical-align: top;\n",
       "    }\n",
       "\n",
       "    .dataframe thead th {\n",
       "        text-align: right;\n",
       "    }\n",
       "</style>\n",
       "<table border=\"1\" class=\"dataframe\">\n",
       "  <thead>\n",
       "    <tr style=\"text-align: right;\">\n",
       "      <th></th>\n",
       "      <th>id</th>\n",
       "      <th>text</th>\n",
       "      <th>labels</th>\n",
       "      <th>label_vector</th>\n",
       "      <th>cnn_clean</th>\n",
       "    </tr>\n",
       "  </thead>\n",
       "  <tbody>\n",
       "    <tr>\n",
       "      <th>0</th>\n",
       "      <td>0</td>\n",
       "      <td>15 января\\nДетская развлекательная программа\\n...</td>\n",
       "      <td>1 0 0 0 1 0 0 0 1 0 0 0 1 1 1 1 1 0 0 1</td>\n",
       "      <td>[1, 0, 0, 0, 1, 0, 0, 0, 1, 0, 0, 0, 1, 1, 1, ...</td>\n",
       "      <td>[15, января, детская, развлекательная, програм...</td>\n",
       "    </tr>\n",
       "    <tr>\n",
       "      <th>1</th>\n",
       "      <td>1</td>\n",
       "      <td>13 и 14 августа\\nВыходные в Меге\\nhttps://t.me...</td>\n",
       "      <td>0 0 0 1 0 0 0 0 1 0 0 0 1 1 0 1 1 0 0 1</td>\n",
       "      <td>[0, 0, 0, 1, 0, 0, 0, 0, 1, 0, 0, 0, 1, 1, 0, ...</td>\n",
       "      <td>[13, и, 14, августа, выходные, в, меге, мегапарк]</td>\n",
       "    </tr>\n",
       "    <tr>\n",
       "      <th>2</th>\n",
       "      <td>2</td>\n",
       "      <td>Йокнапатофа\\nПостановка Театр им. Маяковского\\...</td>\n",
       "      <td>0 0 0 0 1 0 0 0 0 0 0 0 1 1 0 1 1 0 0 1</td>\n",
       "      <td>[0, 0, 0, 0, 1, 0, 0, 0, 0, 0, 0, 0, 1, 1, 0, ...</td>\n",
       "      <td>[йокнапатофа, постановка, театр, им., маяковск...</td>\n",
       "    </tr>\n",
       "    <tr>\n",
       "      <th>3</th>\n",
       "      <td>3</td>\n",
       "      <td>Впервые в Уфе танцевальная терапия в группе с ...</td>\n",
       "      <td>1 1 0 0 1 0 0 1 1 1 1 1 1 1 1 0 0 1 1 0</td>\n",
       "      <td>[1, 1, 0, 0, 1, 0, 0, 1, 1, 1, 1, 1, 1, 1, 1, ...</td>\n",
       "      <td>[впервые, в, уфе, танцевальная, терапия, в, гр...</td>\n",
       "    </tr>\n",
       "    <tr>\n",
       "      <th>4</th>\n",
       "      <td>4</td>\n",
       "      <td>🎹\\nGRAND PIANO COMPETITION\\n🎹\\nДрузья, сегодня...</td>\n",
       "      <td>1 1 0 0 0 0 0 1 1 0 0 1 1 1 1 0 1 1 1 0</td>\n",
       "      <td>[1, 1, 0, 0, 0, 0, 0, 1, 1, 0, 0, 1, 1, 1, 1, ...</td>\n",
       "      <td>[grand, piano, competition, друзья,, сегодня, ...</td>\n",
       "    </tr>\n",
       "    <tr>\n",
       "      <th>...</th>\n",
       "      <td>...</td>\n",
       "      <td>...</td>\n",
       "      <td>...</td>\n",
       "      <td>...</td>\n",
       "      <td>...</td>\n",
       "    </tr>\n",
       "    <tr>\n",
       "      <th>29563</th>\n",
       "      <td>29563</td>\n",
       "      <td>Выступление Симфо-группы TEODOR\\n⠀\\n22 июля в ...</td>\n",
       "      <td>0 0 0 0 0 0 0 1 1 0 0 0 0 1 0 1 1 1 1 0</td>\n",
       "      <td>[0, 0, 0, 0, 0, 0, 0, 1, 1, 0, 0, 0, 0, 1, 0, ...</td>\n",
       "      <td>[выступление, симфо-группы, teodor, 22, июля, ...</td>\n",
       "    </tr>\n",
       "    <tr>\n",
       "      <th>29564</th>\n",
       "      <td>29564</td>\n",
       "      <td>🔤\\nЮЗИКЛ \"МОНТЕ-КРИСТО\" ТЕАТР ОПЕРЕТТЫ\\nЭто оч...</td>\n",
       "      <td>1 1 1 0 0 0 0 1 0 1 1 1 0 1 1 0 1 1 1 0</td>\n",
       "      <td>[1, 1, 1, 0, 0, 0, 0, 1, 0, 1, 1, 1, 0, 1, 1, ...</td>\n",
       "      <td>[юзикл, монте-кристо, театр, оперетты, это, оч...</td>\n",
       "    </tr>\n",
       "    <tr>\n",
       "      <th>29565</th>\n",
       "      <td>29565</td>\n",
       "      <td>РАСПИСАНИЕ БЕСПЛАТНЫХ ЭКСКУРСИЙ\\nв октябре 202...</td>\n",
       "      <td>1 1 0 0 1 0 0 1 1 1 1 1 1 1 1 1 1 1 1 0</td>\n",
       "      <td>[1, 1, 0, 0, 1, 0, 0, 1, 1, 1, 1, 1, 1, 1, 1, ...</td>\n",
       "      <td>[расписание, бесплатных, экскурсий, в, октябре...</td>\n",
       "    </tr>\n",
       "    <tr>\n",
       "      <th>29566</th>\n",
       "      <td>29566</td>\n",
       "      <td>Долгожданный концерт Надежды Кадышевой в Рязан...</td>\n",
       "      <td>1 0 1 0 0 0 0 1 0 1 1 1 0 1 1 0 0 1 1 0</td>\n",
       "      <td>[1, 0, 1, 0, 0, 0, 0, 1, 0, 1, 1, 1, 0, 1, 1, ...</td>\n",
       "      <td>[долгожданный, концерт, надежды, кадышевой, в,...</td>\n",
       "    </tr>\n",
       "    <tr>\n",
       "      <th>29567</th>\n",
       "      <td>29567</td>\n",
       "      <td>Спектакль-победитель фестиваля «Амурская осень...</td>\n",
       "      <td>0 1 0 0 1 0 0 1 1 1 0 0 1 0 1 0 1 1 1 0</td>\n",
       "      <td>[0, 1, 0, 0, 1, 0, 0, 1, 1, 1, 0, 0, 1, 0, 1, ...</td>\n",
       "      <td>[спектакль-победитель, фестиваля, амурская, ос...</td>\n",
       "    </tr>\n",
       "  </tbody>\n",
       "</table>\n",
       "<p>29568 rows × 5 columns</p>\n",
       "</div>"
      ],
      "text/plain": [
       "          id  ...                                          cnn_clean\n",
       "0          0  ...  [15, января, детская, развлекательная, програм...\n",
       "1          1  ...  [13, и, 14, августа, выходные, в, меге, мегапарк]\n",
       "2          2  ...  [йокнапатофа, постановка, театр, им., маяковск...\n",
       "3          3  ...  [впервые, в, уфе, танцевальная, терапия, в, гр...\n",
       "4          4  ...  [grand, piano, competition, друзья,, сегодня, ...\n",
       "...      ...  ...                                                ...\n",
       "29563  29563  ...  [выступление, симфо-группы, teodor, 22, июля, ...\n",
       "29564  29564  ...  [юзикл, монте-кристо, театр, оперетты, это, оч...\n",
       "29565  29565  ...  [расписание, бесплатных, экскурсий, в, октябре...\n",
       "29566  29566  ...  [долгожданный, концерт, надежды, кадышевой, в,...\n",
       "29567  29567  ...  [спектакль-победитель, фестиваля, амурская, ос...\n",
       "\n",
       "[29568 rows x 5 columns]"
      ]
     },
     "execution_count": 32,
     "metadata": {},
     "output_type": "execute_result"
    }
   ],
   "source": [
    "df_3"
   ]
  },
  {
   "cell_type": "markdown",
   "id": "cc70c70f-2b97-45dc-8b46-27c2871a1560",
   "metadata": {},
   "source": [
    "### (4) Встроенный эмбеддинг + RNN (рекуррентные нейросети)"
   ]
  },
  {
   "cell_type": "markdown",
   "id": "bf4fbbbf-1560-48da-9c0e-a1179cee685c",
   "metadata": {},
   "source": [
    "### RNN лучше работают с последовательностями, так что важно последовательное представление.\n",
    "\n",
    "((рекуррентные нейронные сети, специально разработанные для работы с последовательными данными, такими как:\n",
    "\n",
    "текст (слова идут друг за другом),\n",
    "\n",
    "аудио (звук со временем),\n",
    "\n",
    "временные ряды (данные по времени — например, температура по дням). ))\n",
    "\n",
    "### Лемматизация/стемминг может помочь, но не обязательны.\n",
    "\n",
    "### Очистка аналогична."
   ]
  },
  {
   "cell_type": "code",
   "execution_count": 33,
   "id": "9a1e0455-fcae-4634-8f6f-736f002e1a60",
   "metadata": {
    "execution": {
     "iopub.execute_input": "2025-05-18T21:15:53.738927Z",
     "iopub.status.busy": "2025-05-18T21:15:53.738013Z",
     "iopub.status.idle": "2025-05-18T21:15:53.746015Z",
     "shell.execute_reply": "2025-05-18T21:15:53.745490Z",
     "shell.execute_reply.started": "2025-05-18T21:15:53.738897Z"
    },
    "tags": []
   },
   "outputs": [],
   "source": [
    "df_4 = data_train"
   ]
  },
  {
   "cell_type": "code",
   "execution_count": 34,
   "id": "c63c73f6-ee2c-41f4-9551-5b26c159e85b",
   "metadata": {
    "execution": {
     "iopub.execute_input": "2025-05-18T21:15:53.989961Z",
     "iopub.status.busy": "2025-05-18T21:15:53.989120Z",
     "iopub.status.idle": "2025-05-18T21:15:53.999781Z",
     "shell.execute_reply": "2025-05-18T21:15:53.999228Z",
     "shell.execute_reply.started": "2025-05-18T21:15:53.989928Z"
    },
    "tags": []
   },
   "outputs": [],
   "source": [
    "def clean_rnn(text):\n",
    "    text = text.lower()\n",
    "    text = re.sub(r'http\\S+|www\\S+|https\\S+', '', text)      # удаляем URL\n",
    "    text = re.sub(r'[^\\w\\s.,!?-]', '', text)                 # сохраняем основные знаки препинания\n",
    "    tokens = text.split()\n",
    "    return tokens\n",
    "\n"
   ]
  },
  {
   "cell_type": "code",
   "execution_count": 35,
   "id": "0764a287-0274-4ded-82d7-310dab9cd79d",
   "metadata": {
    "execution": {
     "iopub.execute_input": "2025-05-18T21:15:54.203488Z",
     "iopub.status.busy": "2025-05-18T21:15:54.202571Z",
     "iopub.status.idle": "2025-05-18T21:15:55.096742Z",
     "shell.execute_reply": "2025-05-18T21:15:55.095972Z",
     "shell.execute_reply.started": "2025-05-18T21:15:54.203433Z"
    },
    "tags": []
   },
   "outputs": [],
   "source": [
    "df_4['rnn_clean'] = df_4['text'].apply(clean_rnn)\n"
   ]
  },
  {
   "cell_type": "code",
   "execution_count": 36,
   "id": "a9ddcf46-f39d-4018-8c57-53b22c17684e",
   "metadata": {
    "execution": {
     "iopub.execute_input": "2025-05-18T21:15:55.098605Z",
     "iopub.status.busy": "2025-05-18T21:15:55.097901Z",
     "iopub.status.idle": "2025-05-18T21:15:55.132766Z",
     "shell.execute_reply": "2025-05-18T21:15:55.132215Z",
     "shell.execute_reply.started": "2025-05-18T21:15:55.098573Z"
    },
    "tags": []
   },
   "outputs": [
    {
     "data": {
      "text/html": [
       "<div>\n",
       "<style scoped>\n",
       "    .dataframe tbody tr th:only-of-type {\n",
       "        vertical-align: middle;\n",
       "    }\n",
       "\n",
       "    .dataframe tbody tr th {\n",
       "        vertical-align: top;\n",
       "    }\n",
       "\n",
       "    .dataframe thead th {\n",
       "        text-align: right;\n",
       "    }\n",
       "</style>\n",
       "<table border=\"1\" class=\"dataframe\">\n",
       "  <thead>\n",
       "    <tr style=\"text-align: right;\">\n",
       "      <th></th>\n",
       "      <th>id</th>\n",
       "      <th>text</th>\n",
       "      <th>labels</th>\n",
       "      <th>label_vector</th>\n",
       "      <th>cnn_clean</th>\n",
       "      <th>rnn_clean</th>\n",
       "    </tr>\n",
       "  </thead>\n",
       "  <tbody>\n",
       "    <tr>\n",
       "      <th>0</th>\n",
       "      <td>0</td>\n",
       "      <td>15 января\\nДетская развлекательная программа\\n...</td>\n",
       "      <td>1 0 0 0 1 0 0 0 1 0 0 0 1 1 1 1 1 0 0 1</td>\n",
       "      <td>[1, 0, 0, 0, 1, 0, 0, 0, 1, 0, 0, 0, 1, 1, 1, ...</td>\n",
       "      <td>[15, января, детская, развлекательная, програм...</td>\n",
       "      <td>[15, января, детская, развлекательная, програм...</td>\n",
       "    </tr>\n",
       "    <tr>\n",
       "      <th>1</th>\n",
       "      <td>1</td>\n",
       "      <td>13 и 14 августа\\nВыходные в Меге\\nhttps://t.me...</td>\n",
       "      <td>0 0 0 1 0 0 0 0 1 0 0 0 1 1 0 1 1 0 0 1</td>\n",
       "      <td>[0, 0, 0, 1, 0, 0, 0, 0, 1, 0, 0, 0, 1, 1, 0, ...</td>\n",
       "      <td>[13, и, 14, августа, выходные, в, меге, мегапарк]</td>\n",
       "      <td>[13, и, 14, августа, выходные, в, меге, мегапарк]</td>\n",
       "    </tr>\n",
       "    <tr>\n",
       "      <th>2</th>\n",
       "      <td>2</td>\n",
       "      <td>Йокнапатофа\\nПостановка Театр им. Маяковского\\...</td>\n",
       "      <td>0 0 0 0 1 0 0 0 0 0 0 0 1 1 0 1 1 0 0 1</td>\n",
       "      <td>[0, 0, 0, 0, 1, 0, 0, 0, 0, 0, 0, 0, 1, 1, 0, ...</td>\n",
       "      <td>[йокнапатофа, постановка, театр, им., маяковск...</td>\n",
       "      <td>[йокнапатофа, постановка, театр, им., маяковск...</td>\n",
       "    </tr>\n",
       "    <tr>\n",
       "      <th>3</th>\n",
       "      <td>3</td>\n",
       "      <td>Впервые в Уфе танцевальная терапия в группе с ...</td>\n",
       "      <td>1 1 0 0 1 0 0 1 1 1 1 1 1 1 1 0 0 1 1 0</td>\n",
       "      <td>[1, 1, 0, 0, 1, 0, 0, 1, 1, 1, 1, 1, 1, 1, 1, ...</td>\n",
       "      <td>[впервые, в, уфе, танцевальная, терапия, в, гр...</td>\n",
       "      <td>[впервые, в, уфе, танцевальная, терапия, в, гр...</td>\n",
       "    </tr>\n",
       "    <tr>\n",
       "      <th>4</th>\n",
       "      <td>4</td>\n",
       "      <td>🎹\\nGRAND PIANO COMPETITION\\n🎹\\nДрузья, сегодня...</td>\n",
       "      <td>1 1 0 0 0 0 0 1 1 0 0 1 1 1 1 0 1 1 1 0</td>\n",
       "      <td>[1, 1, 0, 0, 0, 0, 0, 1, 1, 0, 0, 1, 1, 1, 1, ...</td>\n",
       "      <td>[grand, piano, competition, друзья,, сегодня, ...</td>\n",
       "      <td>[grand, piano, competition, друзья,, сегодня, ...</td>\n",
       "    </tr>\n",
       "    <tr>\n",
       "      <th>...</th>\n",
       "      <td>...</td>\n",
       "      <td>...</td>\n",
       "      <td>...</td>\n",
       "      <td>...</td>\n",
       "      <td>...</td>\n",
       "      <td>...</td>\n",
       "    </tr>\n",
       "    <tr>\n",
       "      <th>29563</th>\n",
       "      <td>29563</td>\n",
       "      <td>Выступление Симфо-группы TEODOR\\n⠀\\n22 июля в ...</td>\n",
       "      <td>0 0 0 0 0 0 0 1 1 0 0 0 0 1 0 1 1 1 1 0</td>\n",
       "      <td>[0, 0, 0, 0, 0, 0, 0, 1, 1, 0, 0, 0, 0, 1, 0, ...</td>\n",
       "      <td>[выступление, симфо-группы, teodor, 22, июля, ...</td>\n",
       "      <td>[выступление, симфо-группы, teodor, 22, июля, ...</td>\n",
       "    </tr>\n",
       "    <tr>\n",
       "      <th>29564</th>\n",
       "      <td>29564</td>\n",
       "      <td>🔤\\nЮЗИКЛ \"МОНТЕ-КРИСТО\" ТЕАТР ОПЕРЕТТЫ\\nЭто оч...</td>\n",
       "      <td>1 1 1 0 0 0 0 1 0 1 1 1 0 1 1 0 1 1 1 0</td>\n",
       "      <td>[1, 1, 1, 0, 0, 0, 0, 1, 0, 1, 1, 1, 0, 1, 1, ...</td>\n",
       "      <td>[юзикл, монте-кристо, театр, оперетты, это, оч...</td>\n",
       "      <td>[юзикл, монте-кристо, театр, оперетты, это, оч...</td>\n",
       "    </tr>\n",
       "    <tr>\n",
       "      <th>29565</th>\n",
       "      <td>29565</td>\n",
       "      <td>РАСПИСАНИЕ БЕСПЛАТНЫХ ЭКСКУРСИЙ\\nв октябре 202...</td>\n",
       "      <td>1 1 0 0 1 0 0 1 1 1 1 1 1 1 1 1 1 1 1 0</td>\n",
       "      <td>[1, 1, 0, 0, 1, 0, 0, 1, 1, 1, 1, 1, 1, 1, 1, ...</td>\n",
       "      <td>[расписание, бесплатных, экскурсий, в, октябре...</td>\n",
       "      <td>[расписание, бесплатных, экскурсий, в, октябре...</td>\n",
       "    </tr>\n",
       "    <tr>\n",
       "      <th>29566</th>\n",
       "      <td>29566</td>\n",
       "      <td>Долгожданный концерт Надежды Кадышевой в Рязан...</td>\n",
       "      <td>1 0 1 0 0 0 0 1 0 1 1 1 0 1 1 0 0 1 1 0</td>\n",
       "      <td>[1, 0, 1, 0, 0, 0, 0, 1, 0, 1, 1, 1, 0, 1, 1, ...</td>\n",
       "      <td>[долгожданный, концерт, надежды, кадышевой, в,...</td>\n",
       "      <td>[долгожданный, концерт, надежды, кадышевой, в,...</td>\n",
       "    </tr>\n",
       "    <tr>\n",
       "      <th>29567</th>\n",
       "      <td>29567</td>\n",
       "      <td>Спектакль-победитель фестиваля «Амурская осень...</td>\n",
       "      <td>0 1 0 0 1 0 0 1 1 1 0 0 1 0 1 0 1 1 1 0</td>\n",
       "      <td>[0, 1, 0, 0, 1, 0, 0, 1, 1, 1, 0, 0, 1, 0, 1, ...</td>\n",
       "      <td>[спектакль-победитель, фестиваля, амурская, ос...</td>\n",
       "      <td>[спектакль-победитель, фестиваля, амурская, ос...</td>\n",
       "    </tr>\n",
       "  </tbody>\n",
       "</table>\n",
       "<p>29568 rows × 6 columns</p>\n",
       "</div>"
      ],
      "text/plain": [
       "          id  ...                                          rnn_clean\n",
       "0          0  ...  [15, января, детская, развлекательная, програм...\n",
       "1          1  ...  [13, и, 14, августа, выходные, в, меге, мегапарк]\n",
       "2          2  ...  [йокнапатофа, постановка, театр, им., маяковск...\n",
       "3          3  ...  [впервые, в, уфе, танцевальная, терапия, в, гр...\n",
       "4          4  ...  [grand, piano, competition, друзья,, сегодня, ...\n",
       "...      ...  ...                                                ...\n",
       "29563  29563  ...  [выступление, симфо-группы, teodor, 22, июля, ...\n",
       "29564  29564  ...  [юзикл, монте-кристо, театр, оперетты, это, оч...\n",
       "29565  29565  ...  [расписание, бесплатных, экскурсий, в, октябре...\n",
       "29566  29566  ...  [долгожданный, концерт, надежды, кадышевой, в,...\n",
       "29567  29567  ...  [спектакль-победитель, фестиваля, амурская, ос...\n",
       "\n",
       "[29568 rows x 6 columns]"
      ]
     },
     "execution_count": 36,
     "metadata": {},
     "output_type": "execute_result"
    }
   ],
   "source": [
    "df_4"
   ]
  },
  {
   "cell_type": "code",
   "execution_count": null,
   "id": "45a0a406-61ab-4ac5-805f-a6ed37150865",
   "metadata": {},
   "outputs": [],
   "source": []
  },
  {
   "cell_type": "code",
   "execution_count": null,
   "id": "485415b3-d012-48af-ae5d-d015cc0af313",
   "metadata": {},
   "outputs": [],
   "source": []
  },
  {
   "cell_type": "markdown",
   "id": "4d1c9c05-cb58-4cef-b37e-423062831004",
   "metadata": {},
   "source": [
    "## (5) Эмбеддер + BERT-подобные модели "
   ]
  },
  {
   "cell_type": "markdown",
   "id": "aee61869-9617-4452-beee-7c437f339cc0",
   "metadata": {},
   "source": [
    "BERT (Bidirectional Encoder Representations from Transformers) — это модель от Google (2018), основанная на архитектуре Transformer, которая умеет:\n",
    "\n",
    "читать текст сразу в обе стороны (слева направо и справа налево),\n",
    "\n",
    "понимать контекст слова во всей фразе.\n",
    "\n",
    "https://habr.com/ru/companies/otus/articles/702838/ цитирую:\n",
    "\n",
    "\" языковая модель с двунаправленным обучением способна достичь более глубокого понимания языкового контекста и потока, чем однонаправленные языковые модели. В статье исследователи подробно описывают новую технику под названием MLM (Masked Language Model — “маскированное языковое моделирование”), которая позволяет проводить двунаправленное обучение в моделях, для которых ранее это было невозможно.\" "
   ]
  },
  {
   "cell_type": "code",
   "execution_count": 37,
   "id": "a2644a2b-6bcd-41bd-8b94-50d3d4232b18",
   "metadata": {
    "execution": {
     "iopub.execute_input": "2025-05-18T21:15:56.221772Z",
     "iopub.status.busy": "2025-05-18T21:15:56.220699Z",
     "iopub.status.idle": "2025-05-18T21:15:56.230510Z",
     "shell.execute_reply": "2025-05-18T21:15:56.229915Z",
     "shell.execute_reply.started": "2025-05-18T21:15:56.221736Z"
    },
    "tags": []
   },
   "outputs": [],
   "source": [
    "def clean_bert(text):\n",
    "    text = re.sub(r'http\\S+|www\\S+|https\\S+', '', text)  # удаляем только URL\n",
    "    # не меняем регистр, не трогаем пунктуацию, смайлы и прочее\n",
    "    return text\n",
    "\n",
    "\n"
   ]
  },
  {
   "cell_type": "code",
   "execution_count": 38,
   "id": "10ad44ac-90e3-44e5-b9d7-5c1673526b2f",
   "metadata": {
    "execution": {
     "iopub.execute_input": "2025-05-18T21:15:56.414420Z",
     "iopub.status.busy": "2025-05-18T21:15:56.413634Z",
     "iopub.status.idle": "2025-05-18T21:15:56.423763Z",
     "shell.execute_reply": "2025-05-18T21:15:56.423134Z",
     "shell.execute_reply.started": "2025-05-18T21:15:56.414386Z"
    },
    "tags": []
   },
   "outputs": [],
   "source": [
    "df_5 = data_train"
   ]
  },
  {
   "cell_type": "code",
   "execution_count": 39,
   "id": "d0604ecb-feff-4ec2-9885-3ea56b7b8433",
   "metadata": {
    "execution": {
     "iopub.execute_input": "2025-05-18T21:15:56.627908Z",
     "iopub.status.busy": "2025-05-18T21:15:56.626850Z",
     "iopub.status.idle": "2025-05-18T21:15:56.795223Z",
     "shell.execute_reply": "2025-05-18T21:15:56.794531Z",
     "shell.execute_reply.started": "2025-05-18T21:15:56.627868Z"
    },
    "tags": []
   },
   "outputs": [],
   "source": [
    "df_5['bert_clean'] = df_5['text'].apply(clean_bert)\n"
   ]
  },
  {
   "cell_type": "code",
   "execution_count": 40,
   "id": "eb6c1af1-c8fb-4b65-8382-07708102ebb5",
   "metadata": {
    "execution": {
     "iopub.execute_input": "2025-05-18T21:15:56.796669Z",
     "iopub.status.busy": "2025-05-18T21:15:56.796317Z",
     "iopub.status.idle": "2025-05-18T21:15:56.835858Z",
     "shell.execute_reply": "2025-05-18T21:15:56.835222Z",
     "shell.execute_reply.started": "2025-05-18T21:15:56.796646Z"
    },
    "tags": []
   },
   "outputs": [
    {
     "data": {
      "text/html": [
       "<div>\n",
       "<style scoped>\n",
       "    .dataframe tbody tr th:only-of-type {\n",
       "        vertical-align: middle;\n",
       "    }\n",
       "\n",
       "    .dataframe tbody tr th {\n",
       "        vertical-align: top;\n",
       "    }\n",
       "\n",
       "    .dataframe thead th {\n",
       "        text-align: right;\n",
       "    }\n",
       "</style>\n",
       "<table border=\"1\" class=\"dataframe\">\n",
       "  <thead>\n",
       "    <tr style=\"text-align: right;\">\n",
       "      <th></th>\n",
       "      <th>id</th>\n",
       "      <th>text</th>\n",
       "      <th>labels</th>\n",
       "      <th>label_vector</th>\n",
       "      <th>cnn_clean</th>\n",
       "      <th>rnn_clean</th>\n",
       "      <th>bert_clean</th>\n",
       "    </tr>\n",
       "  </thead>\n",
       "  <tbody>\n",
       "    <tr>\n",
       "      <th>0</th>\n",
       "      <td>0</td>\n",
       "      <td>15 января\\nДетская развлекательная программа\\n...</td>\n",
       "      <td>1 0 0 0 1 0 0 0 1 0 0 0 1 1 1 1 1 0 0 1</td>\n",
       "      <td>[1, 0, 0, 0, 1, 0, 0, 0, 1, 0, 0, 0, 1, 1, 1, ...</td>\n",
       "      <td>[15, января, детская, развлекательная, програм...</td>\n",
       "      <td>[15, января, детская, развлекательная, програм...</td>\n",
       "      <td>15 января\\nДетская развлекательная программа\\n...</td>\n",
       "    </tr>\n",
       "    <tr>\n",
       "      <th>1</th>\n",
       "      <td>1</td>\n",
       "      <td>13 и 14 августа\\nВыходные в Меге\\nhttps://t.me...</td>\n",
       "      <td>0 0 0 1 0 0 0 0 1 0 0 0 1 1 0 1 1 0 0 1</td>\n",
       "      <td>[0, 0, 0, 1, 0, 0, 0, 0, 1, 0, 0, 0, 1, 1, 0, ...</td>\n",
       "      <td>[13, и, 14, августа, выходные, в, меге, мегапарк]</td>\n",
       "      <td>[13, и, 14, августа, выходные, в, меге, мегапарк]</td>\n",
       "      <td>13 и 14 августа\\nВыходные в Меге\\n\\nМегапарк</td>\n",
       "    </tr>\n",
       "    <tr>\n",
       "      <th>2</th>\n",
       "      <td>2</td>\n",
       "      <td>Йокнапатофа\\nПостановка Театр им. Маяковского\\...</td>\n",
       "      <td>0 0 0 0 1 0 0 0 0 0 0 0 1 1 0 1 1 0 0 1</td>\n",
       "      <td>[0, 0, 0, 0, 1, 0, 0, 0, 0, 0, 0, 0, 1, 1, 0, ...</td>\n",
       "      <td>[йокнапатофа, постановка, театр, им., маяковск...</td>\n",
       "      <td>[йокнапатофа, постановка, театр, им., маяковск...</td>\n",
       "      <td>Йокнапатофа\\nПостановка Театр им. Маяковского\\...</td>\n",
       "    </tr>\n",
       "    <tr>\n",
       "      <th>3</th>\n",
       "      <td>3</td>\n",
       "      <td>Впервые в Уфе танцевальная терапия в группе с ...</td>\n",
       "      <td>1 1 0 0 1 0 0 1 1 1 1 1 1 1 1 0 0 1 1 0</td>\n",
       "      <td>[1, 1, 0, 0, 1, 0, 0, 1, 1, 1, 1, 1, 1, 1, 1, ...</td>\n",
       "      <td>[впервые, в, уфе, танцевальная, терапия, в, гр...</td>\n",
       "      <td>[впервые, в, уфе, танцевальная, терапия, в, гр...</td>\n",
       "      <td>Впервые в Уфе танцевальная терапия в группе с ...</td>\n",
       "    </tr>\n",
       "    <tr>\n",
       "      <th>4</th>\n",
       "      <td>4</td>\n",
       "      <td>🎹\\nGRAND PIANO COMPETITION\\n🎹\\nДрузья, сегодня...</td>\n",
       "      <td>1 1 0 0 0 0 0 1 1 0 0 1 1 1 1 0 1 1 1 0</td>\n",
       "      <td>[1, 1, 0, 0, 0, 0, 0, 1, 1, 0, 0, 1, 1, 1, 1, ...</td>\n",
       "      <td>[grand, piano, competition, друзья,, сегодня, ...</td>\n",
       "      <td>[grand, piano, competition, друзья,, сегодня, ...</td>\n",
       "      <td>🎹\\nGRAND PIANO COMPETITION\\n🎹\\nДрузья, сегодня...</td>\n",
       "    </tr>\n",
       "    <tr>\n",
       "      <th>...</th>\n",
       "      <td>...</td>\n",
       "      <td>...</td>\n",
       "      <td>...</td>\n",
       "      <td>...</td>\n",
       "      <td>...</td>\n",
       "      <td>...</td>\n",
       "      <td>...</td>\n",
       "    </tr>\n",
       "    <tr>\n",
       "      <th>29563</th>\n",
       "      <td>29563</td>\n",
       "      <td>Выступление Симфо-группы TEODOR\\n⠀\\n22 июля в ...</td>\n",
       "      <td>0 0 0 0 0 0 0 1 1 0 0 0 0 1 0 1 1 1 1 0</td>\n",
       "      <td>[0, 0, 0, 0, 0, 0, 0, 1, 1, 0, 0, 0, 0, 1, 0, ...</td>\n",
       "      <td>[выступление, симфо-группы, teodor, 22, июля, ...</td>\n",
       "      <td>[выступление, симфо-группы, teodor, 22, июля, ...</td>\n",
       "      <td>Выступление Симфо-группы TEODOR\\n⠀\\n22 июля в ...</td>\n",
       "    </tr>\n",
       "    <tr>\n",
       "      <th>29564</th>\n",
       "      <td>29564</td>\n",
       "      <td>🔤\\nЮЗИКЛ \"МОНТЕ-КРИСТО\" ТЕАТР ОПЕРЕТТЫ\\nЭто оч...</td>\n",
       "      <td>1 1 1 0 0 0 0 1 0 1 1 1 0 1 1 0 1 1 1 0</td>\n",
       "      <td>[1, 1, 1, 0, 0, 0, 0, 1, 0, 1, 1, 1, 0, 1, 1, ...</td>\n",
       "      <td>[юзикл, монте-кристо, театр, оперетты, это, оч...</td>\n",
       "      <td>[юзикл, монте-кристо, театр, оперетты, это, оч...</td>\n",
       "      <td>🔤\\nЮЗИКЛ \"МОНТЕ-КРИСТО\" ТЕАТР ОПЕРЕТТЫ\\nЭто оч...</td>\n",
       "    </tr>\n",
       "    <tr>\n",
       "      <th>29565</th>\n",
       "      <td>29565</td>\n",
       "      <td>РАСПИСАНИЕ БЕСПЛАТНЫХ ЭКСКУРСИЙ\\nв октябре 202...</td>\n",
       "      <td>1 1 0 0 1 0 0 1 1 1 1 1 1 1 1 1 1 1 1 0</td>\n",
       "      <td>[1, 1, 0, 0, 1, 0, 0, 1, 1, 1, 1, 1, 1, 1, 1, ...</td>\n",
       "      <td>[расписание, бесплатных, экскурсий, в, октябре...</td>\n",
       "      <td>[расписание, бесплатных, экскурсий, в, октябре...</td>\n",
       "      <td>РАСПИСАНИЕ БЕСПЛАТНЫХ ЭКСКУРСИЙ\\nв октябре 202...</td>\n",
       "    </tr>\n",
       "    <tr>\n",
       "      <th>29566</th>\n",
       "      <td>29566</td>\n",
       "      <td>Долгожданный концерт Надежды Кадышевой в Рязан...</td>\n",
       "      <td>1 0 1 0 0 0 0 1 0 1 1 1 0 1 1 0 0 1 1 0</td>\n",
       "      <td>[1, 0, 1, 0, 0, 0, 0, 1, 0, 1, 1, 1, 0, 1, 1, ...</td>\n",
       "      <td>[долгожданный, концерт, надежды, кадышевой, в,...</td>\n",
       "      <td>[долгожданный, концерт, надежды, кадышевой, в,...</td>\n",
       "      <td>Долгожданный концерт Надежды Кадышевой в Рязан...</td>\n",
       "    </tr>\n",
       "    <tr>\n",
       "      <th>29567</th>\n",
       "      <td>29567</td>\n",
       "      <td>Спектакль-победитель фестиваля «Амурская осень...</td>\n",
       "      <td>0 1 0 0 1 0 0 1 1 1 0 0 1 0 1 0 1 1 1 0</td>\n",
       "      <td>[0, 1, 0, 0, 1, 0, 0, 1, 1, 1, 0, 0, 1, 0, 1, ...</td>\n",
       "      <td>[спектакль-победитель, фестиваля, амурская, ос...</td>\n",
       "      <td>[спектакль-победитель, фестиваля, амурская, ос...</td>\n",
       "      <td>Спектакль-победитель фестиваля «Амурская осень...</td>\n",
       "    </tr>\n",
       "  </tbody>\n",
       "</table>\n",
       "<p>29568 rows × 7 columns</p>\n",
       "</div>"
      ],
      "text/plain": [
       "          id  ...                                         bert_clean\n",
       "0          0  ...  15 января\\nДетская развлекательная программа\\n...\n",
       "1          1  ...       13 и 14 августа\\nВыходные в Меге\\n\\nМегапарк\n",
       "2          2  ...  Йокнапатофа\\nПостановка Театр им. Маяковского\\...\n",
       "3          3  ...  Впервые в Уфе танцевальная терапия в группе с ...\n",
       "4          4  ...  🎹\\nGRAND PIANO COMPETITION\\n🎹\\nДрузья, сегодня...\n",
       "...      ...  ...                                                ...\n",
       "29563  29563  ...  Выступление Симфо-группы TEODOR\\n⠀\\n22 июля в ...\n",
       "29564  29564  ...  🔤\\nЮЗИКЛ \"МОНТЕ-КРИСТО\" ТЕАТР ОПЕРЕТТЫ\\nЭто оч...\n",
       "29565  29565  ...  РАСПИСАНИЕ БЕСПЛАТНЫХ ЭКСКУРСИЙ\\nв октябре 202...\n",
       "29566  29566  ...  Долгожданный концерт Надежды Кадышевой в Рязан...\n",
       "29567  29567  ...  Спектакль-победитель фестиваля «Амурская осень...\n",
       "\n",
       "[29568 rows x 7 columns]"
      ]
     },
     "execution_count": 40,
     "metadata": {},
     "output_type": "execute_result"
    }
   ],
   "source": [
    "df_5"
   ]
  },
  {
   "cell_type": "markdown",
   "id": "e322d0fc-5724-468d-8498-4f703d08890a",
   "metadata": {},
   "source": [
    "## БЛОК 3. ОБУЧЕНИЕ ВСЕХ МОДЕЛЕЙ "
   ]
  },
  {
   "cell_type": "markdown",
   "id": "072600bf-f6a1-4c00-9dd5-f9ff65fead57",
   "metadata": {},
   "source": [
    " ### (1) tf-idf + любая нейронная сеть (0.82)"
   ]
  },
  {
   "cell_type": "code",
   "execution_count": 78,
   "id": "121967ec-e357-4e0e-a249-909d4a85fa74",
   "metadata": {
    "execution": {
     "iopub.execute_input": "2025-05-18T09:46:53.031647Z",
     "iopub.status.busy": "2025-05-18T09:46:53.030653Z",
     "iopub.status.idle": "2025-05-18T09:46:53.120896Z",
     "shell.execute_reply": "2025-05-18T09:46:53.120012Z",
     "shell.execute_reply.started": "2025-05-18T09:46:53.031605Z"
    },
    "tags": []
   },
   "outputs": [],
   "source": [
    "##%pip install scikit-multilearn для того, чтобы в задаче мультилейблинга поделить трейн/вал сбалансированно на классы\n"
   ]
  },
  {
   "cell_type": "code",
   "execution_count": 45,
   "id": "28a9931a-83a0-4403-97ff-09a29620bb97",
   "metadata": {
    "execution": {
     "iopub.execute_input": "2025-05-18T21:19:45.277370Z",
     "iopub.status.busy": "2025-05-18T21:19:45.276253Z",
     "iopub.status.idle": "2025-05-18T21:19:45.359701Z",
     "shell.execute_reply": "2025-05-18T21:19:45.358993Z",
     "shell.execute_reply.started": "2025-05-18T21:19:45.277330Z"
    },
    "tags": []
   },
   "outputs": [],
   "source": [
    "# Преобразуем строку меток в список целых чисел\n",
    "df_4['label_vector'] = df_4['labels'].apply(lambda x: list(map(int, x.split())))"
   ]
  },
  {
   "cell_type": "code",
   "execution_count": 46,
   "id": "3f5457de-c67c-458d-a7b4-67b053508f82",
   "metadata": {
    "execution": {
     "iopub.execute_input": "2025-05-18T21:19:48.518558Z",
     "iopub.status.busy": "2025-05-18T21:19:48.517642Z",
     "iopub.status.idle": "2025-05-18T21:19:48.561422Z",
     "shell.execute_reply": "2025-05-18T21:19:48.560837Z",
     "shell.execute_reply.started": "2025-05-18T21:19:48.518525Z"
    },
    "tags": []
   },
   "outputs": [
    {
     "data": {
      "text/html": [
       "<div>\n",
       "<style scoped>\n",
       "    .dataframe tbody tr th:only-of-type {\n",
       "        vertical-align: middle;\n",
       "    }\n",
       "\n",
       "    .dataframe tbody tr th {\n",
       "        vertical-align: top;\n",
       "    }\n",
       "\n",
       "    .dataframe thead th {\n",
       "        text-align: right;\n",
       "    }\n",
       "</style>\n",
       "<table border=\"1\" class=\"dataframe\">\n",
       "  <thead>\n",
       "    <tr style=\"text-align: right;\">\n",
       "      <th></th>\n",
       "      <th>id</th>\n",
       "      <th>text</th>\n",
       "      <th>labels</th>\n",
       "      <th>label_vector</th>\n",
       "      <th>cnn_clean</th>\n",
       "      <th>rnn_clean</th>\n",
       "      <th>bert_clean</th>\n",
       "    </tr>\n",
       "  </thead>\n",
       "  <tbody>\n",
       "    <tr>\n",
       "      <th>0</th>\n",
       "      <td>0</td>\n",
       "      <td>15 января\\nДетская развлекательная программа\\n...</td>\n",
       "      <td>1 0 0 0 1 0 0 0 1 0 0 0 1 1 1 1 1 0 0 1</td>\n",
       "      <td>[1, 0, 0, 0, 1, 0, 0, 0, 1, 0, 0, 0, 1, 1, 1, ...</td>\n",
       "      <td>[15, января, детская, развлекательная, програм...</td>\n",
       "      <td>[15, января, детская, развлекательная, програм...</td>\n",
       "      <td>15 января\\nДетская развлекательная программа\\n...</td>\n",
       "    </tr>\n",
       "    <tr>\n",
       "      <th>1</th>\n",
       "      <td>1</td>\n",
       "      <td>13 и 14 августа\\nВыходные в Меге\\nhttps://t.me...</td>\n",
       "      <td>0 0 0 1 0 0 0 0 1 0 0 0 1 1 0 1 1 0 0 1</td>\n",
       "      <td>[0, 0, 0, 1, 0, 0, 0, 0, 1, 0, 0, 0, 1, 1, 0, ...</td>\n",
       "      <td>[13, и, 14, августа, выходные, в, меге, мегапарк]</td>\n",
       "      <td>[13, и, 14, августа, выходные, в, меге, мегапарк]</td>\n",
       "      <td>13 и 14 августа\\nВыходные в Меге\\n\\nМегапарк</td>\n",
       "    </tr>\n",
       "    <tr>\n",
       "      <th>2</th>\n",
       "      <td>2</td>\n",
       "      <td>Йокнапатофа\\nПостановка Театр им. Маяковского\\...</td>\n",
       "      <td>0 0 0 0 1 0 0 0 0 0 0 0 1 1 0 1 1 0 0 1</td>\n",
       "      <td>[0, 0, 0, 0, 1, 0, 0, 0, 0, 0, 0, 0, 1, 1, 0, ...</td>\n",
       "      <td>[йокнапатофа, постановка, театр, им., маяковск...</td>\n",
       "      <td>[йокнапатофа, постановка, театр, им., маяковск...</td>\n",
       "      <td>Йокнапатофа\\nПостановка Театр им. Маяковского\\...</td>\n",
       "    </tr>\n",
       "    <tr>\n",
       "      <th>3</th>\n",
       "      <td>3</td>\n",
       "      <td>Впервые в Уфе танцевальная терапия в группе с ...</td>\n",
       "      <td>1 1 0 0 1 0 0 1 1 1 1 1 1 1 1 0 0 1 1 0</td>\n",
       "      <td>[1, 1, 0, 0, 1, 0, 0, 1, 1, 1, 1, 1, 1, 1, 1, ...</td>\n",
       "      <td>[впервые, в, уфе, танцевальная, терапия, в, гр...</td>\n",
       "      <td>[впервые, в, уфе, танцевальная, терапия, в, гр...</td>\n",
       "      <td>Впервые в Уфе танцевальная терапия в группе с ...</td>\n",
       "    </tr>\n",
       "    <tr>\n",
       "      <th>4</th>\n",
       "      <td>4</td>\n",
       "      <td>🎹\\nGRAND PIANO COMPETITION\\n🎹\\nДрузья, сегодня...</td>\n",
       "      <td>1 1 0 0 0 0 0 1 1 0 0 1 1 1 1 0 1 1 1 0</td>\n",
       "      <td>[1, 1, 0, 0, 0, 0, 0, 1, 1, 0, 0, 1, 1, 1, 1, ...</td>\n",
       "      <td>[grand, piano, competition, друзья,, сегодня, ...</td>\n",
       "      <td>[grand, piano, competition, друзья,, сегодня, ...</td>\n",
       "      <td>🎹\\nGRAND PIANO COMPETITION\\n🎹\\nДрузья, сегодня...</td>\n",
       "    </tr>\n",
       "    <tr>\n",
       "      <th>...</th>\n",
       "      <td>...</td>\n",
       "      <td>...</td>\n",
       "      <td>...</td>\n",
       "      <td>...</td>\n",
       "      <td>...</td>\n",
       "      <td>...</td>\n",
       "      <td>...</td>\n",
       "    </tr>\n",
       "    <tr>\n",
       "      <th>29563</th>\n",
       "      <td>29563</td>\n",
       "      <td>Выступление Симфо-группы TEODOR\\n⠀\\n22 июля в ...</td>\n",
       "      <td>0 0 0 0 0 0 0 1 1 0 0 0 0 1 0 1 1 1 1 0</td>\n",
       "      <td>[0, 0, 0, 0, 0, 0, 0, 1, 1, 0, 0, 0, 0, 1, 0, ...</td>\n",
       "      <td>[выступление, симфо-группы, teodor, 22, июля, ...</td>\n",
       "      <td>[выступление, симфо-группы, teodor, 22, июля, ...</td>\n",
       "      <td>Выступление Симфо-группы TEODOR\\n⠀\\n22 июля в ...</td>\n",
       "    </tr>\n",
       "    <tr>\n",
       "      <th>29564</th>\n",
       "      <td>29564</td>\n",
       "      <td>🔤\\nЮЗИКЛ \"МОНТЕ-КРИСТО\" ТЕАТР ОПЕРЕТТЫ\\nЭто оч...</td>\n",
       "      <td>1 1 1 0 0 0 0 1 0 1 1 1 0 1 1 0 1 1 1 0</td>\n",
       "      <td>[1, 1, 1, 0, 0, 0, 0, 1, 0, 1, 1, 1, 0, 1, 1, ...</td>\n",
       "      <td>[юзикл, монте-кристо, театр, оперетты, это, оч...</td>\n",
       "      <td>[юзикл, монте-кристо, театр, оперетты, это, оч...</td>\n",
       "      <td>🔤\\nЮЗИКЛ \"МОНТЕ-КРИСТО\" ТЕАТР ОПЕРЕТТЫ\\nЭто оч...</td>\n",
       "    </tr>\n",
       "    <tr>\n",
       "      <th>29565</th>\n",
       "      <td>29565</td>\n",
       "      <td>РАСПИСАНИЕ БЕСПЛАТНЫХ ЭКСКУРСИЙ\\nв октябре 202...</td>\n",
       "      <td>1 1 0 0 1 0 0 1 1 1 1 1 1 1 1 1 1 1 1 0</td>\n",
       "      <td>[1, 1, 0, 0, 1, 0, 0, 1, 1, 1, 1, 1, 1, 1, 1, ...</td>\n",
       "      <td>[расписание, бесплатных, экскурсий, в, октябре...</td>\n",
       "      <td>[расписание, бесплатных, экскурсий, в, октябре...</td>\n",
       "      <td>РАСПИСАНИЕ БЕСПЛАТНЫХ ЭКСКУРСИЙ\\nв октябре 202...</td>\n",
       "    </tr>\n",
       "    <tr>\n",
       "      <th>29566</th>\n",
       "      <td>29566</td>\n",
       "      <td>Долгожданный концерт Надежды Кадышевой в Рязан...</td>\n",
       "      <td>1 0 1 0 0 0 0 1 0 1 1 1 0 1 1 0 0 1 1 0</td>\n",
       "      <td>[1, 0, 1, 0, 0, 0, 0, 1, 0, 1, 1, 1, 0, 1, 1, ...</td>\n",
       "      <td>[долгожданный, концерт, надежды, кадышевой, в,...</td>\n",
       "      <td>[долгожданный, концерт, надежды, кадышевой, в,...</td>\n",
       "      <td>Долгожданный концерт Надежды Кадышевой в Рязан...</td>\n",
       "    </tr>\n",
       "    <tr>\n",
       "      <th>29567</th>\n",
       "      <td>29567</td>\n",
       "      <td>Спектакль-победитель фестиваля «Амурская осень...</td>\n",
       "      <td>0 1 0 0 1 0 0 1 1 1 0 0 1 0 1 0 1 1 1 0</td>\n",
       "      <td>[0, 1, 0, 0, 1, 0, 0, 1, 1, 1, 0, 0, 1, 0, 1, ...</td>\n",
       "      <td>[спектакль-победитель, фестиваля, амурская, ос...</td>\n",
       "      <td>[спектакль-победитель, фестиваля, амурская, ос...</td>\n",
       "      <td>Спектакль-победитель фестиваля «Амурская осень...</td>\n",
       "    </tr>\n",
       "  </tbody>\n",
       "</table>\n",
       "<p>29568 rows × 7 columns</p>\n",
       "</div>"
      ],
      "text/plain": [
       "          id  ...                                         bert_clean\n",
       "0          0  ...  15 января\\nДетская развлекательная программа\\n...\n",
       "1          1  ...       13 и 14 августа\\nВыходные в Меге\\n\\nМегапарк\n",
       "2          2  ...  Йокнапатофа\\nПостановка Театр им. Маяковского\\...\n",
       "3          3  ...  Впервые в Уфе танцевальная терапия в группе с ...\n",
       "4          4  ...  🎹\\nGRAND PIANO COMPETITION\\n🎹\\nДрузья, сегодня...\n",
       "...      ...  ...                                                ...\n",
       "29563  29563  ...  Выступление Симфо-группы TEODOR\\n⠀\\n22 июля в ...\n",
       "29564  29564  ...  🔤\\nЮЗИКЛ \"МОНТЕ-КРИСТО\" ТЕАТР ОПЕРЕТТЫ\\nЭто оч...\n",
       "29565  29565  ...  РАСПИСАНИЕ БЕСПЛАТНЫХ ЭКСКУРСИЙ\\nв октябре 202...\n",
       "29566  29566  ...  Долгожданный концерт Надежды Кадышевой в Рязан...\n",
       "29567  29567  ...  Спектакль-победитель фестиваля «Амурская осень...\n",
       "\n",
       "[29568 rows x 7 columns]"
      ]
     },
     "execution_count": 46,
     "metadata": {},
     "output_type": "execute_result"
    }
   ],
   "source": [
    "df_4"
   ]
  },
  {
   "cell_type": "code",
   "execution_count": 46,
   "id": "b9ae8f20-abf2-45bc-a62a-9e0638fef7a6",
   "metadata": {
    "execution": {
     "iopub.execute_input": "2025-05-18T14:33:39.485874Z",
     "iopub.status.busy": "2025-05-18T14:33:39.484942Z",
     "iopub.status.idle": "2025-05-18T14:33:39.512757Z",
     "shell.execute_reply": "2025-05-18T14:33:39.511974Z",
     "shell.execute_reply.started": "2025-05-18T14:33:39.485836Z"
    },
    "tags": []
   },
   "outputs": [
    {
     "name": "stdout",
     "output_type": "stream",
     "text": [
      "NaN значений в 'tfidf_clean': 0\n",
      "Не строковых значений в 'tfidf_clean': 0\n"
     ]
    }
   ],
   "source": [
    "num_nan = df_4['tfidf_clean'].isna().sum()\n",
    "print(f\"NaN значений в 'tfidf_clean': {num_nan}\")\n",
    "\n",
    "non_str_mask = df_4['tfidf_clean'].map(lambda x: not isinstance(x, str))\n",
    "num_non_str = non_str_mask.sum()\n",
    "print(f\"Не строковых значений в 'tfidf_clean': {num_non_str}\")"
   ]
  },
  {
   "cell_type": "code",
   "execution_count": null,
   "id": "33e4f2b6-80f5-4c0e-bc83-fa64e31a036e",
   "metadata": {},
   "outputs": [],
   "source": []
  },
  {
   "cell_type": "code",
   "execution_count": 52,
   "id": "4c6a9db7-5d5e-4a96-8612-125760365aa7",
   "metadata": {
    "execution": {
     "iopub.execute_input": "2025-05-18T14:34:26.973367Z",
     "iopub.status.busy": "2025-05-18T14:34:26.972214Z",
     "iopub.status.idle": "2025-05-18T14:34:28.413077Z",
     "shell.execute_reply": "2025-05-18T14:34:28.412223Z",
     "shell.execute_reply.started": "2025-05-18T14:34:26.973301Z"
    },
    "tags": []
   },
   "outputs": [],
   "source": [
    "\n",
    "\n",
    "\n",
    "# 1. Получаем текст и метки\n",
    "X_text = df_4['tfidf_clean'].astype(str).values\n",
    "y = np.array(df_4['label_vector'].tolist())\n",
    "\n",
    "# 2. Делим на трейн и валидацию с балансом по самым активным классам\n",
    "X_train_text, X_val_text, y_train, y_val = train_test_split(\n",
    "    X_text, y,\n",
    "    test_size=0.15,\n",
    "    random_state=42,\n",
    "    stratify=y.argmax(axis=1)  # важно! обеспечиваем сбалансированность\n",
    ")\n",
    "\n",
    "# 4. Векторайзер\n",
    "vectorizer = TfidfVectorizer(max_features=10000)\n",
    "X_train = vectorizer.fit_transform(X_train_text)\n",
    "X_val = vectorizer.transform(X_val_text)\n"
   ]
  },
  {
   "cell_type": "code",
   "execution_count": 53,
   "id": "f1a60616-f38f-40dd-aa66-682084e9ab4a",
   "metadata": {
    "execution": {
     "iopub.execute_input": "2025-05-18T14:34:31.153365Z",
     "iopub.status.busy": "2025-05-18T14:34:31.152180Z",
     "iopub.status.idle": "2025-05-18T14:34:31.181262Z",
     "shell.execute_reply": "2025-05-18T14:34:31.180576Z",
     "shell.execute_reply.started": "2025-05-18T14:34:31.153310Z"
    },
    "tags": []
   },
   "outputs": [],
   "source": [
    "import torch\n",
    "import torch.nn as nn\n",
    "import torch.optim as optim\n",
    "from torch.utils.data import DataLoader\n",
    "from sklearn.metrics import f1_score\n",
    "import matplotlib.pyplot as plt\n",
    "import numpy as np\n",
    "from torch.optim.lr_scheduler import LambdaLR\n",
    "\n",
    "\n",
    "# Функция для вычисления f1_score (multi-label)\n",
    "def calc_f1(y_true, y_pred, threshold=0.5):\n",
    "    y_pred_bin = (y_pred > threshold).astype(int)\n",
    "    return f1_score(y_true, y_pred_bin, average='micro')"
   ]
  },
  {
   "cell_type": "code",
   "execution_count": 55,
   "id": "d30a1123-5186-4a1f-b8b3-0b66098f4c28",
   "metadata": {
    "execution": {
     "iopub.execute_input": "2025-05-18T14:35:13.517049Z",
     "iopub.status.busy": "2025-05-18T14:35:13.516082Z",
     "iopub.status.idle": "2025-05-18T14:35:15.270270Z",
     "shell.execute_reply": "2025-05-18T14:35:15.269520Z",
     "shell.execute_reply.started": "2025-05-18T14:35:13.517016Z"
    },
    "tags": []
   },
   "outputs": [],
   "source": [
    "from torch.utils.data import TensorDataset\n",
    "\n",
    "\n",
    "X_train_tensor = torch.tensor(X_train.toarray(), dtype=torch.float32)\n",
    "X_val_tensor   = torch.tensor(X_val.toarray(), dtype=torch.float32)\n",
    "y_train_tensor = torch.tensor(y_train, dtype=torch.float32)\n",
    "y_val_tensor   = torch.tensor(y_val, dtype=torch.float32)\n",
    "\n",
    "train_ds = TensorDataset(X_train_tensor, y_train_tensor)\n",
    "val_ds   = TensorDataset(X_val_tensor, y_val_tensor)\n",
    "\n",
    "train_loader = DataLoader(train_ds, batch_size=64, shuffle=True)\n",
    "val_loader   = DataLoader(val_ds, batch_size=64)\n"
   ]
  },
  {
   "cell_type": "code",
   "execution_count": null,
   "id": "3e1e009c-e06e-4d36-9115-89d86ed08284",
   "metadata": {},
   "outputs": [],
   "source": []
  },
  {
   "cell_type": "code",
   "execution_count": 56,
   "id": "d8b0d75d-546d-4d92-95f8-57feb2569df1",
   "metadata": {
    "execution": {
     "iopub.execute_input": "2025-05-18T14:35:17.845731Z",
     "iopub.status.busy": "2025-05-18T14:35:17.844838Z",
     "iopub.status.idle": "2025-05-18T14:35:17.926598Z",
     "shell.execute_reply": "2025-05-18T14:35:17.925829Z",
     "shell.execute_reply.started": "2025-05-18T14:35:17.845703Z"
    },
    "tags": []
   },
   "outputs": [],
   "source": [
    "import torch.nn as nn\n",
    "\n",
    "class TFIDF_MLP(nn.Module):\n",
    "    def __init__(self, input_dim, output_dim):\n",
    "        super().__init__()\n",
    "        self.net = nn.Sequential(\n",
    "            nn.Linear(input_dim, 512),\n",
    "            nn.ReLU(),\n",
    "            nn.Dropout(0.5),\n",
    "            nn.Linear(512, 256),\n",
    "            nn.ReLU(),\n",
    "            nn.Linear(256, output_dim),\n",
    "            nn.Sigmoid()  # Для многометочной задачи\n",
    "        )\n",
    "        \n",
    "    def forward(self, x):\n",
    "        return self.net(x)\n",
    "\n",
    "model = TFIDF_MLP(input_dim=X_train.shape[1], output_dim=y_train.shape[1])\n"
   ]
  },
  {
   "cell_type": "code",
   "execution_count": 57,
   "id": "e34f4e08-3a5e-4611-aed7-e4be3ea4829a",
   "metadata": {
    "execution": {
     "iopub.execute_input": "2025-05-18T14:35:20.523758Z",
     "iopub.status.busy": "2025-05-18T14:35:20.522820Z",
     "iopub.status.idle": "2025-05-18T14:35:20.538058Z",
     "shell.execute_reply": "2025-05-18T14:35:20.537250Z",
     "shell.execute_reply.started": "2025-05-18T14:35:20.523720Z"
    },
    "tags": []
   },
   "outputs": [],
   "source": [
    "def train_epoch(model, dataloader, criterion, optimizer, device):\n",
    "    model.train()\n",
    "    total_loss = 0\n",
    "    all_preds, all_targets = [], []\n",
    "    for xb, yb in dataloader:\n",
    "        xb, yb = xb.to(device), yb.to(device)\n",
    "        optimizer.zero_grad()\n",
    "        preds = model(xb)\n",
    "        loss = criterion(preds, yb)\n",
    "        loss.backward()\n",
    "        optimizer.step()\n",
    "        total_loss += loss.item() * xb.size(0)\n",
    "        all_preds.append(preds.detach().cpu().numpy())\n",
    "        all_targets.append(yb.cpu().numpy())\n",
    "    avg_loss = total_loss / len(dataloader.dataset)\n",
    "    all_preds = np.vstack(all_preds)\n",
    "    all_targets = np.vstack(all_targets)\n",
    "    f1 = calc_f1(all_targets, all_preds)\n",
    "    return avg_loss, f1\n"
   ]
  },
  {
   "cell_type": "code",
   "execution_count": 58,
   "id": "88b6fb33-3c7b-402b-93b1-9822333a6204",
   "metadata": {
    "execution": {
     "iopub.execute_input": "2025-05-18T14:35:23.156576Z",
     "iopub.status.busy": "2025-05-18T14:35:23.155338Z",
     "iopub.status.idle": "2025-05-18T14:35:23.179030Z",
     "shell.execute_reply": "2025-05-18T14:35:23.178282Z",
     "shell.execute_reply.started": "2025-05-18T14:35:23.156531Z"
    },
    "tags": []
   },
   "outputs": [],
   "source": [
    "def eval_epoch(model, dataloader, criterion, device):\n",
    "    model.eval()\n",
    "    total_loss = 0\n",
    "    all_preds, all_targets = [], []\n",
    "    with torch.no_grad():\n",
    "        for xb, yb in dataloader:\n",
    "            xb, yb = xb.to(device), yb.to(device)\n",
    "            preds = model(xb)\n",
    "            loss = criterion(preds, yb)\n",
    "            total_loss += loss.item() * xb.size(0)\n",
    "            all_preds.append(preds.cpu().numpy())\n",
    "            all_targets.append(yb.cpu().numpy())\n",
    "    avg_loss = total_loss / len(dataloader.dataset)\n",
    "    all_preds = np.vstack(all_preds)\n",
    "    all_targets = np.vstack(all_targets)\n",
    "    f1 = calc_f1(all_targets, all_preds)\n",
    "    return avg_loss, f1\n"
   ]
  },
  {
   "cell_type": "code",
   "execution_count": 59,
   "id": "49c9e4b5-4168-499a-85dc-cd72519b1469",
   "metadata": {
    "execution": {
     "iopub.execute_input": "2025-05-18T14:35:25.793846Z",
     "iopub.status.busy": "2025-05-18T14:35:25.792888Z",
     "iopub.status.idle": "2025-05-18T14:35:26.220227Z",
     "shell.execute_reply": "2025-05-18T14:35:26.219447Z",
     "shell.execute_reply.started": "2025-05-18T14:35:25.793811Z"
    },
    "tags": []
   },
   "outputs": [],
   "source": [
    "device = torch.device('cuda' if torch.cuda.is_available() else 'cpu')\n",
    "\n",
    "model.to(device)\n",
    "criterion = nn.BCELoss()\n",
    "\n",
    "optimizer = optim.Adam(model.parameters(), lr=1e-3, weight_decay=1e-4)\n",
    "\n",
    "# Scheduler с warmup (используем LambdaLR)\n",
    "def get_scheduler(optimizer, warmup_steps, total_steps):\n",
    "    def lr_lambda(step):\n",
    "        if step < warmup_steps:\n",
    "            return float(step) / float(max(1, warmup_steps))\n",
    "        return max(0.0, float(total_steps - step) / float(max(1, total_steps - warmup_steps)))\n",
    "    return LambdaLR(optimizer, lr_lambda)\n",
    "\n",
    "num_epochs = 20\n",
    "warmup_steps = 100\n",
    "total_steps = num_epochs * len(train_loader)\n",
    "scheduler = get_scheduler(optimizer, warmup_steps, total_steps)"
   ]
  },
  {
   "cell_type": "code",
   "execution_count": 60,
   "id": "c2b61804-6c00-41d3-aa1a-09531a05f2cf",
   "metadata": {
    "execution": {
     "iopub.execute_input": "2025-05-18T14:35:26.946440Z",
     "iopub.status.busy": "2025-05-18T14:35:26.945464Z",
     "iopub.status.idle": "2025-05-18T14:35:26.964560Z",
     "shell.execute_reply": "2025-05-18T14:35:26.963822Z",
     "shell.execute_reply.started": "2025-05-18T14:35:26.946399Z"
    },
    "tags": []
   },
   "outputs": [],
   "source": [
    "class EarlyStopping:\n",
    "    def __init__(self, patience=5, verbose=False, delta=0, path='best_model.pt'):\n",
    "        self.patience = patience\n",
    "        self.verbose = verbose\n",
    "        self.counter = 0\n",
    "        self.best_score = None\n",
    "        self.early_stop = False\n",
    "        self.delta = delta\n",
    "        self.path = path\n",
    "\n",
    "    def __call__(self, val_f1, model):\n",
    "        score = val_f1\n",
    "        if self.best_score is None:\n",
    "            self.best_score = score\n",
    "            self.save_checkpoint(model)\n",
    "        elif score < self.best_score + self.delta:\n",
    "            self.counter += 1\n",
    "            if self.verbose:\n",
    "                print(f'EarlyStopping counter: {self.counter} out of {self.patience}')\n",
    "            if self.counter >= self.patience:\n",
    "                self.early_stop = True\n",
    "        else:\n",
    "            self.best_score = score\n",
    "            self.save_checkpoint(model)\n",
    "            self.counter = 0\n",
    "\n",
    "    def save_checkpoint(self, model):\n",
    "        if self.verbose:\n",
    "            print(f'Saving model with val_f1: {self.best_score:.4f}')\n",
    "        torch.save(model.state_dict(), self.path)\n"
   ]
  },
  {
   "cell_type": "code",
   "execution_count": 61,
   "id": "dc6fbd0b-1819-4c41-89bc-a3f8f4861d79",
   "metadata": {
    "execution": {
     "iopub.execute_input": "2025-05-18T14:35:28.172461Z",
     "iopub.status.busy": "2025-05-18T14:35:28.171516Z",
     "iopub.status.idle": "2025-05-18T14:36:13.557267Z",
     "shell.execute_reply": "2025-05-18T14:36:13.556418Z",
     "shell.execute_reply.started": "2025-05-18T14:35:28.172425Z"
    },
    "tags": []
   },
   "outputs": [
    {
     "name": "stdout",
     "output_type": "stream",
     "text": [
      "Epoch 1/50, Train Loss: 0.3878, Val Loss: 0.2810, Val F1: 0.8854\n",
      "Saving model with val_f1: 0.8854\n",
      "Epoch 2/50, Train Loss: 0.2665, Val Loss: 0.2537, Val F1: 0.8968\n",
      "Saving model with val_f1: 0.8968\n",
      "Epoch 3/50, Train Loss: 0.2415, Val Loss: 0.2416, Val F1: 0.9026\n",
      "Saving model with val_f1: 0.9026\n",
      "Epoch 4/50, Train Loss: 0.2266, Val Loss: 0.2315, Val F1: 0.9069\n",
      "Saving model with val_f1: 0.9069\n",
      "Epoch 5/50, Train Loss: 0.2153, Val Loss: 0.2241, Val F1: 0.9097\n",
      "Saving model with val_f1: 0.9097\n",
      "Epoch 6/50, Train Loss: 0.2056, Val Loss: 0.2182, Val F1: 0.9135\n",
      "Saving model with val_f1: 0.9135\n",
      "Epoch 7/50, Train Loss: 0.1965, Val Loss: 0.2138, Val F1: 0.9146\n",
      "Saving model with val_f1: 0.9146\n",
      "Epoch 8/50, Train Loss: 0.1882, Val Loss: 0.2111, Val F1: 0.9150\n",
      "Saving model with val_f1: 0.9150\n",
      "Epoch 9/50, Train Loss: 0.1813, Val Loss: 0.2071, Val F1: 0.9163\n",
      "Saving model with val_f1: 0.9163\n",
      "Epoch 10/50, Train Loss: 0.1746, Val Loss: 0.2051, Val F1: 0.9179\n",
      "Saving model with val_f1: 0.9179\n",
      "Epoch 11/50, Train Loss: 0.1680, Val Loss: 0.2021, Val F1: 0.9188\n",
      "Saving model with val_f1: 0.9188\n",
      "Epoch 12/50, Train Loss: 0.1626, Val Loss: 0.1996, Val F1: 0.9201\n",
      "Saving model with val_f1: 0.9201\n",
      "Epoch 13/50, Train Loss: 0.1572, Val Loss: 0.1984, Val F1: 0.9204\n",
      "Saving model with val_f1: 0.9204\n",
      "Epoch 14/50, Train Loss: 0.1525, Val Loss: 0.1970, Val F1: 0.9217\n",
      "Saving model with val_f1: 0.9217\n",
      "Epoch 15/50, Train Loss: 0.1472, Val Loss: 0.1970, Val F1: 0.9218\n",
      "Saving model with val_f1: 0.9218\n",
      "Epoch 16/50, Train Loss: 0.1433, Val Loss: 0.1950, Val F1: 0.9230\n",
      "Saving model with val_f1: 0.9230\n",
      "Epoch 17/50, Train Loss: 0.1391, Val Loss: 0.1948, Val F1: 0.9230\n",
      "EarlyStopping counter: 1 out of 5\n",
      "Epoch 18/50, Train Loss: 0.1357, Val Loss: 0.1942, Val F1: 0.9232\n",
      "Saving model with val_f1: 0.9232\n",
      "Epoch 19/50, Train Loss: 0.1318, Val Loss: 0.1937, Val F1: 0.9236\n",
      "Saving model with val_f1: 0.9236\n",
      "Epoch 20/50, Train Loss: 0.1291, Val Loss: 0.1938, Val F1: 0.9236\n",
      "EarlyStopping counter: 1 out of 5\n",
      "Epoch 21/50, Train Loss: 0.1277, Val Loss: 0.1938, Val F1: 0.9236\n",
      "EarlyStopping counter: 2 out of 5\n",
      "Epoch 22/50, Train Loss: 0.1279, Val Loss: 0.1938, Val F1: 0.9236\n",
      "EarlyStopping counter: 3 out of 5\n",
      "Epoch 23/50, Train Loss: 0.1279, Val Loss: 0.1938, Val F1: 0.9236\n",
      "EarlyStopping counter: 4 out of 5\n",
      "Epoch 24/50, Train Loss: 0.1277, Val Loss: 0.1938, Val F1: 0.9236\n",
      "EarlyStopping counter: 5 out of 5\n",
      "Ранняя остановка!\n"
     ]
    }
   ],
   "source": [
    "num_epochs = 50\n",
    "early_stopping = EarlyStopping(patience=5, verbose=True, path='best_model.pt')\n",
    "\n",
    "train_losses = []\n",
    "val_losses = []\n",
    "val_f1_scores = []\n",
    "\n",
    "for epoch in range(num_epochs):\n",
    "    model.train()\n",
    "    running_loss = 0.0\n",
    "    \n",
    "    for xb, yb in train_loader:\n",
    "        xb, yb = xb.to(device), yb.to(device)\n",
    "        optimizer.zero_grad()\n",
    "        preds = model(xb)\n",
    "        loss = criterion(preds, yb)\n",
    "        loss.backward()\n",
    "        optimizer.step()\n",
    "        scheduler.step()  # шаг scheduler после каждого батча\n",
    "        running_loss += loss.item() * xb.size(0)\n",
    "        \n",
    "    train_loss = running_loss / len(train_loader.dataset)\n",
    "    train_losses.append(train_loss)\n",
    "    \n",
    "    # Валидация\n",
    "    model.eval()\n",
    "    val_loss = 0.0\n",
    "    all_preds = []\n",
    "    all_targets = []\n",
    "    \n",
    "    with torch.no_grad():\n",
    "        for xb, yb in val_loader:\n",
    "            xb, yb = xb.to(device), yb.to(device)\n",
    "            preds = model(xb)\n",
    "            loss = criterion(preds, yb)\n",
    "            val_loss += loss.item() * xb.size(0)\n",
    "            all_preds.append(preds.cpu().numpy())\n",
    "            all_targets.append(yb.cpu().numpy())\n",
    "    \n",
    "    val_loss /= len(val_loader.dataset)\n",
    "    val_losses.append(val_loss)\n",
    "    \n",
    "    all_preds = np.vstack(all_preds)\n",
    "    all_targets = np.vstack(all_targets)\n",
    "    \n",
    "    val_f1 = calc_f1(all_targets, all_preds)\n",
    "    val_f1_scores.append(val_f1)\n",
    "    \n",
    "    print(f'Epoch {epoch+1}/{num_epochs}, Train Loss: {train_loss:.4f}, Val Loss: {val_loss:.4f}, Val F1: {val_f1:.4f}')\n",
    "    \n",
    "    early_stopping(val_f1, model)\n",
    "    if early_stopping.early_stop:\n",
    "        print(\"Ранняя остановка!\")\n",
    "        break\n"
   ]
  },
  {
   "cell_type": "code",
   "execution_count": 62,
   "id": "77346c01-6873-48f9-8ddf-7b3167554581",
   "metadata": {
    "execution": {
     "iopub.execute_input": "2025-05-18T14:36:13.559400Z",
     "iopub.status.busy": "2025-05-18T14:36:13.558413Z",
     "iopub.status.idle": "2025-05-18T14:36:14.181425Z",
     "shell.execute_reply": "2025-05-18T14:36:14.180551Z",
     "shell.execute_reply.started": "2025-05-18T14:36:13.559363Z"
    },
    "tags": []
   },
   "outputs": [
    {
     "data": {
      "image/png": "[encoded data removed]",
      "text/plain": [
       "<Figure size 1200x400 with 2 Axes>"
      ]
     },
     "metadata": {},
     "output_type": "display_data"
    }
   ],
   "source": [
    "plt.figure(figsize=(12,4))\n",
    "\n",
    "plt.subplot(1,2,1)\n",
    "plt.plot(train_losses, label='Train Loss')\n",
    "plt.plot(val_losses, label='Val Loss')\n",
    "plt.xlabel('Epoch')\n",
    "plt.ylabel('Loss')\n",
    "plt.legend()\n",
    "plt.title('Loss over epochs')\n",
    "\n",
    "plt.subplot(1,2,2)\n",
    "plt.plot(val_f1_scores, label='Val F1 Score')\n",
    "plt.xlabel('Epoch')\n",
    "plt.ylabel('F1 Score')\n",
    "plt.legend()\n",
    "plt.title('Validation F1 Score over epochs')\n",
    "\n",
    "plt.show()\n"
   ]
  },
  {
   "cell_type": "code",
   "execution_count": null,
   "id": "96aba4db-bcbf-4c59-9aef-e8dd2060246f",
   "metadata": {},
   "outputs": [],
   "source": []
  },
  {
   "cell_type": "code",
   "execution_count": 85,
   "id": "ca41283d-936d-4b58-a0f3-4bcf461f770e",
   "metadata": {
    "execution": {
     "iopub.execute_input": "2025-05-18T10:48:28.002310Z",
     "iopub.status.busy": "2025-05-18T10:48:28.001547Z",
     "iopub.status.idle": "2025-05-18T10:49:33.585928Z",
     "shell.execute_reply": "2025-05-18T10:49:33.584951Z",
     "shell.execute_reply.started": "2025-05-18T10:48:28.002275Z"
    },
    "tags": []
   },
   "outputs": [],
   "source": [
    "data_test['tfidf_clean'] = data_test['text'].apply(clean_tfidf)"
   ]
  },
  {
   "cell_type": "code",
   "execution_count": 98,
   "id": "82f5b0c5-ab67-4c2e-aaf3-c46935e43865",
   "metadata": {
    "execution": {
     "iopub.execute_input": "2025-05-18T10:55:34.132273Z",
     "iopub.status.busy": "2025-05-18T10:55:34.131392Z",
     "iopub.status.idle": "2025-05-18T10:55:34.169482Z",
     "shell.execute_reply": "2025-05-18T10:55:34.168762Z",
     "shell.execute_reply.started": "2025-05-18T10:55:34.132220Z"
    },
    "tags": []
   },
   "outputs": [
    {
     "data": {
      "text/html": [
       "<div>\n",
       "<style scoped>\n",
       "    .dataframe tbody tr th:only-of-type {\n",
       "        vertical-align: middle;\n",
       "    }\n",
       "\n",
       "    .dataframe tbody tr th {\n",
       "        vertical-align: top;\n",
       "    }\n",
       "\n",
       "    .dataframe thead th {\n",
       "        text-align: right;\n",
       "    }\n",
       "</style>\n",
       "<table border=\"1\" class=\"dataframe\">\n",
       "  <thead>\n",
       "    <tr style=\"text-align: right;\">\n",
       "      <th></th>\n",
       "      <th>id</th>\n",
       "      <th>text</th>\n",
       "      <th>tfidf_clean</th>\n",
       "    </tr>\n",
       "  </thead>\n",
       "  <tbody>\n",
       "    <tr>\n",
       "      <th>0</th>\n",
       "      <td>29568</td>\n",
       "      <td>ЭЙ, ВЛЮБЛЁННЫЕ\\nСкидка 20% промокоду SYHOYZ\\nн...</td>\n",
       "      <td>эй влюбла нный скидка промокод syhoyz спектакл...</td>\n",
       "    </tr>\n",
       "    <tr>\n",
       "      <th>1</th>\n",
       "      <td>29569</td>\n",
       "      <td>Пруды Москвы</td>\n",
       "      <td>пруд москва</td>\n",
       "    </tr>\n",
       "    <tr>\n",
       "      <th>2</th>\n",
       "      <td>29570</td>\n",
       "      <td>🤪\\n🤪\\n👏\\n👏\\n😄\\n😄\\n👏\\n👏\\n👨‍👩‍👦\\nСемейка лёгкого...</td>\n",
       "      <td>семейка л гкий поведение неожиданный комедия т...</td>\n",
       "    </tr>\n",
       "    <tr>\n",
       "      <th>3</th>\n",
       "      <td>29571</td>\n",
       "      <td>24 СЕНТЯБРЯ\\nИсторический фестиваль «Башкирия ...</td>\n",
       "      <td>сентябрь исторический фестиваль башкирия русь ...</td>\n",
       "    </tr>\n",
       "    <tr>\n",
       "      <th>4</th>\n",
       "      <td>29572</td>\n",
       "      <td>19-20 августа\\nДетский клуб в кафе «Отдых»\\nТе...</td>\n",
       "      <td>август детский клуб кафе отдых тематический ра...</td>\n",
       "    </tr>\n",
       "    <tr>\n",
       "      <th>...</th>\n",
       "      <td>...</td>\n",
       "      <td>...</td>\n",
       "      <td>...</td>\n",
       "    </tr>\n",
       "    <tr>\n",
       "      <th>7387</th>\n",
       "      <td>36955</td>\n",
       "      <td>Концерт «Stabat Mater»\\n24 и 25 марта в 20:00\\...</td>\n",
       "      <td>концерт stabat mater март кирочный ул преддвер...</td>\n",
       "    </tr>\n",
       "    <tr>\n",
       "      <th>7388</th>\n",
       "      <td>36956</td>\n",
       "      <td>СПЕКТАКЛЬ «ОДНАЖДЫ…»\\nСпектакль для 1 зрителя....</td>\n",
       "      <td>спектакль однажды спектакль зритель любить кни...</td>\n",
       "    </tr>\n",
       "    <tr>\n",
       "      <th>7389</th>\n",
       "      <td>36957</td>\n",
       "      <td>вт.-пт. 10:00-20:00 можно бесплатно полетать н...</td>\n",
       "      <td>вт пт бесплатно полетать москва vr аттракцион ...</td>\n",
       "    </tr>\n",
       "    <tr>\n",
       "      <th>7390</th>\n",
       "      <td>36958</td>\n",
       "      <td>ТЕАТРАЛЬНЫЙ СЕЗОН \"НА ВОДАХ\"\\nс 1 по 9 апреля ...</td>\n",
       "      <td>театральный сезон вода апрель год г железновод...</td>\n",
       "    </tr>\n",
       "    <tr>\n",
       "      <th>7391</th>\n",
       "      <td>36959</td>\n",
       "      <td>Атмосферный концерт \"Скрипка Паганини при свеч...</td>\n",
       "      <td>атмосферный концерт скрипка паганиня свеча осо...</td>\n",
       "    </tr>\n",
       "  </tbody>\n",
       "</table>\n",
       "<p>7392 rows × 3 columns</p>\n",
       "</div>"
      ],
      "text/plain": [
       "         id  ...                                        tfidf_clean\n",
       "0     29568  ...  эй влюбла нный скидка промокод syhoyz спектакл...\n",
       "1     29569  ...                                        пруд москва\n",
       "2     29570  ...  семейка л гкий поведение неожиданный комедия т...\n",
       "3     29571  ...  сентябрь исторический фестиваль башкирия русь ...\n",
       "4     29572  ...  август детский клуб кафе отдых тематический ра...\n",
       "...     ...  ...                                                ...\n",
       "7387  36955  ...  концерт stabat mater март кирочный ул преддвер...\n",
       "7388  36956  ...  спектакль однажды спектакль зритель любить кни...\n",
       "7389  36957  ...  вт пт бесплатно полетать москва vr аттракцион ...\n",
       "7390  36958  ...  театральный сезон вода апрель год г железновод...\n",
       "7391  36959  ...  атмосферный концерт скрипка паганиня свеча осо...\n",
       "\n",
       "[7392 rows x 3 columns]"
      ]
     },
     "execution_count": 98,
     "metadata": {},
     "output_type": "execute_result"
    }
   ],
   "source": [
    "data_test"
   ]
  },
  {
   "cell_type": "code",
   "execution_count": 100,
   "id": "b0479558-e58d-4368-8aed-f7e45ecf5775",
   "metadata": {
    "execution": {
     "iopub.execute_input": "2025-05-18T10:55:48.673243Z",
     "iopub.status.busy": "2025-05-18T10:55:48.672435Z",
     "iopub.status.idle": "2025-05-18T10:55:49.671404Z",
     "shell.execute_reply": "2025-05-18T10:55:49.670583Z",
     "shell.execute_reply.started": "2025-05-18T10:55:48.673201Z"
    },
    "tags": []
   },
   "outputs": [
    {
     "name": "stdout",
     "output_type": "stream",
     "text": [
      "Submission saved to submission.csv\n"
     ]
    }
   ],
   "source": [
    "\n",
    "# Применяем тот же векторайзер, что и на обучении:\n",
    "\n",
    "X_test = vectorizer.transform(data_test['tfidf_clean'].values)  \n",
    "X_test_tensor = torch.tensor(X_test.toarray(), dtype=torch.float32).to(device)\n",
    "\n",
    "model.load_state_dict(torch.load('best_model.pt'))\n",
    "model.eval()\n",
    "\n",
    "all_test_preds = []\n",
    "with torch.no_grad():\n",
    "    batch_size = 64\n",
    "    for i in range(0, len(test_df), batch_size):\n",
    "        batch = X_test_tensor[i:i+batch_size]\n",
    "        preds = model(batch)\n",
    "        all_test_preds.append(preds.cpu().numpy())\n",
    "\n",
    "all_test_preds = np.vstack(all_test_preds)\n",
    "test_preds_bin = (all_test_preds > 0.5).astype(int)\n",
    "labels_str = [' '.join(map(str, row)) for row in test_preds_bin]\n",
    "submission = pd.DataFrame({\n",
    "    'id': test_df['id'],\n",
    "    'labels': labels_str\n",
    "})\n",
    "\n",
    "submission.to_csv('submission.csv', index=False)\n",
    "print('Submission saved to submission.csv')"
   ]
  },
  {
   "cell_type": "code",
   "execution_count": null,
   "id": "375a50d9-59d3-4e53-bdfd-d49d51731877",
   "metadata": {},
   "outputs": [],
   "source": []
  },
  {
   "cell_type": "markdown",
   "id": "7fba28ac-9e3a-4df4-8a84-1358659a7863",
   "metadata": {},
   "source": [
    "## (2) w2v + любая нейронная сеть (~0.77)\n"
   ]
  },
  {
   "cell_type": "code",
   "execution_count": 101,
   "id": "a0fcd078-6f07-4fdb-b43c-21f45b449664",
   "metadata": {
    "execution": {
     "iopub.execute_input": "2025-05-18T12:03:54.116082Z",
     "iopub.status.busy": "2025-05-18T12:03:54.115Z",
     "iopub.status.idle": "2025-05-18T12:03:54.167761Z",
     "shell.execute_reply": "2025-05-18T12:03:54.166829Z",
     "shell.execute_reply.started": "2025-05-18T12:03:54.116035Z"
    }
   },
   "outputs": [
    {
     "data": {
      "text/html": [
       "<div>\n",
       "<style scoped>\n",
       "    .dataframe tbody tr th:only-of-type {\n",
       "        vertical-align: middle;\n",
       "    }\n",
       "\n",
       "    .dataframe tbody tr th {\n",
       "        vertical-align: top;\n",
       "    }\n",
       "\n",
       "    .dataframe thead th {\n",
       "        text-align: right;\n",
       "    }\n",
       "</style>\n",
       "<table border=\"1\" class=\"dataframe\">\n",
       "  <thead>\n",
       "    <tr style=\"text-align: right;\">\n",
       "      <th></th>\n",
       "      <th>id</th>\n",
       "      <th>text</th>\n",
       "      <th>labels</th>\n",
       "      <th>tfidf_clean</th>\n",
       "      <th>w2v_clean</th>\n",
       "      <th>cnn_clean</th>\n",
       "      <th>rnn_clean</th>\n",
       "      <th>bert_clean</th>\n",
       "      <th>label_vector</th>\n",
       "    </tr>\n",
       "  </thead>\n",
       "  <tbody>\n",
       "    <tr>\n",
       "      <th>0</th>\n",
       "      <td>0</td>\n",
       "      <td>15 января\\nДетская развлекательная программа\\n...</td>\n",
       "      <td>1 0 0 0 1 0 0 0 1 0 0 0 1 1 1 1 1 0 0 1</td>\n",
       "      <td>январь детский развлекательный программа беспл...</td>\n",
       "      <td>[январь, детский, развлекательный, программа, ...</td>\n",
       "      <td>[15, января, детская, развлекательная, програм...</td>\n",
       "      <td>[15, января, детская, развлекательная, програм...</td>\n",
       "      <td>15 января\\nДетская развлекательная программа\\n...</td>\n",
       "      <td>[1, 0, 0, 0, 1, 0, 0, 0, 1, 0, 0, 0, 1, 1, 1, ...</td>\n",
       "    </tr>\n",
       "    <tr>\n",
       "      <th>1</th>\n",
       "      <td>1</td>\n",
       "      <td>13 и 14 августа\\nВыходные в Меге\\nhttps://t.me...</td>\n",
       "      <td>0 0 0 1 0 0 0 0 1 0 0 0 1 1 0 1 1 0 0 1</td>\n",
       "      <td>август выходной мег мегапарк</td>\n",
       "      <td>[и, август, выходной, в, мег, мегапарк]</td>\n",
       "      <td>[13, и, 14, августа, выходные, в, меге, мегапарк]</td>\n",
       "      <td>[13, и, 14, августа, выходные, в, меге, мегапарк]</td>\n",
       "      <td>13 и 14 августа\\nВыходные в Меге\\n\\nМегапарк</td>\n",
       "      <td>[0, 0, 0, 1, 0, 0, 0, 0, 1, 0, 0, 0, 1, 1, 0, ...</td>\n",
       "    </tr>\n",
       "    <tr>\n",
       "      <th>2</th>\n",
       "      <td>2</td>\n",
       "      <td>Йокнапатофа\\nПостановка Театр им. Маяковского\\...</td>\n",
       "      <td>0 0 0 0 1 0 0 0 0 0 0 0 1 1 0 1 1 0 0 1</td>\n",
       "      <td>йокнапатоф постановка театр маяковский билет р</td>\n",
       "      <td>[йокнапатоф, постановка, театр, они, маяковски...</td>\n",
       "      <td>[йокнапатофа, постановка, театр, им., маяковск...</td>\n",
       "      <td>[йокнапатофа, постановка, театр, им., маяковск...</td>\n",
       "      <td>Йокнапатофа\\nПостановка Театр им. Маяковского\\...</td>\n",
       "      <td>[0, 0, 0, 0, 1, 0, 0, 0, 0, 0, 0, 0, 1, 1, 0, ...</td>\n",
       "    </tr>\n",
       "    <tr>\n",
       "      <th>3</th>\n",
       "      <td>3</td>\n",
       "      <td>Впервые в Уфе танцевальная терапия в группе с ...</td>\n",
       "      <td>1 1 0 0 1 0 0 1 1 1 1 1 1 1 1 0 0 1 1 0</td>\n",
       "      <td>впервые уфа танцевальный терапия группа практи...</td>\n",
       "      <td>[впервые, в, уфа, танцевальный, терапия, в, гр...</td>\n",
       "      <td>[впервые, в, уфе, танцевальная, терапия, в, гр...</td>\n",
       "      <td>[впервые, в, уфе, танцевальная, терапия, в, гр...</td>\n",
       "      <td>Впервые в Уфе танцевальная терапия в группе с ...</td>\n",
       "      <td>[1, 1, 0, 0, 1, 0, 0, 1, 1, 1, 1, 1, 1, 1, 1, ...</td>\n",
       "    </tr>\n",
       "    <tr>\n",
       "      <th>4</th>\n",
       "      <td>4</td>\n",
       "      <td>🎹\\nGRAND PIANO COMPETITION\\n🎹\\nДрузья, сегодня...</td>\n",
       "      <td>1 1 0 0 0 0 0 1 1 0 0 1 1 1 1 0 1 1 1 0</td>\n",
       "      <td>grand piano competition друг сегодня открытие ...</td>\n",
       "      <td>[grand, piano, competition, друг, сегодня, отк...</td>\n",
       "      <td>[grand, piano, competition, друзья,, сегодня, ...</td>\n",
       "      <td>[grand, piano, competition, друзья,, сегодня, ...</td>\n",
       "      <td>🎹\\nGRAND PIANO COMPETITION\\n🎹\\nДрузья, сегодня...</td>\n",
       "      <td>[1, 1, 0, 0, 0, 0, 0, 1, 1, 0, 0, 1, 1, 1, 1, ...</td>\n",
       "    </tr>\n",
       "    <tr>\n",
       "      <th>...</th>\n",
       "      <td>...</td>\n",
       "      <td>...</td>\n",
       "      <td>...</td>\n",
       "      <td>...</td>\n",
       "      <td>...</td>\n",
       "      <td>...</td>\n",
       "      <td>...</td>\n",
       "      <td>...</td>\n",
       "      <td>...</td>\n",
       "    </tr>\n",
       "    <tr>\n",
       "      <th>29563</th>\n",
       "      <td>29563</td>\n",
       "      <td>Выступление Симфо-группы TEODOR\\n⠀\\n22 июля в ...</td>\n",
       "      <td>0 0 0 0 0 0 0 1 1 0 0 0 0 1 0 1 1 1 1 0</td>\n",
       "      <td>выступление симфо группа teodor июль парка мег...</td>\n",
       "      <td>[выступление, симфо, группа, teodor, июль, в, ...</td>\n",
       "      <td>[выступление, симфо-группы, teodor, 22, июля, ...</td>\n",
       "      <td>[выступление, симфо-группы, teodor, 22, июля, ...</td>\n",
       "      <td>Выступление Симфо-группы TEODOR\\n⠀\\n22 июля в ...</td>\n",
       "      <td>[0, 0, 0, 0, 0, 0, 0, 1, 1, 0, 0, 0, 0, 1, 0, ...</td>\n",
       "    </tr>\n",
       "    <tr>\n",
       "      <th>29564</th>\n",
       "      <td>29564</td>\n",
       "      <td>🔤\\nЮЗИКЛ \"МОНТЕ-КРИСТО\" ТЕАТР ОПЕРЕТТЫ\\nЭто оч...</td>\n",
       "      <td>1 1 1 0 0 0 0 1 0 1 1 1 0 1 1 0 1 1 1 0</td>\n",
       "      <td>юзикл монт кристо театр оперетта это очень ярк...</td>\n",
       "      <td>[юзикл, монт, кристо, театр, оперетта, это, оч...</td>\n",
       "      <td>[юзикл, монте-кристо, театр, оперетты, это, оч...</td>\n",
       "      <td>[юзикл, монте-кристо, театр, оперетты, это, оч...</td>\n",
       "      <td>🔤\\nЮЗИКЛ \"МОНТЕ-КРИСТО\" ТЕАТР ОПЕРЕТТЫ\\nЭто оч...</td>\n",
       "      <td>[1, 1, 1, 0, 0, 0, 0, 1, 0, 1, 1, 1, 0, 1, 1, ...</td>\n",
       "    </tr>\n",
       "    <tr>\n",
       "      <th>29565</th>\n",
       "      <td>29565</td>\n",
       "      <td>РАСПИСАНИЕ БЕСПЛАТНЫХ ЭКСКУРСИЙ\\nв октябре 202...</td>\n",
       "      <td>1 1 0 0 1 0 0 1 1 1 1 1 1 1 1 1 1 1 1 0</td>\n",
       "      <td>расписание бесплатный экскурсия октябрь год г ...</td>\n",
       "      <td>[расписание, бесплатный, экскурсия, в, октябрь...</td>\n",
       "      <td>[расписание, бесплатных, экскурсий, в, октябре...</td>\n",
       "      <td>[расписание, бесплатных, экскурсий, в, октябре...</td>\n",
       "      <td>РАСПИСАНИЕ БЕСПЛАТНЫХ ЭКСКУРСИЙ\\nв октябре 202...</td>\n",
       "      <td>[1, 1, 0, 0, 1, 0, 0, 1, 1, 1, 1, 1, 1, 1, 1, ...</td>\n",
       "    </tr>\n",
       "    <tr>\n",
       "      <th>29566</th>\n",
       "      <td>29566</td>\n",
       "      <td>Долгожданный концерт Надежды Кадышевой в Рязан...</td>\n",
       "      <td>1 0 1 0 0 0 0 1 0 1 1 1 0 1 1 0 0 1 1 0</td>\n",
       "      <td>долгожданный концерт надежда кадышева рязань с...</td>\n",
       "      <td>[долгожданный, концерт, надежда, кадышева, в, ...</td>\n",
       "      <td>[долгожданный, концерт, надежды, кадышевой, в,...</td>\n",
       "      <td>[долгожданный, концерт, надежды, кадышевой, в,...</td>\n",
       "      <td>Долгожданный концерт Надежды Кадышевой в Рязан...</td>\n",
       "      <td>[1, 0, 1, 0, 0, 0, 0, 1, 0, 1, 1, 1, 0, 1, 1, ...</td>\n",
       "    </tr>\n",
       "    <tr>\n",
       "      <th>29567</th>\n",
       "      <td>29567</td>\n",
       "      <td>Спектакль-победитель фестиваля «Амурская осень...</td>\n",
       "      <td>0 1 0 0 1 0 0 1 1 1 0 0 1 0 1 0 1 1 1 0</td>\n",
       "      <td>спектакль победитель фестиваль амурский осень ...</td>\n",
       "      <td>[спектакль, победитель, фестиваль, амурский, о...</td>\n",
       "      <td>[спектакль-победитель, фестиваля, амурская, ос...</td>\n",
       "      <td>[спектакль-победитель, фестиваля, амурская, ос...</td>\n",
       "      <td>Спектакль-победитель фестиваля «Амурская осень...</td>\n",
       "      <td>[0, 1, 0, 0, 1, 0, 0, 1, 1, 1, 0, 0, 1, 0, 1, ...</td>\n",
       "    </tr>\n",
       "  </tbody>\n",
       "</table>\n",
       "<p>29568 rows × 9 columns</p>\n",
       "</div>"
      ],
      "text/plain": [
       "          id  ...                                       label_vector\n",
       "0          0  ...  [1, 0, 0, 0, 1, 0, 0, 0, 1, 0, 0, 0, 1, 1, 1, ...\n",
       "1          1  ...  [0, 0, 0, 1, 0, 0, 0, 0, 1, 0, 0, 0, 1, 1, 0, ...\n",
       "2          2  ...  [0, 0, 0, 0, 1, 0, 0, 0, 0, 0, 0, 0, 1, 1, 0, ...\n",
       "3          3  ...  [1, 1, 0, 0, 1, 0, 0, 1, 1, 1, 1, 1, 1, 1, 1, ...\n",
       "4          4  ...  [1, 1, 0, 0, 0, 0, 0, 1, 1, 0, 0, 1, 1, 1, 1, ...\n",
       "...      ...  ...                                                ...\n",
       "29563  29563  ...  [0, 0, 0, 0, 0, 0, 0, 1, 1, 0, 0, 0, 0, 1, 0, ...\n",
       "29564  29564  ...  [1, 1, 1, 0, 0, 0, 0, 1, 0, 1, 1, 1, 0, 1, 1, ...\n",
       "29565  29565  ...  [1, 1, 0, 0, 1, 0, 0, 1, 1, 1, 1, 1, 1, 1, 1, ...\n",
       "29566  29566  ...  [1, 0, 1, 0, 0, 0, 0, 1, 0, 1, 1, 1, 0, 1, 1, ...\n",
       "29567  29567  ...  [0, 1, 0, 0, 1, 0, 0, 1, 1, 1, 0, 0, 1, 0, 1, ...\n",
       "\n",
       "[29568 rows x 9 columns]"
      ]
     },
     "execution_count": 101,
     "metadata": {},
     "output_type": "execute_result"
    }
   ],
   "source": [
    "df_4"
   ]
  },
  {
   "cell_type": "code",
   "execution_count": 102,
   "id": "6e9540c2-8334-4802-8af6-73513176cf4c",
   "metadata": {
    "execution": {
     "iopub.execute_input": "2025-05-18T12:05:10.861043Z",
     "iopub.status.busy": "2025-05-18T12:05:10.860191Z",
     "iopub.status.idle": "2025-05-18T12:05:13.111417Z",
     "shell.execute_reply": "2025-05-18T12:05:13.110634Z",
     "shell.execute_reply.started": "2025-05-18T12:05:10.861010Z"
    }
   },
   "outputs": [],
   "source": [
    "# 1. Получаем текст и метки\n",
    "X_text = df_4['w2v_clean'].astype(str).values\n",
    "y = np.array(df_4['label_vector'].tolist())\n",
    "\n",
    "# 2. Делим на трейн и валидацию с балансом по самым активным классам\n",
    "X_train_text, X_val_text, y_train, y_val = train_test_split(\n",
    "    X_text, y,\n",
    "    test_size=0.15,\n",
    "    random_state=42,\n",
    "    stratify=y.argmax(axis=1)  # важно! обеспечиваем сбалансированность\n",
    ")\n",
    "\n"
   ]
  },
  {
   "cell_type": "code",
   "execution_count": 103,
   "id": "e7bc45e3-90a6-448e-8d7a-ab95669a59e0",
   "metadata": {
    "execution": {
     "iopub.execute_input": "2025-05-18T12:11:14.148736Z",
     "iopub.status.busy": "2025-05-18T12:11:14.147769Z",
     "iopub.status.idle": "2025-05-18T12:11:14.170357Z",
     "shell.execute_reply": "2025-05-18T12:11:14.169643Z",
     "shell.execute_reply.started": "2025-05-18T12:11:14.148692Z"
    }
   },
   "outputs": [
    {
     "data": {
      "text/plain": [
       "array([\"['январь', 'детский', 'развлекательный', 'программа', 'бесплатно', 'cafeotdyh', 'кафе', 'отдых', 'запись', 'обязательно']\",\n",
       "       \"['и', 'август', 'выходной', 'в', 'мег', 'мегапарк']\",\n",
       "       \"['йокнапатоф', 'постановка', 'театр', 'они', 'маяковский', 'билет', 'от', 'до', 'р']\",\n",
       "       ...,\n",
       "       \"['расписание', 'бесплатный', 'экскурсия', 'в', 'октябрь', 'год', 'г', 'кисловодск', 'курортный', 'осень', 'в', 'кисловодск', 'продолжаться', 'уважаемый', 'житель', 'и', 'гость', 'город', 'курорт', 'кисловодск', 'приглашать', 'вы', 'принять', 'участие', 'в', 'бесплатный', 'экскурсия', 'по', 'кисловодск', 'в', 'октябрь', 'это', 'уникальный', 'возможность', 'узнать', 'большой', 'о', 'богатый', 'история', 'культура', 'и', 'природный', 'красота', 'наш', 'курорт', 'не', 'забыть', 'заранее', 'забронировать', 'место', 'так', 'как', 'количество', 'участник', 'ограничить', 'предварительный', 'запись', 'по', 'телефон', 'управление', 'по', 'курорт', 'и', 'туризм', 'администрация', 'город', 'курорт', 'кисловодск', 'источник', 'репост', 'приветствоваться', 'eventskmv', 'октябрь', 'г', 'экскурсия', 'кудапойтикисловодск', 'кмв', 'кисловодск', 'афишакисловодск', 'афишакмть']\",\n",
       "       \"['долгожданный', 'концерт', 'надежда', 'кадышева', 'в', 'рязань', 'состояться', 'ноябрь', 'в', 'она', 'песня', 'влюбляться', 'всё', 'возраст', 'они', 'наполнить', 'народный', 'мудрость', 'раскрывать', 'широта', 'и', 'глубина', 'славянский', 'душа', 'посвящаться', 'сам', 'светлый', 'добрый', 'чувство', 'на', 'земля', 'чувство', 'который', 'заставлять', 'мы', 'жить', 'творить', 'сердце', 'биться', 'любовь', 'именно', 'потому', 'всё', 'песня', 'золотой', 'кольцо', 'и', 'надежда', 'кадышева', 'становиться', 'абсолютный', 'хит', 'они', 'любить', 'по', 'настоящий', 'не', 'только', 'слушать', 'но', 'и', 'петь', 'всё', 'билет', 'распродать', 'надеждакадышев', 'рязань', 'всеконцерт']\",\n",
       "       \"['спектакль', 'победитель', 'фестиваль', 'амурский', 'осень', 'в', 'санкт', 'петербург', 'гастроль', 'театральный', 'проект', 'сначала', 'театр', 'театр', 'с', 'начало', 'с', 'по', 'июнь', 'на', 'сцена', 'молодой', 'жный', 'театр', 'на', 'фонтанка', 'молодой', 'жный', 'театр', 'на', 'фонтанка', 'билет', 'по', 'ссылка', 'здесь', 'по', 'промокод', 'сначалапитер', 'июнь', 'чт', 'спектакль', 'дикарь', 'дикий', 'комедия', 'по', 'испанский', 'пьеса', 'алехандро', 'касон', 'о', 'встреча', 'современный', 'мауголь', 'и', 'молодой', 'учительница', 'из', 'мегаполис', 'июнь', 'чт', 'июнь', 'вс', 'спектакль', 'забыть', 'герострата', 'трагикомедия', 'по', 'пьеса', 'григорий', 'горин', 'о', 'расследование', 'преступление', 'совершенный', 'ради', 'слава', 'и', 'признание', 'июнь', 'сб', 'спектакль', 'поединок', 'музыкальный', 'драма', 'по', 'повесть', 'александр', 'куприн', 'о', 'честь', 'благородство', 'и', 'внутренний', 'сила', 'человек', 'билет', 'с', 'скидка', 'teatrspb']\"],\n",
       "      dtype=object)"
      ]
     },
     "execution_count": 103,
     "metadata": {},
     "output_type": "execute_result"
    }
   ],
   "source": [
    "X_text"
   ]
  },
  {
   "cell_type": "markdown",
   "id": "7be943b8-5a50-42fa-8848-3227ec5d212d",
   "metadata": {},
   "source": [
    "это если самим обучать Word2Vec"
   ]
  },
  {
   "cell_type": "code",
   "execution_count": 104,
   "id": "507a66e2-e4b3-49bd-9a0a-266edb98a0f5",
   "metadata": {
    "execution": {
     "iopub.execute_input": "2025-05-18T12:12:35.352838Z",
     "iopub.status.busy": "2025-05-18T12:12:35.351974Z",
     "iopub.status.idle": "2025-05-18T12:12:38.682892Z",
     "shell.execute_reply": "2025-05-18T12:12:38.682101Z",
     "shell.execute_reply.started": "2025-05-18T12:12:35.352801Z"
    }
   },
   "outputs": [],
   "source": [
    "from gensim.models import KeyedVectors\n"
   ]
  },
  {
   "cell_type": "code",
   "execution_count": null,
   "id": "25a50366-4294-4920-ad90-cf4b2b267d67",
   "metadata": {},
   "outputs": [],
   "source": [
    "w2v_model = Word2Vec(\n",
    "    sentences=X_text,\n",
    "    vector_size=100,\n",
    "    window=5,\n",
    "    min_count=2,\n",
    "    workers=4,\n",
    "    epochs=10\n",
    ")\n"
   ]
  },
  {
   "cell_type": "markdown",
   "id": "2ac3aabf-99d0-4326-a763-60c8a85a5802",
   "metadata": {},
   "source": [
    "### иду через предобученную модель word2vec (тут вообще 0.57)"
   ]
  },
  {
   "cell_type": "code",
   "execution_count": 106,
   "id": "e9317b5d-ab94-4baf-9473-ae4a4ff810e3",
   "metadata": {
    "execution": {
     "iopub.execute_input": "2025-05-18T12:16:54.319993Z",
     "iopub.status.busy": "2025-05-18T12:16:54.319005Z",
     "iopub.status.idle": "2025-05-18T12:17:28.644256Z",
     "shell.execute_reply": "2025-05-18T12:17:28.643465Z",
     "shell.execute_reply.started": "2025-05-18T12:16:54.319950Z"
    }
   },
   "outputs": [
    {
     "name": "stdout",
     "output_type": "stream",
     "text": [
      "[==================================================] 100.0% 198.8/198.8MB downloaded\n"
     ]
    }
   ],
   "source": [
    "import gensim.downloader as api\n",
    "w2v_model = api.load(\"word2vec-ruscorpora-300\")  # но она загружается онлайн\n"
   ]
  },
  {
   "cell_type": "code",
   "execution_count": 107,
   "id": "1cee2db3-4691-4c0d-b74f-c707210b29d8",
   "metadata": {
    "execution": {
     "iopub.execute_input": "2025-05-18T12:17:45.302619Z",
     "iopub.status.busy": "2025-05-18T12:17:45.301690Z",
     "iopub.status.idle": "2025-05-18T12:17:45.326367Z",
     "shell.execute_reply": "2025-05-18T12:17:45.325526Z",
     "shell.execute_reply.started": "2025-05-18T12:17:45.302581Z"
    },
    "tags": []
   },
   "outputs": [],
   "source": [
    "embedding_dim = w2v_model.vector_size"
   ]
  },
  {
   "cell_type": "code",
   "execution_count": 108,
   "id": "83c088ee-429a-436b-a713-01c415fabcca",
   "metadata": {
    "execution": {
     "iopub.execute_input": "2025-05-18T12:31:30.912075Z",
     "iopub.status.busy": "2025-05-18T12:31:30.911036Z",
     "iopub.status.idle": "2025-05-18T12:31:32.614810Z",
     "shell.execute_reply": "2025-05-18T12:31:32.613939Z",
     "shell.execute_reply.started": "2025-05-18T12:31:30.912028Z"
    }
   },
   "outputs": [
    {
     "name": "stderr",
     "output_type": "stream",
     "text": [
      "100%|██████████| 25132/25132 [00:01<00:00, 18274.34it/s]\n",
      "100%|██████████| 4436/4436 [00:00<00:00, 18376.27it/s]\n"
     ]
    }
   ],
   "source": [
    "# 4. Функция преобразования текста в эмбеддинги\n",
    "def vectorize_text(text_list):\n",
    "    vectors = []\n",
    "    for tokens in tqdm(text_list):\n",
    "        words = tokens.split()\n",
    "        word_vecs = [w2v_model[word] for word in words if word in w2v_model]\n",
    "        if len(word_vecs) == 0:\n",
    "            vectors.append(np.zeros(embedding_dim))\n",
    "        else:\n",
    "            vectors.append(np.mean(word_vecs, axis=0))\n",
    "    return np.array(vectors)\n",
    "\n",
    "X_train_vec = vectorize_text(X_train_text)\n",
    "X_val_vec = vectorize_text(X_val_text)\n"
   ]
  },
  {
   "cell_type": "code",
   "execution_count": 114,
   "id": "aa53e6d5-10ce-4e04-a8e2-64cbd7a2ce11",
   "metadata": {
    "execution": {
     "iopub.execute_input": "2025-05-18T12:39:55.884418Z",
     "iopub.status.busy": "2025-05-18T12:39:55.883455Z",
     "iopub.status.idle": "2025-05-18T12:39:55.902216Z",
     "shell.execute_reply": "2025-05-18T12:39:55.901397Z",
     "shell.execute_reply.started": "2025-05-18T12:39:55.884377Z"
    },
    "tags": []
   },
   "outputs": [],
   "source": [
    "from torch.utils.data import Dataset, DataLoader\n"
   ]
  },
  {
   "cell_type": "code",
   "execution_count": 115,
   "id": "79e1ca41-cdc1-4372-b538-b51740df2126",
   "metadata": {
    "execution": {
     "iopub.execute_input": "2025-05-18T12:39:56.085889Z",
     "iopub.status.busy": "2025-05-18T12:39:56.084930Z",
     "iopub.status.idle": "2025-05-18T12:39:56.108922Z",
     "shell.execute_reply": "2025-05-18T12:39:56.108221Z",
     "shell.execute_reply.started": "2025-05-18T12:39:56.085848Z"
    },
    "tags": []
   },
   "outputs": [],
   "source": [
    "class TextDataset(Dataset):\n",
    "    def __init__(self, X, y):\n",
    "        self.X = torch.tensor(X, dtype=torch.float32)\n",
    "        self.y = torch.tensor(y, dtype=torch.float32)\n",
    "\n",
    "    def __len__(self):\n",
    "        return len(self.X)\n",
    "\n",
    "    def __getitem__(self, idx):\n",
    "        return self.X[idx], self.y[idx]\n",
    "\n",
    "train_dataset = TextDataset(X_train_vec, y_train)\n",
    "val_dataset = TextDataset(X_val_vec, y_val)\n",
    "train_loader = DataLoader(train_dataset, batch_size=64, shuffle=True)\n",
    "val_loader = DataLoader(val_dataset, batch_size=64)\n"
   ]
  },
  {
   "cell_type": "code",
   "execution_count": 116,
   "id": "04eb5ffd-5331-41f6-b752-339b981563fe",
   "metadata": {
    "execution": {
     "iopub.execute_input": "2025-05-18T12:39:56.272743Z",
     "iopub.status.busy": "2025-05-18T12:39:56.271811Z",
     "iopub.status.idle": "2025-05-18T12:39:56.286648Z",
     "shell.execute_reply": "2025-05-18T12:39:56.285922Z",
     "shell.execute_reply.started": "2025-05-18T12:39:56.272701Z"
    },
    "tags": []
   },
   "outputs": [],
   "source": [
    "# 6. Модель\n",
    "class W2V_MLP(nn.Module):\n",
    "    def __init__(self, input_dim, output_dim):\n",
    "        super().__init__()\n",
    "        self.model = nn.Sequential(\n",
    "            nn.Linear(input_dim, 512),\n",
    "            nn.ReLU(),\n",
    "            nn.Dropout(0.3),\n",
    "            nn.Linear(512, 256),\n",
    "            nn.ReLU(),\n",
    "            nn.Linear(256, output_dim),\n",
    "            nn.Sigmoid()\n",
    "        )\n",
    "\n",
    "    def forward(self, x):\n",
    "        return self.model(x)\n",
    "\n",
    "model = W2V_MLP(input_dim=embedding_dim, output_dim=y.shape[1])"
   ]
  },
  {
   "cell_type": "code",
   "execution_count": null,
   "id": "accb6adb-54e2-4152-ba4b-6795e6c08a00",
   "metadata": {},
   "outputs": [],
   "source": []
  },
  {
   "cell_type": "code",
   "execution_count": 117,
   "id": "401d8a72-d21e-4a9a-9a29-62de5232f68b",
   "metadata": {
    "execution": {
     "iopub.execute_input": "2025-05-18T12:39:57.856111Z",
     "iopub.status.busy": "2025-05-18T12:39:57.855117Z",
     "iopub.status.idle": "2025-05-18T12:39:57.873325Z",
     "shell.execute_reply": "2025-05-18T12:39:57.872562Z",
     "shell.execute_reply.started": "2025-05-18T12:39:57.856069Z"
    }
   },
   "outputs": [],
   "source": [
    "# 8. F1-мера\n",
    "def calc_f1(y_true, y_pred, threshold=0.5):\n",
    "    y_pred_bin = (y_pred > threshold).astype(int)\n",
    "    return f1_score(y_true, y_pred_bin, average='macro')  \n"
   ]
  },
  {
   "cell_type": "code",
   "execution_count": 118,
   "id": "ea449907-68e6-4b3d-a93b-9223657e2e34",
   "metadata": {
    "execution": {
     "iopub.execute_input": "2025-05-18T12:39:58.880537Z",
     "iopub.status.busy": "2025-05-18T12:39:58.879708Z",
     "iopub.status.idle": "2025-05-18T12:39:58.897407Z",
     "shell.execute_reply": "2025-05-18T12:39:58.896674Z",
     "shell.execute_reply.started": "2025-05-18T12:39:58.880509Z"
    }
   },
   "outputs": [],
   "source": [
    "class EarlyStopping:\n",
    "    def __init__(self, patience=5, verbose=False, delta=0):\n",
    "        self.patience = patience\n",
    "        self.verbose = verbose\n",
    "        self.delta = delta\n",
    "        self.best_score = None\n",
    "        self.counter = 0\n",
    "        self.early_stop = False\n",
    "\n",
    "    def __call__(self, val_score, model, path):\n",
    "        score = val_score\n",
    "\n",
    "        if self.best_score is None:\n",
    "            self.best_score = score\n",
    "            self.save_checkpoint(model, path)\n",
    "        elif score < self.best_score + self.delta:\n",
    "            self.counter += 1\n",
    "            if self.verbose:\n",
    "                print(f\"EarlyStopping counter: {self.counter} out of {self.patience}\")\n",
    "            if self.counter >= self.patience:\n",
    "                self.early_stop = True\n",
    "        else:\n",
    "            self.best_score = score\n",
    "            self.save_checkpoint(model, path)\n",
    "            self.counter = 0\n",
    "\n",
    "    def save_checkpoint(self, model, path):\n",
    "        if self.verbose:\n",
    "            print(f\"Validation score improved. Saving model to {path}\")\n",
    "        torch.save(model.state_dict(), path)"
   ]
  },
  {
   "cell_type": "code",
   "execution_count": 119,
   "id": "2af44750-4bda-4158-9b67-f7d88df1570c",
   "metadata": {
    "execution": {
     "iopub.execute_input": "2025-05-18T12:39:59.463101Z",
     "iopub.status.busy": "2025-05-18T12:39:59.461967Z",
     "iopub.status.idle": "2025-05-18T12:39:59.475409Z",
     "shell.execute_reply": "2025-05-18T12:39:59.474636Z",
     "shell.execute_reply.started": "2025-05-18T12:39:59.463056Z"
    }
   },
   "outputs": [
    {
     "data": {
      "text/plain": [
       "W2V_MLP(\n",
       "  (model): Sequential(\n",
       "    (0): Linear(in_features=300, out_features=512, bias=True)\n",
       "    (1): ReLU()\n",
       "    (2): Dropout(p=0.3, inplace=False)\n",
       "    (3): Linear(in_features=512, out_features=256, bias=True)\n",
       "    (4): ReLU()\n",
       "    (5): Linear(in_features=256, out_features=20, bias=True)\n",
       "    (6): Sigmoid()\n",
       "  )\n",
       ")"
      ]
     },
     "execution_count": 119,
     "metadata": {},
     "output_type": "execute_result"
    }
   ],
   "source": [
    "# 7. Тренировка\n",
    "optimizer = torch.optim.Adam(model.parameters(), lr=1e-3)\n",
    "criterion = nn.BCELoss()\n",
    "device = torch.device('cuda' if torch.cuda.is_available() else 'cpu')\n",
    "model.to(device)"
   ]
  },
  {
   "cell_type": "code",
   "execution_count": 120,
   "id": "dfef9eb2-625b-4886-bc40-fe3305da54d4",
   "metadata": {
    "execution": {
     "iopub.execute_input": "2025-05-18T12:39:59.901146Z",
     "iopub.status.busy": "2025-05-18T12:39:59.900131Z",
     "iopub.status.idle": "2025-05-18T12:39:59.925490Z",
     "shell.execute_reply": "2025-05-18T12:39:59.924790Z",
     "shell.execute_reply.started": "2025-05-18T12:39:59.901101Z"
    }
   },
   "outputs": [],
   "source": [
    "def lr_lambda(current_step):\n",
    "    warmup_steps = 5\n",
    "    total_steps = 20\n",
    "    min_lr_factor = 1e-5  # минимальный множитель lr\n",
    "\n",
    "    if current_step < warmup_steps:\n",
    "        return float(current_step + 1) / float(warmup_steps)\n",
    "    else:\n",
    "        progress = float(current_step - warmup_steps) / float(max(1, total_steps - warmup_steps))\n",
    "        cosine_decay = 0.5 * (1.0 + np.cos(np.pi * progress))\n",
    "        return max(min_lr_factor, cosine_decay)\n",
    "\n",
    "\n",
    "scheduler = torch.optim.lr_scheduler.LambdaLR(optimizer, lr_lambda)\n",
    "\n",
    "early_stopping = EarlyStopping(patience=5, verbose=True)"
   ]
  },
  {
   "cell_type": "code",
   "execution_count": null,
   "id": "63009c2c-6640-4a6a-b63e-56c200488ae8",
   "metadata": {},
   "outputs": [],
   "source": []
  },
  {
   "cell_type": "code",
   "execution_count": 123,
   "id": "d293c617-ee9b-46d7-8e14-eb52cbd6e118",
   "metadata": {
    "execution": {
     "iopub.execute_input": "2025-05-18T12:43:05.126983Z",
     "iopub.status.busy": "2025-05-18T12:43:05.125910Z",
     "iopub.status.idle": "2025-05-18T12:43:49.152395Z",
     "shell.execute_reply": "2025-05-18T12:43:49.151643Z",
     "shell.execute_reply.started": "2025-05-18T12:43:05.126939Z"
    },
    "tags": []
   },
   "outputs": [
    {
     "name": "stderr",
     "output_type": "stream",
     "text": [
      "Epoch 1 Train: 100%|██████████| 393/393 [00:00<00:00, 598.66it/s]\n"
     ]
    },
    {
     "name": "stdout",
     "output_type": "stream",
     "text": [
      "Epoch 1: Train Loss=0.4941, Val Loss=0.4936, Train F1=0.7991, Val F1=0.8007, LR=0.000011\n",
      "Validation score improved. Saving model to best_w2v_model.pt\n"
     ]
    },
    {
     "name": "stderr",
     "output_type": "stream",
     "text": [
      "Epoch 2 Train: 100%|██████████| 393/393 [00:00<00:00, 593.21it/s]\n"
     ]
    },
    {
     "name": "stdout",
     "output_type": "stream",
     "text": [
      "Epoch 2: Train Loss=0.4941, Val Loss=0.4936, Train F1=0.7990, Val F1=0.8007, LR=0.000043\n",
      "Validation score improved. Saving model to best_w2v_model.pt\n"
     ]
    },
    {
     "name": "stderr",
     "output_type": "stream",
     "text": [
      "Epoch 3 Train: 100%|██████████| 393/393 [00:00<00:00, 593.37it/s]\n"
     ]
    },
    {
     "name": "stdout",
     "output_type": "stream",
     "text": [
      "Epoch 3: Train Loss=0.4941, Val Loss=0.4936, Train F1=0.7980, Val F1=0.8007, LR=0.000095\n",
      "Validation score improved. Saving model to best_w2v_model.pt\n"
     ]
    },
    {
     "name": "stderr",
     "output_type": "stream",
     "text": [
      "Epoch 4 Train: 100%|██████████| 393/393 [00:00<00:00, 597.66it/s]\n"
     ]
    },
    {
     "name": "stdout",
     "output_type": "stream",
     "text": [
      "Epoch 4: Train Loss=0.4942, Val Loss=0.4935, Train F1=0.7957, Val F1=0.8007, LR=0.000165\n",
      "Validation score improved. Saving model to best_w2v_model.pt\n"
     ]
    },
    {
     "name": "stderr",
     "output_type": "stream",
     "text": [
      "Epoch 5 Train: 100%|██████████| 393/393 [00:00<00:00, 596.77it/s]\n"
     ]
    },
    {
     "name": "stdout",
     "output_type": "stream",
     "text": [
      "Epoch 5: Train Loss=0.4943, Val Loss=0.4938, Train F1=0.7979, Val F1=0.7910, LR=0.000250\n",
      "EarlyStopping counter: 1 out of 5\n"
     ]
    },
    {
     "name": "stderr",
     "output_type": "stream",
     "text": [
      "Epoch 6 Train: 100%|██████████| 393/393 [00:00<00:00, 597.15it/s]\n"
     ]
    },
    {
     "name": "stdout",
     "output_type": "stream",
     "text": [
      "Epoch 6: Train Loss=0.4942, Val Loss=0.4937, Train F1=0.7941, Val F1=0.8007, LR=0.000345\n",
      "Validation score improved. Saving model to best_w2v_model.pt\n"
     ]
    },
    {
     "name": "stderr",
     "output_type": "stream",
     "text": [
      "Epoch 7 Train: 100%|██████████| 393/393 [00:00<00:00, 595.60it/s]\n"
     ]
    },
    {
     "name": "stdout",
     "output_type": "stream",
     "text": [
      "Epoch 7: Train Loss=0.4942, Val Loss=0.4937, Train F1=0.7962, Val F1=0.8007, LR=0.000448\n",
      "Validation score improved. Saving model to best_w2v_model.pt\n"
     ]
    },
    {
     "name": "stderr",
     "output_type": "stream",
     "text": [
      "Epoch 8 Train: 100%|██████████| 393/393 [00:00<00:00, 595.80it/s]\n"
     ]
    },
    {
     "name": "stdout",
     "output_type": "stream",
     "text": [
      "Epoch 8: Train Loss=0.4944, Val Loss=0.4940, Train F1=0.7968, Val F1=0.7910, LR=0.000552\n",
      "EarlyStopping counter: 1 out of 5\n"
     ]
    },
    {
     "name": "stderr",
     "output_type": "stream",
     "text": [
      "Epoch 9 Train: 100%|██████████| 393/393 [00:00<00:00, 600.69it/s]\n"
     ]
    },
    {
     "name": "stdout",
     "output_type": "stream",
     "text": [
      "Epoch 9: Train Loss=0.4944, Val Loss=0.4940, Train F1=0.7963, Val F1=0.7910, LR=0.000655\n",
      "EarlyStopping counter: 2 out of 5\n"
     ]
    },
    {
     "name": "stderr",
     "output_type": "stream",
     "text": [
      "Epoch 10 Train: 100%|██████████| 393/393 [00:00<00:00, 601.02it/s]\n"
     ]
    },
    {
     "name": "stdout",
     "output_type": "stream",
     "text": [
      "Epoch 10: Train Loss=0.4945, Val Loss=0.4936, Train F1=0.7955, Val F1=0.8007, LR=0.000750\n",
      "Validation score improved. Saving model to best_w2v_model.pt\n"
     ]
    },
    {
     "name": "stderr",
     "output_type": "stream",
     "text": [
      "Epoch 11 Train: 100%|██████████| 393/393 [00:00<00:00, 595.96it/s]\n"
     ]
    },
    {
     "name": "stdout",
     "output_type": "stream",
     "text": [
      "Epoch 11: Train Loss=0.4945, Val Loss=0.4941, Train F1=0.7949, Val F1=0.7793, LR=0.000835\n",
      "EarlyStopping counter: 1 out of 5\n"
     ]
    },
    {
     "name": "stderr",
     "output_type": "stream",
     "text": [
      "Epoch 12 Train: 100%|██████████| 393/393 [00:00<00:00, 594.10it/s]\n"
     ]
    },
    {
     "name": "stdout",
     "output_type": "stream",
     "text": [
      "Epoch 12: Train Loss=0.4945, Val Loss=0.4939, Train F1=0.7954, Val F1=0.8007, LR=0.000905\n",
      "Validation score improved. Saving model to best_w2v_model.pt\n"
     ]
    },
    {
     "name": "stderr",
     "output_type": "stream",
     "text": [
      "Epoch 13 Train: 100%|██████████| 393/393 [00:00<00:00, 596.94it/s]\n"
     ]
    },
    {
     "name": "stdout",
     "output_type": "stream",
     "text": [
      "Epoch 13: Train Loss=0.4946, Val Loss=0.4938, Train F1=0.7956, Val F1=0.8007, LR=0.000957\n",
      "Validation score improved. Saving model to best_w2v_model.pt\n"
     ]
    },
    {
     "name": "stderr",
     "output_type": "stream",
     "text": [
      "Epoch 14 Train: 100%|██████████| 393/393 [00:00<00:00, 594.30it/s]\n"
     ]
    },
    {
     "name": "stdout",
     "output_type": "stream",
     "text": [
      "Epoch 14: Train Loss=0.4945, Val Loss=0.4940, Train F1=0.7956, Val F1=0.7910, LR=0.000989\n",
      "EarlyStopping counter: 1 out of 5\n"
     ]
    },
    {
     "name": "stderr",
     "output_type": "stream",
     "text": [
      "Epoch 15 Train: 100%|██████████| 393/393 [00:00<00:00, 592.58it/s]\n"
     ]
    },
    {
     "name": "stdout",
     "output_type": "stream",
     "text": [
      "Epoch 15: Train Loss=0.4946, Val Loss=0.4940, Train F1=0.7951, Val F1=0.8007, LR=0.001000\n",
      "Validation score improved. Saving model to best_w2v_model.pt\n"
     ]
    },
    {
     "name": "stderr",
     "output_type": "stream",
     "text": [
      "Epoch 16 Train: 100%|██████████| 393/393 [00:00<00:00, 593.39it/s]\n"
     ]
    },
    {
     "name": "stdout",
     "output_type": "stream",
     "text": [
      "Epoch 16: Train Loss=0.4945, Val Loss=0.4938, Train F1=0.7948, Val F1=0.8007, LR=0.000989\n",
      "Validation score improved. Saving model to best_w2v_model.pt\n"
     ]
    },
    {
     "name": "stderr",
     "output_type": "stream",
     "text": [
      "Epoch 17 Train: 100%|██████████| 393/393 [00:00<00:00, 597.67it/s]\n"
     ]
    },
    {
     "name": "stdout",
     "output_type": "stream",
     "text": [
      "Epoch 17: Train Loss=0.4945, Val Loss=0.4938, Train F1=0.7962, Val F1=0.8007, LR=0.000957\n",
      "Validation score improved. Saving model to best_w2v_model.pt\n"
     ]
    },
    {
     "name": "stderr",
     "output_type": "stream",
     "text": [
      "Epoch 18 Train: 100%|██████████| 393/393 [00:00<00:00, 590.65it/s]\n"
     ]
    },
    {
     "name": "stdout",
     "output_type": "stream",
     "text": [
      "Epoch 18: Train Loss=0.4943, Val Loss=0.4937, Train F1=0.7949, Val F1=0.8007, LR=0.000905\n",
      "Validation score improved. Saving model to best_w2v_model.pt\n"
     ]
    },
    {
     "name": "stderr",
     "output_type": "stream",
     "text": [
      "Epoch 19 Train: 100%|██████████| 393/393 [00:00<00:00, 594.47it/s]\n"
     ]
    },
    {
     "name": "stdout",
     "output_type": "stream",
     "text": [
      "Epoch 19: Train Loss=0.4942, Val Loss=0.4940, Train F1=0.7966, Val F1=0.7910, LR=0.000835\n",
      "EarlyStopping counter: 1 out of 5\n"
     ]
    },
    {
     "name": "stderr",
     "output_type": "stream",
     "text": [
      "Epoch 20 Train: 100%|██████████| 393/393 [00:00<00:00, 602.35it/s]\n"
     ]
    },
    {
     "name": "stdout",
     "output_type": "stream",
     "text": [
      "Epoch 20: Train Loss=0.4943, Val Loss=0.4936, Train F1=0.7961, Val F1=0.8007, LR=0.000750\n",
      "Validation score improved. Saving model to best_w2v_model.pt\n"
     ]
    },
    {
     "name": "stderr",
     "output_type": "stream",
     "text": [
      "Epoch 21 Train: 100%|██████████| 393/393 [00:00<00:00, 597.49it/s]\n"
     ]
    },
    {
     "name": "stdout",
     "output_type": "stream",
     "text": [
      "Epoch 21: Train Loss=0.4942, Val Loss=0.4937, Train F1=0.7946, Val F1=0.7910, LR=0.000655\n",
      "EarlyStopping counter: 1 out of 5\n"
     ]
    },
    {
     "name": "stderr",
     "output_type": "stream",
     "text": [
      "Epoch 22 Train: 100%|██████████| 393/393 [00:00<00:00, 595.89it/s]\n"
     ]
    },
    {
     "name": "stdout",
     "output_type": "stream",
     "text": [
      "Epoch 22: Train Loss=0.4942, Val Loss=0.4938, Train F1=0.7974, Val F1=0.8007, LR=0.000552\n",
      "Validation score improved. Saving model to best_w2v_model.pt\n"
     ]
    },
    {
     "name": "stderr",
     "output_type": "stream",
     "text": [
      "Epoch 23 Train: 100%|██████████| 393/393 [00:00<00:00, 590.05it/s]\n"
     ]
    },
    {
     "name": "stdout",
     "output_type": "stream",
     "text": [
      "Epoch 23: Train Loss=0.4942, Val Loss=0.4936, Train F1=0.7957, Val F1=0.8007, LR=0.000448\n",
      "Validation score improved. Saving model to best_w2v_model.pt\n"
     ]
    },
    {
     "name": "stderr",
     "output_type": "stream",
     "text": [
      "Epoch 24 Train: 100%|██████████| 393/393 [00:00<00:00, 592.11it/s]\n"
     ]
    },
    {
     "name": "stdout",
     "output_type": "stream",
     "text": [
      "Epoch 24: Train Loss=0.4941, Val Loss=0.4936, Train F1=0.7958, Val F1=0.8007, LR=0.000345\n",
      "Validation score improved. Saving model to best_w2v_model.pt\n"
     ]
    },
    {
     "name": "stderr",
     "output_type": "stream",
     "text": [
      "Epoch 25 Train: 100%|██████████| 393/393 [00:00<00:00, 578.34it/s]\n"
     ]
    },
    {
     "name": "stdout",
     "output_type": "stream",
     "text": [
      "Epoch 25: Train Loss=0.4941, Val Loss=0.4937, Train F1=0.7965, Val F1=0.7910, LR=0.000250\n",
      "EarlyStopping counter: 1 out of 5\n"
     ]
    },
    {
     "name": "stderr",
     "output_type": "stream",
     "text": [
      "Epoch 26 Train: 100%|██████████| 393/393 [00:00<00:00, 583.28it/s]\n"
     ]
    },
    {
     "name": "stdout",
     "output_type": "stream",
     "text": [
      "Epoch 26: Train Loss=0.4941, Val Loss=0.4937, Train F1=0.7967, Val F1=0.8007, LR=0.000165\n",
      "Validation score improved. Saving model to best_w2v_model.pt\n"
     ]
    },
    {
     "name": "stderr",
     "output_type": "stream",
     "text": [
      "Epoch 27 Train: 100%|██████████| 393/393 [00:00<00:00, 594.77it/s]\n"
     ]
    },
    {
     "name": "stdout",
     "output_type": "stream",
     "text": [
      "Epoch 27: Train Loss=0.4940, Val Loss=0.4936, Train F1=0.7971, Val F1=0.8007, LR=0.000095\n",
      "Validation score improved. Saving model to best_w2v_model.pt\n"
     ]
    },
    {
     "name": "stderr",
     "output_type": "stream",
     "text": [
      "Epoch 28 Train: 100%|██████████| 393/393 [00:00<00:00, 594.46it/s]\n"
     ]
    },
    {
     "name": "stdout",
     "output_type": "stream",
     "text": [
      "Epoch 28: Train Loss=0.4940, Val Loss=0.4936, Train F1=0.7983, Val F1=0.8007, LR=0.000043\n",
      "Validation score improved. Saving model to best_w2v_model.pt\n"
     ]
    },
    {
     "name": "stderr",
     "output_type": "stream",
     "text": [
      "Epoch 29 Train: 100%|██████████| 393/393 [00:00<00:00, 587.43it/s]\n"
     ]
    },
    {
     "name": "stdout",
     "output_type": "stream",
     "text": [
      "Epoch 29: Train Loss=0.4940, Val Loss=0.4936, Train F1=0.7991, Val F1=0.8007, LR=0.000011\n",
      "Validation score improved. Saving model to best_w2v_model.pt\n"
     ]
    },
    {
     "name": "stderr",
     "output_type": "stream",
     "text": [
      "Epoch 30 Train: 100%|██████████| 393/393 [00:00<00:00, 589.38it/s]\n"
     ]
    },
    {
     "name": "stdout",
     "output_type": "stream",
     "text": [
      "Epoch 30: Train Loss=0.4940, Val Loss=0.4936, Train F1=0.7991, Val F1=0.8007, LR=0.000000\n",
      "Validation score improved. Saving model to best_w2v_model.pt\n"
     ]
    },
    {
     "name": "stderr",
     "output_type": "stream",
     "text": [
      "Epoch 31 Train: 100%|██████████| 393/393 [00:00<00:00, 584.76it/s]\n"
     ]
    },
    {
     "name": "stdout",
     "output_type": "stream",
     "text": [
      "Epoch 31: Train Loss=0.4940, Val Loss=0.4936, Train F1=0.7991, Val F1=0.8007, LR=0.000011\n",
      "Validation score improved. Saving model to best_w2v_model.pt\n"
     ]
    },
    {
     "name": "stderr",
     "output_type": "stream",
     "text": [
      "Epoch 32 Train: 100%|██████████| 393/393 [00:00<00:00, 585.43it/s]\n"
     ]
    },
    {
     "name": "stdout",
     "output_type": "stream",
     "text": [
      "Epoch 32: Train Loss=0.4940, Val Loss=0.4936, Train F1=0.7991, Val F1=0.8007, LR=0.000043\n",
      "Validation score improved. Saving model to best_w2v_model.pt\n"
     ]
    },
    {
     "name": "stderr",
     "output_type": "stream",
     "text": [
      "Epoch 33 Train: 100%|██████████| 393/393 [00:00<00:00, 575.10it/s]\n"
     ]
    },
    {
     "name": "stdout",
     "output_type": "stream",
     "text": [
      "Epoch 33: Train Loss=0.4940, Val Loss=0.4936, Train F1=0.7991, Val F1=0.8007, LR=0.000095\n",
      "Validation score improved. Saving model to best_w2v_model.pt\n"
     ]
    },
    {
     "name": "stderr",
     "output_type": "stream",
     "text": [
      "Epoch 34 Train: 100%|██████████| 393/393 [00:00<00:00, 584.49it/s]\n"
     ]
    },
    {
     "name": "stdout",
     "output_type": "stream",
     "text": [
      "Epoch 34: Train Loss=0.4940, Val Loss=0.4936, Train F1=0.7975, Val F1=0.8007, LR=0.000165\n",
      "Validation score improved. Saving model to best_w2v_model.pt\n"
     ]
    },
    {
     "name": "stderr",
     "output_type": "stream",
     "text": [
      "Epoch 35 Train: 100%|██████████| 393/393 [00:00<00:00, 589.82it/s]\n"
     ]
    },
    {
     "name": "stdout",
     "output_type": "stream",
     "text": [
      "Epoch 35: Train Loss=0.4940, Val Loss=0.4936, Train F1=0.7979, Val F1=0.8007, LR=0.000250\n",
      "Validation score improved. Saving model to best_w2v_model.pt\n"
     ]
    },
    {
     "name": "stderr",
     "output_type": "stream",
     "text": [
      "Epoch 36 Train: 100%|██████████| 393/393 [00:00<00:00, 586.72it/s]\n"
     ]
    },
    {
     "name": "stdout",
     "output_type": "stream",
     "text": [
      "Epoch 36: Train Loss=0.4940, Val Loss=0.4936, Train F1=0.7958, Val F1=0.8007, LR=0.000345\n",
      "Validation score improved. Saving model to best_w2v_model.pt\n"
     ]
    },
    {
     "name": "stderr",
     "output_type": "stream",
     "text": [
      "Epoch 37 Train: 100%|██████████| 393/393 [00:00<00:00, 582.04it/s]\n"
     ]
    },
    {
     "name": "stdout",
     "output_type": "stream",
     "text": [
      "Epoch 37: Train Loss=0.4941, Val Loss=0.4936, Train F1=0.7958, Val F1=0.8007, LR=0.000448\n",
      "Validation score improved. Saving model to best_w2v_model.pt\n"
     ]
    },
    {
     "name": "stderr",
     "output_type": "stream",
     "text": [
      "Epoch 38 Train: 100%|██████████| 393/393 [00:00<00:00, 592.99it/s]\n"
     ]
    },
    {
     "name": "stdout",
     "output_type": "stream",
     "text": [
      "Epoch 38: Train Loss=0.4941, Val Loss=0.4936, Train F1=0.7959, Val F1=0.8007, LR=0.000552\n",
      "Validation score improved. Saving model to best_w2v_model.pt\n"
     ]
    },
    {
     "name": "stderr",
     "output_type": "stream",
     "text": [
      "Epoch 39 Train: 100%|██████████| 393/393 [00:00<00:00, 595.08it/s]\n"
     ]
    },
    {
     "name": "stdout",
     "output_type": "stream",
     "text": [
      "Epoch 39: Train Loss=0.4942, Val Loss=0.4937, Train F1=0.7958, Val F1=0.8007, LR=0.000655\n",
      "Validation score improved. Saving model to best_w2v_model.pt\n"
     ]
    },
    {
     "name": "stderr",
     "output_type": "stream",
     "text": [
      "Epoch 40 Train: 100%|██████████| 393/393 [00:00<00:00, 588.72it/s]\n"
     ]
    },
    {
     "name": "stdout",
     "output_type": "stream",
     "text": [
      "Epoch 40: Train Loss=0.4941, Val Loss=0.4937, Train F1=0.7959, Val F1=0.8007, LR=0.000750\n",
      "Validation score improved. Saving model to best_w2v_model.pt\n"
     ]
    },
    {
     "name": "stderr",
     "output_type": "stream",
     "text": [
      "Epoch 41 Train: 100%|██████████| 393/393 [00:00<00:00, 593.87it/s]\n"
     ]
    },
    {
     "name": "stdout",
     "output_type": "stream",
     "text": [
      "Epoch 41: Train Loss=0.4942, Val Loss=0.4936, Train F1=0.7963, Val F1=0.8007, LR=0.000835\n",
      "Validation score improved. Saving model to best_w2v_model.pt\n"
     ]
    },
    {
     "name": "stderr",
     "output_type": "stream",
     "text": [
      "Epoch 42 Train: 100%|██████████| 393/393 [00:00<00:00, 597.44it/s]\n"
     ]
    },
    {
     "name": "stdout",
     "output_type": "stream",
     "text": [
      "Epoch 42: Train Loss=0.4942, Val Loss=0.4936, Train F1=0.7956, Val F1=0.8007, LR=0.000905\n",
      "Validation score improved. Saving model to best_w2v_model.pt\n"
     ]
    },
    {
     "name": "stderr",
     "output_type": "stream",
     "text": [
      "Epoch 43 Train: 100%|██████████| 393/393 [00:00<00:00, 598.46it/s]\n"
     ]
    },
    {
     "name": "stdout",
     "output_type": "stream",
     "text": [
      "Epoch 43: Train Loss=0.4942, Val Loss=0.4936, Train F1=0.7964, Val F1=0.8007, LR=0.000957\n",
      "Validation score improved. Saving model to best_w2v_model.pt\n"
     ]
    },
    {
     "name": "stderr",
     "output_type": "stream",
     "text": [
      "Epoch 44 Train: 100%|██████████| 393/393 [00:00<00:00, 601.89it/s]\n"
     ]
    },
    {
     "name": "stdout",
     "output_type": "stream",
     "text": [
      "Epoch 44: Train Loss=0.4942, Val Loss=0.4940, Train F1=0.7952, Val F1=0.7910, LR=0.000989\n",
      "EarlyStopping counter: 1 out of 5\n"
     ]
    },
    {
     "name": "stderr",
     "output_type": "stream",
     "text": [
      "Epoch 45 Train: 100%|██████████| 393/393 [00:00<00:00, 603.39it/s]\n"
     ]
    },
    {
     "name": "stdout",
     "output_type": "stream",
     "text": [
      "Epoch 45: Train Loss=0.4942, Val Loss=0.4937, Train F1=0.7958, Val F1=0.8007, LR=0.001000\n",
      "Validation score improved. Saving model to best_w2v_model.pt\n"
     ]
    },
    {
     "name": "stderr",
     "output_type": "stream",
     "text": [
      "Epoch 46 Train: 100%|██████████| 393/393 [00:00<00:00, 593.29it/s]\n"
     ]
    },
    {
     "name": "stdout",
     "output_type": "stream",
     "text": [
      "Epoch 46: Train Loss=0.4942, Val Loss=0.4937, Train F1=0.7951, Val F1=0.8007, LR=0.000989\n",
      "Validation score improved. Saving model to best_w2v_model.pt\n"
     ]
    },
    {
     "name": "stderr",
     "output_type": "stream",
     "text": [
      "Epoch 47 Train: 100%|██████████| 393/393 [00:00<00:00, 591.98it/s]\n"
     ]
    },
    {
     "name": "stdout",
     "output_type": "stream",
     "text": [
      "Epoch 47: Train Loss=0.4942, Val Loss=0.4938, Train F1=0.7950, Val F1=0.7910, LR=0.000957\n",
      "EarlyStopping counter: 1 out of 5\n"
     ]
    },
    {
     "name": "stderr",
     "output_type": "stream",
     "text": [
      "Epoch 48 Train: 100%|██████████| 393/393 [00:00<00:00, 600.98it/s]\n"
     ]
    },
    {
     "name": "stdout",
     "output_type": "stream",
     "text": [
      "Epoch 48: Train Loss=0.4942, Val Loss=0.4939, Train F1=0.7962, Val F1=0.8007, LR=0.000905\n",
      "Validation score improved. Saving model to best_w2v_model.pt\n"
     ]
    },
    {
     "name": "stderr",
     "output_type": "stream",
     "text": [
      "Epoch 49 Train: 100%|██████████| 393/393 [00:00<00:00, 595.05it/s]\n"
     ]
    },
    {
     "name": "stdout",
     "output_type": "stream",
     "text": [
      "Epoch 49: Train Loss=0.4942, Val Loss=0.4939, Train F1=0.7968, Val F1=0.7910, LR=0.000835\n",
      "EarlyStopping counter: 1 out of 5\n"
     ]
    },
    {
     "name": "stderr",
     "output_type": "stream",
     "text": [
      "Epoch 50 Train: 100%|██████████| 393/393 [00:00<00:00, 604.60it/s]\n"
     ]
    },
    {
     "name": "stdout",
     "output_type": "stream",
     "text": [
      "Epoch 50: Train Loss=0.4942, Val Loss=0.4937, Train F1=0.7954, Val F1=0.8007, LR=0.000750\n",
      "Validation score improved. Saving model to best_w2v_model.pt\n"
     ]
    }
   ],
   "source": [
    "# Для логов\n",
    "train_losses, val_losses = [], []\n",
    "train_f1s, val_f1s = [], []\n",
    "lrs = []\n",
    "\n",
    "# --- Цикл обучения ---\n",
    "EPOCHS = 10\n",
    "for epoch in range(1, EPOCHS + 1):\n",
    "    model.train()\n",
    "    train_loss = 0\n",
    "    all_preds, all_labels = [], []\n",
    "\n",
    "    for xb, yb in tqdm(train_loader, desc=f\"Epoch {epoch} Train\"):\n",
    "        xb, yb = xb.to(device), yb.to(device)\n",
    "        optimizer.zero_grad()\n",
    "        preds = model(xb)\n",
    "        loss = criterion(preds, yb)\n",
    "        loss.backward()\n",
    "        optimizer.step()\n",
    "        train_loss += loss.item() * xb.size(0)\n",
    "\n",
    "        all_preds.append(preds.detach().cpu().numpy())\n",
    "        all_labels.append(yb.cpu().numpy())\n",
    "\n",
    "    scheduler.step()\n",
    "\n",
    "    all_preds = np.vstack(all_preds)\n",
    "    all_labels = np.vstack(all_labels)\n",
    "    train_f1 = calc_f1(all_labels, all_preds)\n",
    "\n",
    "    model.eval()\n",
    "    val_loss = 0\n",
    "    val_preds, val_labels = [], []\n",
    "    with torch.no_grad():\n",
    "        for xb, yb in val_loader:\n",
    "            xb, yb = xb.to(device), yb.to(device)\n",
    "            preds = model(xb)\n",
    "            loss = criterion(preds, yb)\n",
    "            val_loss += loss.item() * xb.size(0)\n",
    "            val_preds.append(preds.cpu().numpy())\n",
    "            val_labels.append(yb.cpu().numpy())\n",
    "\n",
    "    val_preds = np.vstack(val_preds)\n",
    "    val_labels = np.vstack(val_labels)\n",
    "    val_f1 = calc_f1(val_labels, val_preds)\n",
    "\n",
    "    train_losses.append(train_loss / len(train_dataset))\n",
    "    val_losses.append(val_loss / len(val_dataset))\n",
    "    train_f1s.append(train_f1)\n",
    "    val_f1s.append(val_f1)\n",
    "    lrs.append(optimizer.param_groups[0]['lr'])\n",
    "\n",
    "    print(f\"Epoch {epoch}: Train Loss={train_losses[-1]:.4f}, Val Loss={val_losses[-1]:.4f}, \"\n",
    "          f\"Train F1={train_f1:.4f}, Val F1={val_f1:.4f}, LR={lrs[-1]:.6f}\")\n",
    "\n",
    "    early_stopping(val_f1, model, 'best_w2v_model.pt')\n",
    "    if early_stopping.early_stop:\n",
    "        print(\"Early stopping triggered\")\n",
    "        break"
   ]
  },
  {
   "cell_type": "code",
   "execution_count": 124,
   "id": "04447726-74be-4d6a-90e7-ee4ca4f0ae6b",
   "metadata": {
    "execution": {
     "iopub.execute_input": "2025-05-18T12:43:49.154520Z",
     "iopub.status.busy": "2025-05-18T12:43:49.153725Z",
     "iopub.status.idle": "2025-05-18T12:43:49.670757Z",
     "shell.execute_reply": "2025-05-18T12:43:49.669910Z",
     "shell.execute_reply.started": "2025-05-18T12:43:49.154495Z"
    },
    "tags": []
   },
   "outputs": [
    {
     "data": {
      "image/png": "[encoded data removed]",
      "text/plain": [
       "<Figure size 1400x500 with 3 Axes>"
      ]
     },
     "metadata": {},
     "output_type": "display_data"
    }
   ],
   "source": [
    "# --- Визуализация ---\n",
    "plt.figure(figsize=(14,5))\n",
    "plt.subplot(1,3,1)\n",
    "plt.plot(train_losses, label='Train Loss')\n",
    "plt.plot(val_losses, label='Val Loss')\n",
    "plt.legend()\n",
    "plt.title('Loss')\n",
    "\n",
    "plt.subplot(1,3,2)\n",
    "plt.plot(train_f1s, label='Train F1')\n",
    "plt.plot(val_f1s, label='Val F1')\n",
    "plt.legend()\n",
    "plt.title('F1 Score')\n",
    "\n",
    "plt.subplot(1,3,3)\n",
    "plt.plot(lrs, label='Learning Rate')\n",
    "plt.legend()\n",
    "plt.title('LR Schedule')\n",
    "\n",
    "plt.tight_layout()\n",
    "plt.show()"
   ]
  },
  {
   "cell_type": "code",
   "execution_count": 127,
   "id": "651cfb6f-84d1-451c-a845-52afdbdb741f",
   "metadata": {
    "execution": {
     "iopub.execute_input": "2025-05-18T12:48:20.614539Z",
     "iopub.status.busy": "2025-05-18T12:48:20.613557Z",
     "iopub.status.idle": "2025-05-18T12:50:16.608924Z",
     "shell.execute_reply": "2025-05-18T12:50:16.608178Z",
     "shell.execute_reply.started": "2025-05-18T12:48:20.614494Z"
    },
    "tags": []
   },
   "outputs": [],
   "source": [
    "data_test['w2v_clean'] = data_test['text'].apply(clean_w2v)"
   ]
  },
  {
   "cell_type": "code",
   "execution_count": 128,
   "id": "8904b2c9-382b-4e74-9633-1df0fed032c0",
   "metadata": {
    "execution": {
     "iopub.execute_input": "2025-05-18T12:50:16.610847Z",
     "iopub.status.busy": "2025-05-18T12:50:16.610121Z",
     "iopub.status.idle": "2025-05-18T12:50:16.642364Z",
     "shell.execute_reply": "2025-05-18T12:50:16.641633Z",
     "shell.execute_reply.started": "2025-05-18T12:50:16.610821Z"
    }
   },
   "outputs": [
    {
     "data": {
      "text/html": [
       "<div>\n",
       "<style scoped>\n",
       "    .dataframe tbody tr th:only-of-type {\n",
       "        vertical-align: middle;\n",
       "    }\n",
       "\n",
       "    .dataframe tbody tr th {\n",
       "        vertical-align: top;\n",
       "    }\n",
       "\n",
       "    .dataframe thead th {\n",
       "        text-align: right;\n",
       "    }\n",
       "</style>\n",
       "<table border=\"1\" class=\"dataframe\">\n",
       "  <thead>\n",
       "    <tr style=\"text-align: right;\">\n",
       "      <th></th>\n",
       "      <th>id</th>\n",
       "      <th>text</th>\n",
       "      <th>tfidf_clean</th>\n",
       "      <th>w2v_clean</th>\n",
       "    </tr>\n",
       "  </thead>\n",
       "  <tbody>\n",
       "    <tr>\n",
       "      <th>0</th>\n",
       "      <td>29568</td>\n",
       "      <td>ЭЙ, ВЛЮБЛЁННЫЕ\\nСкидка 20% промокоду SYHOYZ\\nн...</td>\n",
       "      <td>эй влюбла нный скидка промокод syhoyz спектакл...</td>\n",
       "      <td>[эй, влюбла, нный, скидка, промокод, syhoyz, н...</td>\n",
       "    </tr>\n",
       "    <tr>\n",
       "      <th>1</th>\n",
       "      <td>29569</td>\n",
       "      <td>Пруды Москвы</td>\n",
       "      <td>пруд москва</td>\n",
       "      <td>[пруд, москва]</td>\n",
       "    </tr>\n",
       "    <tr>\n",
       "      <th>2</th>\n",
       "      <td>29570</td>\n",
       "      <td>🤪\\n🤪\\n👏\\n👏\\n😄\\n😄\\n👏\\n👏\\n👨‍👩‍👦\\nСемейка лёгкого...</td>\n",
       "      <td>семейка л гкий поведение неожиданный комедия т...</td>\n",
       "      <td>[семейка, л, гкий, поведение, неожиданный, ком...</td>\n",
       "    </tr>\n",
       "    <tr>\n",
       "      <th>3</th>\n",
       "      <td>29571</td>\n",
       "      <td>24 СЕНТЯБРЯ\\nИсторический фестиваль «Башкирия ...</td>\n",
       "      <td>сентябрь исторический фестиваль башкирия русь ...</td>\n",
       "      <td>[сентябрь, исторический, фестиваль, башкирия, ...</td>\n",
       "    </tr>\n",
       "    <tr>\n",
       "      <th>4</th>\n",
       "      <td>29572</td>\n",
       "      <td>19-20 августа\\nДетский клуб в кафе «Отдых»\\nТе...</td>\n",
       "      <td>август детский клуб кафе отдых тематический ра...</td>\n",
       "      <td>[август, детский, клуб, в, кафе, отдых, темати...</td>\n",
       "    </tr>\n",
       "    <tr>\n",
       "      <th>...</th>\n",
       "      <td>...</td>\n",
       "      <td>...</td>\n",
       "      <td>...</td>\n",
       "      <td>...</td>\n",
       "    </tr>\n",
       "    <tr>\n",
       "      <th>7387</th>\n",
       "      <td>36955</td>\n",
       "      <td>Концерт «Stabat Mater»\\n24 и 25 марта в 20:00\\...</td>\n",
       "      <td>концерт stabat mater март кирочный ул преддвер...</td>\n",
       "      <td>[концерт, stabat, mater, и, март, в, кирочный,...</td>\n",
       "    </tr>\n",
       "    <tr>\n",
       "      <th>7388</th>\n",
       "      <td>36956</td>\n",
       "      <td>СПЕКТАКЛЬ «ОДНАЖДЫ…»\\nСпектакль для 1 зрителя....</td>\n",
       "      <td>спектакль однажды спектакль зритель любить кни...</td>\n",
       "      <td>[спектакль, однажды, спектакль, для, зритель, ...</td>\n",
       "    </tr>\n",
       "    <tr>\n",
       "      <th>7389</th>\n",
       "      <td>36957</td>\n",
       "      <td>вт.-пт. 10:00-20:00 можно бесплатно полетать н...</td>\n",
       "      <td>вт пт бесплатно полетать москва vr аттракцион ...</td>\n",
       "      <td>[вт, пт, можно, бесплатно, полетать, над, моск...</td>\n",
       "    </tr>\n",
       "    <tr>\n",
       "      <th>7390</th>\n",
       "      <td>36958</td>\n",
       "      <td>ТЕАТРАЛЬНЫЙ СЕЗОН \"НА ВОДАХ\"\\nс 1 по 9 апреля ...</td>\n",
       "      <td>театральный сезон вода апрель год г железновод...</td>\n",
       "      <td>[театральный, сезон, на, вода, с, по, апрель, ...</td>\n",
       "    </tr>\n",
       "    <tr>\n",
       "      <th>7391</th>\n",
       "      <td>36959</td>\n",
       "      <td>Атмосферный концерт \"Скрипка Паганини при свеч...</td>\n",
       "      <td>атмосферный концерт скрипка паганиня свеча осо...</td>\n",
       "      <td>[атмосферный, концерт, скрипка, паганиня, при,...</td>\n",
       "    </tr>\n",
       "  </tbody>\n",
       "</table>\n",
       "<p>7392 rows × 4 columns</p>\n",
       "</div>"
      ],
      "text/plain": [
       "         id  ...                                          w2v_clean\n",
       "0     29568  ...  [эй, влюбла, нный, скидка, промокод, syhoyz, н...\n",
       "1     29569  ...                                     [пруд, москва]\n",
       "2     29570  ...  [семейка, л, гкий, поведение, неожиданный, ком...\n",
       "3     29571  ...  [сентябрь, исторический, фестиваль, башкирия, ...\n",
       "4     29572  ...  [август, детский, клуб, в, кафе, отдых, темати...\n",
       "...     ...  ...                                                ...\n",
       "7387  36955  ...  [концерт, stabat, mater, и, март, в, кирочный,...\n",
       "7388  36956  ...  [спектакль, однажды, спектакль, для, зритель, ...\n",
       "7389  36957  ...  [вт, пт, можно, бесплатно, полетать, над, моск...\n",
       "7390  36958  ...  [театральный, сезон, на, вода, с, по, апрель, ...\n",
       "7391  36959  ...  [атмосферный, концерт, скрипка, паганиня, при,...\n",
       "\n",
       "[7392 rows x 4 columns]"
      ]
     },
     "execution_count": 128,
     "metadata": {},
     "output_type": "execute_result"
    }
   ],
   "source": [
    "data_test"
   ]
  },
  {
   "cell_type": "code",
   "execution_count": 130,
   "id": "dfbc1d91-83d8-4c6a-bf29-44039d23a961",
   "metadata": {
    "execution": {
     "iopub.execute_input": "2025-05-18T12:51:08.164684Z",
     "iopub.status.busy": "2025-05-18T12:51:08.163741Z",
     "iopub.status.idle": "2025-05-18T12:51:08.828219Z",
     "shell.execute_reply": "2025-05-18T12:51:08.827471Z",
     "shell.execute_reply.started": "2025-05-18T12:51:08.164643Z"
    },
    "tags": []
   },
   "outputs": [
    {
     "name": "stderr",
     "output_type": "stream",
     "text": [
      "100%|██████████| 7392/7392 [00:00<00:00, 19190.98it/s]\n"
     ]
    }
   ],
   "source": [
    "# 11. Предсказание для submission\n",
    "model.load_state_dict(torch.load('best_w2v_model.pt'))\n",
    "model.eval()\n",
    "\n",
    "X_test_text = data_test['w2v_clean'].astype(str).values\n",
    "X_test_vec = vectorize_text(X_test_text)\n",
    "test_tensor = torch.tensor(X_test_vec, dtype=torch.float32)\n",
    "test_loader = DataLoader(test_tensor, batch_size=64)\n",
    "\n",
    "all_preds = []\n",
    "with torch.no_grad():\n",
    "    for xb in test_loader:\n",
    "        xb = xb.to(device)\n",
    "        preds = model(xb)\n",
    "        all_preds.append(preds.cpu().numpy())\n",
    "\n",
    "final_preds = np.vstack(all_preds)\n",
    "final_preds_bin = (final_preds > 0.5).astype(int)\n",
    "\n",
    "submission = pd.DataFrame({\n",
    "    'id': data_test['id'],\n",
    "    'labels': [\" \".join(map(str, row)) for row in final_preds_bin]\n",
    "})\n",
    "submission.to_csv('submission.csv', index=False)\n"
   ]
  },
  {
   "cell_type": "code",
   "execution_count": null,
   "id": "8f4c9633-ecf9-440b-b846-5a61ac416c55",
   "metadata": {},
   "outputs": [],
   "source": []
  },
  {
   "cell_type": "code",
   "execution_count": 133,
   "id": "3b171c5a-e0a5-4ee6-835d-94f27a50c5c1",
   "metadata": {
    "execution": {
     "iopub.execute_input": "2025-05-18T12:54:51.258707Z",
     "iopub.status.busy": "2025-05-18T12:54:51.257698Z",
     "iopub.status.idle": "2025-05-18T12:55:03.196635Z",
     "shell.execute_reply": "2025-05-18T12:55:03.195845Z",
     "shell.execute_reply.started": "2025-05-18T12:54:51.258669Z"
    },
    "tags": []
   },
   "outputs": [
    {
     "name": "stderr",
     "output_type": "stream",
     "text": [
      "100%|██████████| 25132/25132 [00:01<00:00, 18703.46it/s]\n",
      "100%|██████████| 4436/4436 [00:00<00:00, 18181.70it/s]\n"
     ]
    },
    {
     "name": "stdout",
     "output_type": "stream",
     "text": [
      "Epoch 1: Train Loss = 0.6920, Val Loss = 0.6920, Train F1 = 0.5702, Val F1 = 0.5829\n",
      "LR: 0.000200\n",
      "Initial best score: 0.6920\n",
      "Epoch 2: Train Loss = 0.5157, Val Loss = 0.4938, Train F1 = 0.7892, Val F1 = 0.8007\n",
      "LR: 0.000400\n",
      "Improved score: 0.4938 (was 0.6920), resetting counter.\n",
      "Epoch 3: Train Loss = 0.4947, Val Loss = 0.4940, Train F1 = 0.7950, Val F1 = 0.7900\n",
      "LR: 0.000600\n",
      "No improvement. Counter: 1/5\n",
      "Epoch 4: Train Loss = 0.4948, Val Loss = 0.4941, Train F1 = 0.7947, Val F1 = 0.8007\n",
      "LR: 0.000800\n",
      "No improvement. Counter: 2/5\n",
      "Epoch 5: Train Loss = 0.4947, Val Loss = 0.4942, Train F1 = 0.7947, Val F1 = 0.8007\n",
      "LR: 0.001000\n",
      "No improvement. Counter: 3/5\n",
      "Epoch 6: Train Loss = 0.4949, Val Loss = 0.4944, Train F1 = 0.7942, Val F1 = 0.8007\n",
      "LR: 0.000989\n",
      "No improvement. Counter: 4/5\n",
      "Epoch 7: Train Loss = 0.4949, Val Loss = 0.4956, Train F1 = 0.7946, Val F1 = 0.8007\n",
      "LR: 0.000957\n",
      "No improvement. Counter: 5/5\n",
      "Early stopping triggered!\n",
      "Stopped early\n"
     ]
    },
    {
     "data": {
      "image/png": "[encoded data removed]",
      "text/plain": [
       "<Figure size 1200x500 with 2 Axes>"
      ]
     },
     "metadata": {},
     "output_type": "display_data"
    },
    {
     "name": "stderr",
     "output_type": "stream",
     "text": [
      "100%|██████████| 7392/7392 [00:00<00:00, 16355.43it/s]\n"
     ]
    }
   ],
   "source": [
    "\n",
    "# EarlyStopping класс\n",
    "class EarlyStopping:\n",
    "    def __init__(self, patience=5, verbose=False, delta=0):\n",
    "        self.patience = patience\n",
    "        self.verbose = verbose\n",
    "        self.delta = delta\n",
    "        self.counter = 0\n",
    "        self.best_score = None\n",
    "        self.early_stop = False\n",
    "\n",
    "    def __call__(self, val_loss):\n",
    "        score = -val_loss\n",
    "        if self.best_score is None:\n",
    "            self.best_score = score\n",
    "            if self.verbose:\n",
    "                print(f\"Initial best score: {-score:.4f}\")\n",
    "        elif score < self.best_score + self.delta:\n",
    "            self.counter += 1\n",
    "            if self.verbose:\n",
    "                print(f\"No improvement. Counter: {self.counter}/{self.patience}\")\n",
    "            if self.counter >= self.patience:\n",
    "                if self.verbose:\n",
    "                    print(\"Early stopping triggered!\")\n",
    "                self.early_stop = True\n",
    "        else:\n",
    "            if self.verbose:\n",
    "                print(f\"Improved score: {-score:.4f} (was {-self.best_score:.4f}), resetting counter.\")\n",
    "            self.best_score = score\n",
    "            self.counter = 0\n",
    "\n",
    "# Установка случайных сидов для воспроизводимости\n",
    "SEED = 42\n",
    "random.seed(SEED)\n",
    "np.random.seed(SEED)\n",
    "torch.manual_seed(SEED)\n",
    "\n",
    "# 1. Получаем текст и метки\n",
    "X_text = df_4['w2v_clean'].astype(str).values\n",
    "y = np.array(df_4['label_vector'].tolist())\n",
    "\n",
    "# 2. Делим на трейн и валидацию\n",
    "X_train_text, X_val_text, y_train, y_val = train_test_split(\n",
    "    X_text, y,\n",
    "    test_size=0.15,\n",
    "    random_state=SEED,\n",
    "    stratify=y.argmax(axis=1)\n",
    ")\n",
    "\n",
    "# 3. Загрузка предобученной модели Word2Vec (RusVectores)\n",
    "w2v_model = api.load(\"word2vec-ruscorpora-300\")  # но она загружается онлайн\n",
    "embedding_dim = w2v_model.vector_size\n",
    "\n",
    "# 4. Функция преобразования текста в эмбеддинги\n",
    "def vectorize_text(text_list):\n",
    "    vectors = []\n",
    "    for tokens in tqdm(text_list):\n",
    "        words = tokens.split()\n",
    "        word_vecs = [w2v_model[word] for word in words if word in w2v_model]\n",
    "        if len(word_vecs) == 0:\n",
    "            vectors.append(np.zeros(embedding_dim))\n",
    "        else:\n",
    "            vectors.append(np.mean(word_vecs, axis=0))\n",
    "    return np.array(vectors)\n",
    "\n",
    "X_train_vec = vectorize_text(X_train_text)\n",
    "X_val_vec = vectorize_text(X_val_text)\n",
    "\n",
    "# 5. Dataset и DataLoader\n",
    "class TextDataset(Dataset):\n",
    "    def __init__(self, X, y):\n",
    "        self.X = torch.tensor(X, dtype=torch.float32)\n",
    "        self.y = torch.tensor(y, dtype=torch.float32)\n",
    "\n",
    "    def __len__(self):\n",
    "        return len(self.X)\n",
    "\n",
    "    def __getitem__(self, idx):\n",
    "        return self.X[idx], self.y[idx]\n",
    "\n",
    "train_dataset = TextDataset(X_train_vec, y_train)\n",
    "val_dataset = TextDataset(X_val_vec, y_val)\n",
    "train_loader = DataLoader(train_dataset, batch_size=64, shuffle=True)\n",
    "val_loader = DataLoader(val_dataset, batch_size=64)\n",
    "\n",
    "# 6. Модель\n",
    "class W2V_MLP(nn.Module):\n",
    "    def __init__(self, input_dim, output_dim):\n",
    "        super().__init__()\n",
    "        self.model = nn.Sequential(\n",
    "            nn.Linear(input_dim, 512),\n",
    "            nn.ReLU(),\n",
    "            nn.Dropout(0.3),\n",
    "            nn.Linear(512, 256),\n",
    "            nn.ReLU(),\n",
    "            nn.Linear(256, output_dim),\n",
    "            nn.Sigmoid()\n",
    "        )\n",
    "\n",
    "    def forward(self, x):\n",
    "        return self.model(x)\n",
    "\n",
    "model = W2V_MLP(input_dim=embedding_dim, output_dim=y.shape[1])\n",
    "\n",
    "# 7. Оптимизатор, критерий, устройство\n",
    "optimizer = torch.optim.Adam(model.parameters(), lr=1e-3)\n",
    "criterion = nn.BCELoss()\n",
    "device = torch.device('cuda' if torch.cuda.is_available() else 'cpu')\n",
    "model.to(device)\n",
    "\n",
    "# 8. F1-мера\n",
    "def calc_f1(y_true, y_pred, threshold=0.5):\n",
    "    y_pred_bin = (y_pred > threshold).astype(int)\n",
    "    return f1_score(y_true, y_pred_bin, average='macro')\n",
    "\n",
    "# 9. LR scheduler с warmup и cosine decay\n",
    "def lr_lambda(current_step):\n",
    "    warmup_steps = 5\n",
    "    total_steps = 20\n",
    "    if current_step < warmup_steps:\n",
    "        return float(current_step) / float(max(1, warmup_steps))\n",
    "    else:\n",
    "        progress = float(current_step - warmup_steps) / float(max(1, total_steps - warmup_steps))\n",
    "        return max(0.0, 0.5 * (1.0 + np.cos(np.pi * progress)))\n",
    "\n",
    "scheduler = torch.optim.lr_scheduler.LambdaLR(optimizer, lr_lambda)\n",
    "\n",
    "# 10. Ранняя остановка\n",
    "early_stopping = EarlyStopping(patience=5, verbose=True)\n",
    "\n",
    "# 11. Цикл обучения\n",
    "best_val_f1 = 0\n",
    "train_losses, val_losses = [], []\n",
    "train_f1s, val_f1s = [], []\n",
    "\n",
    "for epoch in range(1, 21):\n",
    "    model.train()\n",
    "    train_loss = 0\n",
    "    all_preds, all_labels = [], []\n",
    "\n",
    "    for xb, yb in train_loader:\n",
    "        xb, yb = xb.to(device), yb.to(device)\n",
    "        optimizer.zero_grad()\n",
    "        preds = model(xb)\n",
    "        loss = criterion(preds, yb)\n",
    "        loss.backward()\n",
    "        optimizer.step()\n",
    "\n",
    "        train_loss += loss.item() * xb.size(0)\n",
    "        all_preds.append(preds.detach().cpu().numpy())\n",
    "        all_labels.append(yb.cpu().numpy())\n",
    "\n",
    "    all_preds = np.vstack(all_preds)\n",
    "    all_labels = np.vstack(all_labels)\n",
    "    train_f1 = calc_f1(all_labels, all_preds)\n",
    "\n",
    "    model.eval()\n",
    "    val_loss = 0\n",
    "    val_preds, val_labels = [], []\n",
    "    with torch.no_grad():\n",
    "        for xb, yb in val_loader:\n",
    "            xb, yb = xb.to(device), yb.to(device)\n",
    "            preds = model(xb)\n",
    "            loss = criterion(preds, yb)\n",
    "            val_loss += loss.item() * xb.size(0)\n",
    "            val_preds.append(preds.cpu().numpy())\n",
    "            val_labels.append(yb.cpu().numpy())\n",
    "\n",
    "    val_preds = np.vstack(val_preds)\n",
    "    val_labels = np.vstack(val_labels)\n",
    "    val_f1 = calc_f1(val_labels, val_preds)\n",
    "\n",
    "    train_losses.append(train_loss / len(train_dataset))\n",
    "    val_losses.append(val_loss / len(val_dataset))\n",
    "    train_f1s.append(train_f1)\n",
    "    val_f1s.append(val_f1)\n",
    "\n",
    "    scheduler.step()\n",
    "\n",
    "    print(f\"Epoch {epoch}: Train Loss = {train_losses[-1]:.4f}, Val Loss = {val_losses[-1]:.4f}, Train F1 = {train_f1:.4f}, Val F1 = {val_f1:.4f}\")\n",
    "    for param_group in optimizer.param_groups:\n",
    "        print(f\"LR: {param_group['lr']:.6f}\")\n",
    "\n",
    "    if val_f1 > best_val_f1:\n",
    "        best_val_f1 = val_f1\n",
    "        torch.save(model.state_dict(), 'best_w2v_model.pt')\n",
    "\n",
    "    early_stopping(val_loss / len(val_dataset))\n",
    "    if early_stopping.early_stop:\n",
    "        print(\"Stopped early\")\n",
    "        break\n",
    "\n",
    "# 12. Визуализация\n",
    "plt.figure(figsize=(12, 5))\n",
    "plt.subplot(1, 2, 1)\n",
    "plt.plot(train_losses, label='Train Loss')\n",
    "plt.plot(val_losses, label='Val Loss')\n",
    "plt.legend()\n",
    "plt.title('Losses')\n",
    "\n",
    "plt.subplot(1, 2, 2)\n",
    "plt.plot(train_f1s, label='Train F1')\n",
    "plt.plot(val_f1s, label='Val F1')\n",
    "plt.legend()\n",
    "plt.title('F1 Scores')\n",
    "plt.show()\n",
    "\n",
    "# 13. Предсказание для submission\n",
    "model.load_state_dict(torch.load('best_w2v_model.pt'))\n",
    "model.eval()\n",
    "\n",
    "X_test_text = data_test['w2v_clean'].astype(str).values\n",
    "X_test_vec = vectorize_text(X_test_text)\n",
    "test_tensor = torch.tensor(X_test_vec, dtype=torch.float32)\n",
    "test_loader = DataLoader(test_tensor, batch_size=64)\n",
    "\n",
    "all_preds = []\n",
    "with torch.no_grad():\n",
    "    for xb in test_loader:\n",
    "        xb = xb.to(device)\n",
    "        preds = model(xb)\n",
    "        all_preds.append(preds.cpu().numpy())\n",
    "\n",
    "final_preds = np.vstack(all_preds)\n",
    "final_preds_bin = (final_preds > 0.5).astype(int)\n",
    "\n",
    "submission = pd.DataFrame({\n",
    "    'id': data_test['id'],\n",
    "    'labels': [\" \".join(map(str, row)) for row in final_preds_bin]\n",
    "})\n",
    "submission.to_csv('submission.csv', index=False)\n"
   ]
  },
  {
   "cell_type": "markdown",
   "id": "834de0f6-2b6d-4284-b5f0-84f47c7a38e9",
   "metadata": {},
   "source": [
    " ## мой word2vec, без использования предобученной модели. результат на кагл 0.75, что хуже tf-idf(0.82)"
   ]
  },
  {
   "cell_type": "code",
   "execution_count": 42,
   "id": "a533c5fa-06fd-44f3-a778-c2c1e5e6e30b",
   "metadata": {
    "execution": {
     "iopub.execute_input": "2025-05-18T21:16:55.395865Z",
     "iopub.status.busy": "2025-05-18T21:16:55.395112Z",
     "iopub.status.idle": "2025-05-18T21:16:55.456821Z",
     "shell.execute_reply": "2025-05-18T21:16:55.456170Z",
     "shell.execute_reply.started": "2025-05-18T21:16:55.395839Z"
    }
   },
   "outputs": [
    {
     "data": {
      "text/plain": [
       "<torch._C.Generator at 0x7fab04ab9150>"
      ]
     },
     "execution_count": 42,
     "metadata": {},
     "output_type": "execute_result"
    }
   ],
   "source": [
    "SEED = 42\n",
    "random.seed(SEED)\n",
    "np.random.seed(SEED)\n",
    "torch.manual_seed(SEED)"
   ]
  },
  {
   "cell_type": "code",
   "execution_count": 43,
   "id": "846bde13-ffbf-4ffc-aa57-b5cb72e67df3",
   "metadata": {
    "execution": {
     "iopub.execute_input": "2025-05-18T21:16:55.961641Z",
     "iopub.status.busy": "2025-05-18T21:16:55.960718Z",
     "iopub.status.idle": "2025-05-18T21:16:56.035711Z",
     "shell.execute_reply": "2025-05-18T21:16:56.034578Z",
     "shell.execute_reply.started": "2025-05-18T21:16:55.961603Z"
    }
   },
   "outputs": [
    {
     "ename": "KeyError",
     "evalue": "'w2v_clean'",
     "output_type": "error",
     "traceback": [
      "\u001b[0;31m---------------------------------------------------------------------------\u001b[0m",
      "\u001b[0;31mKeyError\u001b[0m                                  Traceback (most recent call last)",
      "\u001b[0;32m/usr/local/lib/python3.10/dist-packages/pandas/core/indexes/base.py\u001b[0m in \u001b[0;36mget_loc\u001b[0;34m(self, key, method, tolerance)\u001b[0m\n\u001b[1;32m   3801\u001b[0m             \u001b[0;32mtry\u001b[0m\u001b[0;34m:\u001b[0m\u001b[0;34m\u001b[0m\u001b[0;34m\u001b[0m\u001b[0m\n\u001b[0;32m-> 3802\u001b[0;31m                 \u001b[0;32mreturn\u001b[0m \u001b[0mself\u001b[0m\u001b[0;34m.\u001b[0m\u001b[0m_engine\u001b[0m\u001b[0;34m.\u001b[0m\u001b[0mget_loc\u001b[0m\u001b[0;34m(\u001b[0m\u001b[0mcasted_key\u001b[0m\u001b[0;34m)\u001b[0m\u001b[0;34m\u001b[0m\u001b[0;34m\u001b[0m\u001b[0m\n\u001b[0m\u001b[1;32m   3803\u001b[0m             \u001b[0;32mexcept\u001b[0m \u001b[0mKeyError\u001b[0m \u001b[0;32mas\u001b[0m \u001b[0merr\u001b[0m\u001b[0;34m:\u001b[0m\u001b[0;34m\u001b[0m\u001b[0;34m\u001b[0m\u001b[0m\n",
      "\u001b[0;32m/usr/local/lib/python3.10/dist-packages/pandas/_libs/index.pyx\u001b[0m in \u001b[0;36mpandas._libs.index.IndexEngine.get_loc\u001b[0;34m()\u001b[0m\n",
      "\u001b[0;32m/usr/local/lib/python3.10/dist-packages/pandas/_libs/index.pyx\u001b[0m in \u001b[0;36mpandas._libs.index.IndexEngine.get_loc\u001b[0;34m()\u001b[0m\n",
      "\u001b[0;32mpandas/_libs/hashtable_class_helper.pxi\u001b[0m in \u001b[0;36mpandas._libs.hashtable.PyObjectHashTable.get_item\u001b[0;34m()\u001b[0m\n",
      "\u001b[0;32mpandas/_libs/hashtable_class_helper.pxi\u001b[0m in \u001b[0;36mpandas._libs.hashtable.PyObjectHashTable.get_item\u001b[0;34m()\u001b[0m\n",
      "\u001b[0;31mKeyError\u001b[0m: 'w2v_clean'",
      "\nThe above exception was the direct cause of the following exception:\n",
      "\u001b[0;31mKeyError\u001b[0m                                  Traceback (most recent call last)",
      "\u001b[0;32m/tmp/ipykernel_9683/3695516359.py\u001b[0m in \u001b[0;36m<cell line: 1>\u001b[0;34m()\u001b[0m\n\u001b[0;32m----> 1\u001b[0;31m \u001b[0mtexts\u001b[0m \u001b[0;34m=\u001b[0m \u001b[0mdf_4\u001b[0m\u001b[0;34m[\u001b[0m\u001b[0;34m'w2v_clean'\u001b[0m\u001b[0;34m]\u001b[0m\u001b[0;34m.\u001b[0m\u001b[0mastype\u001b[0m\u001b[0;34m(\u001b[0m\u001b[0mstr\u001b[0m\u001b[0;34m)\u001b[0m  \u001b[0;31m# один раз привели к строке\u001b[0m\u001b[0;34m\u001b[0m\u001b[0;34m\u001b[0m\u001b[0m\n\u001b[0m\u001b[1;32m      2\u001b[0m \u001b[0mX_text\u001b[0m \u001b[0;34m=\u001b[0m \u001b[0mtexts\u001b[0m\u001b[0;34m.\u001b[0m\u001b[0mvalues\u001b[0m\u001b[0;34m\u001b[0m\u001b[0;34m\u001b[0m\u001b[0m\n\u001b[1;32m      3\u001b[0m \u001b[0my\u001b[0m \u001b[0;34m=\u001b[0m \u001b[0mnp\u001b[0m\u001b[0;34m.\u001b[0m\u001b[0marray\u001b[0m\u001b[0;34m(\u001b[0m\u001b[0mdf_4\u001b[0m\u001b[0;34m[\u001b[0m\u001b[0;34m'label_vector'\u001b[0m\u001b[0;34m]\u001b[0m\u001b[0;34m.\u001b[0m\u001b[0mtolist\u001b[0m\u001b[0;34m(\u001b[0m\u001b[0;34m)\u001b[0m\u001b[0;34m)\u001b[0m\u001b[0;34m\u001b[0m\u001b[0;34m\u001b[0m\u001b[0m\n",
      "\u001b[0;32m/usr/local/lib/python3.10/dist-packages/pandas/core/frame.py\u001b[0m in \u001b[0;36m__getitem__\u001b[0;34m(self, key)\u001b[0m\n\u001b[1;32m   3805\u001b[0m             \u001b[0;32mif\u001b[0m \u001b[0mself\u001b[0m\u001b[0;34m.\u001b[0m\u001b[0mcolumns\u001b[0m\u001b[0;34m.\u001b[0m\u001b[0mnlevels\u001b[0m \u001b[0;34m>\u001b[0m \u001b[0;36m1\u001b[0m\u001b[0;34m:\u001b[0m\u001b[0;34m\u001b[0m\u001b[0;34m\u001b[0m\u001b[0m\n\u001b[1;32m   3806\u001b[0m                 \u001b[0;32mreturn\u001b[0m \u001b[0mself\u001b[0m\u001b[0;34m.\u001b[0m\u001b[0m_getitem_multilevel\u001b[0m\u001b[0;34m(\u001b[0m\u001b[0mkey\u001b[0m\u001b[0;34m)\u001b[0m\u001b[0;34m\u001b[0m\u001b[0;34m\u001b[0m\u001b[0m\n\u001b[0;32m-> 3807\u001b[0;31m             \u001b[0mindexer\u001b[0m \u001b[0;34m=\u001b[0m \u001b[0mself\u001b[0m\u001b[0;34m.\u001b[0m\u001b[0mcolumns\u001b[0m\u001b[0;34m.\u001b[0m\u001b[0mget_loc\u001b[0m\u001b[0;34m(\u001b[0m\u001b[0mkey\u001b[0m\u001b[0;34m)\u001b[0m\u001b[0;34m\u001b[0m\u001b[0;34m\u001b[0m\u001b[0m\n\u001b[0m\u001b[1;32m   3808\u001b[0m             \u001b[0;32mif\u001b[0m \u001b[0mis_integer\u001b[0m\u001b[0;34m(\u001b[0m\u001b[0mindexer\u001b[0m\u001b[0;34m)\u001b[0m\u001b[0;34m:\u001b[0m\u001b[0;34m\u001b[0m\u001b[0;34m\u001b[0m\u001b[0m\n\u001b[1;32m   3809\u001b[0m                 \u001b[0mindexer\u001b[0m \u001b[0;34m=\u001b[0m \u001b[0;34m[\u001b[0m\u001b[0mindexer\u001b[0m\u001b[0;34m]\u001b[0m\u001b[0;34m\u001b[0m\u001b[0;34m\u001b[0m\u001b[0m\n",
      "\u001b[0;32m/usr/local/lib/python3.10/dist-packages/pandas/core/indexes/base.py\u001b[0m in \u001b[0;36mget_loc\u001b[0;34m(self, key, method, tolerance)\u001b[0m\n\u001b[1;32m   3802\u001b[0m                 \u001b[0;32mreturn\u001b[0m \u001b[0mself\u001b[0m\u001b[0;34m.\u001b[0m\u001b[0m_engine\u001b[0m\u001b[0;34m.\u001b[0m\u001b[0mget_loc\u001b[0m\u001b[0;34m(\u001b[0m\u001b[0mcasted_key\u001b[0m\u001b[0;34m)\u001b[0m\u001b[0;34m\u001b[0m\u001b[0;34m\u001b[0m\u001b[0m\n\u001b[1;32m   3803\u001b[0m             \u001b[0;32mexcept\u001b[0m \u001b[0mKeyError\u001b[0m \u001b[0;32mas\u001b[0m \u001b[0merr\u001b[0m\u001b[0;34m:\u001b[0m\u001b[0;34m\u001b[0m\u001b[0;34m\u001b[0m\u001b[0m\n\u001b[0;32m-> 3804\u001b[0;31m                 \u001b[0;32mraise\u001b[0m \u001b[0mKeyError\u001b[0m\u001b[0;34m(\u001b[0m\u001b[0mkey\u001b[0m\u001b[0;34m)\u001b[0m \u001b[0;32mfrom\u001b[0m \u001b[0merr\u001b[0m\u001b[0;34m\u001b[0m\u001b[0;34m\u001b[0m\u001b[0m\n\u001b[0m\u001b[1;32m   3805\u001b[0m             \u001b[0;32mexcept\u001b[0m \u001b[0mTypeError\u001b[0m\u001b[0;34m:\u001b[0m\u001b[0;34m\u001b[0m\u001b[0;34m\u001b[0m\u001b[0m\n\u001b[1;32m   3806\u001b[0m                 \u001b[0;31m# If we have a listlike key, _check_indexing_error will raise\u001b[0m\u001b[0;34m\u001b[0m\u001b[0;34m\u001b[0m\u001b[0m\n",
      "\u001b[0;31mKeyError\u001b[0m: 'w2v_clean'"
     ]
    }
   ],
   "source": [
    "texts = df_4['w2v_clean'].astype(str)  # один раз привели к строке\n",
    "X_text = texts.values\n",
    "y = np.array(df_4['label_vector'].tolist())"
   ]
  },
  {
   "cell_type": "code",
   "execution_count": 44,
   "id": "4e6f81d9-d331-41ac-9acc-43f00202052b",
   "metadata": {
    "execution": {
     "iopub.execute_input": "2025-05-18T21:17:03.899677Z",
     "iopub.status.busy": "2025-05-18T21:17:03.898756Z",
     "iopub.status.idle": "2025-05-18T21:17:03.934205Z",
     "shell.execute_reply": "2025-05-18T21:17:03.933317Z",
     "shell.execute_reply.started": "2025-05-18T21:17:03.899640Z"
    }
   },
   "outputs": [
    {
     "ename": "NameError",
     "evalue": "name 'X_text' is not defined",
     "output_type": "error",
     "traceback": [
      "\u001b[0;31m---------------------------------------------------------------------------\u001b[0m",
      "\u001b[0;31mNameError\u001b[0m                                 Traceback (most recent call last)",
      "\u001b[0;32m/tmp/ipykernel_9683/1642892218.py\u001b[0m in \u001b[0;36m<cell line: 1>\u001b[0;34m()\u001b[0m\n\u001b[1;32m      1\u001b[0m X_train_text, X_val_text, y_train, y_val = train_test_split(\n\u001b[0;32m----> 2\u001b[0;31m     \u001b[0mX_text\u001b[0m\u001b[0;34m,\u001b[0m \u001b[0my\u001b[0m\u001b[0;34m,\u001b[0m\u001b[0;34m\u001b[0m\u001b[0;34m\u001b[0m\u001b[0m\n\u001b[0m\u001b[1;32m      3\u001b[0m     \u001b[0mtest_size\u001b[0m\u001b[0;34m=\u001b[0m\u001b[0;36m0.15\u001b[0m\u001b[0;34m,\u001b[0m\u001b[0;34m\u001b[0m\u001b[0;34m\u001b[0m\u001b[0m\n\u001b[1;32m      4\u001b[0m     \u001b[0mrandom_state\u001b[0m\u001b[0;34m=\u001b[0m\u001b[0mSEED\u001b[0m\u001b[0;34m,\u001b[0m\u001b[0;34m\u001b[0m\u001b[0;34m\u001b[0m\u001b[0m\n\u001b[1;32m      5\u001b[0m     \u001b[0mstratify\u001b[0m\u001b[0;34m=\u001b[0m\u001b[0my\u001b[0m\u001b[0;34m.\u001b[0m\u001b[0margmax\u001b[0m\u001b[0;34m(\u001b[0m\u001b[0maxis\u001b[0m\u001b[0;34m=\u001b[0m\u001b[0;36m1\u001b[0m\u001b[0;34m)\u001b[0m\u001b[0;34m\u001b[0m\u001b[0;34m\u001b[0m\u001b[0m\n",
      "\u001b[0;31mNameError\u001b[0m: name 'X_text' is not defined"
     ]
    }
   ],
   "source": [
    "\n",
    "X_train_text, X_val_text, y_train, y_val = train_test_split(\n",
    "    X_text, y,\n",
    "    test_size=0.15,\n",
    "    random_state=SEED,\n",
    "    stratify=y.argmax(axis=1)\n",
    ")\n"
   ]
  },
  {
   "cell_type": "code",
   "execution_count": null,
   "id": "94a070aa-346d-4594-9397-d0ff781b0820",
   "metadata": {},
   "outputs": [],
   "source": [
    "sentences = [text.split() for text in texts]  # используем уже преобразованные строки\n"
   ]
  },
  {
   "cell_type": "code",
   "execution_count": null,
   "id": "c8ff1c28-8985-4455-9057-20baf21728cf",
   "metadata": {},
   "outputs": [],
   "source": [
    "# Обучение своей Word2Vec модели\n",
    "w2v_model = Word2Vec(sentences, vector_size=300, window=5, min_count=2, workers=4, seed=SEED)\n",
    "w2v_model = w2v_model.wv  \n",
    "embedding_dim = w2v_model.vector_size\n"
   ]
  },
  {
   "cell_type": "code",
   "execution_count": null,
   "id": "b7c3d2b8-34d2-4740-93a3-d42cf9bb7256",
   "metadata": {},
   "outputs": [],
   "source": [
    "def vectorize_text(text_list):\n",
    "    vectors = []\n",
    "    for tokens in tqdm(text_list):\n",
    "        words = tokens.split()\n",
    "        word_vecs = [w2v_model[word] for word in words if word in w2v_model]\n",
    "        if len(word_vecs) == 0:\n",
    "            vectors.append(np.zeros(embedding_dim))\n",
    "        else:\n",
    "            vectors.append(np.mean(word_vecs, axis=0))\n",
    "    return np.array(vectors)\n",
    "\n",
    "\n",
    "X_train_vec = vectorize_text(X_train_text)\n",
    "X_val_vec = vectorize_text(X_val_text)"
   ]
  },
  {
   "cell_type": "code",
   "execution_count": null,
   "id": "770c9e01-d45a-431f-ba89-7142ceb06980",
   "metadata": {},
   "outputs": [],
   "source": [
    "class TextDataset(Dataset):\n",
    "    def __init__(self, X, y):\n",
    "        self.X = torch.tensor(X, dtype=torch.float32)\n",
    "        self.y = torch.tensor(y, dtype=torch.float32)\n",
    "\n",
    "    def __len__(self):\n",
    "        return len(self.X)\n",
    "\n",
    "    def __getitem__(self, idx):\n",
    "        return self.X[idx], self.y[idx]\n",
    "\n",
    "train_dataset = TextDataset(X_train_vec, y_train)\n",
    "val_dataset = TextDataset(X_val_vec, y_val)\n",
    "train_loader = DataLoader(train_dataset, batch_size=64, shuffle=True)\n",
    "val_loader = DataLoader(val_dataset, batch_size=64)"
   ]
  },
  {
   "cell_type": "code",
   "execution_count": null,
   "id": "e5230de5-8b97-432a-b3e0-2311591ce2bc",
   "metadata": {},
   "outputs": [],
   "source": [
    "\n",
    "\n",
    "class W2V_MLP(nn.Module):\n",
    "    def __init__(self, input_dim, output_dim):\n",
    "        super().__init__()\n",
    "        self.model = nn.Sequential(\n",
    "            nn.Linear(input_dim, 512),\n",
    "            nn.ReLU(),\n",
    "            nn.Dropout(0.3),\n",
    "            nn.Linear(512, 256),\n",
    "            nn.ReLU(),\n",
    "            nn.Linear(256, output_dim),\n",
    "            nn.Sigmoid()\n",
    "        )\n",
    "\n",
    "    def forward(self, x):\n",
    "        return self.model(x)\n",
    "\n",
    "model = W2V_MLP(input_dim=embedding_dim, output_dim=y.shape[1])\n",
    "\n",
    "device = torch.device('cuda' if torch.cuda.is_available() else 'cpu')\n",
    "model.to(device)\n"
   ]
  },
  {
   "cell_type": "code",
   "execution_count": null,
   "id": "254c4435-4ce0-461e-8639-4381857e7199",
   "metadata": {},
   "outputs": [],
   "source": [
    "optimizer = torch.optim.Adam(model.parameters(), lr=1e-4)\n",
    "criterion = nn.BCELoss()\n"
   ]
  },
  {
   "cell_type": "code",
   "execution_count": null,
   "id": "bc81b789-91b2-4da5-a58f-d37571e19b12",
   "metadata": {},
   "outputs": [],
   "source": [
    "def lr_lambda(current_step):\n",
    "    warmup_steps = 5\n",
    "    total_steps = 50\n",
    "    if current_step < warmup_steps:\n",
    "        return float(current_step) / float(max(1, warmup_steps))\n",
    "    else:\n",
    "        progress = float(current_step - warmup_steps) / float(max(1, total_steps - warmup_steps))\n",
    "        return max(0.0, 0.5 * (1.0 + np.cos(np.pi * progress)))\n",
    "\n",
    "scheduler = torch.optim.lr_scheduler.LambdaLR(optimizer, lr_lambda)"
   ]
  },
  {
   "cell_type": "code",
   "execution_count": null,
   "id": "2a0fe9d4-2de9-4a96-8f74-f73b41878823",
   "metadata": {},
   "outputs": [],
   "source": [
    "class EarlyStopping:\n",
    "    def __init__(self, patience=7, verbose=False):\n",
    "        self.patience = patience\n",
    "        self.verbose = verbose\n",
    "        self.counter = 0\n",
    "        self.best_score = None\n",
    "        self.early_stop = False\n",
    "\n",
    "    def __call__(self, val_loss, model, path):\n",
    "        score = -val_loss\n",
    "        if self.best_score is None:\n",
    "            self.best_score = score\n",
    "            self.save_checkpoint(model, path)\n",
    "        elif score < self.best_score:\n",
    "            self.counter += 1\n",
    "            if self.verbose:\n",
    "                print(f\"No improvement. Counter: {self.counter}/{self.patience}\")\n",
    "            if self.counter >= self.patience:\n",
    "                self.early_stop = True\n",
    "        else:\n",
    "            self.best_score = score\n",
    "            self.save_checkpoint(model, path)\n",
    "            self.counter = 0\n",
    "            if self.verbose:\n",
    "                print(f\"Improved score: {-score:.4f} (was {-self.best_score:.4f}), resetting counter.\")\n",
    "\n",
    "    def save_checkpoint(self, model, path):\n",
    "        torch.save(model.state_dict(), path)\n",
    "        if self.verbose:\n",
    "            print(f\"Saved model to {path}\")\n",
    "\n",
    "early_stopping = EarlyStopping(patience=5, verbose=True)"
   ]
  },
  {
   "cell_type": "code",
   "execution_count": null,
   "id": "e9b063b5-d34e-412b-9ab0-6fc266b65dbc",
   "metadata": {},
   "outputs": [],
   "source": [
    "\n",
    "# --- Функция для вычисления F1 с порогом ---\n",
    "def calc_f1(y_true, y_pred, threshold=0.5):\n",
    "    y_pred_bin = (y_pred > threshold).astype(int)\n",
    "    return f1_score(y_true, y_pred_bin, average='macro')\n",
    "\n",
    "# --- Поиск лучшего порога для F1 ---\n",
    "def find_best_threshold(y_true, y_probs):\n",
    "    best_thr = 0.5\n",
    "    best_f1 = 0\n",
    "    for thr in np.arange(0.1, 0.9, 0.05):\n",
    "        y_pred = (y_probs > thr).astype(int)\n",
    "        f1 = f1_score(y_true, y_pred, average='macro')\n",
    "        if f1 > best_f1:\n",
    "            best_f1 = f1\n",
    "            best_thr = thr\n",
    "    return best_thr, best_f1"
   ]
  },
  {
   "cell_type": "code",
   "execution_count": 136,
   "id": "c13aa4a8-6b08-4af1-8aa9-eac7f33b3b5b",
   "metadata": {
    "execution": {
     "iopub.execute_input": "2025-05-18T13:05:46.198394Z",
     "iopub.status.busy": "2025-05-18T13:05:46.197274Z",
     "iopub.status.idle": "2025-05-18T13:07:00.279843Z",
     "shell.execute_reply": "2025-05-18T13:07:00.278951Z",
     "shell.execute_reply.started": "2025-05-18T13:05:46.198347Z"
    },
    "tags": []
   },
   "outputs": [
    {
     "name": "stderr",
     "output_type": "stream",
     "text": [
      "100%|██████████| 25132/25132 [00:04<00:00, 5884.14it/s]\n",
      "100%|██████████| 4436/4436 [00:00<00:00, 5785.69it/s]\n"
     ]
    },
    {
     "name": "stdout",
     "output_type": "stream",
     "text": [
      "Epoch 1: Train Loss = 0.6942, Val Loss = 0.6940, Train F1 = 0.5329, Val F1 = 0.6927, Best Thr = 0.10, LR = 0.000000\n",
      "Saved model to best_w2v_model.pt\n",
      "Epoch 2: Train Loss = 0.5404, Val Loss = 0.4347, Train F1 = 0.7796, Val F1 = 0.8287, Best Thr = 0.50, LR = 0.000020\n",
      "Saved model to best_w2v_model.pt\n",
      "Improved score: 0.4347 (was 0.4347), resetting counter.\n",
      "Epoch 3: Train Loss = 0.3920, Val Loss = 0.3647, Train F1 = 0.8401, Val F1 = 0.8530, Best Thr = 0.45, LR = 0.000040\n",
      "Saved model to best_w2v_model.pt\n",
      "Improved score: 0.3647 (was 0.3647), resetting counter.\n",
      "Epoch 4: Train Loss = 0.3496, Val Loss = 0.3324, Train F1 = 0.8565, Val F1 = 0.8644, Best Thr = 0.50, LR = 0.000060\n",
      "Saved model to best_w2v_model.pt\n",
      "Improved score: 0.3324 (was 0.3324), resetting counter.\n",
      "Epoch 5: Train Loss = 0.3248, Val Loss = 0.3140, Train F1 = 0.8671, Val F1 = 0.8722, Best Thr = 0.45, LR = 0.000080\n",
      "Saved model to best_w2v_model.pt\n",
      "Improved score: 0.3140 (was 0.3140), resetting counter.\n",
      "Epoch 6: Train Loss = 0.3094, Val Loss = 0.3007, Train F1 = 0.8730, Val F1 = 0.8771, Best Thr = 0.45, LR = 0.000100\n",
      "Saved model to best_w2v_model.pt\n",
      "Improved score: 0.3007 (was 0.3007), resetting counter.\n",
      "Epoch 7: Train Loss = 0.2997, Val Loss = 0.2931, Train F1 = 0.8766, Val F1 = 0.8800, Best Thr = 0.45, LR = 0.000100\n",
      "Saved model to best_w2v_model.pt\n",
      "Improved score: 0.2931 (was 0.2931), resetting counter.\n",
      "Epoch 8: Train Loss = 0.2919, Val Loss = 0.2866, Train F1 = 0.8795, Val F1 = 0.8827, Best Thr = 0.45, LR = 0.000100\n",
      "Saved model to best_w2v_model.pt\n",
      "Improved score: 0.2866 (was 0.2866), resetting counter.\n",
      "Epoch 9: Train Loss = 0.2858, Val Loss = 0.2820, Train F1 = 0.8822, Val F1 = 0.8845, Best Thr = 0.45, LR = 0.000099\n",
      "Saved model to best_w2v_model.pt\n",
      "Improved score: 0.2820 (was 0.2820), resetting counter.\n",
      "Epoch 10: Train Loss = 0.2812, Val Loss = 0.2783, Train F1 = 0.8841, Val F1 = 0.8859, Best Thr = 0.45, LR = 0.000098\n",
      "Saved model to best_w2v_model.pt\n",
      "Improved score: 0.2783 (was 0.2783), resetting counter.\n",
      "Epoch 11: Train Loss = 0.2769, Val Loss = 0.2737, Train F1 = 0.8860, Val F1 = 0.8875, Best Thr = 0.45, LR = 0.000097\n",
      "Saved model to best_w2v_model.pt\n",
      "Improved score: 0.2737 (was 0.2737), resetting counter.\n",
      "Epoch 12: Train Loss = 0.2734, Val Loss = 0.2708, Train F1 = 0.8872, Val F1 = 0.8888, Best Thr = 0.45, LR = 0.000096\n",
      "Saved model to best_w2v_model.pt\n",
      "Improved score: 0.2708 (was 0.2708), resetting counter.\n",
      "Epoch 13: Train Loss = 0.2702, Val Loss = 0.2674, Train F1 = 0.8885, Val F1 = 0.8909, Best Thr = 0.45, LR = 0.000094\n",
      "Saved model to best_w2v_model.pt\n",
      "Improved score: 0.2674 (was 0.2674), resetting counter.\n",
      "Epoch 14: Train Loss = 0.2670, Val Loss = 0.2657, Train F1 = 0.8902, Val F1 = 0.8913, Best Thr = 0.45, LR = 0.000092\n",
      "Saved model to best_w2v_model.pt\n",
      "Improved score: 0.2657 (was 0.2657), resetting counter.\n",
      "Epoch 15: Train Loss = 0.2642, Val Loss = 0.2634, Train F1 = 0.8911, Val F1 = 0.8927, Best Thr = 0.45, LR = 0.000090\n",
      "Saved model to best_w2v_model.pt\n",
      "Improved score: 0.2634 (was 0.2634), resetting counter.\n",
      "Epoch 16: Train Loss = 0.2616, Val Loss = 0.2620, Train F1 = 0.8919, Val F1 = 0.8926, Best Thr = 0.45, LR = 0.000088\n",
      "Saved model to best_w2v_model.pt\n",
      "Improved score: 0.2620 (was 0.2620), resetting counter.\n",
      "Epoch 17: Train Loss = 0.2597, Val Loss = 0.2585, Train F1 = 0.8927, Val F1 = 0.8944, Best Thr = 0.45, LR = 0.000086\n",
      "Saved model to best_w2v_model.pt\n",
      "Improved score: 0.2585 (was 0.2585), resetting counter.\n",
      "Epoch 18: Train Loss = 0.2573, Val Loss = 0.2570, Train F1 = 0.8936, Val F1 = 0.8954, Best Thr = 0.45, LR = 0.000083\n",
      "Saved model to best_w2v_model.pt\n",
      "Improved score: 0.2570 (was 0.2570), resetting counter.\n",
      "Epoch 19: Train Loss = 0.2559, Val Loss = 0.2548, Train F1 = 0.8944, Val F1 = 0.8958, Best Thr = 0.45, LR = 0.000081\n",
      "Saved model to best_w2v_model.pt\n",
      "Improved score: 0.2548 (was 0.2548), resetting counter.\n",
      "Epoch 20: Train Loss = 0.2538, Val Loss = 0.2534, Train F1 = 0.8952, Val F1 = 0.8966, Best Thr = 0.45, LR = 0.000078\n",
      "Saved model to best_w2v_model.pt\n",
      "Improved score: 0.2534 (was 0.2534), resetting counter.\n",
      "Epoch 21: Train Loss = 0.2524, Val Loss = 0.2520, Train F1 = 0.8955, Val F1 = 0.8971, Best Thr = 0.45, LR = 0.000075\n",
      "Saved model to best_w2v_model.pt\n",
      "Improved score: 0.2520 (was 0.2520), resetting counter.\n",
      "Epoch 22: Train Loss = 0.2506, Val Loss = 0.2514, Train F1 = 0.8966, Val F1 = 0.8973, Best Thr = 0.45, LR = 0.000072\n",
      "Saved model to best_w2v_model.pt\n",
      "Improved score: 0.2514 (was 0.2514), resetting counter.\n",
      "Epoch 23: Train Loss = 0.2494, Val Loss = 0.2496, Train F1 = 0.8971, Val F1 = 0.8980, Best Thr = 0.45, LR = 0.000069\n",
      "Saved model to best_w2v_model.pt\n",
      "Improved score: 0.2496 (was 0.2496), resetting counter.\n",
      "Epoch 24: Train Loss = 0.2484, Val Loss = 0.2489, Train F1 = 0.8973, Val F1 = 0.8986, Best Thr = 0.45, LR = 0.000065\n",
      "Saved model to best_w2v_model.pt\n",
      "Improved score: 0.2489 (was 0.2489), resetting counter.\n",
      "Epoch 25: Train Loss = 0.2473, Val Loss = 0.2481, Train F1 = 0.8977, Val F1 = 0.8984, Best Thr = 0.50, LR = 0.000062\n",
      "Saved model to best_w2v_model.pt\n",
      "Improved score: 0.2481 (was 0.2481), resetting counter.\n",
      "Epoch 26: Train Loss = 0.2459, Val Loss = 0.2476, Train F1 = 0.8983, Val F1 = 0.8987, Best Thr = 0.45, LR = 0.000059\n",
      "Saved model to best_w2v_model.pt\n",
      "Improved score: 0.2476 (was 0.2476), resetting counter.\n",
      "Epoch 27: Train Loss = 0.2454, Val Loss = 0.2462, Train F1 = 0.8983, Val F1 = 0.8988, Best Thr = 0.45, LR = 0.000055\n",
      "Saved model to best_w2v_model.pt\n",
      "Improved score: 0.2462 (was 0.2462), resetting counter.\n",
      "Epoch 28: Train Loss = 0.2446, Val Loss = 0.2452, Train F1 = 0.8989, Val F1 = 0.8997, Best Thr = 0.45, LR = 0.000052\n",
      "Saved model to best_w2v_model.pt\n",
      "Improved score: 0.2452 (was 0.2452), resetting counter.\n",
      "Epoch 29: Train Loss = 0.2433, Val Loss = 0.2445, Train F1 = 0.8995, Val F1 = 0.9002, Best Thr = 0.45, LR = 0.000048\n",
      "Saved model to best_w2v_model.pt\n",
      "Improved score: 0.2445 (was 0.2445), resetting counter.\n",
      "Epoch 30: Train Loss = 0.2423, Val Loss = 0.2441, Train F1 = 0.8998, Val F1 = 0.9002, Best Thr = 0.45, LR = 0.000045\n",
      "Saved model to best_w2v_model.pt\n",
      "Improved score: 0.2441 (was 0.2441), resetting counter.\n",
      "Epoch 31: Train Loss = 0.2417, Val Loss = 0.2437, Train F1 = 0.9002, Val F1 = 0.9001, Best Thr = 0.50, LR = 0.000041\n",
      "Saved model to best_w2v_model.pt\n",
      "Improved score: 0.2437 (was 0.2437), resetting counter.\n",
      "Epoch 32: Train Loss = 0.2413, Val Loss = 0.2429, Train F1 = 0.9000, Val F1 = 0.9007, Best Thr = 0.45, LR = 0.000038\n",
      "Saved model to best_w2v_model.pt\n",
      "Improved score: 0.2429 (was 0.2429), resetting counter.\n",
      "Epoch 33: Train Loss = 0.2405, Val Loss = 0.2426, Train F1 = 0.9005, Val F1 = 0.9009, Best Thr = 0.45, LR = 0.000035\n",
      "Saved model to best_w2v_model.pt\n",
      "Improved score: 0.2426 (was 0.2426), resetting counter.\n",
      "Epoch 34: Train Loss = 0.2405, Val Loss = 0.2421, Train F1 = 0.9005, Val F1 = 0.9011, Best Thr = 0.45, LR = 0.000031\n",
      "Saved model to best_w2v_model.pt\n",
      "Improved score: 0.2421 (was 0.2421), resetting counter.\n",
      "Epoch 35: Train Loss = 0.2394, Val Loss = 0.2417, Train F1 = 0.9011, Val F1 = 0.9010, Best Thr = 0.45, LR = 0.000028\n",
      "Saved model to best_w2v_model.pt\n",
      "Improved score: 0.2417 (was 0.2417), resetting counter.\n",
      "Epoch 36: Train Loss = 0.2388, Val Loss = 0.2412, Train F1 = 0.9016, Val F1 = 0.9014, Best Thr = 0.45, LR = 0.000025\n",
      "Saved model to best_w2v_model.pt\n",
      "Improved score: 0.2412 (was 0.2412), resetting counter.\n",
      "Epoch 37: Train Loss = 0.2389, Val Loss = 0.2412, Train F1 = 0.9012, Val F1 = 0.9013, Best Thr = 0.45, LR = 0.000022\n",
      "Saved model to best_w2v_model.pt\n",
      "Improved score: 0.2412 (was 0.2412), resetting counter.\n",
      "Epoch 38: Train Loss = 0.2387, Val Loss = 0.2408, Train F1 = 0.9013, Val F1 = 0.9016, Best Thr = 0.45, LR = 0.000019\n",
      "Saved model to best_w2v_model.pt\n",
      "Improved score: 0.2408 (was 0.2408), resetting counter.\n",
      "Epoch 39: Train Loss = 0.2383, Val Loss = 0.2406, Train F1 = 0.9018, Val F1 = 0.9014, Best Thr = 0.50, LR = 0.000017\n",
      "Saved model to best_w2v_model.pt\n",
      "Improved score: 0.2406 (was 0.2406), resetting counter.\n",
      "Epoch 40: Train Loss = 0.2380, Val Loss = 0.2405, Train F1 = 0.9017, Val F1 = 0.9015, Best Thr = 0.45, LR = 0.000014\n",
      "Saved model to best_w2v_model.pt\n",
      "Improved score: 0.2405 (was 0.2405), resetting counter.\n",
      "Epoch 41: Train Loss = 0.2379, Val Loss = 0.2403, Train F1 = 0.9016, Val F1 = 0.9016, Best Thr = 0.45, LR = 0.000012\n",
      "Saved model to best_w2v_model.pt\n",
      "Improved score: 0.2403 (was 0.2403), resetting counter.\n",
      "Epoch 42: Train Loss = 0.2372, Val Loss = 0.2402, Train F1 = 0.9022, Val F1 = 0.9016, Best Thr = 0.45, LR = 0.000010\n",
      "Saved model to best_w2v_model.pt\n",
      "Improved score: 0.2402 (was 0.2402), resetting counter.\n",
      "Epoch 43: Train Loss = 0.2371, Val Loss = 0.2401, Train F1 = 0.9019, Val F1 = 0.9019, Best Thr = 0.45, LR = 0.000008\n",
      "Saved model to best_w2v_model.pt\n",
      "Improved score: 0.2401 (was 0.2401), resetting counter.\n",
      "Epoch 44: Train Loss = 0.2371, Val Loss = 0.2399, Train F1 = 0.9022, Val F1 = 0.9020, Best Thr = 0.45, LR = 0.000006\n",
      "Saved model to best_w2v_model.pt\n",
      "Improved score: 0.2399 (was 0.2399), resetting counter.\n",
      "Epoch 45: Train Loss = 0.2371, Val Loss = 0.2399, Train F1 = 0.9024, Val F1 = 0.9018, Best Thr = 0.45, LR = 0.000004\n",
      "Saved model to best_w2v_model.pt\n",
      "Improved score: 0.2399 (was 0.2399), resetting counter.\n",
      "Epoch 46: Train Loss = 0.2367, Val Loss = 0.2399, Train F1 = 0.9021, Val F1 = 0.9019, Best Thr = 0.45, LR = 0.000003\n",
      "Saved model to best_w2v_model.pt\n",
      "Improved score: 0.2399 (was 0.2399), resetting counter.\n",
      "Epoch 47: Train Loss = 0.2369, Val Loss = 0.2399, Train F1 = 0.9022, Val F1 = 0.9019, Best Thr = 0.45, LR = 0.000002\n",
      "Saved model to best_w2v_model.pt\n",
      "Improved score: 0.2399 (was 0.2399), resetting counter.\n",
      "Epoch 48: Train Loss = 0.2366, Val Loss = 0.2399, Train F1 = 0.9019, Val F1 = 0.9019, Best Thr = 0.45, LR = 0.000001\n",
      "Saved model to best_w2v_model.pt\n",
      "Improved score: 0.2399 (was 0.2399), resetting counter.\n",
      "Epoch 49: Train Loss = 0.2368, Val Loss = 0.2398, Train F1 = 0.9022, Val F1 = 0.9018, Best Thr = 0.45, LR = 0.000000\n",
      "Saved model to best_w2v_model.pt\n",
      "Improved score: 0.2398 (was 0.2398), resetting counter.\n",
      "Epoch 50: Train Loss = 0.2369, Val Loss = 0.2398, Train F1 = 0.9022, Val F1 = 0.9018, Best Thr = 0.45, LR = 0.000000\n",
      "Saved model to best_w2v_model.pt\n",
      "Improved score: 0.2398 (was 0.2398), resetting counter.\n"
     ]
    },
    {
     "data": {
      "image/png": "[encoded data removed]",
      "text/plain": [
       "<Figure size 1500x500 with 3 Axes>"
      ]
     },
     "metadata": {},
     "output_type": "display_data"
    },
    {
     "name": "stderr",
     "output_type": "stream",
     "text": [
      "100%|██████████| 7392/7392 [00:01<00:00, 5682.03it/s]\n"
     ]
    }
   ],
   "source": [
    "\n",
    "n_epochs = 50\n",
    "train_losses, val_losses = [], []\n",
    "train_f1s, val_f1s = [], []\n",
    "lrs = []\n",
    "\n",
    "for epoch in range(1, n_epochs + 1):\n",
    "    model.train()\n",
    "    train_loss = 0\n",
    "    all_preds, all_labels = [], []\n",
    "\n",
    "    for xb, yb in train_loader:\n",
    "        xb, yb = xb.to(device), yb.to(device)\n",
    "        optimizer.zero_grad()\n",
    "        preds = model(xb)\n",
    "        loss = criterion(preds, yb)\n",
    "        loss.backward()\n",
    "        optimizer.step()\n",
    "\n",
    "        train_loss += loss.item() * xb.size(0)\n",
    "        all_preds.append(preds.detach().cpu().numpy())\n",
    "        all_labels.append(yb.cpu().numpy())\n",
    "\n",
    "    all_preds = np.vstack(all_preds)\n",
    "    all_labels = np.vstack(all_labels)\n",
    "    train_f1 = calc_f1(all_labels, all_preds)\n",
    "\n",
    "    model.eval()\n",
    "    val_loss = 0\n",
    "    val_preds, val_labels = [], []\n",
    "    with torch.no_grad():\n",
    "        for xb, yb in val_loader:\n",
    "            xb, yb = xb.to(device), yb.to(device)\n",
    "            preds = model(xb)\n",
    "            loss = criterion(preds, yb)\n",
    "            val_loss += loss.item() * xb.size(0)\n",
    "            val_preds.append(preds.cpu().numpy())\n",
    "            val_labels.append(yb.cpu().numpy())\n",
    "\n",
    "    val_preds = np.vstack(val_preds)\n",
    "    val_labels = np.vstack(val_labels)\n",
    "\n",
    "    best_thr, val_f1 = find_best_threshold(val_labels, val_preds)\n",
    "\n",
    "    train_losses.append(train_loss / len(train_dataset))\n",
    "    val_losses.append(val_loss / len(val_dataset))\n",
    "    train_f1s.append(train_f1)\n",
    "    val_f1s.append(val_f1)\n",
    "\n",
    "    current_lr = optimizer.param_groups[0]['lr']\n",
    "    lrs.append(current_lr)\n",
    "\n",
    "    print(f\"Epoch {epoch}: Train Loss = {train_losses[-1]:.4f}, Val Loss = {val_losses[-1]:.4f}, \"\n",
    "          f\"Train F1 = {train_f1:.4f}, Val F1 = {val_f1:.4f}, Best Thr = {best_thr:.2f}, LR = {current_lr:.6f}\")\n",
    "\n",
    "    early_stopping(val_losses[-1], model, 'best_w2v_model.pt')\n",
    "    if early_stopping.early_stop:\n",
    "        print(\"Early stopping triggered!\")\n",
    "        break\n",
    "\n",
    "    scheduler.step()\n",
    "\n",
    "plt.figure(figsize=(15,5))\n",
    "\n",
    "plt.subplot(1,3,1)\n",
    "plt.plot(train_losses, label='Train Loss')\n",
    "plt.plot(val_losses, label='Val Loss')\n",
    "plt.legend()\n",
    "plt.title('Loss')\n",
    "\n",
    "plt.subplot(1,3,2)\n",
    "plt.plot(train_f1s, label='Train F1')\n",
    "plt.plot(val_f1s, label='Val F1')\n",
    "plt.legend()\n",
    "plt.title('F1 Score')\n",
    "\n",
    "plt.subplot(1,3,3)\n",
    "plt.plot(lrs)\n",
    "plt.title('Learning Rate')\n",
    "\n",
    "plt.show()\n",
    "\n",
    "model.load_state_dict(torch.load('best_w2v_model.pt'))\n",
    "model.eval()\n",
    "\n",
    "X_test_text = data_test['w2v_clean'].astype(str).values\n",
    "X_test_vec = vectorize_text(X_test_text)\n",
    "test_tensor = torch.tensor(X_test_vec, dtype=torch.float32)\n",
    "test_loader = DataLoader(test_tensor, batch_size=64)\n",
    "\n",
    "all_preds = []\n",
    "with torch.no_grad():\n",
    "    for xb in test_loader:\n",
    "        xb = xb.to(device)\n",
    "        preds = model(xb)\n",
    "        all_preds.append(preds.cpu().numpy())\n",
    "\n",
    "final_preds = np.vstack(all_preds)\n",
    "final_preds_bin = (final_preds > 0.5).astype(int)\n",
    "\n",
    "submission = pd.DataFrame({\n",
    "    'id': data_test['id'],\n",
    "    'labels': [\" \".join(map(str, row)) for row in final_preds_bin]\n",
    "})\n",
    "submission.to_csv('submission.csv', index=False)\n"
   ]
  },
  {
   "cell_type": "code",
   "execution_count": null,
   "id": "9adfdd7d-37c4-4691-88d5-83324181308f",
   "metadata": {},
   "outputs": [],
   "source": []
  },
  {
   "cell_type": "markdown",
   "id": "a76c031b-5201-46ea-93f4-766ed0508f14",
   "metadata": {},
   "source": [
    "## 3) встроенный эмбеддинг в нейросетевое решение на свёрточных сетях;"
   ]
  },
  {
   "cell_type": "code",
   "execution_count": 47,
   "id": "6c4c6e31-20e4-418b-9435-15f37e1cf338",
   "metadata": {
    "execution": {
     "iopub.execute_input": "2025-05-18T21:21:27.842538Z",
     "iopub.status.busy": "2025-05-18T21:21:27.841611Z",
     "iopub.status.idle": "2025-05-18T21:21:27.882938Z",
     "shell.execute_reply": "2025-05-18T21:21:27.882080Z",
     "shell.execute_reply.started": "2025-05-18T21:21:27.842500Z"
    }
   },
   "outputs": [
    {
     "data": {
      "text/html": [
       "<div>\n",
       "<style scoped>\n",
       "    .dataframe tbody tr th:only-of-type {\n",
       "        vertical-align: middle;\n",
       "    }\n",
       "\n",
       "    .dataframe tbody tr th {\n",
       "        vertical-align: top;\n",
       "    }\n",
       "\n",
       "    .dataframe thead th {\n",
       "        text-align: right;\n",
       "    }\n",
       "</style>\n",
       "<table border=\"1\" class=\"dataframe\">\n",
       "  <thead>\n",
       "    <tr style=\"text-align: right;\">\n",
       "      <th></th>\n",
       "      <th>id</th>\n",
       "      <th>text</th>\n",
       "      <th>labels</th>\n",
       "      <th>label_vector</th>\n",
       "      <th>cnn_clean</th>\n",
       "      <th>rnn_clean</th>\n",
       "      <th>bert_clean</th>\n",
       "    </tr>\n",
       "  </thead>\n",
       "  <tbody>\n",
       "    <tr>\n",
       "      <th>0</th>\n",
       "      <td>0</td>\n",
       "      <td>15 января\\nДетская развлекательная программа\\n...</td>\n",
       "      <td>1 0 0 0 1 0 0 0 1 0 0 0 1 1 1 1 1 0 0 1</td>\n",
       "      <td>[1, 0, 0, 0, 1, 0, 0, 0, 1, 0, 0, 0, 1, 1, 1, ...</td>\n",
       "      <td>[15, января, детская, развлекательная, програм...</td>\n",
       "      <td>[15, января, детская, развлекательная, програм...</td>\n",
       "      <td>15 января\\nДетская развлекательная программа\\n...</td>\n",
       "    </tr>\n",
       "    <tr>\n",
       "      <th>1</th>\n",
       "      <td>1</td>\n",
       "      <td>13 и 14 августа\\nВыходные в Меге\\nhttps://t.me...</td>\n",
       "      <td>0 0 0 1 0 0 0 0 1 0 0 0 1 1 0 1 1 0 0 1</td>\n",
       "      <td>[0, 0, 0, 1, 0, 0, 0, 0, 1, 0, 0, 0, 1, 1, 0, ...</td>\n",
       "      <td>[13, и, 14, августа, выходные, в, меге, мегапарк]</td>\n",
       "      <td>[13, и, 14, августа, выходные, в, меге, мегапарк]</td>\n",
       "      <td>13 и 14 августа\\nВыходные в Меге\\n\\nМегапарк</td>\n",
       "    </tr>\n",
       "    <tr>\n",
       "      <th>2</th>\n",
       "      <td>2</td>\n",
       "      <td>Йокнапатофа\\nПостановка Театр им. Маяковского\\...</td>\n",
       "      <td>0 0 0 0 1 0 0 0 0 0 0 0 1 1 0 1 1 0 0 1</td>\n",
       "      <td>[0, 0, 0, 0, 1, 0, 0, 0, 0, 0, 0, 0, 1, 1, 0, ...</td>\n",
       "      <td>[йокнапатофа, постановка, театр, им., маяковск...</td>\n",
       "      <td>[йокнапатофа, постановка, театр, им., маяковск...</td>\n",
       "      <td>Йокнапатофа\\nПостановка Театр им. Маяковского\\...</td>\n",
       "    </tr>\n",
       "    <tr>\n",
       "      <th>3</th>\n",
       "      <td>3</td>\n",
       "      <td>Впервые в Уфе танцевальная терапия в группе с ...</td>\n",
       "      <td>1 1 0 0 1 0 0 1 1 1 1 1 1 1 1 0 0 1 1 0</td>\n",
       "      <td>[1, 1, 0, 0, 1, 0, 0, 1, 1, 1, 1, 1, 1, 1, 1, ...</td>\n",
       "      <td>[впервые, в, уфе, танцевальная, терапия, в, гр...</td>\n",
       "      <td>[впервые, в, уфе, танцевальная, терапия, в, гр...</td>\n",
       "      <td>Впервые в Уфе танцевальная терапия в группе с ...</td>\n",
       "    </tr>\n",
       "    <tr>\n",
       "      <th>4</th>\n",
       "      <td>4</td>\n",
       "      <td>🎹\\nGRAND PIANO COMPETITION\\n🎹\\nДрузья, сегодня...</td>\n",
       "      <td>1 1 0 0 0 0 0 1 1 0 0 1 1 1 1 0 1 1 1 0</td>\n",
       "      <td>[1, 1, 0, 0, 0, 0, 0, 1, 1, 0, 0, 1, 1, 1, 1, ...</td>\n",
       "      <td>[grand, piano, competition, друзья,, сегодня, ...</td>\n",
       "      <td>[grand, piano, competition, друзья,, сегодня, ...</td>\n",
       "      <td>🎹\\nGRAND PIANO COMPETITION\\n🎹\\nДрузья, сегодня...</td>\n",
       "    </tr>\n",
       "    <tr>\n",
       "      <th>...</th>\n",
       "      <td>...</td>\n",
       "      <td>...</td>\n",
       "      <td>...</td>\n",
       "      <td>...</td>\n",
       "      <td>...</td>\n",
       "      <td>...</td>\n",
       "      <td>...</td>\n",
       "    </tr>\n",
       "    <tr>\n",
       "      <th>29563</th>\n",
       "      <td>29563</td>\n",
       "      <td>Выступление Симфо-группы TEODOR\\n⠀\\n22 июля в ...</td>\n",
       "      <td>0 0 0 0 0 0 0 1 1 0 0 0 0 1 0 1 1 1 1 0</td>\n",
       "      <td>[0, 0, 0, 0, 0, 0, 0, 1, 1, 0, 0, 0, 0, 1, 0, ...</td>\n",
       "      <td>[выступление, симфо-группы, teodor, 22, июля, ...</td>\n",
       "      <td>[выступление, симфо-группы, teodor, 22, июля, ...</td>\n",
       "      <td>Выступление Симфо-группы TEODOR\\n⠀\\n22 июля в ...</td>\n",
       "    </tr>\n",
       "    <tr>\n",
       "      <th>29564</th>\n",
       "      <td>29564</td>\n",
       "      <td>🔤\\nЮЗИКЛ \"МОНТЕ-КРИСТО\" ТЕАТР ОПЕРЕТТЫ\\nЭто оч...</td>\n",
       "      <td>1 1 1 0 0 0 0 1 0 1 1 1 0 1 1 0 1 1 1 0</td>\n",
       "      <td>[1, 1, 1, 0, 0, 0, 0, 1, 0, 1, 1, 1, 0, 1, 1, ...</td>\n",
       "      <td>[юзикл, монте-кристо, театр, оперетты, это, оч...</td>\n",
       "      <td>[юзикл, монте-кристо, театр, оперетты, это, оч...</td>\n",
       "      <td>🔤\\nЮЗИКЛ \"МОНТЕ-КРИСТО\" ТЕАТР ОПЕРЕТТЫ\\nЭто оч...</td>\n",
       "    </tr>\n",
       "    <tr>\n",
       "      <th>29565</th>\n",
       "      <td>29565</td>\n",
       "      <td>РАСПИСАНИЕ БЕСПЛАТНЫХ ЭКСКУРСИЙ\\nв октябре 202...</td>\n",
       "      <td>1 1 0 0 1 0 0 1 1 1 1 1 1 1 1 1 1 1 1 0</td>\n",
       "      <td>[1, 1, 0, 0, 1, 0, 0, 1, 1, 1, 1, 1, 1, 1, 1, ...</td>\n",
       "      <td>[расписание, бесплатных, экскурсий, в, октябре...</td>\n",
       "      <td>[расписание, бесплатных, экскурсий, в, октябре...</td>\n",
       "      <td>РАСПИСАНИЕ БЕСПЛАТНЫХ ЭКСКУРСИЙ\\nв октябре 202...</td>\n",
       "    </tr>\n",
       "    <tr>\n",
       "      <th>29566</th>\n",
       "      <td>29566</td>\n",
       "      <td>Долгожданный концерт Надежды Кадышевой в Рязан...</td>\n",
       "      <td>1 0 1 0 0 0 0 1 0 1 1 1 0 1 1 0 0 1 1 0</td>\n",
       "      <td>[1, 0, 1, 0, 0, 0, 0, 1, 0, 1, 1, 1, 0, 1, 1, ...</td>\n",
       "      <td>[долгожданный, концерт, надежды, кадышевой, в,...</td>\n",
       "      <td>[долгожданный, концерт, надежды, кадышевой, в,...</td>\n",
       "      <td>Долгожданный концерт Надежды Кадышевой в Рязан...</td>\n",
       "    </tr>\n",
       "    <tr>\n",
       "      <th>29567</th>\n",
       "      <td>29567</td>\n",
       "      <td>Спектакль-победитель фестиваля «Амурская осень...</td>\n",
       "      <td>0 1 0 0 1 0 0 1 1 1 0 0 1 0 1 0 1 1 1 0</td>\n",
       "      <td>[0, 1, 0, 0, 1, 0, 0, 1, 1, 1, 0, 0, 1, 0, 1, ...</td>\n",
       "      <td>[спектакль-победитель, фестиваля, амурская, ос...</td>\n",
       "      <td>[спектакль-победитель, фестиваля, амурская, ос...</td>\n",
       "      <td>Спектакль-победитель фестиваля «Амурская осень...</td>\n",
       "    </tr>\n",
       "  </tbody>\n",
       "</table>\n",
       "<p>29568 rows × 7 columns</p>\n",
       "</div>"
      ],
      "text/plain": [
       "          id  ...                                         bert_clean\n",
       "0          0  ...  15 января\\nДетская развлекательная программа\\n...\n",
       "1          1  ...       13 и 14 августа\\nВыходные в Меге\\n\\nМегапарк\n",
       "2          2  ...  Йокнапатофа\\nПостановка Театр им. Маяковского\\...\n",
       "3          3  ...  Впервые в Уфе танцевальная терапия в группе с ...\n",
       "4          4  ...  🎹\\nGRAND PIANO COMPETITION\\n🎹\\nДрузья, сегодня...\n",
       "...      ...  ...                                                ...\n",
       "29563  29563  ...  Выступление Симфо-группы TEODOR\\n⠀\\n22 июля в ...\n",
       "29564  29564  ...  🔤\\nЮЗИКЛ \"МОНТЕ-КРИСТО\" ТЕАТР ОПЕРЕТТЫ\\nЭто оч...\n",
       "29565  29565  ...  РАСПИСАНИЕ БЕСПЛАТНЫХ ЭКСКУРСИЙ\\nв октябре 202...\n",
       "29566  29566  ...  Долгожданный концерт Надежды Кадышевой в Рязан...\n",
       "29567  29567  ...  Спектакль-победитель фестиваля «Амурская осень...\n",
       "\n",
       "[29568 rows x 7 columns]"
      ]
     },
     "execution_count": 47,
     "metadata": {},
     "output_type": "execute_result"
    }
   ],
   "source": [
    "df_4"
   ]
  },
  {
   "cell_type": "code",
   "execution_count": 52,
   "id": "86de7ca5-c5b7-4dc0-9880-4046e5c796fc",
   "metadata": {
    "execution": {
     "iopub.execute_input": "2025-05-18T21:22:49.342466Z",
     "iopub.status.busy": "2025-05-18T21:22:49.341648Z",
     "iopub.status.idle": "2025-05-18T21:22:49.608088Z",
     "shell.execute_reply": "2025-05-18T21:22:49.607430Z",
     "shell.execute_reply.started": "2025-05-18T21:22:49.342433Z"
    },
    "tags": []
   },
   "outputs": [],
   "source": [
    "# 1. Получаем текст и метки\n",
    "X_text = df_4['cnn_clean'].astype(str).values\n",
    "y = np.array(df_4['label_vector'].tolist())\n",
    "\n",
    "# 2. Делим на трейн и валидацию с балансом по самым активным классам\n",
    "X_train, X_val, y_train, y_val = train_test_split(\n",
    "    X_text, y,\n",
    "    test_size=0.15,\n",
    "    random_state=42,\n",
    "    stratify=y.argmax(axis=1)  # важно! обеспечиваем сбалансированность\n",
    ")\n",
    "\n"
   ]
  },
  {
   "cell_type": "code",
   "execution_count": null,
   "id": "8c17f52d-048b-41fc-b755-35c981d7e0ee",
   "metadata": {},
   "outputs": [],
   "source": []
  },
  {
   "cell_type": "code",
   "execution_count": 57,
   "id": "0e6494d5-c982-4c44-a358-a3e316cc87ce",
   "metadata": {
    "execution": {
     "iopub.execute_input": "2025-05-18T21:27:39.588477Z",
     "iopub.status.busy": "2025-05-18T21:27:39.587432Z",
     "iopub.status.idle": "2025-05-18T21:29:10.710433Z",
     "shell.execute_reply": "2025-05-18T21:29:10.709544Z",
     "shell.execute_reply.started": "2025-05-18T21:27:39.588436Z"
    },
    "tags": []
   },
   "outputs": [
    {
     "name": "stderr",
     "output_type": "stream",
     "text": [
      "Epoch 1/100 - Training: 100%|██████████| 393/393 [00:01<00:00, 364.72it/s]\n",
      "Epoch 1/100 - Validation: 100%|██████████| 70/70 [00:00<00:00, 963.30it/s]\n"
     ]
    },
    {
     "name": "stdout",
     "output_type": "stream",
     "text": [
      "\n",
      "Epoch 1/100\n",
      "Train Loss: 0.5800 | Val Loss: 0.4728 | Val F1 (micro): 0.5727\n",
      "New best model found\n"
     ]
    },
    {
     "name": "stderr",
     "output_type": "stream",
     "text": [
      "Epoch 2/100 - Training: 100%|██████████| 393/393 [00:01<00:00, 368.52it/s]\n",
      "Epoch 2/100 - Validation: 100%|██████████| 70/70 [00:00<00:00, 975.42it/s]\n"
     ]
    },
    {
     "name": "stdout",
     "output_type": "stream",
     "text": [
      "\n",
      "Epoch 2/100\n",
      "Train Loss: 0.4587 | Val Loss: 0.4210 | Val F1 (micro): 0.6508\n",
      "New best model found\n"
     ]
    },
    {
     "name": "stderr",
     "output_type": "stream",
     "text": [
      "Epoch 3/100 - Training: 100%|██████████| 393/393 [00:01<00:00, 363.82it/s]\n",
      "Epoch 3/100 - Validation: 100%|██████████| 70/70 [00:00<00:00, 972.46it/s]\n"
     ]
    },
    {
     "name": "stdout",
     "output_type": "stream",
     "text": [
      "\n",
      "Epoch 3/100\n",
      "Train Loss: 0.4236 | Val Loss: 0.4005 | Val F1 (micro): 0.6601\n",
      "New best model found\n"
     ]
    },
    {
     "name": "stderr",
     "output_type": "stream",
     "text": [
      "Epoch 4/100 - Training: 100%|██████████| 393/393 [00:01<00:00, 364.33it/s]\n",
      "Epoch 4/100 - Validation: 100%|██████████| 70/70 [00:00<00:00, 969.71it/s]\n"
     ]
    },
    {
     "name": "stdout",
     "output_type": "stream",
     "text": [
      "\n",
      "Epoch 4/100\n",
      "Train Loss: 0.4074 | Val Loss: 0.3903 | Val F1 (micro): 0.6628\n",
      "New best model found\n"
     ]
    },
    {
     "name": "stderr",
     "output_type": "stream",
     "text": [
      "Epoch 5/100 - Training: 100%|██████████| 393/393 [00:01<00:00, 363.33it/s]\n",
      "Epoch 5/100 - Validation: 100%|██████████| 70/70 [00:00<00:00, 978.03it/s]\n"
     ]
    },
    {
     "name": "stdout",
     "output_type": "stream",
     "text": [
      "\n",
      "Epoch 5/100\n",
      "Train Loss: 0.3999 | Val Loss: 0.3838 | Val F1 (micro): 0.6650\n",
      "New best model found\n"
     ]
    },
    {
     "name": "stderr",
     "output_type": "stream",
     "text": [
      "Epoch 6/100 - Training: 100%|██████████| 393/393 [00:01<00:00, 362.62it/s]\n",
      "Epoch 6/100 - Validation: 100%|██████████| 70/70 [00:00<00:00, 964.55it/s]\n"
     ]
    },
    {
     "name": "stdout",
     "output_type": "stream",
     "text": [
      "\n",
      "Epoch 6/100\n",
      "Train Loss: 0.3938 | Val Loss: 0.3801 | Val F1 (micro): 0.6665\n",
      "New best model found\n"
     ]
    },
    {
     "name": "stderr",
     "output_type": "stream",
     "text": [
      "Epoch 7/100 - Training: 100%|██████████| 393/393 [00:01<00:00, 367.79it/s]\n",
      "Epoch 7/100 - Validation: 100%|██████████| 70/70 [00:00<00:00, 996.74it/s]\n"
     ]
    },
    {
     "name": "stdout",
     "output_type": "stream",
     "text": [
      "\n",
      "Epoch 7/100\n",
      "Train Loss: 0.3885 | Val Loss: 0.3760 | Val F1 (micro): 0.6670\n",
      "New best model found\n"
     ]
    },
    {
     "name": "stderr",
     "output_type": "stream",
     "text": [
      "Epoch 8/100 - Training: 100%|██████████| 393/393 [00:01<00:00, 368.03it/s]\n",
      "Epoch 8/100 - Validation: 100%|██████████| 70/70 [00:00<00:00, 968.44it/s]\n"
     ]
    },
    {
     "name": "stdout",
     "output_type": "stream",
     "text": [
      "\n",
      "Epoch 8/100\n",
      "Train Loss: 0.3843 | Val Loss: 0.3729 | Val F1 (micro): 0.6672\n",
      "New best model found\n"
     ]
    },
    {
     "name": "stderr",
     "output_type": "stream",
     "text": [
      "Epoch 9/100 - Training: 100%|██████████| 393/393 [00:01<00:00, 363.03it/s]\n",
      "Epoch 9/100 - Validation: 100%|██████████| 70/70 [00:00<00:00, 969.18it/s]\n"
     ]
    },
    {
     "name": "stdout",
     "output_type": "stream",
     "text": [
      "\n",
      "Epoch 9/100\n",
      "Train Loss: 0.3812 | Val Loss: 0.3691 | Val F1 (micro): 0.6683\n",
      "New best model found\n"
     ]
    },
    {
     "name": "stderr",
     "output_type": "stream",
     "text": [
      "Epoch 10/100 - Training: 100%|██████████| 393/393 [00:01<00:00, 362.78it/s]\n",
      "Epoch 10/100 - Validation: 100%|██████████| 70/70 [00:00<00:00, 997.39it/s]\n"
     ]
    },
    {
     "name": "stdout",
     "output_type": "stream",
     "text": [
      "\n",
      "Epoch 10/100\n",
      "Train Loss: 0.3791 | Val Loss: 0.3690 | Val F1 (micro): 0.6681\n"
     ]
    },
    {
     "name": "stderr",
     "output_type": "stream",
     "text": [
      "Epoch 11/100 - Training: 100%|██████████| 393/393 [00:01<00:00, 366.83it/s]\n",
      "Epoch 11/100 - Validation: 100%|██████████| 70/70 [00:00<00:00, 990.18it/s]\n"
     ]
    },
    {
     "name": "stdout",
     "output_type": "stream",
     "text": [
      "\n",
      "Epoch 11/100\n",
      "Train Loss: 0.3763 | Val Loss: 0.3663 | Val F1 (micro): 0.6682\n"
     ]
    },
    {
     "name": "stderr",
     "output_type": "stream",
     "text": [
      "Epoch 12/100 - Training: 100%|██████████| 393/393 [00:01<00:00, 367.15it/s]\n",
      "Epoch 12/100 - Validation: 100%|██████████| 70/70 [00:00<00:00, 992.98it/s]\n"
     ]
    },
    {
     "name": "stdout",
     "output_type": "stream",
     "text": [
      "\n",
      "Epoch 12/100\n",
      "Train Loss: 0.3746 | Val Loss: 0.3656 | Val F1 (micro): 0.6666\n"
     ]
    },
    {
     "name": "stderr",
     "output_type": "stream",
     "text": [
      "Epoch 13/100 - Training: 100%|██████████| 393/393 [00:01<00:00, 366.73it/s]\n",
      "Epoch 13/100 - Validation: 100%|██████████| 70/70 [00:00<00:00, 988.03it/s]\n"
     ]
    },
    {
     "name": "stdout",
     "output_type": "stream",
     "text": [
      "\n",
      "Epoch 13/100\n",
      "Train Loss: 0.3724 | Val Loss: 0.3675 | Val F1 (micro): 0.6663\n"
     ]
    },
    {
     "name": "stderr",
     "output_type": "stream",
     "text": [
      "Epoch 14/100 - Training: 100%|██████████| 393/393 [00:01<00:00, 366.59it/s]\n",
      "Epoch 14/100 - Validation: 100%|██████████| 70/70 [00:00<00:00, 965.20it/s]\n"
     ]
    },
    {
     "name": "stdout",
     "output_type": "stream",
     "text": [
      "\n",
      "Epoch 14/100\n",
      "Train Loss: 0.3715 | Val Loss: 0.3609 | Val F1 (micro): 0.6703\n",
      "New best model found\n"
     ]
    },
    {
     "name": "stderr",
     "output_type": "stream",
     "text": [
      "Epoch 15/100 - Training: 100%|██████████| 393/393 [00:01<00:00, 358.22it/s]\n",
      "Epoch 15/100 - Validation: 100%|██████████| 70/70 [00:00<00:00, 984.22it/s]\n"
     ]
    },
    {
     "name": "stdout",
     "output_type": "stream",
     "text": [
      "\n",
      "Epoch 15/100\n",
      "Train Loss: 0.3697 | Val Loss: 0.3614 | Val F1 (micro): 0.6784\n",
      "New best model found\n"
     ]
    },
    {
     "name": "stderr",
     "output_type": "stream",
     "text": [
      "Epoch 16/100 - Training: 100%|██████████| 393/393 [00:01<00:00, 364.19it/s]\n",
      "Epoch 16/100 - Validation: 100%|██████████| 70/70 [00:00<00:00, 991.47it/s]\n"
     ]
    },
    {
     "name": "stdout",
     "output_type": "stream",
     "text": [
      "\n",
      "Epoch 16/100\n",
      "Train Loss: 0.3678 | Val Loss: 0.3629 | Val F1 (micro): 0.6805\n",
      "New best model found\n"
     ]
    },
    {
     "name": "stderr",
     "output_type": "stream",
     "text": [
      "Epoch 17/100 - Training: 100%|██████████| 393/393 [00:01<00:00, 367.00it/s]\n",
      "Epoch 17/100 - Validation: 100%|██████████| 70/70 [00:00<00:00, 988.46it/s]\n"
     ]
    },
    {
     "name": "stdout",
     "output_type": "stream",
     "text": [
      "\n",
      "Epoch 17/100\n",
      "Train Loss: 0.3668 | Val Loss: 0.3592 | Val F1 (micro): 0.6839\n",
      "New best model found\n"
     ]
    },
    {
     "name": "stderr",
     "output_type": "stream",
     "text": [
      "Epoch 18/100 - Training: 100%|██████████| 393/393 [00:01<00:00, 362.23it/s]\n",
      "Epoch 18/100 - Validation: 100%|██████████| 70/70 [00:00<00:00, 965.44it/s]\n"
     ]
    },
    {
     "name": "stdout",
     "output_type": "stream",
     "text": [
      "\n",
      "Epoch 18/100\n",
      "Train Loss: 0.3655 | Val Loss: 0.3565 | Val F1 (micro): 0.6875\n",
      "New best model found\n"
     ]
    },
    {
     "name": "stderr",
     "output_type": "stream",
     "text": [
      "Epoch 19/100 - Training: 100%|██████████| 393/393 [00:01<00:00, 366.79it/s]\n",
      "Epoch 19/100 - Validation: 100%|██████████| 70/70 [00:00<00:00, 1003.65it/s]\n"
     ]
    },
    {
     "name": "stdout",
     "output_type": "stream",
     "text": [
      "\n",
      "Epoch 19/100\n",
      "Train Loss: 0.3645 | Val Loss: 0.3556 | Val F1 (micro): 0.6945\n",
      "New best model found\n"
     ]
    },
    {
     "name": "stderr",
     "output_type": "stream",
     "text": [
      "Epoch 20/100 - Training: 100%|██████████| 393/393 [00:01<00:00, 365.92it/s]\n",
      "Epoch 20/100 - Validation: 100%|██████████| 70/70 [00:00<00:00, 979.98it/s]\n"
     ]
    },
    {
     "name": "stdout",
     "output_type": "stream",
     "text": [
      "\n",
      "Epoch 20/100\n",
      "Train Loss: 0.3634 | Val Loss: 0.3567 | Val F1 (micro): 0.6909\n"
     ]
    },
    {
     "name": "stderr",
     "output_type": "stream",
     "text": [
      "Epoch 21/100 - Training: 100%|██████████| 393/393 [00:01<00:00, 360.83it/s]\n",
      "Epoch 21/100 - Validation: 100%|██████████| 70/70 [00:00<00:00, 947.58it/s]\n"
     ]
    },
    {
     "name": "stdout",
     "output_type": "stream",
     "text": [
      "\n",
      "Epoch 21/100\n",
      "Train Loss: 0.3628 | Val Loss: 0.3536 | Val F1 (micro): 0.6969\n",
      "New best model found\n"
     ]
    },
    {
     "name": "stderr",
     "output_type": "stream",
     "text": [
      "Epoch 22/100 - Training: 100%|██████████| 393/393 [00:01<00:00, 356.20it/s]\n",
      "Epoch 22/100 - Validation: 100%|██████████| 70/70 [00:00<00:00, 957.04it/s]\n"
     ]
    },
    {
     "name": "stdout",
     "output_type": "stream",
     "text": [
      "\n",
      "Epoch 22/100\n",
      "Train Loss: 0.3612 | Val Loss: 0.3520 | Val F1 (micro): 0.6990\n",
      "New best model found\n"
     ]
    },
    {
     "name": "stderr",
     "output_type": "stream",
     "text": [
      "Epoch 23/100 - Training: 100%|██████████| 393/393 [00:01<00:00, 363.18it/s]\n",
      "Epoch 23/100 - Validation: 100%|██████████| 70/70 [00:00<00:00, 965.20it/s]\n"
     ]
    },
    {
     "name": "stdout",
     "output_type": "stream",
     "text": [
      "\n",
      "Epoch 23/100\n",
      "Train Loss: 0.3606 | Val Loss: 0.3508 | Val F1 (micro): 0.6987\n"
     ]
    },
    {
     "name": "stderr",
     "output_type": "stream",
     "text": [
      "Epoch 24/100 - Training: 100%|██████████| 393/393 [00:01<00:00, 365.27it/s]\n",
      "Epoch 24/100 - Validation: 100%|██████████| 70/70 [00:00<00:00, 990.52it/s]\n"
     ]
    },
    {
     "name": "stdout",
     "output_type": "stream",
     "text": [
      "\n",
      "Epoch 24/100\n",
      "Train Loss: 0.3604 | Val Loss: 0.3521 | Val F1 (micro): 0.6997\n",
      "New best model found\n"
     ]
    },
    {
     "name": "stderr",
     "output_type": "stream",
     "text": [
      "Epoch 25/100 - Training: 100%|██████████| 393/393 [00:01<00:00, 363.06it/s]\n",
      "Epoch 25/100 - Validation: 100%|██████████| 70/70 [00:00<00:00, 994.62it/s]\n"
     ]
    },
    {
     "name": "stdout",
     "output_type": "stream",
     "text": [
      "\n",
      "Epoch 25/100\n",
      "Train Loss: 0.3594 | Val Loss: 0.3505 | Val F1 (micro): 0.7005\n",
      "New best model found\n"
     ]
    },
    {
     "name": "stderr",
     "output_type": "stream",
     "text": [
      "Epoch 26/100 - Training: 100%|██████████| 393/393 [00:01<00:00, 367.23it/s]\n",
      "Epoch 26/100 - Validation: 100%|██████████| 70/70 [00:00<00:00, 1001.45it/s]\n"
     ]
    },
    {
     "name": "stdout",
     "output_type": "stream",
     "text": [
      "\n",
      "Epoch 26/100\n",
      "Train Loss: 0.3592 | Val Loss: 0.3499 | Val F1 (micro): 0.7005\n",
      "New best model found\n"
     ]
    },
    {
     "name": "stderr",
     "output_type": "stream",
     "text": [
      "Epoch 27/100 - Training: 100%|██████████| 393/393 [00:01<00:00, 366.26it/s]\n",
      "Epoch 27/100 - Validation: 100%|██████████| 70/70 [00:00<00:00, 990.70it/s]\n"
     ]
    },
    {
     "name": "stdout",
     "output_type": "stream",
     "text": [
      "\n",
      "Epoch 27/100\n",
      "Train Loss: 0.3576 | Val Loss: 0.3490 | Val F1 (micro): 0.7007\n",
      "New best model found\n"
     ]
    },
    {
     "name": "stderr",
     "output_type": "stream",
     "text": [
      "Epoch 28/100 - Training: 100%|██████████| 393/393 [00:01<00:00, 345.18it/s]\n",
      "Epoch 28/100 - Validation: 100%|██████████| 70/70 [00:00<00:00, 967.76it/s]\n"
     ]
    },
    {
     "name": "stdout",
     "output_type": "stream",
     "text": [
      "\n",
      "Epoch 28/100\n",
      "Train Loss: 0.3575 | Val Loss: 0.3482 | Val F1 (micro): 0.6986\n"
     ]
    },
    {
     "name": "stderr",
     "output_type": "stream",
     "text": [
      "Epoch 29/100 - Training: 100%|██████████| 393/393 [00:01<00:00, 347.50it/s]\n",
      "Epoch 29/100 - Validation: 100%|██████████| 70/70 [00:00<00:00, 964.56it/s]\n"
     ]
    },
    {
     "name": "stdout",
     "output_type": "stream",
     "text": [
      "\n",
      "Epoch 29/100\n",
      "Train Loss: 0.3560 | Val Loss: 0.3476 | Val F1 (micro): 0.7016\n",
      "New best model found\n"
     ]
    },
    {
     "name": "stderr",
     "output_type": "stream",
     "text": [
      "Epoch 30/100 - Training: 100%|██████████| 393/393 [00:01<00:00, 365.25it/s]\n",
      "Epoch 30/100 - Validation: 100%|██████████| 70/70 [00:00<00:00, 997.17it/s]\n"
     ]
    },
    {
     "name": "stdout",
     "output_type": "stream",
     "text": [
      "\n",
      "Epoch 30/100\n",
      "Train Loss: 0.3545 | Val Loss: 0.3455 | Val F1 (micro): 0.7015\n"
     ]
    },
    {
     "name": "stderr",
     "output_type": "stream",
     "text": [
      "Epoch 31/100 - Training: 100%|██████████| 393/393 [00:01<00:00, 364.34it/s]\n",
      "Epoch 31/100 - Validation: 100%|██████████| 70/70 [00:00<00:00, 992.92it/s]\n"
     ]
    },
    {
     "name": "stdout",
     "output_type": "stream",
     "text": [
      "\n",
      "Epoch 31/100\n",
      "Train Loss: 0.3551 | Val Loss: 0.3467 | Val F1 (micro): 0.7011\n"
     ]
    },
    {
     "name": "stderr",
     "output_type": "stream",
     "text": [
      "Epoch 32/100 - Training: 100%|██████████| 393/393 [00:01<00:00, 363.46it/s]\n",
      "Epoch 32/100 - Validation: 100%|██████████| 70/70 [00:00<00:00, 993.57it/s]\n"
     ]
    },
    {
     "name": "stdout",
     "output_type": "stream",
     "text": [
      "\n",
      "Epoch 32/100\n",
      "Train Loss: 0.3539 | Val Loss: 0.3457 | Val F1 (micro): 0.7016\n"
     ]
    },
    {
     "name": "stderr",
     "output_type": "stream",
     "text": [
      "Epoch 33/100 - Training: 100%|██████████| 393/393 [00:01<00:00, 358.96it/s]\n",
      "Epoch 33/100 - Validation: 100%|██████████| 70/70 [00:00<00:00, 993.77it/s]\n"
     ]
    },
    {
     "name": "stdout",
     "output_type": "stream",
     "text": [
      "\n",
      "Epoch 33/100\n",
      "Train Loss: 0.3534 | Val Loss: 0.3446 | Val F1 (micro): 0.7030\n",
      "New best model found\n"
     ]
    },
    {
     "name": "stderr",
     "output_type": "stream",
     "text": [
      "Epoch 34/100 - Training: 100%|██████████| 393/393 [00:01<00:00, 358.56it/s]\n",
      "Epoch 34/100 - Validation: 100%|██████████| 70/70 [00:00<00:00, 965.88it/s]\n"
     ]
    },
    {
     "name": "stdout",
     "output_type": "stream",
     "text": [
      "\n",
      "Epoch 34/100\n",
      "Train Loss: 0.3533 | Val Loss: 0.3444 | Val F1 (micro): 0.7027\n"
     ]
    },
    {
     "name": "stderr",
     "output_type": "stream",
     "text": [
      "Epoch 35/100 - Training: 100%|██████████| 393/393 [00:01<00:00, 359.00it/s]\n",
      "Epoch 35/100 - Validation: 100%|██████████| 70/70 [00:00<00:00, 949.46it/s]\n"
     ]
    },
    {
     "name": "stdout",
     "output_type": "stream",
     "text": [
      "\n",
      "Epoch 35/100\n",
      "Train Loss: 0.3528 | Val Loss: 0.3435 | Val F1 (micro): 0.7035\n",
      "New best model found\n"
     ]
    },
    {
     "name": "stderr",
     "output_type": "stream",
     "text": [
      "Epoch 36/100 - Training: 100%|██████████| 393/393 [00:01<00:00, 350.63it/s]\n",
      "Epoch 36/100 - Validation: 100%|██████████| 70/70 [00:00<00:00, 991.76it/s]\n"
     ]
    },
    {
     "name": "stdout",
     "output_type": "stream",
     "text": [
      "\n",
      "Epoch 36/100\n",
      "Train Loss: 0.3519 | Val Loss: 0.3435 | Val F1 (micro): 0.7024\n"
     ]
    },
    {
     "name": "stderr",
     "output_type": "stream",
     "text": [
      "Epoch 37/100 - Training: 100%|██████████| 393/393 [00:01<00:00, 363.42it/s]\n",
      "Epoch 37/100 - Validation: 100%|██████████| 70/70 [00:00<00:00, 998.33it/s]\n"
     ]
    },
    {
     "name": "stdout",
     "output_type": "stream",
     "text": [
      "\n",
      "Epoch 37/100\n",
      "Train Loss: 0.3509 | Val Loss: 0.3426 | Val F1 (micro): 0.7025\n"
     ]
    },
    {
     "name": "stderr",
     "output_type": "stream",
     "text": [
      "Epoch 38/100 - Training: 100%|██████████| 393/393 [00:01<00:00, 362.49it/s]\n",
      "Epoch 38/100 - Validation: 100%|██████████| 70/70 [00:00<00:00, 1004.48it/s]\n"
     ]
    },
    {
     "name": "stdout",
     "output_type": "stream",
     "text": [
      "\n",
      "Epoch 38/100\n",
      "Train Loss: 0.3516 | Val Loss: 0.3434 | Val F1 (micro): 0.7037\n",
      "New best model found\n"
     ]
    },
    {
     "name": "stderr",
     "output_type": "stream",
     "text": [
      "Epoch 39/100 - Training: 100%|██████████| 393/393 [00:01<00:00, 363.11it/s]\n",
      "Epoch 39/100 - Validation: 100%|██████████| 70/70 [00:00<00:00, 958.29it/s]\n"
     ]
    },
    {
     "name": "stdout",
     "output_type": "stream",
     "text": [
      "\n",
      "Epoch 39/100\n",
      "Train Loss: 0.3498 | Val Loss: 0.3444 | Val F1 (micro): 0.7007\n"
     ]
    },
    {
     "name": "stderr",
     "output_type": "stream",
     "text": [
      "Epoch 40/100 - Training: 100%|██████████| 393/393 [00:01<00:00, 346.88it/s]\n",
      "Epoch 40/100 - Validation: 100%|██████████| 70/70 [00:00<00:00, 860.84it/s]\n"
     ]
    },
    {
     "name": "stdout",
     "output_type": "stream",
     "text": [
      "\n",
      "Epoch 40/100\n",
      "Train Loss: 0.3500 | Val Loss: 0.3425 | Val F1 (micro): 0.7027\n"
     ]
    },
    {
     "name": "stderr",
     "output_type": "stream",
     "text": [
      "Epoch 41/100 - Training: 100%|██████████| 393/393 [00:01<00:00, 346.84it/s]\n",
      "Epoch 41/100 - Validation: 100%|██████████| 70/70 [00:00<00:00, 959.77it/s]\n"
     ]
    },
    {
     "name": "stdout",
     "output_type": "stream",
     "text": [
      "\n",
      "Epoch 41/100\n",
      "Train Loss: 0.3505 | Val Loss: 0.3417 | Val F1 (micro): 0.7033\n"
     ]
    },
    {
     "name": "stderr",
     "output_type": "stream",
     "text": [
      "Epoch 42/100 - Training: 100%|██████████| 393/393 [00:01<00:00, 347.13it/s]\n",
      "Epoch 42/100 - Validation: 100%|██████████| 70/70 [00:00<00:00, 989.53it/s]\n"
     ]
    },
    {
     "name": "stdout",
     "output_type": "stream",
     "text": [
      "\n",
      "Epoch 42/100\n",
      "Train Loss: 0.3500 | Val Loss: 0.3411 | Val F1 (micro): 0.7053\n",
      "New best model found\n"
     ]
    },
    {
     "name": "stderr",
     "output_type": "stream",
     "text": [
      "Epoch 43/100 - Training: 100%|██████████| 393/393 [00:01<00:00, 358.88it/s]\n",
      "Epoch 43/100 - Validation: 100%|██████████| 70/70 [00:00<00:00, 964.28it/s]\n"
     ]
    },
    {
     "name": "stdout",
     "output_type": "stream",
     "text": [
      "\n",
      "Epoch 43/100\n",
      "Train Loss: 0.3496 | Val Loss: 0.3412 | Val F1 (micro): 0.7032\n"
     ]
    },
    {
     "name": "stderr",
     "output_type": "stream",
     "text": [
      "Epoch 44/100 - Training: 100%|██████████| 393/393 [00:01<00:00, 360.61it/s]\n",
      "Epoch 44/100 - Validation: 100%|██████████| 70/70 [00:00<00:00, 967.77it/s]\n"
     ]
    },
    {
     "name": "stdout",
     "output_type": "stream",
     "text": [
      "\n",
      "Epoch 44/100\n",
      "Train Loss: 0.3483 | Val Loss: 0.3404 | Val F1 (micro): 0.7023\n"
     ]
    },
    {
     "name": "stderr",
     "output_type": "stream",
     "text": [
      "Epoch 45/100 - Training: 100%|██████████| 393/393 [00:01<00:00, 359.21it/s]\n",
      "Epoch 45/100 - Validation: 100%|██████████| 70/70 [00:00<00:00, 963.53it/s]\n"
     ]
    },
    {
     "name": "stdout",
     "output_type": "stream",
     "text": [
      "\n",
      "Epoch 45/100\n",
      "Train Loss: 0.3481 | Val Loss: 0.3389 | Val F1 (micro): 0.7039\n"
     ]
    },
    {
     "name": "stderr",
     "output_type": "stream",
     "text": [
      "Epoch 46/100 - Training: 100%|██████████| 393/393 [00:01<00:00, 367.71it/s]\n",
      "Epoch 46/100 - Validation: 100%|██████████| 70/70 [00:00<00:00, 1003.79it/s]"
     ]
    },
    {
     "name": "stdout",
     "output_type": "stream",
     "text": [
      "\n",
      "Epoch 46/100\n",
      "Train Loss: 0.3477 | Val Loss: 0.3390 | Val F1 (micro): 0.7057\n"
     ]
    },
    {
     "name": "stderr",
     "output_type": "stream",
     "text": [
      "\n"
     ]
    },
    {
     "name": "stdout",
     "output_type": "stream",
     "text": [
      "New best model found\n"
     ]
    },
    {
     "name": "stderr",
     "output_type": "stream",
     "text": [
      "Epoch 47/100 - Training: 100%|██████████| 393/393 [00:01<00:00, 361.63it/s]\n",
      "Epoch 47/100 - Validation: 100%|██████████| 70/70 [00:00<00:00, 979.92it/s]\n"
     ]
    },
    {
     "name": "stdout",
     "output_type": "stream",
     "text": [
      "\n",
      "Epoch 47/100\n",
      "Train Loss: 0.3479 | Val Loss: 0.3388 | Val F1 (micro): 0.7053\n"
     ]
    },
    {
     "name": "stderr",
     "output_type": "stream",
     "text": [
      "Epoch 48/100 - Training: 100%|██████████| 393/393 [00:01<00:00, 363.13it/s]\n",
      "Epoch 48/100 - Validation: 100%|██████████| 70/70 [00:00<00:00, 984.47it/s]\n"
     ]
    },
    {
     "name": "stdout",
     "output_type": "stream",
     "text": [
      "\n",
      "Epoch 48/100\n",
      "Train Loss: 0.3471 | Val Loss: 0.3388 | Val F1 (micro): 0.7047\n"
     ]
    },
    {
     "name": "stderr",
     "output_type": "stream",
     "text": [
      "Epoch 49/100 - Training: 100%|██████████| 393/393 [00:01<00:00, 367.37it/s]\n",
      "Epoch 49/100 - Validation: 100%|██████████| 70/70 [00:00<00:00, 997.75it/s]\n"
     ]
    },
    {
     "name": "stdout",
     "output_type": "stream",
     "text": [
      "\n",
      "Epoch 49/100\n",
      "Train Loss: 0.3466 | Val Loss: 0.3369 | Val F1 (micro): 0.7040\n"
     ]
    },
    {
     "name": "stderr",
     "output_type": "stream",
     "text": [
      "Epoch 50/100 - Training: 100%|██████████| 393/393 [00:01<00:00, 367.78it/s]\n",
      "Epoch 50/100 - Validation: 100%|██████████| 70/70 [00:00<00:00, 972.54it/s]\n"
     ]
    },
    {
     "name": "stdout",
     "output_type": "stream",
     "text": [
      "\n",
      "Epoch 50/100\n",
      "Train Loss: 0.3460 | Val Loss: 0.3374 | Val F1 (micro): 0.7055\n"
     ]
    },
    {
     "name": "stderr",
     "output_type": "stream",
     "text": [
      "Epoch 51/100 - Training: 100%|██████████| 393/393 [00:01<00:00, 364.49it/s]\n",
      "Epoch 51/100 - Validation: 100%|██████████| 70/70 [00:00<00:00, 984.99it/s]\n"
     ]
    },
    {
     "name": "stdout",
     "output_type": "stream",
     "text": [
      "\n",
      "Epoch 51/100\n",
      "Train Loss: 0.3463 | Val Loss: 0.3364 | Val F1 (micro): 0.7066\n",
      "New best model found\n"
     ]
    },
    {
     "name": "stderr",
     "output_type": "stream",
     "text": [
      "Epoch 52/100 - Training: 100%|██████████| 393/393 [00:01<00:00, 370.75it/s]\n",
      "Epoch 52/100 - Validation: 100%|██████████| 70/70 [00:00<00:00, 998.07it/s]\n"
     ]
    },
    {
     "name": "stdout",
     "output_type": "stream",
     "text": [
      "\n",
      "Epoch 52/100\n",
      "Train Loss: 0.3455 | Val Loss: 0.3371 | Val F1 (micro): 0.7033\n"
     ]
    },
    {
     "name": "stderr",
     "output_type": "stream",
     "text": [
      "Epoch 53/100 - Training: 100%|██████████| 393/393 [00:01<00:00, 369.90it/s]\n",
      "Epoch 53/100 - Validation: 100%|██████████| 70/70 [00:00<00:00, 989.80it/s]\n"
     ]
    },
    {
     "name": "stdout",
     "output_type": "stream",
     "text": [
      "\n",
      "Epoch 53/100\n",
      "Train Loss: 0.3457 | Val Loss: 0.3391 | Val F1 (micro): 0.7048\n"
     ]
    },
    {
     "name": "stderr",
     "output_type": "stream",
     "text": [
      "Epoch 54/100 - Training: 100%|██████████| 393/393 [00:01<00:00, 367.07it/s]\n",
      "Epoch 54/100 - Validation: 100%|██████████| 70/70 [00:00<00:00, 966.88it/s]\n"
     ]
    },
    {
     "name": "stdout",
     "output_type": "stream",
     "text": [
      "\n",
      "Epoch 54/100\n",
      "Train Loss: 0.3459 | Val Loss: 0.3363 | Val F1 (micro): 0.7056\n"
     ]
    },
    {
     "name": "stderr",
     "output_type": "stream",
     "text": [
      "Epoch 55/100 - Training: 100%|██████████| 393/393 [00:01<00:00, 361.12it/s]\n",
      "Epoch 55/100 - Validation: 100%|██████████| 70/70 [00:00<00:00, 969.37it/s]\n"
     ]
    },
    {
     "name": "stdout",
     "output_type": "stream",
     "text": [
      "\n",
      "Epoch 55/100\n",
      "Train Loss: 0.3455 | Val Loss: 0.3365 | Val F1 (micro): 0.7058\n"
     ]
    },
    {
     "name": "stderr",
     "output_type": "stream",
     "text": [
      "Epoch 56/100 - Training: 100%|██████████| 393/393 [00:01<00:00, 358.32it/s]\n",
      "Epoch 56/100 - Validation: 100%|██████████| 70/70 [00:00<00:00, 995.61it/s]\n"
     ]
    },
    {
     "name": "stdout",
     "output_type": "stream",
     "text": [
      "\n",
      "Epoch 56/100\n",
      "Train Loss: 0.3445 | Val Loss: 0.3353 | Val F1 (micro): 0.7081\n",
      "New best model found\n"
     ]
    },
    {
     "name": "stderr",
     "output_type": "stream",
     "text": [
      "Epoch 57/100 - Training: 100%|██████████| 393/393 [00:01<00:00, 364.04it/s]\n",
      "Epoch 57/100 - Validation: 100%|██████████| 70/70 [00:00<00:00, 967.29it/s]\n"
     ]
    },
    {
     "name": "stdout",
     "output_type": "stream",
     "text": [
      "\n",
      "Epoch 57/100\n",
      "Train Loss: 0.3441 | Val Loss: 0.3365 | Val F1 (micro): 0.7066\n"
     ]
    },
    {
     "name": "stderr",
     "output_type": "stream",
     "text": [
      "Epoch 58/100 - Training: 100%|██████████| 393/393 [00:01<00:00, 367.10it/s]\n",
      "Epoch 58/100 - Validation: 100%|██████████| 70/70 [00:00<00:00, 980.56it/s]\n"
     ]
    },
    {
     "name": "stdout",
     "output_type": "stream",
     "text": [
      "\n",
      "Epoch 58/100\n",
      "Train Loss: 0.3444 | Val Loss: 0.3346 | Val F1 (micro): 0.7063\n"
     ]
    },
    {
     "name": "stderr",
     "output_type": "stream",
     "text": [
      "Epoch 59/100 - Training: 100%|██████████| 393/393 [00:01<00:00, 368.20it/s]\n",
      "Epoch 59/100 - Validation: 100%|██████████| 70/70 [00:00<00:00, 998.47it/s]\n"
     ]
    },
    {
     "name": "stdout",
     "output_type": "stream",
     "text": [
      "\n",
      "Epoch 59/100\n",
      "Train Loss: 0.3439 | Val Loss: 0.3344 | Val F1 (micro): 0.7070\n"
     ]
    },
    {
     "name": "stderr",
     "output_type": "stream",
     "text": [
      "Epoch 60/100 - Training: 100%|██████████| 393/393 [00:01<00:00, 367.92it/s]\n",
      "Epoch 60/100 - Validation: 100%|██████████| 70/70 [00:00<00:00, 986.05it/s]\n"
     ]
    },
    {
     "name": "stdout",
     "output_type": "stream",
     "text": [
      "\n",
      "Epoch 60/100\n",
      "Train Loss: 0.3436 | Val Loss: 0.3360 | Val F1 (micro): 0.7069\n"
     ]
    },
    {
     "name": "stderr",
     "output_type": "stream",
     "text": [
      "Epoch 61/100 - Training: 100%|██████████| 393/393 [00:01<00:00, 367.27it/s]\n",
      "Epoch 61/100 - Validation: 100%|██████████| 70/70 [00:00<00:00, 989.73it/s]\n"
     ]
    },
    {
     "name": "stdout",
     "output_type": "stream",
     "text": [
      "\n",
      "Epoch 61/100\n",
      "Train Loss: 0.3431 | Val Loss: 0.3333 | Val F1 (micro): 0.7083\n",
      "New best model found\n"
     ]
    },
    {
     "name": "stderr",
     "output_type": "stream",
     "text": [
      "Epoch 62/100 - Training: 100%|██████████| 393/393 [00:01<00:00, 368.88it/s]\n",
      "Epoch 62/100 - Validation: 100%|██████████| 70/70 [00:00<00:00, 992.74it/s]\n"
     ]
    },
    {
     "name": "stdout",
     "output_type": "stream",
     "text": [
      "\n",
      "Epoch 62/100\n",
      "Train Loss: 0.3420 | Val Loss: 0.3334 | Val F1 (micro): 0.7078\n"
     ]
    },
    {
     "name": "stderr",
     "output_type": "stream",
     "text": [
      "Epoch 63/100 - Training: 100%|██████████| 393/393 [00:01<00:00, 363.87it/s]\n",
      "Epoch 63/100 - Validation: 100%|██████████| 70/70 [00:00<00:00, 989.51it/s]\n"
     ]
    },
    {
     "name": "stdout",
     "output_type": "stream",
     "text": [
      "\n",
      "Epoch 63/100\n",
      "Train Loss: 0.3428 | Val Loss: 0.3370 | Val F1 (micro): 0.7033\n"
     ]
    },
    {
     "name": "stderr",
     "output_type": "stream",
     "text": [
      "Epoch 64/100 - Training: 100%|██████████| 393/393 [00:01<00:00, 362.69it/s]\n",
      "Epoch 64/100 - Validation: 100%|██████████| 70/70 [00:00<00:00, 976.49it/s]\n"
     ]
    },
    {
     "name": "stdout",
     "output_type": "stream",
     "text": [
      "\n",
      "Epoch 64/100\n",
      "Train Loss: 0.3424 | Val Loss: 0.3336 | Val F1 (micro): 0.7075\n"
     ]
    },
    {
     "name": "stderr",
     "output_type": "stream",
     "text": [
      "Epoch 65/100 - Training: 100%|██████████| 393/393 [00:01<00:00, 361.59it/s]\n",
      "Epoch 65/100 - Validation: 100%|██████████| 70/70 [00:00<00:00, 969.32it/s]\n"
     ]
    },
    {
     "name": "stdout",
     "output_type": "stream",
     "text": [
      "\n",
      "Epoch 65/100\n",
      "Train Loss: 0.3409 | Val Loss: 0.3322 | Val F1 (micro): 0.7084\n",
      "New best model found\n"
     ]
    },
    {
     "name": "stderr",
     "output_type": "stream",
     "text": [
      "Epoch 66/100 - Training: 100%|██████████| 393/393 [00:01<00:00, 359.98it/s]\n",
      "Epoch 66/100 - Validation: 100%|██████████| 70/70 [00:00<00:00, 968.14it/s]\n"
     ]
    },
    {
     "name": "stdout",
     "output_type": "stream",
     "text": [
      "\n",
      "Epoch 66/100\n",
      "Train Loss: 0.3404 | Val Loss: 0.3336 | Val F1 (micro): 0.7063\n"
     ]
    },
    {
     "name": "stderr",
     "output_type": "stream",
     "text": [
      "Epoch 67/100 - Training: 100%|██████████| 393/393 [00:01<00:00, 367.46it/s]\n",
      "Epoch 67/100 - Validation: 100%|██████████| 70/70 [00:00<00:00, 998.95it/s]\n"
     ]
    },
    {
     "name": "stdout",
     "output_type": "stream",
     "text": [
      "\n",
      "Epoch 67/100\n",
      "Train Loss: 0.3408 | Val Loss: 0.3320 | Val F1 (micro): 0.7101\n",
      "New best model found\n"
     ]
    },
    {
     "name": "stderr",
     "output_type": "stream",
     "text": [
      "Epoch 68/100 - Training: 100%|██████████| 393/393 [00:01<00:00, 369.40it/s]\n",
      "Epoch 68/100 - Validation: 100%|██████████| 70/70 [00:00<00:00, 996.14it/s]\n"
     ]
    },
    {
     "name": "stdout",
     "output_type": "stream",
     "text": [
      "\n",
      "Epoch 68/100\n",
      "Train Loss: 0.3402 | Val Loss: 0.3324 | Val F1 (micro): 0.7073\n"
     ]
    },
    {
     "name": "stderr",
     "output_type": "stream",
     "text": [
      "Epoch 69/100 - Training: 100%|██████████| 393/393 [00:01<00:00, 365.12it/s]\n",
      "Epoch 69/100 - Validation: 100%|██████████| 70/70 [00:00<00:00, 1007.88it/s]\n"
     ]
    },
    {
     "name": "stdout",
     "output_type": "stream",
     "text": [
      "\n",
      "Epoch 69/100\n",
      "Train Loss: 0.3404 | Val Loss: 0.3323 | Val F1 (micro): 0.7072\n"
     ]
    },
    {
     "name": "stderr",
     "output_type": "stream",
     "text": [
      "Epoch 70/100 - Training: 100%|██████████| 393/393 [00:01<00:00, 369.43it/s]\n",
      "Epoch 70/100 - Validation: 100%|██████████| 70/70 [00:00<00:00, 980.41it/s]\n"
     ]
    },
    {
     "name": "stdout",
     "output_type": "stream",
     "text": [
      "\n",
      "Epoch 70/100\n",
      "Train Loss: 0.3407 | Val Loss: 0.3312 | Val F1 (micro): 0.7086\n"
     ]
    },
    {
     "name": "stderr",
     "output_type": "stream",
     "text": [
      "Epoch 71/100 - Training: 100%|██████████| 393/393 [00:01<00:00, 367.03it/s]\n",
      "Epoch 71/100 - Validation: 100%|██████████| 70/70 [00:00<00:00, 996.21it/s]\n"
     ]
    },
    {
     "name": "stdout",
     "output_type": "stream",
     "text": [
      "\n",
      "Epoch 71/100\n",
      "Train Loss: 0.3400 | Val Loss: 0.3324 | Val F1 (micro): 0.7078\n"
     ]
    },
    {
     "name": "stderr",
     "output_type": "stream",
     "text": [
      "Epoch 72/100 - Training: 100%|██████████| 393/393 [00:01<00:00, 368.87it/s]\n",
      "Epoch 72/100 - Validation: 100%|██████████| 70/70 [00:00<00:00, 1003.36it/s]"
     ]
    },
    {
     "name": "stdout",
     "output_type": "stream",
     "text": [
      "\n",
      "Epoch 72/100\n",
      "Train Loss: 0.3399 | Val Loss: 0.3310 | Val F1 (micro): 0.7089\n",
      "Early stopping triggered.\n"
     ]
    },
    {
     "name": "stderr",
     "output_type": "stream",
     "text": [
      "\n"
     ]
    },
    {
     "data": {
      "image/png": "[encoded data removed]",
      "text/plain": [
       "<Figure size 1200x400 with 2 Axes>"
      ]
     },
     "metadata": {},
     "output_type": "display_data"
    },
    {
     "data": {
      "text/plain": [
       "<All keys matched successfully>"
      ]
     },
     "execution_count": 57,
     "metadata": {},
     "output_type": "execute_result"
    }
   ],
   "source": [
    "\n",
    "\n",
    "# ==== Настройки ====\n",
    "device = torch.device(\"cuda\" if torch.cuda.is_available() else \"cpu\")\n",
    "EPOCHS = 100\n",
    "BATCH_SIZE = 64\n",
    "PATIENCE = 5\n",
    "MODEL_PATH = \"best_cnn_model.pt\"\n",
    "WARMUP_EPOCHS = 3\n",
    "MAX_LEN = 200\n",
    "EMBEDDING_DIM = 100\n",
    "\n",
    "# ==== Предобработка ====\n",
    "all_tokens = [token for sentence in X_train for token in sentence]\n",
    "vocab = {\"<PAD>\": 0, \"<UNK>\": 1}\n",
    "for token, count in Counter(all_tokens).items():\n",
    "    if count >= 2:\n",
    "        vocab[token] = len(vocab)\n",
    "\n",
    "def encode(tokens, vocab, max_len=MAX_LEN):\n",
    "    ids = [vocab.get(token, vocab[\"<UNK>\"]) for token in tokens]\n",
    "    if len(ids) < max_len:\n",
    "        ids += [vocab[\"<PAD>\"]] * (max_len - len(ids))\n",
    "    else:\n",
    "        ids = ids[:max_len]\n",
    "    return ids\n",
    "\n",
    "tokenized_train = list(X_train)\n",
    "tokenized_val = list(X_val)\n",
    "\n",
    "X_train_encoded = [encode(tokens, vocab) for tokens in tokenized_train]\n",
    "X_val_encoded = [encode(tokens, vocab) for tokens in tokenized_val]\n",
    "\n",
    "class TextDatasetCNN(Dataset):\n",
    "    def __init__(self, X, y):\n",
    "        self.X = torch.tensor(X, dtype=torch.long)\n",
    "        self.y = torch.tensor(y, dtype=torch.float32)\n",
    "    def __len__(self):\n",
    "        return len(self.X)\n",
    "    def __getitem__(self, idx):\n",
    "        return self.X[idx], self.y[idx]\n",
    "\n",
    "train_dataset = TextDatasetCNN(X_train_encoded, y_train)\n",
    "val_dataset = TextDatasetCNN(X_val_encoded, y_val)\n",
    "train_loader = DataLoader(train_dataset, batch_size=BATCH_SIZE, shuffle=True)\n",
    "val_loader = DataLoader(val_dataset, batch_size=BATCH_SIZE)\n",
    "\n",
    "NUM_CLASSES = y_train.shape[1]\n",
    "\n",
    "class CNNTextClassifierImproved(nn.Module):\n",
    "    def __init__(self, vocab_size, embedding_dim, output_dim):\n",
    "        super().__init__()\n",
    "        self.embedding = nn.Embedding(vocab_size, embedding_dim, padding_idx=0)\n",
    "\n",
    "        self.conv_block = nn.Sequential(\n",
    "            nn.Conv1d(embedding_dim, 128, kernel_size=3, padding=1),\n",
    "            nn.BatchNorm1d(128),\n",
    "            nn.ReLU(),\n",
    "            nn.Dropout(0.3),\n",
    "\n",
    "            nn.Conv1d(128, 64, kernel_size=3, padding=1),\n",
    "            nn.BatchNorm1d(64),\n",
    "            nn.ReLU(),\n",
    "            nn.Dropout(0.3),\n",
    "\n",
    "            nn.AdaptiveAvgPool1d(1)\n",
    "        )\n",
    "\n",
    "        self.classifier = nn.Sequential(\n",
    "            nn.Flatten(),\n",
    "            nn.Linear(64, 64),\n",
    "            nn.ReLU(),\n",
    "            nn.Dropout(0.5),\n",
    "            nn.Linear(64, output_dim)  # No Sigmoid here\n",
    "        )\n",
    "\n",
    "    def forward(self, x):\n",
    "        x = self.embedding(x)\n",
    "        x = x.transpose(1, 2)\n",
    "        x = self.conv_block(x)\n",
    "        return self.classifier(x)\n",
    "\n",
    "model = CNNTextClassifierImproved(len(vocab), EMBEDDING_DIM, NUM_CLASSES).to(device)\n",
    "\n",
    "criterion = nn.BCEWithLogitsLoss()\n",
    "optimizer = optim.AdamW(model.parameters(), lr=1e-4, weight_decay=1e-4)\n",
    "scheduler = optim.lr_scheduler.ReduceLROnPlateau(optimizer, mode='min', factor=0.5, patience=2)\n",
    "\n",
    "train_losses, val_losses, val_f1s = [], [], []\n",
    "best_f1 = 0\n",
    "epochs_no_improve = 0\n",
    "\n",
    "for epoch in range(1, EPOCHS + 1):\n",
    "    model.train()\n",
    "    running_loss = 0\n",
    "    for inputs, labels in tqdm(train_loader, desc=f\"Epoch {epoch}/{EPOCHS} - Training\"):\n",
    "        inputs, labels = inputs.to(device), labels.to(device)\n",
    "        optimizer.zero_grad()\n",
    "        outputs = model(inputs)\n",
    "        loss = criterion(outputs, labels)\n",
    "        loss.backward()\n",
    "        optimizer.step()\n",
    "        running_loss += loss.item()\n",
    "    train_loss = running_loss / len(train_loader)\n",
    "\n",
    "    model.eval()\n",
    "    val_loss = 0\n",
    "    all_preds, all_labels = [], []\n",
    "    with torch.no_grad():\n",
    "        for inputs, labels in tqdm(val_loader, desc=f\"Epoch {epoch}/{EPOCHS} - Validation\"):\n",
    "            inputs, labels = inputs.to(device), labels.to(device)\n",
    "            outputs = model(inputs)\n",
    "            loss = criterion(outputs, labels)\n",
    "            val_loss += loss.item()\n",
    "\n",
    "            probs = torch.sigmoid(outputs)\n",
    "            all_preds.append(probs.cpu().numpy())\n",
    "            all_labels.append(labels.cpu().numpy())\n",
    "\n",
    "    val_loss /= len(val_loader)\n",
    "    preds = np.vstack(all_preds) > 0.5\n",
    "    targets = np.vstack(all_labels)\n",
    "    val_f1 = f1_score(targets, preds, average='macro')\n",
    "\n",
    "    train_losses.append(train_loss)\n",
    "    val_losses.append(val_loss)\n",
    "    val_f1s.append(val_f1)\n",
    "\n",
    "    print(f\"\\nEpoch {epoch}/{EPOCHS}\")\n",
    "    print(f\"Train Loss: {train_loss:.4f} | Val Loss: {val_loss:.4f} | Val F1 (macro): {val_f1:.4f}\")\n",
    "\n",
    "    if val_f1 > best_f1:\n",
    "        best_f1 = val_f1\n",
    "        torch.save(model.state_dict(), MODEL_PATH)\n",
    "        print(\"New best model found\")\n",
    "        epochs_no_improve = 0\n",
    "    else:\n",
    "        epochs_no_improve += 1\n",
    "        if epoch > WARMUP_EPOCHS and epochs_no_improve >= PATIENCE:\n",
    "            print(\"Early stopping triggered.\")\n",
    "            break\n",
    "\n",
    "    scheduler.step(val_loss)\n",
    "\n",
    "plt.figure(figsize=(12, 4))\n",
    "plt.subplot(1, 2, 1)\n",
    "plt.plot(train_losses, label='Train Loss')\n",
    "plt.plot(val_losses, label='Val Loss')\n",
    "plt.title('Losses')\n",
    "plt.legend()\n",
    "\n",
    "plt.subplot(1, 2, 2)\n",
    "plt.plot(val_f1s, label='Val F1 (macro)')\n",
    "plt.title('F1 Score')\n",
    "plt.legend()\n",
    "plt.show()\n",
    "\n",
    "model.load_state_dict(torch.load(MODEL_PATH))"
   ]
  },
  {
   "cell_type": "markdown",
   "id": "a41937be-0b3a-4c20-8256-60ba4a3976e6",
   "metadata": {},
   "source": [
    "## (4) встроенный эмбеддинг в нейросетевое решение на рекуррентных сетях"
   ]
  },
  {
   "cell_type": "code",
   "execution_count": 58,
   "id": "b36e9b21-e1a0-452b-8cb8-0b35824f33f8",
   "metadata": {
    "execution": {
     "iopub.execute_input": "2025-05-18T21:29:16.378359Z",
     "iopub.status.busy": "2025-05-18T21:29:16.377302Z",
     "iopub.status.idle": "2025-05-18T21:29:16.448086Z",
     "shell.execute_reply": "2025-05-18T21:29:16.447333Z",
     "shell.execute_reply.started": "2025-05-18T21:29:16.378331Z"
    },
    "tags": []
   },
   "outputs": [],
   "source": [
    "\n",
    "\n",
    "DEVICE = torch.device(\"cuda\" if torch.cuda.is_available() else \"cpu\")\n",
    "MAX_LEN = 100\n",
    "BATCH_SIZE = 32\n",
    "EPOCHS = 5\n",
    "EMBED_DIM = 100\n",
    "HIDDEN_DIM = 128\n",
    "\n",
    "# Простой токенизатор и построение словаря\n",
    "def tokenize(text):\n",
    "    return text.lower().split()\n",
    "\n",
    "def build_vocab(texts, min_freq=2):\n",
    "    counter = Counter()\n",
    "    for text in texts:\n",
    "        counter.update(tokenize(text))\n",
    "    vocab = {\"<PAD>\": 0, \"<UNK>\": 1}\n",
    "    for word, freq in counter.items():\n",
    "        if freq >= min_freq:\n",
    "            vocab[word] = len(vocab)\n",
    "    return vocab\n",
    "\n",
    "def encode(text, vocab):\n",
    "    tokens = tokenize(text)\n",
    "    return [vocab.get(token, vocab[\"<UNK>\"]) for token in tokens][:MAX_LEN]\n",
    "\n",
    "# Dataset\n",
    "class TextDataset(Dataset):\n",
    "    def __init__(self, texts, labels, vocab):\n",
    "        self.inputs = [encode(text, vocab) for text in texts]\n",
    "        self.labels = labels\n",
    "        self.vocab = vocab\n",
    "\n",
    "    def __len__(self):\n",
    "        return len(self.inputs)\n",
    "\n",
    "    def __getitem__(self, idx):\n",
    "        ids = self.inputs[idx]\n",
    "        padded = ids + [0] * (MAX_LEN - len(ids))\n",
    "        return {\n",
    "            \"input_ids\": torch.tensor(padded, dtype=torch.long),\n",
    "            \"labels\": torch.tensor(self.labels[idx], dtype=torch.float)\n",
    "        }\n",
    "\n",
    "# Модель\n",
    "class LSTMClassifier(nn.Module):\n",
    "    def __init__(self, vocab_size, embed_dim, hidden_dim, num_labels):\n",
    "        super().__init__()\n",
    "        self.embedding = nn.Embedding(vocab_size, embed_dim)\n",
    "        self.lstm = nn.LSTM(embed_dim, hidden_dim, batch_first=True)\n",
    "        self.dropout = nn.Dropout(0.3)\n",
    "        self.fc = nn.Linear(hidden_dim, num_labels)\n",
    "\n",
    "    def forward(self, input_ids):\n",
    "        embedded = self.embedding(input_ids)\n",
    "        _, (hidden, _) = self.lstm(embedded)\n",
    "        output = self.dropout(hidden[-1])\n",
    "        return self.fc(output)\n",
    "\n",
    "# Обучение\n",
    "def train_lstm_model(df, loss_type=\"bce\"):\n",
    "    texts = df[\"text\"].tolist()\n",
    "    labels = df[\"label_vector\"].tolist()\n",
    "    vocab = build_vocab(texts)\n",
    "\n",
    "    X_train, X_val, y_train, y_val = train_test_split(texts, labels, test_size=0.2, random_state=42)\n",
    "    train_dataset = TextDataset(X_train, y_train, vocab)\n",
    "    val_dataset = TextDataset(X_val, y_val, vocab)\n",
    "\n",
    "    train_loader = DataLoader(train_dataset, batch_size=BATCH_SIZE, shuffle=True)\n",
    "    val_loader = DataLoader(val_dataset, batch_size=BATCH_SIZE)\n",
    "\n",
    "    num_labels = len(df[\"label_vector\"].iloc[0])\n",
    "    model = LSTMClassifier(len(vocab), EMBED_DIM, HIDDEN_DIM, num_labels).to(DEVICE)\n",
    "    optimizer = torch.optim.Adam(model.parameters(), lr=1e-3)\n",
    "\n",
    "    if loss_type == \"focal\":\n",
    "        def focal_loss(logits, labels, alpha=1, gamma=2):\n",
    "            bce = nn.functional.binary_cross_entropy_with_logits(logits, labels, reduction='none')\n",
    "            pt = torch.exp(-bce)\n",
    "            loss = alpha * (1 - pt) ** gamma * bce\n",
    "            return loss.mean()\n",
    "        loss_fn = focal_loss\n",
    "    else:\n",
    "        loss_fn = lambda logits, labels: nn.functional.binary_cross_entropy_with_logits(logits, labels)\n",
    "\n",
    "    for epoch in range(EPOCHS):\n",
    "        model.train()\n",
    "        total_loss = 0\n",
    "        for batch in train_loader:\n",
    "            input_ids = batch[\"input_ids\"].to(DEVICE)\n",
    "            labels = batch[\"labels\"].to(DEVICE)\n",
    "\n",
    "            optimizer.zero_grad()\n",
    "            logits = model(input_ids)\n",
    "            loss = loss_fn(logits, labels)\n",
    "            loss.backward()\n",
    "            optimizer.step()\n",
    "            total_loss += loss.item()\n",
    "\n",
    "        print(f\"Epoch {epoch+1}, Loss: {total_loss / len(train_loader):.4f}\")\n",
    "\n",
    "        model.eval()\n",
    "        all_preds, all_targets = [], []\n",
    "        with torch.no_grad():\n",
    "            for batch in val_loader:\n",
    "                input_ids = batch[\"input_ids\"].to(DEVICE)\n",
    "                labels = batch[\"labels\"].to(DEVICE)\n",
    "                logits = model(input_ids)\n",
    "                preds = torch.sigmoid(logits).cpu().numpy()\n",
    "                all_preds.extend(preds)\n",
    "                all_targets.extend(labels.cpu().numpy())\n",
    "\n",
    "        preds_bin = (np.array(all_preds) > 0.5).astype(int)\n",
    "        macro_f1 = f1_score(all_targets, preds_bin, average=\"macro\")\n",
    "        micro_f1 = f1_score(all_targets, preds_bin, average=\"micro\")\n",
    "        print(f\"Macro F1: {macro_f1:.4f}, Micro F1: {micro_f1:.4f}\")\n"
   ]
  },
  {
   "cell_type": "code",
   "execution_count": 59,
   "id": "93f49dc9-8ac6-492d-98ed-ebb243a7cdd9",
   "metadata": {
    "execution": {
     "iopub.execute_input": "2025-05-18T21:29:17.875555Z",
     "iopub.status.busy": "2025-05-18T21:29:17.874772Z",
     "iopub.status.idle": "2025-05-18T21:29:41.410913Z",
     "shell.execute_reply": "2025-05-18T21:29:41.409901Z",
     "shell.execute_reply.started": "2025-05-18T21:29:17.875506Z"
    },
    "tags": []
   },
   "outputs": [
    {
     "name": "stdout",
     "output_type": "stream",
     "text": [
      "Epoch 1, Loss: 0.3466\n",
      "Macro F1: 0.6784, Micro F1: 0.8573\n",
      "Epoch 2, Loss: 0.3167\n",
      "Macro F1: 0.6972, Micro F1: 0.8714\n",
      "Epoch 3, Loss: 0.2832\n",
      "Macro F1: 0.7330, Micro F1: 0.8887\n",
      "Epoch 4, Loss: 0.2609\n",
      "Macro F1: 0.7358, Micro F1: 0.8937\n",
      "Epoch 5, Loss: 0.2423\n",
      "Macro F1: 0.7396, Micro F1: 0.8978\n"
     ]
    }
   ],
   "source": [
    "train_lstm_model(df_5, loss_type=\"bce\")  # или \"focal\"\n"
   ]
  },
  {
   "cell_type": "code",
   "execution_count": null,
   "id": "15134905-ff60-47c7-9fcc-5516e7e79083",
   "metadata": {},
   "outputs": [],
   "source": []
  },
  {
   "cell_type": "code",
   "execution_count": null,
   "id": "0db9dd2a-1dbe-48a0-9c55-956b5ed16f56",
   "metadata": {},
   "outputs": [],
   "source": []
  },
  {
   "cell_type": "markdown",
   "id": "9224bae2-dd04-4994-a446-82e80a18c781",
   "metadata": {},
   "source": [
    "## (5) эмбеддер + решение на bert-like моделях (любой вид). 0.88 кагл - лучшая моделька"
   ]
  },
  {
   "cell_type": "markdown",
   "id": "96339779-04dc-405e-8304-c53508ecec61",
   "metadata": {},
   "source": [
    "## sberbank-ai/ruBert-base\n",
    "https://geekr.vercel.app/company/sberdevices/blog/567776"
   ]
  },
  {
   "cell_type": "code",
   "execution_count": 40,
   "id": "91e42c38-5531-47be-853d-5f6f59d5c65d",
   "metadata": {
    "execution": {
     "iopub.execute_input": "2025-05-18T15:21:53.440118Z",
     "iopub.status.busy": "2025-05-18T15:21:53.439408Z",
     "iopub.status.idle": "2025-05-18T15:21:53.470834Z",
     "shell.execute_reply": "2025-05-18T15:21:53.470158Z",
     "shell.execute_reply.started": "2025-05-18T15:21:53.440083Z"
    },
    "tags": []
   },
   "outputs": [],
   "source": [
    "##%pip install transformers\n"
   ]
  },
  {
   "cell_type": "code",
   "execution_count": 57,
   "id": "bcd15442-308c-44f1-bb47-f55d928ac909",
   "metadata": {
    "execution": {
     "iopub.execute_input": "2025-05-18T15:36:23.181290Z",
     "iopub.status.busy": "2025-05-18T15:36:23.180154Z",
     "iopub.status.idle": "2025-05-18T15:36:23.213502Z",
     "shell.execute_reply": "2025-05-18T15:36:23.212718Z",
     "shell.execute_reply.started": "2025-05-18T15:36:23.181241Z"
    },
    "tags": []
   },
   "outputs": [],
   "source": [
    "\n",
    "\n",
    "MODEL_NAME = \"sberbank-ai/ruBert-base\"  #DeepPavlov/rubert-base-cased #ai-forever/ruBert-large #ointegrated/rubert-tiny2 #sberbank-ai/ruRoberta-large\n",
    "MAX_LEN = 256\n",
    "BATCH_SIZE = 16\n",
    "EPOCHS = 15\n",
    "EARLY_STOPPING = 3\n",
    "LR = 2e-5\n",
    "DEVICE = torch.device(\"cuda\" if torch.cuda.is_available() else \"cpu\")\n",
    "LOSS_TYPE = \"focal\"  # 'bce' or 'focal'\n",
    "\n",
    "class TextDataset(Dataset):\n",
    "    def __init__(self, df, tokenizer):\n",
    "        self.texts = df['bert_clean'].tolist()\n",
    "        self.labels = df['label_vector'].tolist()\n",
    "        self.tokenizer = tokenizer\n",
    "\n",
    "    def __getitem__(self, idx):\n",
    "        inputs = self.tokenizer(\n",
    "            self.texts[idx],\n",
    "            truncation=True,\n",
    "            padding='max_length',\n",
    "            max_length=MAX_LEN,\n",
    "            return_tensors=\"pt\"\n",
    "        )\n",
    "        item = {k: v.squeeze(0) for k, v in inputs.items()}\n",
    "        item['labels'] = torch.tensor(self.labels[idx], dtype=torch.float)\n",
    "        return item\n",
    "\n",
    "    def __len__(self):\n",
    "        return len(self.texts)\n",
    "\n",
    "class BERTClassifier(nn.Module):\n",
    "    def __init__(self, model_name, num_labels):\n",
    "        super().__init__()\n",
    "        self.bert = AutoModel.from_pretrained(model_name)\n",
    "        self.dropout = nn.Dropout(0.3)\n",
    "        self.classifier = nn.Linear(self.bert.config.hidden_size, num_labels)\n",
    "\n",
    "    def forward(self, input_ids, attention_mask):\n",
    "        outputs = self.bert(input_ids=input_ids, attention_mask=attention_mask)\n",
    "        pooled = outputs.pooler_output\n",
    "        return self.classifier(self.dropout(pooled))\n",
    "\n",
    "class FocalLoss(nn.Module):\n",
    "    def __init__(self, alpha=1, gamma=2, reduction='mean'):\n",
    "        super().__init__()\n",
    "        self.alpha = alpha\n",
    "        self.gamma = gamma\n",
    "        self.reduction = reduction\n",
    "\n",
    "    def forward(self, inputs, targets):\n",
    "        BCE_loss = F.binary_cross_entropy_with_logits(inputs, targets, reduction='none')\n",
    "        pt = torch.exp(-BCE_loss)\n",
    "        F_loss = self.alpha * (1 - pt) ** self.gamma * BCE_loss\n",
    "        return F_loss.mean() if self.reduction == 'mean' else F_loss.sum()\n",
    "\n",
    "def compute_metrics(preds, targets):\n",
    "    preds = (preds > 0.5).astype(int)\n",
    "    return f1_score(targets, preds, average='macro')\n",
    "\n",
    "def train_model(df_4, loss_type=\"bce\"):\n",
    "    tokenizer = AutoTokenizer.from_pretrained(MODEL_NAME)\n",
    "    df = df_4.sample(frac=1.0, random_state=42).reset_index(drop=True)\n",
    "\n",
    "    # Split\n",
    "    val_frac = 0.15\n",
    "    val_size = int(len(df) * val_frac)\n",
    "    train_df = df[:-val_size]\n",
    "    val_df = df[-val_size:]\n",
    "\n",
    "    train_ds = TextDataset(train_df, tokenizer)\n",
    "    val_ds = TextDataset(val_df, tokenizer)\n",
    "\n",
    "    train_loader = DataLoader(train_ds, batch_size=BATCH_SIZE, shuffle=True)\n",
    "    val_loader = DataLoader(val_ds, batch_size=BATCH_SIZE)\n",
    "\n",
    "    num_labels = len(df['label_vector'].iloc[0])\n",
    "    model = BERTClassifier(MODEL_NAME, num_labels).to(DEVICE)\n",
    "\n",
    "    optimizer = torch.optim.AdamW(model.parameters(), lr=LR)\n",
    "    scheduler = get_cosine_schedule_with_warmup(\n",
    "        optimizer,\n",
    "        num_warmup_steps=int(0.1 * len(train_loader) * EPOCHS),\n",
    "        num_training_steps=len(train_loader) * EPOCHS\n",
    "    )\n",
    "\n",
    "    if loss_type == \"focal\":\n",
    "        criterion = FocalLoss()\n",
    "    else:\n",
    "        # Без eval(), т.к. label_vector — уже список\n",
    "        all_labels = np.array(df['label_vector'].tolist())\n",
    "        pos_weight = torch.tensor(\n",
    "            (all_labels.shape[0] - all_labels.sum(axis=0)) / (all_labels.sum(axis=0) + 1e-6),\n",
    "            dtype=torch.float\n",
    "        ).to(DEVICE)\n",
    "        criterion = nn.BCEWithLogitsLoss(pos_weight=pos_weight)\n",
    "\n",
    "    best_val_score = 0\n",
    "    patience = 0\n",
    "    train_losses, val_losses, val_scores = [], [], []\n",
    "\n",
    "    for epoch in range(EPOCHS):\n",
    "        model.train()\n",
    "        total_loss = 0\n",
    "        for batch in tqdm(train_loader, desc=f\"Epoch {epoch+1}\"):\n",
    "            optimizer.zero_grad()\n",
    "            input_ids = batch['input_ids'].to(DEVICE)\n",
    "            attention_mask = batch['attention_mask'].to(DEVICE)\n",
    "            labels = batch['labels'].to(DEVICE)\n",
    "\n",
    "            logits = model(input_ids, attention_mask)\n",
    "            loss = criterion(logits, labels)\n",
    "            loss.backward()\n",
    "            optimizer.step()\n",
    "            scheduler.step()\n",
    "            total_loss += loss.item()\n",
    "\n",
    "        avg_train_loss = total_loss / len(train_loader)\n",
    "        train_losses.append(avg_train_loss)\n",
    "\n",
    "        # Evaluation\n",
    "        model.eval()\n",
    "        val_loss = 0\n",
    "        all_preds = []\n",
    "        all_labels = []\n",
    "\n",
    "        with torch.no_grad():\n",
    "            for batch in val_loader:\n",
    "                input_ids = batch['input_ids'].to(DEVICE)\n",
    "                attention_mask = batch['attention_mask'].to(DEVICE)\n",
    "                labels = batch['labels'].to(DEVICE)\n",
    "\n",
    "                logits = model(input_ids, attention_mask)\n",
    "                loss = criterion(logits, labels)\n",
    "                val_loss += loss.item()\n",
    "\n",
    "                all_preds.append(torch.sigmoid(logits).cpu().numpy())\n",
    "                all_labels.append(labels.cpu().numpy())\n",
    "\n",
    "        avg_val_loss = val_loss / len(val_loader)\n",
    "        val_losses.append(avg_val_loss)\n",
    "\n",
    "        preds = np.vstack(all_preds)\n",
    "        targets = np.vstack(all_labels)\n",
    "        score = compute_metrics(preds, targets)\n",
    "        val_scores.append(score)\n",
    "\n",
    "        print(f\"Epoch {epoch+1} | Train Loss: {avg_train_loss:.4f} | Val Loss: {avg_val_loss:.4f} | F1 Score: {score:.4f}\")\n",
    "\n",
    "        if score > best_val_score:\n",
    "            best_val_score = score\n",
    "            patience = 0\n",
    "            torch.save(model.state_dict(), \"best_model_bert.pt\")\n",
    "            print(\"Saved best model\")\n",
    "        else:\n",
    "            patience += 1\n",
    "            if patience >= EARLY_STOPPING:\n",
    "                print(\"Early stopping\")\n",
    "                break\n",
    "\n",
    "    # Plot\n",
    "    plt.figure(figsize=(12, 4))\n",
    "    plt.subplot(1, 2, 1)\n",
    "    plt.plot(train_losses, label=\"Train Loss\")\n",
    "    plt.plot(val_losses, label=\"Val Loss\")\n",
    "    plt.title(\"Loss\")\n",
    "    plt.legend()\n",
    "\n",
    "    plt.subplot(1, 2, 2)\n",
    "    plt.plot(val_scores, label=\"F1 Score\")\n",
    "    plt.title(\"Validation F1 Score\")\n",
    "    plt.legend()\n",
    "    plt.show()\n"
   ]
  },
  {
   "cell_type": "code",
   "execution_count": 58,
   "id": "23d57eaf-ecde-452d-a9ce-21aacaa83a31",
   "metadata": {
    "execution": {
     "iopub.execute_input": "2025-05-18T15:36:24.484192Z",
     "iopub.status.busy": "2025-05-18T15:36:24.483269Z",
     "iopub.status.idle": "2025-05-18T15:36:24.492826Z",
     "shell.execute_reply": "2025-05-18T15:36:24.492212Z",
     "shell.execute_reply.started": "2025-05-18T15:36:24.484154Z"
    },
    "tags": []
   },
   "outputs": [],
   "source": [
    "##%pip install --upgrade torch torchvision torchaudio --extra-index-url https://download.pytorch.org/whl/cu118\n"
   ]
  },
  {
   "cell_type": "code",
   "execution_count": 59,
   "id": "c93cc3f7-ecb2-45e5-8f7e-da6107273cbf",
   "metadata": {
    "execution": {
     "iopub.execute_input": "2025-05-18T15:36:24.817098Z",
     "iopub.status.busy": "2025-05-18T15:36:24.816171Z",
     "iopub.status.idle": "2025-05-18T15:36:24.857518Z",
     "shell.execute_reply": "2025-05-18T15:36:24.856774Z",
     "shell.execute_reply.started": "2025-05-18T15:36:24.817065Z"
    },
    "tags": []
   },
   "outputs": [
    {
     "data": {
      "text/html": [
       "<div>\n",
       "<style scoped>\n",
       "    .dataframe tbody tr th:only-of-type {\n",
       "        vertical-align: middle;\n",
       "    }\n",
       "\n",
       "    .dataframe tbody tr th {\n",
       "        vertical-align: top;\n",
       "    }\n",
       "\n",
       "    .dataframe thead th {\n",
       "        text-align: right;\n",
       "    }\n",
       "</style>\n",
       "<table border=\"1\" class=\"dataframe\">\n",
       "  <thead>\n",
       "    <tr style=\"text-align: right;\">\n",
       "      <th></th>\n",
       "      <th>id</th>\n",
       "      <th>text</th>\n",
       "      <th>labels</th>\n",
       "      <th>bert_clean</th>\n",
       "      <th>label_vector</th>\n",
       "      <th>num_labels</th>\n",
       "      <th>rnn_clean</th>\n",
       "    </tr>\n",
       "  </thead>\n",
       "  <tbody>\n",
       "    <tr>\n",
       "      <th>0</th>\n",
       "      <td>0</td>\n",
       "      <td>15 января\\nДетская развлекательная программа\\n...</td>\n",
       "      <td>1 0 0 0 1 0 0 0 1 0 0 0 1 1 1 1 1 0 0 1</td>\n",
       "      <td>15 января\\nДетская развлекательная программа\\n...</td>\n",
       "      <td>[1, 0, 0, 0, 1, 0, 0, 0, 1, 0, 0, 0, 1, 1, 1, ...</td>\n",
       "      <td>9</td>\n",
       "      <td>[15, января, детская, развлекательная, програм...</td>\n",
       "    </tr>\n",
       "    <tr>\n",
       "      <th>1</th>\n",
       "      <td>1</td>\n",
       "      <td>13 и 14 августа\\nВыходные в Меге\\nhttps://t.me...</td>\n",
       "      <td>0 0 0 1 0 0 0 0 1 0 0 0 1 1 0 1 1 0 0 1</td>\n",
       "      <td>13 и 14 августа\\nВыходные в Меге\\n\\nМегапарк</td>\n",
       "      <td>[0, 0, 0, 1, 0, 0, 0, 0, 1, 0, 0, 0, 1, 1, 0, ...</td>\n",
       "      <td>7</td>\n",
       "      <td>[13, и, 14, августа, выходные, в, меге, мегапарк]</td>\n",
       "    </tr>\n",
       "    <tr>\n",
       "      <th>2</th>\n",
       "      <td>2</td>\n",
       "      <td>Йокнапатофа\\nПостановка Театр им. Маяковского\\...</td>\n",
       "      <td>0 0 0 0 1 0 0 0 0 0 0 0 1 1 0 1 1 0 0 1</td>\n",
       "      <td>Йокнапатофа\\nПостановка Театр им. Маяковского\\...</td>\n",
       "      <td>[0, 0, 0, 0, 1, 0, 0, 0, 0, 0, 0, 0, 1, 1, 0, ...</td>\n",
       "      <td>6</td>\n",
       "      <td>[йокнапатофа, постановка, театр, им., маяковск...</td>\n",
       "    </tr>\n",
       "    <tr>\n",
       "      <th>3</th>\n",
       "      <td>3</td>\n",
       "      <td>Впервые в Уфе танцевальная терапия в группе с ...</td>\n",
       "      <td>1 1 0 0 1 0 0 1 1 1 1 1 1 1 1 0 0 1 1 0</td>\n",
       "      <td>Впервые в Уфе танцевальная терапия в группе с ...</td>\n",
       "      <td>[1, 1, 0, 0, 1, 0, 0, 1, 1, 1, 1, 1, 1, 1, 1, ...</td>\n",
       "      <td>13</td>\n",
       "      <td>[впервые, в, уфе, танцевальная, терапия, в, гр...</td>\n",
       "    </tr>\n",
       "    <tr>\n",
       "      <th>4</th>\n",
       "      <td>4</td>\n",
       "      <td>🎹\\nGRAND PIANO COMPETITION\\n🎹\\nДрузья, сегодня...</td>\n",
       "      <td>1 1 0 0 0 0 0 1 1 0 0 1 1 1 1 0 1 1 1 0</td>\n",
       "      <td>🎹\\nGRAND PIANO COMPETITION\\n🎹\\nДрузья, сегодня...</td>\n",
       "      <td>[1, 1, 0, 0, 0, 0, 0, 1, 1, 0, 0, 1, 1, 1, 1, ...</td>\n",
       "      <td>11</td>\n",
       "      <td>[grand, piano, competition, друзья,, сегодня, ...</td>\n",
       "    </tr>\n",
       "    <tr>\n",
       "      <th>...</th>\n",
       "      <td>...</td>\n",
       "      <td>...</td>\n",
       "      <td>...</td>\n",
       "      <td>...</td>\n",
       "      <td>...</td>\n",
       "      <td>...</td>\n",
       "      <td>...</td>\n",
       "    </tr>\n",
       "    <tr>\n",
       "      <th>29563</th>\n",
       "      <td>29563</td>\n",
       "      <td>Выступление Симфо-группы TEODOR\\n⠀\\n22 июля в ...</td>\n",
       "      <td>0 0 0 0 0 0 0 1 1 0 0 0 0 1 0 1 1 1 1 0</td>\n",
       "      <td>Выступление Симфо-группы TEODOR\\n⠀\\n22 июля в ...</td>\n",
       "      <td>[0, 0, 0, 0, 0, 0, 0, 1, 1, 0, 0, 0, 0, 1, 0, ...</td>\n",
       "      <td>7</td>\n",
       "      <td>[выступление, симфо-группы, teodor, 22, июля, ...</td>\n",
       "    </tr>\n",
       "    <tr>\n",
       "      <th>29564</th>\n",
       "      <td>29564</td>\n",
       "      <td>🔤\\nЮЗИКЛ \"МОНТЕ-КРИСТО\" ТЕАТР ОПЕРЕТТЫ\\nЭто оч...</td>\n",
       "      <td>1 1 1 0 0 0 0 1 0 1 1 1 0 1 1 0 1 1 1 0</td>\n",
       "      <td>🔤\\nЮЗИКЛ \"МОНТЕ-КРИСТО\" ТЕАТР ОПЕРЕТТЫ\\nЭто оч...</td>\n",
       "      <td>[1, 1, 1, 0, 0, 0, 0, 1, 0, 1, 1, 1, 0, 1, 1, ...</td>\n",
       "      <td>12</td>\n",
       "      <td>[юзикл, монте-кристо, театр, оперетты, это, оч...</td>\n",
       "    </tr>\n",
       "    <tr>\n",
       "      <th>29565</th>\n",
       "      <td>29565</td>\n",
       "      <td>РАСПИСАНИЕ БЕСПЛАТНЫХ ЭКСКУРСИЙ\\nв октябре 202...</td>\n",
       "      <td>1 1 0 0 1 0 0 1 1 1 1 1 1 1 1 1 1 1 1 0</td>\n",
       "      <td>РАСПИСАНИЕ БЕСПЛАТНЫХ ЭКСКУРСИЙ\\nв октябре 202...</td>\n",
       "      <td>[1, 1, 0, 0, 1, 0, 0, 1, 1, 1, 1, 1, 1, 1, 1, ...</td>\n",
       "      <td>15</td>\n",
       "      <td>[расписание, бесплатных, экскурсий, в, октябре...</td>\n",
       "    </tr>\n",
       "    <tr>\n",
       "      <th>29566</th>\n",
       "      <td>29566</td>\n",
       "      <td>Долгожданный концерт Надежды Кадышевой в Рязан...</td>\n",
       "      <td>1 0 1 0 0 0 0 1 0 1 1 1 0 1 1 0 0 1 1 0</td>\n",
       "      <td>Долгожданный концерт Надежды Кадышевой в Рязан...</td>\n",
       "      <td>[1, 0, 1, 0, 0, 0, 0, 1, 0, 1, 1, 1, 0, 1, 1, ...</td>\n",
       "      <td>10</td>\n",
       "      <td>[долгожданный, концерт, надежды, кадышевой, в,...</td>\n",
       "    </tr>\n",
       "    <tr>\n",
       "      <th>29567</th>\n",
       "      <td>29567</td>\n",
       "      <td>Спектакль-победитель фестиваля «Амурская осень...</td>\n",
       "      <td>0 1 0 0 1 0 0 1 1 1 0 0 1 0 1 0 1 1 1 0</td>\n",
       "      <td>Спектакль-победитель фестиваля «Амурская осень...</td>\n",
       "      <td>[0, 1, 0, 0, 1, 0, 0, 1, 1, 1, 0, 0, 1, 0, 1, ...</td>\n",
       "      <td>10</td>\n",
       "      <td>[спектакль-победитель, фестиваля, амурская, ос...</td>\n",
       "    </tr>\n",
       "  </tbody>\n",
       "</table>\n",
       "<p>29568 rows × 7 columns</p>\n",
       "</div>"
      ],
      "text/plain": [
       "          id  ...                                          rnn_clean\n",
       "0          0  ...  [15, января, детская, развлекательная, програм...\n",
       "1          1  ...  [13, и, 14, августа, выходные, в, меге, мегапарк]\n",
       "2          2  ...  [йокнапатофа, постановка, театр, им., маяковск...\n",
       "3          3  ...  [впервые, в, уфе, танцевальная, терапия, в, гр...\n",
       "4          4  ...  [grand, piano, competition, друзья,, сегодня, ...\n",
       "...      ...  ...                                                ...\n",
       "29563  29563  ...  [выступление, симфо-группы, teodor, 22, июля, ...\n",
       "29564  29564  ...  [юзикл, монте-кристо, театр, оперетты, это, оч...\n",
       "29565  29565  ...  [расписание, бесплатных, экскурсий, в, октябре...\n",
       "29566  29566  ...  [долгожданный, концерт, надежды, кадышевой, в,...\n",
       "29567  29567  ...  [спектакль-победитель, фестиваля, амурская, ос...\n",
       "\n",
       "[29568 rows x 7 columns]"
      ]
     },
     "execution_count": 59,
     "metadata": {},
     "output_type": "execute_result"
    }
   ],
   "source": [
    "df_5"
   ]
  },
  {
   "cell_type": "code",
   "execution_count": 60,
   "id": "ca60ce06-31d7-464d-ad6f-f02f989a1af9",
   "metadata": {
    "execution": {
     "iopub.execute_input": "2025-05-18T15:36:25.061287Z",
     "iopub.status.busy": "2025-05-18T15:36:25.060361Z",
     "iopub.status.idle": "2025-05-18T16:56:31.974323Z",
     "shell.execute_reply": "2025-05-18T16:56:31.973476Z",
     "shell.execute_reply.started": "2025-05-18T15:36:25.061252Z"
    },
    "tags": []
   },
   "outputs": [
    {
     "name": "stderr",
     "output_type": "stream",
     "text": [
      "Epoch 1: 100%|██████████| 1571/1571 [08:52<00:00,  2.95it/s]\n"
     ]
    },
    {
     "name": "stdout",
     "output_type": "stream",
     "text": [
      "Epoch 1 | Train Loss: 0.0890 | Val Loss: 0.0541 | F1 Score: 0.7801\n",
      "Saved best model\n"
     ]
    },
    {
     "name": "stderr",
     "output_type": "stream",
     "text": [
      "Epoch 2: 100%|██████████| 1571/1571 [08:53<00:00,  2.95it/s]\n"
     ]
    },
    {
     "name": "stdout",
     "output_type": "stream",
     "text": [
      "Epoch 2 | Train Loss: 0.0465 | Val Loss: 0.0366 | F1 Score: 0.8212\n",
      "Saved best model\n"
     ]
    },
    {
     "name": "stderr",
     "output_type": "stream",
     "text": [
      "Epoch 3: 100%|██████████| 1571/1571 [08:53<00:00,  2.95it/s]\n"
     ]
    },
    {
     "name": "stdout",
     "output_type": "stream",
     "text": [
      "Epoch 3 | Train Loss: 0.0324 | Val Loss: 0.0331 | F1 Score: 0.8418\n",
      "Saved best model\n"
     ]
    },
    {
     "name": "stderr",
     "output_type": "stream",
     "text": [
      "Epoch 4: 100%|██████████| 1571/1571 [08:53<00:00,  2.95it/s]\n"
     ]
    },
    {
     "name": "stdout",
     "output_type": "stream",
     "text": [
      "Epoch 4 | Train Loss: 0.0242 | Val Loss: 0.0296 | F1 Score: 0.8550\n",
      "Saved best model\n"
     ]
    },
    {
     "name": "stderr",
     "output_type": "stream",
     "text": [
      "Epoch 5: 100%|██████████| 1571/1571 [08:53<00:00,  2.94it/s]\n"
     ]
    },
    {
     "name": "stdout",
     "output_type": "stream",
     "text": [
      "Epoch 5 | Train Loss: 0.0182 | Val Loss: 0.0303 | F1 Score: 0.8754\n",
      "Saved best model\n"
     ]
    },
    {
     "name": "stderr",
     "output_type": "stream",
     "text": [
      "Epoch 6: 100%|██████████| 1571/1571 [08:53<00:00,  2.95it/s]\n"
     ]
    },
    {
     "name": "stdout",
     "output_type": "stream",
     "text": [
      "Epoch 6 | Train Loss: 0.0135 | Val Loss: 0.0320 | F1 Score: 0.8675\n"
     ]
    },
    {
     "name": "stderr",
     "output_type": "stream",
     "text": [
      "Epoch 7: 100%|██████████| 1571/1571 [08:53<00:00,  2.94it/s]\n"
     ]
    },
    {
     "name": "stdout",
     "output_type": "stream",
     "text": [
      "Epoch 7 | Train Loss: 0.0101 | Val Loss: 0.0335 | F1 Score: 0.8706\n"
     ]
    },
    {
     "name": "stderr",
     "output_type": "stream",
     "text": [
      "Epoch 8: 100%|██████████| 1571/1571 [08:54<00:00,  2.94it/s]\n"
     ]
    },
    {
     "name": "stdout",
     "output_type": "stream",
     "text": [
      "Epoch 8 | Train Loss: 0.0077 | Val Loss: 0.0357 | F1 Score: 0.8722\n",
      "Early stopping\n"
     ]
    },
    {
     "data": {
      "image/png": "[encoded data removed]",
      "text/plain": [
       "<Figure size 1200x400 with 2 Axes>"
      ]
     },
     "metadata": {},
     "output_type": "display_data"
    }
   ],
   "source": [
    "train_model(df_5, loss_type=\"focal\")  # или 'bce'\n"
   ]
  },
  {
   "cell_type": "code",
   "execution_count": null,
   "id": "0ddd6ed5-c048-4fe7-a135-cc2c4254897c",
   "metadata": {},
   "outputs": [],
   "source": []
  },
  {
   "cell_type": "code",
   "execution_count": null,
   "id": "143e33e5-69da-4e90-89d1-df5b6d32e847",
   "metadata": {},
   "outputs": [],
   "source": []
  },
  {
   "cell_type": "code",
   "execution_count": null,
   "id": "eba9e346-11a6-47f9-863c-a6f45ab6d49d",
   "metadata": {},
   "outputs": [],
   "source": []
  },
  {
   "cell_type": "code",
   "execution_count": null,
   "id": "2d8a0863-8457-4099-8d31-29abedfdde31",
   "metadata": {},
   "outputs": [],
   "source": []
  },
  {
   "cell_type": "code",
   "execution_count": 61,
   "id": "520f610e-6947-497f-b758-2d141f508d00",
   "metadata": {
    "execution": {
     "iopub.execute_input": "2025-05-18T17:08:06.152827Z",
     "iopub.status.busy": "2025-05-18T17:08:06.151616Z",
     "iopub.status.idle": "2025-05-18T17:08:06.176592Z",
     "shell.execute_reply": "2025-05-18T17:08:06.175879Z",
     "shell.execute_reply.started": "2025-05-18T17:08:06.152765Z"
    },
    "tags": []
   },
   "outputs": [],
   "source": [
    "def clean_bert(text):\n",
    "    text = re.sub(r'http\\S+|www\\S+|https\\S+', '', text)  # удаляем только URL\n",
    "    # не меняем регистр, не трогаем пунктуацию, смайлы и прочее\n",
    "    return text"
   ]
  },
  {
   "cell_type": "code",
   "execution_count": 62,
   "id": "7965f5c9-ffce-4a07-80eb-489497ad5845",
   "metadata": {
    "execution": {
     "iopub.execute_input": "2025-05-18T17:08:07.405209Z",
     "iopub.status.busy": "2025-05-18T17:08:07.404258Z",
     "iopub.status.idle": "2025-05-18T17:08:07.474069Z",
     "shell.execute_reply": "2025-05-18T17:08:07.473248Z",
     "shell.execute_reply.started": "2025-05-18T17:08:07.405170Z"
    },
    "tags": []
   },
   "outputs": [],
   "source": [
    "data_test['bert_clean'] = data_test['text'].apply(clean_bert)\n"
   ]
  },
  {
   "cell_type": "code",
   "execution_count": 63,
   "id": "fb624248-fdc1-4b28-901e-6dcca5f25491",
   "metadata": {
    "execution": {
     "iopub.execute_input": "2025-05-18T17:08:08.403968Z",
     "iopub.status.busy": "2025-05-18T17:08:08.402616Z",
     "iopub.status.idle": "2025-05-18T17:09:07.783420Z",
     "shell.execute_reply": "2025-05-18T17:09:07.782660Z",
     "shell.execute_reply.started": "2025-05-18T17:08:08.403923Z"
    },
    "tags": []
   },
   "outputs": [
    {
     "name": "stdout",
     "output_type": "stream",
     "text": [
      "✅ Submission saved to submission.csv\n"
     ]
    }
   ],
   "source": [
    "# Загружаем токенайзер и модель\n",
    "tokenizer = AutoTokenizer.from_pretrained(MODEL_NAME)\n",
    "model = BERTClassifier(MODEL_NAME, num_labels=len(df_4['label_vector'].iloc[0]))\n",
    "model.load_state_dict(torch.load('best_model_bert.pt'))\n",
    "model.to(DEVICE)\n",
    "model.eval()\n",
    "\n",
    "# Токенизируем тестовые данные\n",
    "texts = data_test['bert_clean'].tolist()  # или 'bert_clean', если у тебя другая колонка\n",
    "batch_size = 64\n",
    "all_test_preds = []\n",
    "\n",
    "with torch.no_grad():\n",
    "    for i in range(0, len(texts), batch_size):\n",
    "        batch_texts = texts[i:i+batch_size]\n",
    "        inputs = tokenizer(\n",
    "            batch_texts,\n",
    "            padding=True,\n",
    "            truncation=True,\n",
    "            max_length=MAX_LEN,\n",
    "            return_tensors='pt'\n",
    "        )\n",
    "\n",
    "        input_ids = inputs['input_ids'].to(DEVICE)\n",
    "        attention_mask = inputs['attention_mask'].to(DEVICE)\n",
    "\n",
    "        logits = model(input_ids=input_ids, attention_mask=attention_mask)\n",
    "        probs = torch.sigmoid(logits).cpu().numpy()\n",
    "        all_test_preds.append(probs)\n",
    "\n",
    "# Склеиваем предсказания\n",
    "all_test_preds = np.vstack(all_test_preds)\n",
    "\n",
    "# Переводим вероятности в 0 и 1 (порог 0.5)\n",
    "test_preds_bin = (all_test_preds > 0.5).astype(int)\n",
    "\n",
    "# Превращаем каждую строку в формат '0 1 0 0 1 ...'\n",
    "labels_str = [' '.join(map(str, row)) for row in test_preds_bin]\n",
    "\n",
    "# Собираем submission\n",
    "submission = pd.DataFrame({\n",
    "    'id': data_test['id'],\n",
    "    'labels': labels_str\n",
    "})\n",
    "\n",
    "submission.to_csv('submission.csv', index=False)\n",
    "print('Submission saved to submission.csv')\n"
   ]
  },
  {
   "cell_type": "code",
   "execution_count": 6,
   "id": "34e00145-8a84-481f-ab00-7f029c3236af",
   "metadata": {
    "execution": {
     "iopub.execute_input": "2025-05-18T20:58:08.927845Z",
     "iopub.status.busy": "2025-05-18T20:58:08.927033Z",
     "iopub.status.idle": "2025-05-18T20:58:12.606055Z",
     "shell.execute_reply": "2025-05-18T20:58:12.605386Z",
     "shell.execute_reply.started": "2025-05-18T20:58:08.927809Z"
    }
   },
   "outputs": [
    {
     "name": "stderr",
     "output_type": "stream",
     "text": [
      "/home/jupyter/.local/lib/python3.10/site-packages/transformers/utils/hub.py:105: FutureWarning: Using `TRANSFORMERS_CACHE` is deprecated and will be removed in v5 of Transformers. Use `HF_HOME` instead.\n",
      "  warnings.warn(\n"
     ]
    }
   ],
   "source": [
    "\n",
    "\n"
   ]
  },
  {
   "cell_type": "markdown",
   "id": "c435bf41-b774-411b-b5b4-1d0c07ef35f3",
   "metadata": {},
   "source": [
    "## та же модель, но с дополнительными, сгенерированными текстами "
   ]
  },
  {
   "cell_type": "code",
   "execution_count": 19,
   "id": "a9c8d3f6-8206-4b8e-9d98-3d314188da90",
   "metadata": {
    "execution": {
     "iopub.execute_input": "2025-05-18T21:12:33.245962Z",
     "iopub.status.busy": "2025-05-18T21:12:33.245137Z",
     "iopub.status.idle": "2025-05-18T21:12:33.259787Z",
     "shell.execute_reply": "2025-05-18T21:12:33.259212Z",
     "shell.execute_reply.started": "2025-05-18T21:12:33.245935Z"
    }
   },
   "outputs": [],
   "source": [
    "# не успела дообучить, но даже по валидации видно, что она медленнее обучается, чем без доп данных."
   ]
  },
  {
   "cell_type": "code",
   "execution_count": 18,
   "id": "bc71a7d1-a8cc-458e-a04f-bfcd1fdf0a0b",
   "metadata": {
    "execution": {
     "iopub.execute_input": "2025-05-18T18:15:48.356055Z",
     "iopub.status.busy": "2025-05-18T18:15:48.355207Z",
     "iopub.status.idle": "2025-05-18T18:15:57.685758Z",
     "shell.execute_reply": "2025-05-18T18:15:57.685120Z",
     "shell.execute_reply.started": "2025-05-18T18:15:48.356017Z"
    },
    "tags": []
   },
   "outputs": [
    {
     "name": "stderr",
     "output_type": "stream",
     "text": [
      "/home/jupyter/.local/lib/python3.10/site-packages/transformers/utils/hub.py:105: FutureWarning: Using `TRANSFORMERS_CACHE` is deprecated and will be removed in v5 of Transformers. Use `HF_HOME` instead.\n",
      "  warnings.warn(\n"
     ]
    }
   ],
   "source": [
    "import torch\n",
    "import torch.nn as nn\n",
    "import torch.nn.functional as F\n",
    "from torch.utils.data import Dataset, DataLoader\n",
    "from transformers import AutoTokenizer, AutoModel, AutoModelForCausalLM, get_cosine_schedule_with_warmup\n",
    "import pandas as pd\n",
    "import numpy as np\n",
    "import matplotlib.pyplot as plt\n",
    "from sklearn.metrics import f1_score\n",
    "from tqdm import tqdm\n",
    "from collections import Counter\n",
    "\n",
    "MODEL_NAME = \"sberbank-ai/ruBert-base\"\n",
    "GEN_MODEL_NAME = \"ai-forever/rugpt2large\"\n",
    "MAX_LEN = 256\n",
    "BATCH_SIZE = 16\n",
    "EPOCHS = 15\n",
    "EARLY_STOPPING = 3\n",
    "LR = 2e-5\n",
    "DEVICE = torch.device(\"cuda\" if torch.cuda.is_available() else \"cpu\")\n",
    "LOSS_TYPE = \"focal\"\n",
    "\n",
    "class TextDataset(Dataset):\n",
    "    def __init__(self, df, tokenizer):\n",
    "        self.texts = df['bert_clean'].tolist()\n",
    "        self.labels = df['label_vector'].tolist()\n",
    "        self.tokenizer = tokenizer\n",
    "\n",
    "    def __getitem__(self, idx):\n",
    "        inputs = self.tokenizer(\n",
    "            self.texts[idx],\n",
    "            truncation=True,\n",
    "            padding='max_length',\n",
    "            max_length=MAX_LEN,\n",
    "            return_tensors=\"pt\"\n",
    "        )\n",
    "        item = {k: v.squeeze(0) for k, v in inputs.items()}\n",
    "        item['labels'] = torch.tensor(self.labels[idx], dtype=torch.float)\n",
    "        return item\n",
    "\n",
    "    def __len__(self):\n",
    "        return len(self.texts)\n",
    "\n",
    "class BERTClassifier(nn.Module):\n",
    "    def __init__(self, model_name, num_labels):\n",
    "        super().__init__()\n",
    "        self.bert = AutoModel.from_pretrained(model_name)\n",
    "        self.dropout = nn.Dropout(0.3)\n",
    "        self.classifier = nn.Linear(self.bert.config.hidden_size, num_labels)\n",
    "\n",
    "    def forward(self, input_ids, attention_mask):\n",
    "        outputs = self.bert(input_ids=input_ids, attention_mask=attention_mask)\n",
    "        pooled = outputs.pooler_output\n",
    "        return self.classifier(self.dropout(pooled))\n",
    "\n",
    "class FocalLoss(nn.Module):\n",
    "    def __init__(self, alpha=1, gamma=2, reduction='mean'):\n",
    "        super().__init__()\n",
    "        self.alpha = alpha\n",
    "        self.gamma = gamma\n",
    "        self.reduction = reduction\n",
    "\n",
    "    def forward(self, inputs, targets):\n",
    "        BCE_loss = F.binary_cross_entropy_with_logits(inputs, targets, reduction='none')\n",
    "        pt = torch.exp(-BCE_loss)\n",
    "        F_loss = self.alpha * (1 - pt) ** self.gamma * BCE_loss\n",
    "        return F_loss.mean() if self.reduction == 'mean' else F_loss.sum()\n",
    "\n",
    "def compute_metrics(preds, targets):\n",
    "    preds = (preds > 0.5).astype(int)\n",
    "    return f1_score(targets, preds, average='macro')\n",
    "\n",
    "def generate_text(prompt, gen_tokenizer, gen_model, max_len=100):\n",
    "    inputs = gen_tokenizer(prompt, return_tensors=\"pt\").to(DEVICE)\n",
    "    outputs = gen_model.generate(\n",
    "        **inputs,\n",
    "        max_length=max_len,\n",
    "        num_return_sequences=1,\n",
    "        do_sample=True,\n",
    "        top_k=50,\n",
    "        top_p=0.95\n",
    "    )\n",
    "    return gen_tokenizer.decode(outputs[0], skip_special_tokens=True)\n",
    "\n",
    "\n",
    "\n",
    "# собственно 4 пункт задания\n",
    "\n",
    "\n",
    "\n",
    "\n",
    "def generate_augmented_data(df, n=1000):\n",
    "    # Группируем метки и считаем частоты\n",
    "    label_counter = Counter(tuple(label) for label in df['label_vector'])\n",
    "    unique_labels = list(label_counter.keys())\n",
    "    label_weights = np.array(list(label_counter.values())) / sum(label_counter.values())\n",
    "\n",
    "    # Сэмплируем индексы меток\n",
    "    sampled_indices = np.random.choice(len(unique_labels), size=n, p=label_weights)\n",
    "    sampled_labels = [list(unique_labels[i]) for i in sampled_indices]\n",
    "\n",
    "    # Модель генерации\n",
    "    gen_tokenizer = AutoTokenizer.from_pretrained(GEN_MODEL_NAME)\n",
    "    gen_model = AutoModelForCausalLM.from_pretrained(GEN_MODEL_NAME).to(DEVICE)\n",
    "\n",
    "    augmented_texts = []\n",
    "    augmented_labels = []\n",
    "\n",
    "    for label_vec in tqdm(sampled_labels, desc=\"Generating synthetic data\"):\n",
    "        prompt = \"Текст с метками: \" + \", \".join([str(i) for i, val in enumerate(label_vec) if val == 1]) + \". Текст:\"\n",
    "\n",
    "        inputs = gen_tokenizer(prompt, return_tensors=\"pt\").to(DEVICE)\n",
    "        outputs = gen_model.generate(\n",
    "            **inputs,\n",
    "            max_length=100,\n",
    "            do_sample=True,\n",
    "            top_k=50,\n",
    "            top_p=0.95,\n",
    "            num_return_sequences=1\n",
    "        )\n",
    "        text = gen_tokenizer.decode(outputs[0], skip_special_tokens=True)\n",
    "        generated = text.replace(prompt, \"\").strip()\n",
    "\n",
    "        augmented_texts.append(generated)\n",
    "        augmented_labels.append(label_vec)\n",
    "\n",
    "    df_aug = pd.DataFrame({\n",
    "        \"bert_clean\": augmented_texts,\n",
    "        \"label_vector\": augmented_labels\n",
    "    })\n",
    "    return df_aug\n",
    "\n",
    "def train_model(df_4, loss_type=\"bce\", use_augmentation=False):\n",
    "    tokenizer = AutoTokenizer.from_pretrained(MODEL_NAME)\n",
    "\n",
    "    if use_augmentation:\n",
    "        df_aug = generate_augmented_data(df_4, n=1000)\n",
    "        df_4 = pd.concat([df_4, df_aug], ignore_index=True)\n",
    "\n",
    "    df = df_4.sample(frac=1.0, random_state=42).reset_index(drop=True)\n",
    "    val_frac = 0.15\n",
    "    val_size = int(len(df) * val_frac)\n",
    "    train_df = df[:-val_size]\n",
    "    val_df = df[-val_size:]\n",
    "\n",
    "    train_ds = TextDataset(train_df, tokenizer)\n",
    "    val_ds = TextDataset(val_df, tokenizer)\n",
    "\n",
    "    train_loader = DataLoader(train_ds, batch_size=BATCH_SIZE, shuffle=True)\n",
    "    val_loader = DataLoader(val_ds, batch_size=BATCH_SIZE)\n",
    "\n",
    "    num_labels = len(df['label_vector'].iloc[0])\n",
    "    model = BERTClassifier(MODEL_NAME, num_labels).to(DEVICE)\n",
    "\n",
    "    optimizer = torch.optim.AdamW(model.parameters(), lr=LR)\n",
    "    scheduler = get_cosine_schedule_with_warmup(\n",
    "        optimizer,\n",
    "        num_warmup_steps=int(0.1 * len(train_loader) * EPOCHS),\n",
    "        num_training_steps=len(train_loader) * EPOCHS\n",
    "    )\n",
    "\n",
    "    if loss_type == \"focal\":\n",
    "        criterion = FocalLoss()\n",
    "    else:\n",
    "        all_labels = np.array(df['label_vector'].tolist())\n",
    "        pos_weight = torch.tensor(\n",
    "            (all_labels.shape[0] - all_labels.sum(axis=0)) / (all_labels.sum(axis=0) + 1e-6),\n",
    "            dtype=torch.float\n",
    "        ).to(DEVICE)\n",
    "        criterion = nn.BCEWithLogitsLoss(pos_weight=pos_weight)\n",
    "\n",
    "    best_val_score = 0\n",
    "    patience = 0\n",
    "    train_losses, val_losses, val_scores = [], [], []\n",
    "\n",
    "    for epoch in range(EPOCHS):\n",
    "        model.train()\n",
    "        total_loss = 0\n",
    "        for batch in tqdm(train_loader, desc=f\"Epoch {epoch+1}\"):\n",
    "            optimizer.zero_grad()\n",
    "            input_ids = batch['input_ids'].to(DEVICE)\n",
    "            attention_mask = batch['attention_mask'].to(DEVICE)\n",
    "            labels = batch['labels'].to(DEVICE)\n",
    "\n",
    "            logits = model(input_ids, attention_mask)\n",
    "            loss = criterion(logits, labels)\n",
    "            loss.backward()\n",
    "            optimizer.step()\n",
    "            scheduler.step()\n",
    "            total_loss += loss.item()\n",
    "\n",
    "        avg_train_loss = total_loss / len(train_loader)\n",
    "        train_losses.append(avg_train_loss)\n",
    "\n",
    "        model.eval()\n",
    "        val_loss = 0\n",
    "        all_preds = []\n",
    "        all_labels = []\n",
    "\n",
    "        with torch.no_grad():\n",
    "            for batch in val_loader:\n",
    "                input_ids = batch['input_ids'].to(DEVICE)\n",
    "                attention_mask = batch['attention_mask'].to(DEVICE)\n",
    "                labels = batch['labels'].to(DEVICE)\n",
    "\n",
    "                logits = model(input_ids, attention_mask)\n",
    "                loss = criterion(logits, labels)\n",
    "                val_loss += loss.item()\n",
    "\n",
    "                all_preds.append(torch.sigmoid(logits).cpu().numpy())\n",
    "                all_labels.append(labels.cpu().numpy())\n",
    "\n",
    "        avg_val_loss = val_loss / len(val_loader)\n",
    "        val_losses.append(avg_val_loss)\n",
    "\n",
    "        preds = np.vstack(all_preds)\n",
    "        targets = np.vstack(all_labels)\n",
    "        score = compute_metrics(preds, targets)\n",
    "        val_scores.append(score)\n",
    "\n",
    "        print(f\"Epoch {epoch+1} | Train Loss: {avg_train_loss:.4f} | Val Loss: {avg_val_loss:.4f} | F1 Score: {score:.4f}\")\n",
    "\n",
    "        if score > best_val_score:\n",
    "            best_val_score = score\n",
    "            patience = 0\n",
    "            torch.save(model.state_dict(), \"best_model_bert.pt\")\n",
    "            print(\"Saved best model\")\n",
    "        else:\n",
    "            patience += 1\n",
    "            if patience >= EARLY_STOPPING:\n",
    "                print(\"Early stopping\")\n",
    "                break\n",
    "\n",
    "    plt.figure(figsize=(12, 4))\n",
    "    plt.subplot(1, 2, 1)\n",
    "    plt.plot(train_losses, label=\"Train Loss\")\n",
    "    plt.plot(val_losses, label=\"Val Loss\")\n",
    "    plt.title(\"Loss\")\n",
    "    plt.legend()\n",
    "\n",
    "    plt.subplot(1, 2, 2)\n",
    "    plt.plot(val_scores, label=\"F1 Score\")\n",
    "    plt.title(\"Validation F1 Score\")\n",
    "    plt.legend()\n",
    "    plt.show()\n"
   ]
  },
  {
   "cell_type": "code",
   "execution_count": null,
   "id": "ee472e41-a575-423d-b23d-a8acb1bb3055",
   "metadata": {
    "execution": {
     "iopub.execute_input": "2025-05-18T18:15:57.687245Z",
     "iopub.status.busy": "2025-05-18T18:15:57.686720Z"
    },
    "tags": []
   },
   "outputs": [
    {
     "name": "stderr",
     "output_type": "stream",
     "text": [
      "2025-05-18 18:16:17.881375: I tensorflow/core/util/port.cc:110] oneDNN custom operations are on. You may see slightly different numerical results due to floating-point round-off errors from different computation orders. To turn them off, set the environment variable `TF_ENABLE_ONEDNN_OPTS=0`.\n",
      "2025-05-18 18:16:19.777586: I tensorflow/core/platform/cpu_feature_guard.cc:182] This TensorFlow binary is optimized to use available CPU instructions in performance-critical operations.\n",
      "To enable the following instructions: AVX2 AVX512F AVX512_VNNI FMA, in other operations, rebuild TensorFlow with the appropriate compiler flags.\n",
      "2025-05-18 18:16:25.309298: W tensorflow/compiler/tf2tensorrt/utils/py_utils.cc:38] TF-TRT Warning: Could not find TensorRT\n",
      "IOStream.flush timed out\n",
      "Generating synthetic data: 100%|██████████| 1000/1000 [29:31<00:00,  1.77s/it] \n",
      "Epoch 1: 100%|██████████| 1624/1624 [09:24<00:00,  2.88it/s]\n"
     ]
    },
    {
     "name": "stdout",
     "output_type": "stream",
     "text": [
      "Epoch 1 | Train Loss: 0.0881 | Val Loss: 0.0569 | F1 Score: 0.7684\n",
      "Saved best model\n"
     ]
    },
    {
     "name": "stderr",
     "output_type": "stream",
     "text": [
      "Epoch 2: 100%|██████████| 1624/1624 [09:20<00:00,  2.90it/s]\n"
     ]
    },
    {
     "name": "stdout",
     "output_type": "stream",
     "text": [
      "Epoch 2 | Train Loss: 0.0493 | Val Loss: 0.0408 | F1 Score: 0.8002\n",
      "Saved best model\n"
     ]
    },
    {
     "name": "stderr",
     "output_type": "stream",
     "text": [
      "Epoch 3: 100%|██████████| 1624/1624 [09:20<00:00,  2.90it/s]\n"
     ]
    },
    {
     "name": "stdout",
     "output_type": "stream",
     "text": [
      "Epoch 3 | Train Loss: 0.0356 | Val Loss: 0.0339 | F1 Score: 0.8375\n",
      "Saved best model\n"
     ]
    },
    {
     "name": "stderr",
     "output_type": "stream",
     "text": [
      "Epoch 4: 100%|██████████| 1624/1624 [09:20<00:00,  2.90it/s]\n"
     ]
    },
    {
     "name": "stdout",
     "output_type": "stream",
     "text": [
      "Epoch 4 | Train Loss: 0.0270 | Val Loss: 0.0334 | F1 Score: 0.8472\n",
      "Saved best model\n"
     ]
    },
    {
     "name": "stderr",
     "output_type": "stream",
     "text": [
      "Epoch 5: 100%|██████████| 1624/1624 [09:20<00:00,  2.90it/s]\n"
     ]
    },
    {
     "name": "stdout",
     "output_type": "stream",
     "text": [
      "Epoch 5 | Train Loss: 0.0207 | Val Loss: 0.0346 | F1 Score: 0.8535\n",
      "Saved best model\n"
     ]
    },
    {
     "name": "stderr",
     "output_type": "stream",
     "text": [
      "Epoch 6: 100%|██████████| 1624/1624 [09:20<00:00,  2.90it/s]\n"
     ]
    },
    {
     "name": "stdout",
     "output_type": "stream",
     "text": [
      "Epoch 6 | Train Loss: 0.0157 | Val Loss: 0.0353 | F1 Score: 0.8643\n",
      "Saved best model\n"
     ]
    },
    {
     "name": "stderr",
     "output_type": "stream",
     "text": [
      "Epoch 7: 100%|██████████| 1624/1624 [09:20<00:00,  2.90it/s]\n"
     ]
    },
    {
     "name": "stdout",
     "output_type": "stream",
     "text": [
      "Epoch 7 | Train Loss: 0.0121 | Val Loss: 0.0389 | F1 Score: 0.8617\n"
     ]
    },
    {
     "name": "stderr",
     "output_type": "stream",
     "text": [
      "Epoch 9: 100%|██████████| 1624/1624 [09:21<00:00,  2.89it/s]\n"
     ]
    },
    {
     "name": "stdout",
     "output_type": "stream",
     "text": [
      "Epoch 9 | Train Loss: 0.0075 | Val Loss: 0.0429 | F1 Score: 0.8650\n",
      "Saved best model\n"
     ]
    },
    {
     "name": "stderr",
     "output_type": "stream",
     "text": [
      "Epoch 10: 100%|██████████| 1624/1624 [09:20<00:00,  2.90it/s]\n"
     ]
    },
    {
     "name": "stdout",
     "output_type": "stream",
     "text": [
      "Epoch 10 | Train Loss: 0.0061 | Val Loss: 0.0455 | F1 Score: 0.8669\n",
      "Saved best model\n"
     ]
    },
    {
     "name": "stderr",
     "output_type": "stream",
     "text": [
      "Epoch 11: 100%|██████████| 1624/1624 [09:20<00:00,  2.90it/s]\n"
     ]
    },
    {
     "name": "stdout",
     "output_type": "stream",
     "text": [
      "Epoch 11 | Train Loss: 0.0049 | Val Loss: 0.0466 | F1 Score: 0.8689\n",
      "Saved best model\n"
     ]
    },
    {
     "name": "stderr",
     "output_type": "stream",
     "text": [
      "Epoch 12: 100%|██████████| 1624/1624 [09:20<00:00,  2.90it/s]\n"
     ]
    },
    {
     "name": "stdout",
     "output_type": "stream",
     "text": [
      "Epoch 12 | Train Loss: 0.0042 | Val Loss: 0.0486 | F1 Score: 0.8672\n"
     ]
    },
    {
     "name": "stderr",
     "output_type": "stream",
     "text": [
      "Epoch 13:   6%|▌         | 101/1624 [00:34<08:44,  2.90it/s]"
     ]
    }
   ],
   "source": [
    "train_model(df_5, loss_type=\"focal\", use_augmentation=True)\n"
   ]
  },
  {
   "cell_type": "code",
   "execution_count": null,
   "id": "b030444f-c113-42ed-b953-f72b5cb22a4e",
   "metadata": {},
   "outputs": [],
   "source": []
  },
  {
   "cell_type": "code",
   "execution_count": null,
   "id": "9fe0dc55-82cc-4120-801b-cd7dc4e63f90",
   "metadata": {},
   "outputs": [],
   "source": []
  },
  {
   "cell_type": "code",
   "execution_count": null,
   "id": "726dddba-839e-4540-9aa8-876df3470383",
   "metadata": {},
   "outputs": [],
   "source": []
  },
  {
   "cell_type": "code",
   "execution_count": null,
   "id": "5178dacc-c65b-43e7-a11c-c325ed4790e1",
   "metadata": {},
   "outputs": [],
   "source": []
  },
  {
   "cell_type": "code",
   "execution_count": null,
   "id": "c9c92ca2-b3fd-4cc9-8e4a-6ffe256d63aa",
   "metadata": {},
   "outputs": [],
   "source": []
  },
  {
   "cell_type": "code",
   "execution_count": null,
   "id": "629d3854-52ba-4bf4-b9fb-48dfa8e59c9b",
   "metadata": {},
   "outputs": [],
   "source": []
  },
  {
   "cell_type": "code",
   "execution_count": null,
   "id": "8702a4ca-9d75-4d25-929f-a10892a2dfa5",
   "metadata": {},
   "outputs": [],
   "source": []
  },
  {
   "cell_type": "markdown",
   "id": "c2ae5386-25d3-4d22-959c-bdbd734f4245",
   "metadata": {},
   "source": [
    "## предсказание на тесте"
   ]
  },
  {
   "cell_type": "code",
   "execution_count": 60,
   "id": "af3123a7-f844-4e3c-ad6b-c3f8a33d2fb4",
   "metadata": {
    "execution": {
     "iopub.execute_input": "2025-05-18T21:31:49.138813Z",
     "iopub.status.busy": "2025-05-18T21:31:49.137808Z",
     "iopub.status.idle": "2025-05-18T21:31:49.150315Z",
     "shell.execute_reply": "2025-05-18T21:31:49.149693Z",
     "shell.execute_reply.started": "2025-05-18T21:31:49.138785Z"
    },
    "tags": []
   },
   "outputs": [],
   "source": [
    "def clean_bert(text):\n",
    "    text = re.sub(r'http\\S+|www\\S+|https\\S+', '', text)  # удаляем только URL\n",
    "    # не меняем регистр, не трогаем пунктуацию, смайлы и прочее\n",
    "    return text"
   ]
  },
  {
   "cell_type": "code",
   "execution_count": 61,
   "id": "41fd73cf-410b-4ce7-a3e9-cef840608427",
   "metadata": {
    "execution": {
     "iopub.execute_input": "2025-05-18T21:31:49.514821Z",
     "iopub.status.busy": "2025-05-18T21:31:49.513932Z",
     "iopub.status.idle": "2025-05-18T21:31:49.575837Z",
     "shell.execute_reply": "2025-05-18T21:31:49.575187Z",
     "shell.execute_reply.started": "2025-05-18T21:31:49.514783Z"
    },
    "tags": []
   },
   "outputs": [],
   "source": [
    "data_test['bert_clean'] = data_test['text'].apply(clean_bert)\n"
   ]
  },
  {
   "cell_type": "code",
   "execution_count": 62,
   "id": "008b6633-aab2-486a-9a6a-bfaaf7350d1a",
   "metadata": {
    "execution": {
     "iopub.execute_input": "2025-05-18T21:31:49.900349Z",
     "iopub.status.busy": "2025-05-18T21:31:49.899208Z",
     "iopub.status.idle": "2025-05-18T21:32:25.441923Z",
     "shell.execute_reply": "2025-05-18T21:32:25.441301Z",
     "shell.execute_reply.started": "2025-05-18T21:31:49.900313Z"
    },
    "tags": []
   },
   "outputs": [
    {
     "name": "stderr",
     "output_type": "stream",
     "text": [
      "2025-05-18 21:32:03.319785: I tensorflow/core/util/port.cc:110] oneDNN custom operations are on. You may see slightly different numerical results due to floating-point round-off errors from different computation orders. To turn them off, set the environment variable `TF_ENABLE_ONEDNN_OPTS=0`.\n",
      "2025-05-18 21:32:03.361633: I tensorflow/core/platform/cpu_feature_guard.cc:182] This TensorFlow binary is optimized to use available CPU instructions in performance-critical operations.\n",
      "To enable the following instructions: AVX2 AVX512F AVX512_VNNI FMA, in other operations, rebuild TensorFlow with the appropriate compiler flags.\n",
      "2025-05-18 21:32:04.435820: W tensorflow/compiler/tf2tensorrt/utils/py_utils.cc:38] TF-TRT Warning: Could not find TensorRT\n"
     ]
    },
    {
     "name": "stdout",
     "output_type": "stream",
     "text": [
      "Submission saved to submission.csv\n"
     ]
    }
   ],
   "source": [
    "# Загружаем токенайзер и модель\n",
    "tokenizer = AutoTokenizer.from_pretrained(MODEL_NAME)\n",
    "model = BERTClassifier(MODEL_NAME, num_labels=len(df_4['label_vector'].iloc[0]))\n",
    "model.load_state_dict(torch.load('best_model_bert.pt'))\n",
    "model.to(DEVICE)\n",
    "model.eval()\n",
    "\n",
    "# Токенизируем тестовые данные\n",
    "texts = data_test['bert_clean'].tolist()  \n",
    "batch_size = 64\n",
    "all_test_preds = []\n",
    "\n",
    "with torch.no_grad():\n",
    "    for i in range(0, len(texts), batch_size):\n",
    "        batch_texts = texts[i:i+batch_size]\n",
    "        inputs = tokenizer(\n",
    "            batch_texts,\n",
    "            padding=True,\n",
    "            truncation=True,\n",
    "            max_length=MAX_LEN,\n",
    "            return_tensors='pt'\n",
    "        )\n",
    "\n",
    "        input_ids = inputs['input_ids'].to(DEVICE)\n",
    "        attention_mask = inputs['attention_mask'].to(DEVICE)\n",
    "\n",
    "        logits = model(input_ids=input_ids, attention_mask=attention_mask)\n",
    "        probs = torch.sigmoid(logits).cpu().numpy()\n",
    "        all_test_preds.append(probs)\n",
    "\n",
    "# Склеиваем предсказания\n",
    "all_test_preds = np.vstack(all_test_preds)\n",
    "\n",
    "test_preds_bin = (all_test_preds > 0.5).astype(int)\n",
    "\n",
    "labels_str = [' '.join(map(str, row)) for row in test_preds_bin]\n",
    "\n",
    "# Собираем submission\n",
    "submission = pd.DataFrame({\n",
    "    'id': data_test['id'],\n",
    "    'labels': labels_str\n",
    "})\n",
    "\n",
    "submission.to_csv('submission.csv', index=False)\n",
    "print('Submission saved to submission.csv')"
   ]
  },
  {
   "cell_type": "code",
   "execution_count": null,
   "id": "24e418f6-f191-49fe-81eb-a90d67c355c9",
   "metadata": {},
   "outputs": [],
   "source": []
  },
  {
   "cell_type": "code",
   "execution_count": null,
   "id": "202a7785-b0e2-4ebf-9644-a4be9e2c93dc",
   "metadata": {},
   "outputs": [],
   "source": []
  }
 ],
 "metadata": {
  "kernelspec": {
   "display_name": "DataSphere Kernel",
   "language": "python",
   "name": "python3"
  },
  "language_info": {
   "codemirror_mode": {
    "name": "ipython",
    "version": 3
   },
   "file_extension": ".py",
   "mimetype": "text/x-python",
   "name": "python",
   "nbconvert_exporter": "python",
   "pygments_lexer": "ipython3",
   "version": "3.10.12"
  }
 },
 "nbformat": 4,
 "nbformat_minor": 5
}
